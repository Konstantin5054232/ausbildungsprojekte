{
  "nbformat": 4,
  "nbformat_minor": 0,
  "metadata": {
    "colab": {
      "name": "musik_der_großstädte.ipynb",
      "provenance": [],
      "include_colab_link": true
    },
    "kernelspec": {
      "name": "python3",
      "display_name": "Python 3"
    },
    "language_info": {
      "name": "python"
    }
  },
  "cells": [
    {
      "cell_type": "markdown",
      "metadata": {
        "id": "view-in-github",
        "colab_type": "text"
      },
      "source": [
        "<a href=\"https://colab.research.google.com/github/Konstantin5054232/ausbildungsprojekte/blob/main/01_musik_der_gro%C3%9Fst%C3%A4dte/musik_der_gro%C3%9Fst%C3%A4dte.ipynb\" target=\"_parent\"><img src=\"https://colab.research.google.com/assets/colab-badge.svg\" alt=\"Open In Colab\"/></a>"
      ]
    },
    {
      "cell_type": "markdown",
      "source": [
        "# Musik der Großstädte"
      ],
      "metadata": {
        "id": "eWnqTK-T4dOR"
      }
    },
    {
      "cell_type": "markdown",
      "source": [
        "Der Musikdienst lieferte Daten über die von Nutzern in Moskau und St. Petersburg abgehörten Tracks für einen bestimmten Zeitraum.\n",
        "Es ist notwendig, Fragen zu beantworten und Hypthesen zu überprüfen:\n",
        "- Hören Menschen in verschiedenen Städten wirklich unterschiedlich Musik?\n",
        "- Montagmorgen und Freitagabend - andere Musik oder die gleiche?\n",
        "- Bevorzugen die Bewohner der beiden Städte unterschiedliche Musikrichtungen?"
      ],
      "metadata": {
        "id": "Y5NPb0aj5vEA"
      }
    },
    {
      "cell_type": "code",
      "execution_count": 6,
      "metadata": {
        "id": "psfie1tH1hko"
      },
      "outputs": [],
      "source": [
        "# Wir importieren die notwendigen Bibliotheken.\n",
        "import pandas as pd"
      ]
    },
    {
      "cell_type": "code",
      "source": [
        "# Wir laden Tabellen mit Daten.\n",
        "df = pd.read_csv('/music_project.csv')"
      ],
      "metadata": {
        "id": "D4Dxnlm47JZg"
      },
      "execution_count": 7,
      "outputs": []
    },
    {
      "cell_type": "code",
      "source": [
        "# Wir werden die erhaltenen Daten studieren\n",
        "df.info()\n",
        "display(df.shape)\n",
        "df.head()"
      ],
      "metadata": {
        "colab": {
          "base_uri": "https://localhost:8080/",
          "height": 466
        },
        "id": "G6t1lw_s7RNw",
        "outputId": "72d6f0c1-7cb0-4ced-abc7-31758e22435a"
      },
      "execution_count": 8,
      "outputs": [
        {
          "output_type": "stream",
          "name": "stdout",
          "text": [
            "<class 'pandas.core.frame.DataFrame'>\n",
            "RangeIndex: 65079 entries, 0 to 65078\n",
            "Data columns (total 7 columns):\n",
            " #   Column    Non-Null Count  Dtype \n",
            "---  ------    --------------  ----- \n",
            " 0     userID  65079 non-null  object\n",
            " 1   Track     63848 non-null  object\n",
            " 2   artist    57876 non-null  object\n",
            " 3   genre     63881 non-null  object\n",
            " 4     City    65079 non-null  object\n",
            " 5   time      65079 non-null  object\n",
            " 6   Day       65079 non-null  object\n",
            "dtypes: object(7)\n",
            "memory usage: 3.5+ MB\n"
          ]
        },
        {
          "output_type": "display_data",
          "data": {
            "text/plain": [
              "(65079, 7)"
            ]
          },
          "metadata": {}
        },
        {
          "output_type": "execute_result",
          "data": {
            "text/plain": [
              "     userID                        Track            artist  genre  \\\n",
              "0  FFB692EC            Kamigata To Boots  The Mass Missile   rock   \n",
              "1  55204538  Delayed Because of Accident  Andreas Rönnberg   rock   \n",
              "2    20EC38            Funiculì funiculà       Mario Lanza    pop   \n",
              "3  A3DD03C9        Dragons in the Sunset        Fire + Ice   folk   \n",
              "4  E2DC1FAE                  Soul People        Space Echo  dance   \n",
              "\n",
              "             City        time        Day  \n",
              "0  Saint-Petersburg  20:28:33  Wednesday  \n",
              "1            Moscow  14:07:09     Friday  \n",
              "2  Saint-Petersburg  20:58:07  Wednesday  \n",
              "3  Saint-Petersburg  08:37:09     Monday  \n",
              "4            Moscow  08:34:34     Monday  "
            ],
            "text/html": [
              "\n",
              "  <div id=\"df-65512103-8553-458c-a586-4adca011dfcb\">\n",
              "    <div class=\"colab-df-container\">\n",
              "      <div>\n",
              "<style scoped>\n",
              "    .dataframe tbody tr th:only-of-type {\n",
              "        vertical-align: middle;\n",
              "    }\n",
              "\n",
              "    .dataframe tbody tr th {\n",
              "        vertical-align: top;\n",
              "    }\n",
              "\n",
              "    .dataframe thead th {\n",
              "        text-align: right;\n",
              "    }\n",
              "</style>\n",
              "<table border=\"1\" class=\"dataframe\">\n",
              "  <thead>\n",
              "    <tr style=\"text-align: right;\">\n",
              "      <th></th>\n",
              "      <th>userID</th>\n",
              "      <th>Track</th>\n",
              "      <th>artist</th>\n",
              "      <th>genre</th>\n",
              "      <th>City</th>\n",
              "      <th>time</th>\n",
              "      <th>Day</th>\n",
              "    </tr>\n",
              "  </thead>\n",
              "  <tbody>\n",
              "    <tr>\n",
              "      <th>0</th>\n",
              "      <td>FFB692EC</td>\n",
              "      <td>Kamigata To Boots</td>\n",
              "      <td>The Mass Missile</td>\n",
              "      <td>rock</td>\n",
              "      <td>Saint-Petersburg</td>\n",
              "      <td>20:28:33</td>\n",
              "      <td>Wednesday</td>\n",
              "    </tr>\n",
              "    <tr>\n",
              "      <th>1</th>\n",
              "      <td>55204538</td>\n",
              "      <td>Delayed Because of Accident</td>\n",
              "      <td>Andreas Rönnberg</td>\n",
              "      <td>rock</td>\n",
              "      <td>Moscow</td>\n",
              "      <td>14:07:09</td>\n",
              "      <td>Friday</td>\n",
              "    </tr>\n",
              "    <tr>\n",
              "      <th>2</th>\n",
              "      <td>20EC38</td>\n",
              "      <td>Funiculì funiculà</td>\n",
              "      <td>Mario Lanza</td>\n",
              "      <td>pop</td>\n",
              "      <td>Saint-Petersburg</td>\n",
              "      <td>20:58:07</td>\n",
              "      <td>Wednesday</td>\n",
              "    </tr>\n",
              "    <tr>\n",
              "      <th>3</th>\n",
              "      <td>A3DD03C9</td>\n",
              "      <td>Dragons in the Sunset</td>\n",
              "      <td>Fire + Ice</td>\n",
              "      <td>folk</td>\n",
              "      <td>Saint-Petersburg</td>\n",
              "      <td>08:37:09</td>\n",
              "      <td>Monday</td>\n",
              "    </tr>\n",
              "    <tr>\n",
              "      <th>4</th>\n",
              "      <td>E2DC1FAE</td>\n",
              "      <td>Soul People</td>\n",
              "      <td>Space Echo</td>\n",
              "      <td>dance</td>\n",
              "      <td>Moscow</td>\n",
              "      <td>08:34:34</td>\n",
              "      <td>Monday</td>\n",
              "    </tr>\n",
              "  </tbody>\n",
              "</table>\n",
              "</div>\n",
              "      <button class=\"colab-df-convert\" onclick=\"convertToInteractive('df-65512103-8553-458c-a586-4adca011dfcb')\"\n",
              "              title=\"Convert this dataframe to an interactive table.\"\n",
              "              style=\"display:none;\">\n",
              "        \n",
              "  <svg xmlns=\"http://www.w3.org/2000/svg\" height=\"24px\"viewBox=\"0 0 24 24\"\n",
              "       width=\"24px\">\n",
              "    <path d=\"M0 0h24v24H0V0z\" fill=\"none\"/>\n",
              "    <path d=\"M18.56 5.44l.94 2.06.94-2.06 2.06-.94-2.06-.94-.94-2.06-.94 2.06-2.06.94zm-11 1L8.5 8.5l.94-2.06 2.06-.94-2.06-.94L8.5 2.5l-.94 2.06-2.06.94zm10 10l.94 2.06.94-2.06 2.06-.94-2.06-.94-.94-2.06-.94 2.06-2.06.94z\"/><path d=\"M17.41 7.96l-1.37-1.37c-.4-.4-.92-.59-1.43-.59-.52 0-1.04.2-1.43.59L10.3 9.45l-7.72 7.72c-.78.78-.78 2.05 0 2.83L4 21.41c.39.39.9.59 1.41.59.51 0 1.02-.2 1.41-.59l7.78-7.78 2.81-2.81c.8-.78.8-2.07 0-2.86zM5.41 20L4 18.59l7.72-7.72 1.47 1.35L5.41 20z\"/>\n",
              "  </svg>\n",
              "      </button>\n",
              "      \n",
              "  <style>\n",
              "    .colab-df-container {\n",
              "      display:flex;\n",
              "      flex-wrap:wrap;\n",
              "      gap: 12px;\n",
              "    }\n",
              "\n",
              "    .colab-df-convert {\n",
              "      background-color: #E8F0FE;\n",
              "      border: none;\n",
              "      border-radius: 50%;\n",
              "      cursor: pointer;\n",
              "      display: none;\n",
              "      fill: #1967D2;\n",
              "      height: 32px;\n",
              "      padding: 0 0 0 0;\n",
              "      width: 32px;\n",
              "    }\n",
              "\n",
              "    .colab-df-convert:hover {\n",
              "      background-color: #E2EBFA;\n",
              "      box-shadow: 0px 1px 2px rgba(60, 64, 67, 0.3), 0px 1px 3px 1px rgba(60, 64, 67, 0.15);\n",
              "      fill: #174EA6;\n",
              "    }\n",
              "\n",
              "    [theme=dark] .colab-df-convert {\n",
              "      background-color: #3B4455;\n",
              "      fill: #D2E3FC;\n",
              "    }\n",
              "\n",
              "    [theme=dark] .colab-df-convert:hover {\n",
              "      background-color: #434B5C;\n",
              "      box-shadow: 0px 1px 3px 1px rgba(0, 0, 0, 0.15);\n",
              "      filter: drop-shadow(0px 1px 2px rgba(0, 0, 0, 0.3));\n",
              "      fill: #FFFFFF;\n",
              "    }\n",
              "  </style>\n",
              "\n",
              "      <script>\n",
              "        const buttonEl =\n",
              "          document.querySelector('#df-65512103-8553-458c-a586-4adca011dfcb button.colab-df-convert');\n",
              "        buttonEl.style.display =\n",
              "          google.colab.kernel.accessAllowed ? 'block' : 'none';\n",
              "\n",
              "        async function convertToInteractive(key) {\n",
              "          const element = document.querySelector('#df-65512103-8553-458c-a586-4adca011dfcb');\n",
              "          const dataTable =\n",
              "            await google.colab.kernel.invokeFunction('convertToInteractive',\n",
              "                                                     [key], {});\n",
              "          if (!dataTable) return;\n",
              "\n",
              "          const docLinkHtml = 'Like what you see? Visit the ' +\n",
              "            '<a target=\"_blank\" href=https://colab.research.google.com/notebooks/data_table.ipynb>data table notebook</a>'\n",
              "            + ' to learn more about interactive tables.';\n",
              "          element.innerHTML = '';\n",
              "          dataTable['output_type'] = 'display_data';\n",
              "          await google.colab.output.renderOutput(dataTable, element);\n",
              "          const docLink = document.createElement('div');\n",
              "          docLink.innerHTML = docLinkHtml;\n",
              "          element.appendChild(docLink);\n",
              "        }\n",
              "      </script>\n",
              "    </div>\n",
              "  </div>\n",
              "  "
            ]
          },
          "metadata": {},
          "execution_count": 8
        }
      ]
    },
    {
      "cell_type": "markdown",
      "source": [
        "**Schlussfolgerungen**\n",
        "\n",
        "Jede Zeile der Tabelle enthält Informationen zu Songs eines bestimmten Genres in einer bestimmten Performance, die Benutzer zu bestimmten Zeiten und Wochentagen in einer der Städte angehört haben. Zwei Probleme, die angegangen werden müssen: fehlende und schlechte Spaltennamen. Die Spalten time, day und City sind besonders wertvoll, um Arbeitshypothesen zu testen. Mit den Daten aus der Spalte genre können Sie die beliebtesten Genres kennenlernen."
      ],
      "metadata": {
        "id": "f_IW1IACVRi1"
      }
    },
    {
      "cell_type": "markdown",
      "source": [
        "# Datenvorverarbeitung"
      ],
      "metadata": {
        "id": "JcUp0nX-V4WJ"
      }
    },
    {
      "cell_type": "code",
      "source": [
        "# Wir erhalten eine Liste der Spaltennamen.\n",
        "df.columns"
      ],
      "metadata": {
        "id": "zGQzI64MVTRB",
        "outputId": "f48fe4c0-5e38-42a0-8394-d97020313706",
        "colab": {
          "base_uri": "https://localhost:8080/"
        }
      },
      "execution_count": 9,
      "outputs": [
        {
          "output_type": "execute_result",
          "data": {
            "text/plain": [
              "Index(['  userID', 'Track', 'artist', 'genre', '  City  ', 'time', 'Day'], dtype='object')"
            ]
          },
          "metadata": {},
          "execution_count": 9
        }
      ]
    },
    {
      "cell_type": "code",
      "source": [
        "# Wir werden die Spalten umbenennen, um die weitere Arbeit zu erleichtern.\n",
        "df.set_axis(['user_id', 'track_name', 'artist_name', 'genre_name', 'city', 'time', 'weekday'], \n",
        "            axis = 'columns',inplace = True)\n",
        "\n",
        "# Mal sehen was passiert\n",
        "df.columns"
      ],
      "metadata": {
        "id": "8r7qzRddWQ7N",
        "outputId": "ae0feab2-0d0d-4154-fa67-fbdc77fd7e7b",
        "colab": {
          "base_uri": "https://localhost:8080/"
        }
      },
      "execution_count": 10,
      "outputs": [
        {
          "output_type": "execute_result",
          "data": {
            "text/plain": [
              "Index(['user_id', 'track_name', 'artist_name', 'genre_name', 'city', 'time',\n",
              "       'weekday'],\n",
              "      dtype='object')"
            ]
          },
          "metadata": {},
          "execution_count": 10
        }
      ]
    },
    {
      "cell_type": "code",
      "source": [
        "# Wir werden prüfen, ob es Nullwerte gibt.\n",
        "df.isnull().sum()"
      ],
      "metadata": {
        "id": "9pMsCLbsWk65",
        "outputId": "92fab501-d8fb-4ac2-9e7b-1e0417807abf",
        "colab": {
          "base_uri": "https://localhost:8080/"
        }
      },
      "execution_count": 11,
      "outputs": [
        {
          "output_type": "execute_result",
          "data": {
            "text/plain": [
              "user_id           0\n",
              "track_name     1231\n",
              "artist_name    7203\n",
              "genre_name     1198\n",
              "city              0\n",
              "time              0\n",
              "weekday           0\n",
              "dtype: int64"
            ]
          },
          "metadata": {},
          "execution_count": 11
        }
      ]
    },
    {
      "cell_type": "code",
      "source": [
        "# Wir ersetzen die fehlenden Werte in den Spalten mit dem Titel und dem Interpreten durch die Zeile 'unknown'.\n",
        "df['artist_name']=df['artist_name'].fillna('unknown')\n",
        "df['track_name']=df['track_name'].fillna('unknown')"
      ],
      "metadata": {
        "id": "5hMOwRlHXEIY"
      },
      "execution_count": 12,
      "outputs": []
    },
    {
      "cell_type": "code",
      "source": [
        "# Wir entfernen leere Werte in der Spalte mit den Genres.\n",
        "df.dropna(subset = ['genre_name'], inplace = True)"
      ],
      "metadata": {
        "id": "zofzRsJQXszw"
      },
      "execution_count": 13,
      "outputs": []
    },
    {
      "cell_type": "code",
      "source": [
        "# Mal sehen was passiert\n",
        "df.isnull().sum()"
      ],
      "metadata": {
        "id": "WsQDxAjjYC-J",
        "outputId": "52c873eb-6f6c-44e4-f48e-5bebf93017ce",
        "colab": {
          "base_uri": "https://localhost:8080/"
        }
      },
      "execution_count": 14,
      "outputs": [
        {
          "output_type": "execute_result",
          "data": {
            "text/plain": [
              "user_id        0\n",
              "track_name     0\n",
              "artist_name    0\n",
              "genre_name     0\n",
              "city           0\n",
              "time           0\n",
              "weekday        0\n",
              "dtype: int64"
            ]
          },
          "metadata": {},
          "execution_count": 14
        }
      ]
    },
    {
      "cell_type": "code",
      "source": [
        "# Wir werden prüfen, ob es Duplikate gibt.\n",
        "df.duplicated().sum()"
      ],
      "metadata": {
        "id": "ty_EF7PwYjnh",
        "outputId": "18740d49-c34b-45af-e4c6-a6d4977bd07d",
        "colab": {
          "base_uri": "https://localhost:8080/"
        }
      },
      "execution_count": 15,
      "outputs": [
        {
          "output_type": "execute_result",
          "data": {
            "text/plain": [
              "3755"
            ]
          },
          "metadata": {},
          "execution_count": 15
        }
      ]
    },
    {
      "cell_type": "code",
      "source": [
        "# Wir werden Duplikate entfernen.\n",
        "df = df.drop_duplicates().reset_index(drop=True)\n",
        "\n",
        "# Mal sehen was passiert\n",
        "df.duplicated().sum()"
      ],
      "metadata": {
        "id": "niOzcMjbZYUd",
        "outputId": "84da5bcf-1bc8-4133-e69b-884c22194bdf",
        "colab": {
          "base_uri": "https://localhost:8080/"
        }
      },
      "execution_count": 16,
      "outputs": [
        {
          "output_type": "execute_result",
          "data": {
            "text/plain": [
              "0"
            ]
          },
          "metadata": {},
          "execution_count": 16
        }
      ]
    },
    {
      "cell_type": "code",
      "source": [
        "# Wir speichern die Liste der eindeutigen Werte einer Spalte mit Genres in der Variablen genres_list.\n",
        "genres_list = df['genre_name'].unique() \n",
        "genres_list"
      ],
      "metadata": {
        "id": "NYwGoxKcZncP",
        "outputId": "e3e1c012-c792-4709-eb41-89e88af8bbe8",
        "colab": {
          "base_uri": "https://localhost:8080/"
        }
      },
      "execution_count": 17,
      "outputs": [
        {
          "output_type": "execute_result",
          "data": {
            "text/plain": [
              "array(['rock', 'pop', 'folk', 'dance', 'rusrap', 'ruspop', 'world',\n",
              "       'electronic', 'alternative', 'children', 'rnb', 'hip', 'jazz',\n",
              "       'postrock', 'latin', 'classical', 'metal', 'reggae', 'tatar',\n",
              "       'blues', 'instrumental', 'rusrock', 'dnb', 'türk', 'post',\n",
              "       'country', 'psychedelic', 'conjazz', 'indie', 'posthardcore',\n",
              "       'local', 'avantgarde', 'punk', 'videogame', 'techno', 'house',\n",
              "       'christmas', 'melodic', 'caucasian', 'reggaeton', 'soundtrack',\n",
              "       'singer', 'ska', 'shanson', 'ambient', 'film', 'western', 'rap',\n",
              "       'beats', \"hard'n'heavy\", 'progmetal', 'minimal', 'contemporary',\n",
              "       'new', 'soul', 'holiday', 'german', 'tropical', 'fairytail',\n",
              "       'spiritual', 'urban', 'gospel', 'nujazz', 'folkmetal', 'trance',\n",
              "       'miscellaneous', 'anime', 'hardcore', 'progressive', 'chanson',\n",
              "       'numetal', 'vocal', 'estrada', 'russian', 'classicmetal',\n",
              "       'dubstep', 'club', 'deep', 'southern', 'black', 'folkrock',\n",
              "       'fitness', 'french', 'disco', 'religious', 'hiphop', 'drum',\n",
              "       'extrememetal', 'türkçe', 'experimental', 'easy', 'metalcore',\n",
              "       'modern', 'argentinetango', 'old', 'breaks', 'eurofolk',\n",
              "       'stonerrock', 'industrial', 'funk', 'jpop', 'middle', 'variété',\n",
              "       'other', 'adult', 'christian', 'gothic', 'international', 'muslim',\n",
              "       'relax', 'schlager', 'caribbean', 'ukrrock', 'nu', 'breakbeat',\n",
              "       'comedy', 'chill', 'newage', 'specialty', 'uzbek', 'k-pop',\n",
              "       'balkan', 'chinese', 'meditative', 'dub', 'power', 'death',\n",
              "       'grime', 'arabesk', 'romance', 'flamenco', 'leftfield', 'european',\n",
              "       'tech', 'newwave', 'dancehall', 'mpb', 'piano', 'top', 'bigroom',\n",
              "       'opera', 'celtic', 'tradjazz', 'acoustic', 'epicmetal',\n",
              "       'historisch', 'downbeat', 'downtempo', 'africa', 'audiobook',\n",
              "       'jewish', 'sängerportrait', 'deutschrock', 'eastern', 'action',\n",
              "       'future', 'electropop', 'folklore', 'bollywood', 'marschmusik',\n",
              "       'rnr', 'karaoke', 'indian', 'rancheras', 'электроника',\n",
              "       'afrikaans', 'tango', 'rhythm', 'sound', 'deutschspr', 'trip',\n",
              "       'lovers', 'choral', 'dancepop', 'podcasts', 'retro', 'smooth',\n",
              "       'mexican', 'brazilian', 'ïîï', 'mood', 'surf', 'author', 'gangsta',\n",
              "       'triphop', 'inspirational', 'idm', 'ethnic', 'bluegrass',\n",
              "       'broadway', 'animated', 'americana', 'karadeniz', 'rockabilly',\n",
              "       'colombian', 'self', 'synthrock', 'sertanejo', 'japanese',\n",
              "       'canzone', 'swing', 'lounge', 'sport', 'korean', 'ragga',\n",
              "       'traditional', 'gitarre', 'frankreich', 'alternativepunk', 'emo',\n",
              "       'laiko', 'cantopop', 'glitch', 'documentary', 'rockalternative',\n",
              "       'thrash', 'hymn', 'oceania', 'rockother', 'popeurodance', 'dark',\n",
              "       'vi', 'grunge', 'hardstyle', 'samba', 'garage', 'soft', 'art',\n",
              "       'folktronica', 'entehno', 'mediterranean', 'chamber', 'cuban',\n",
              "       'taraftar', 'rockindie', 'gypsy', 'hardtechno', 'shoegazing',\n",
              "       'skarock', 'bossa', 'salsa', 'latino', 'worldbeat', 'malaysian',\n",
              "       'baile', 'ghazal', 'loungeelectronic', 'arabic', 'popelectronic',\n",
              "       'acid', 'kayokyoku', 'neoklassik', 'tribal', 'tanzorchester',\n",
              "       'native', 'independent', 'cantautori', 'handsup', 'poprussian',\n",
              "       'punjabi', 'synthpop', 'rave', 'französisch', 'quebecois',\n",
              "       'speech', 'soulful', 'teen', 'jam', 'ram', 'horror', 'scenic',\n",
              "       'orchestral', 'neue', 'roots', 'slow', 'jungle', 'indipop', 'axé',\n",
              "       'fado', 'showtunes', 'arena', 'irish', 'mandopop', 'forró',\n",
              "       'popdance', 'dirty', 'regional'], dtype=object)"
            ]
          },
          "metadata": {},
          "execution_count": 17
        }
      ]
    },
    {
      "cell_type": "code",
      "source": [
        "# Wir deklarieren die Funktion find_genre(), um nach impliziten Duplikaten in einer Spalte mit Genres zu suchen. \n",
        "# Zum Beispiel, wenn der Name des gleichen Genres in verschiedenen Wörtern geschrieben ist.\n",
        "def find_genre(genre_search):\n",
        "    count_genre = 0\n",
        "    for genre in genres_list:\n",
        "        if genre == genre_search:\n",
        "            count_genre += 1\n",
        "    return count_genre"
      ],
      "metadata": {
        "id": "3fPhcjJCaACr"
      },
      "execution_count": 18,
      "outputs": []
    },
    {
      "cell_type": "code",
      "source": [
        "# Wir rufen die Funktion find_genre() auf, um nach verschiedenen Varianten \n",
        "# des Hip-Hop-Genres in der Tabelle zu suchen.\n",
        "find_genre('hip')"
      ],
      "metadata": {
        "id": "2QorKKFxap5A",
        "outputId": "fdfe33af-0a20-43fa-e3af-baa85bc570b3",
        "colab": {
          "base_uri": "https://localhost:8080/"
        }
      },
      "execution_count": 19,
      "outputs": [
        {
          "output_type": "execute_result",
          "data": {
            "text/plain": [
              "1"
            ]
          },
          "metadata": {},
          "execution_count": 19
        }
      ]
    },
    {
      "cell_type": "code",
      "source": [
        "find_genre('hop')"
      ],
      "metadata": {
        "id": "mX-x_d8jbHtL",
        "outputId": "366e4dd8-ec27-4229-a4f4-b3db1446e549",
        "colab": {
          "base_uri": "https://localhost:8080/"
        }
      },
      "execution_count": 20,
      "outputs": [
        {
          "output_type": "execute_result",
          "data": {
            "text/plain": [
              "0"
            ]
          },
          "metadata": {},
          "execution_count": 20
        }
      ]
    },
    {
      "cell_type": "code",
      "source": [
        "find_genre('hip-hop')"
      ],
      "metadata": {
        "id": "0s7xYqtqbLB8",
        "outputId": "a4c91609-2bc2-446f-a4a4-fc6983b2711b",
        "colab": {
          "base_uri": "https://localhost:8080/"
        }
      },
      "execution_count": 21,
      "outputs": [
        {
          "output_type": "execute_result",
          "data": {
            "text/plain": [
              "0"
            ]
          },
          "metadata": {},
          "execution_count": 21
        }
      ]
    },
    {
      "cell_type": "code",
      "source": [
        "find_genre('hiphop')"
      ],
      "metadata": {
        "id": "u-0ehUOEbNCz",
        "outputId": "17236b2f-f5d4-499d-ca05-6872b6e770e2",
        "colab": {
          "base_uri": "https://localhost:8080/"
        }
      },
      "execution_count": 22,
      "outputs": [
        {
          "output_type": "execute_result",
          "data": {
            "text/plain": [
              "1"
            ]
          },
          "metadata": {},
          "execution_count": 22
        }
      ]
    },
    {
      "cell_type": "code",
      "source": [
        "# Wir deklarieren die Funktion find_hip_hop(), die den falschen Namen dieses Genres \n",
        "# in der Spalte 'genre_name' durch 'hip hop' ersetzt und überprüft, ob die Ersetzung erfolgreich war.\n",
        "def find_hip_hop(df, wrong):\n",
        "    df['genre_name'] = df['genre_name'].replace(wrong,'hiphop')\n",
        "    final = df[df['genre_name'] == wrong]['genre_name'].count()\n",
        "    return final"
      ],
      "metadata": {
        "id": "C3yNXjUfbOxk"
      },
      "execution_count": 23,
      "outputs": []
    },
    {
      "cell_type": "code",
      "source": [
        "# Wir rufen die Funktion find_hip_hop() für unsere Tabelle auf\n",
        "find_hip_hop(df, 'hip')"
      ],
      "metadata": {
        "id": "Wz5R-d1Md9qI",
        "outputId": "661399a8-b4a9-4673-8fd7-7931af1e5be7",
        "colab": {
          "base_uri": "https://localhost:8080/"
        }
      },
      "execution_count": 24,
      "outputs": [
        {
          "output_type": "execute_result",
          "data": {
            "text/plain": [
              "0"
            ]
          },
          "metadata": {},
          "execution_count": 24
        }
      ]
    },
    {
      "cell_type": "code",
      "source": [
        "# Mal sehen was passiert\n",
        "df.info()"
      ],
      "metadata": {
        "id": "-4v5mcwHeSsL",
        "outputId": "12450a06-3c88-4059-bc12-14daf59d6643",
        "colab": {
          "base_uri": "https://localhost:8080/"
        }
      },
      "execution_count": 25,
      "outputs": [
        {
          "output_type": "stream",
          "name": "stdout",
          "text": [
            "<class 'pandas.core.frame.DataFrame'>\n",
            "RangeIndex: 60126 entries, 0 to 60125\n",
            "Data columns (total 7 columns):\n",
            " #   Column       Non-Null Count  Dtype \n",
            "---  ------       --------------  ----- \n",
            " 0   user_id      60126 non-null  object\n",
            " 1   track_name   60126 non-null  object\n",
            " 2   artist_name  60126 non-null  object\n",
            " 3   genre_name   60126 non-null  object\n",
            " 4   city         60126 non-null  object\n",
            " 5   time         60126 non-null  object\n",
            " 6   weekday      60126 non-null  object\n",
            "dtypes: object(7)\n",
            "memory usage: 3.2+ MB\n"
          ]
        }
      ]
    },
    {
      "cell_type": "markdown",
      "source": [
        "**Schlussfolgerungen**\n",
        "\n",
        "In der Vorverarbeitungsphase wurden Lücken, Probleme mit Spaltennamen und Duplikate in den Daten festgestellt. Die Lücken sind ausgefüllt, die Duplikate wurden entfernt, die Spaltennamen sind jetzt korrekt und bequem für die weitere Arbeit.\n",
        "Wir haben nicht begonnen, alle Zeilen mit fehlenden Werten zu löschen, da sie die Namen von Genres enthalten, die uns für die Analyse wichtig sind."
      ],
      "metadata": {
        "id": "vnb_XN2wga4a"
      }
    },
    {
      "cell_type": "markdown",
      "source": [
        "# Hören Menschen in verschiedenen Städten wirklich unterschiedlich Musik?"
      ],
      "metadata": {
        "id": "GuUp8bGlp2oB"
      }
    },
    {
      "cell_type": "markdown",
      "source": [
        "Es wurde die Hypothese aufgestellt, dass Nutzer in Moskau und St. Petersburg unterschiedlich Musik hören. Wir überprüfen diese Annahme anhand der Daten an drei Tagen der Woche - Montag, Mittwoch und Freitag.\n",
        "\n",
        "Wir legen für jede Stadt die Anzahl der heute gehörten Songs eines bekannten Genres fest und vergleichen die Ergebnisse."
      ],
      "metadata": {
        "id": "nx9bSfeRq-tc"
      }
    },
    {
      "cell_type": "code",
      "source": [
        "# Wir gruppieren die Daten nach Stadt und \n",
        "# zählen durch Aufruf der Methode count() die Kompositionen, \n",
        "# für die das Genre bekannt ist.\n",
        "df.groupby('city')['genre_name'].count()"
      ],
      "metadata": {
        "id": "A6-pC-PuqX7G",
        "outputId": "a351b476-0cdc-4291-c5fc-3c1f63b6993d",
        "colab": {
          "base_uri": "https://localhost:8080/"
        }
      },
      "execution_count": 26,
      "outputs": [
        {
          "output_type": "execute_result",
          "data": {
            "text/plain": [
              "city\n",
              "Moscow              41892\n",
              "Saint-Petersburg    18234\n",
              "Name: genre_name, dtype: int64"
            ]
          },
          "metadata": {},
          "execution_count": 26
        }
      ]
    },
    {
      "cell_type": "code",
      "source": [
        "# Wir gruppieren die Daten nach Wochentagen und zählen die am Montag, \n",
        "# Mittwoch und Freitag gehörten Songs, für die das Genre bekannt ist.\n",
        "df.groupby('weekday')['genre_name'].count()"
      ],
      "metadata": {
        "id": "LaN1j7QwriBu",
        "outputId": "ed2c03f9-eebe-40e0-8505-f1ad1c90b949",
        "colab": {
          "base_uri": "https://localhost:8080/"
        }
      },
      "execution_count": 27,
      "outputs": [
        {
          "output_type": "execute_result",
          "data": {
            "text/plain": [
              "weekday\n",
              "Friday       21482\n",
              "Monday       20866\n",
              "Wednesday    17778\n",
              "Name: genre_name, dtype: int64"
            ]
          },
          "metadata": {},
          "execution_count": 27
        }
      ]
    },
    {
      "cell_type": "code",
      "source": [
        "# Wir erstellen eine number_tracks()-Funktion, die eine Tabelle, einen Wochentag und \n",
        "# einen Städtenamen als Parameter verwendet und die Anzahl der gehörten Tracks zurückgibt, \n",
        "# für die das Genre bekannt ist. Wir überprüfen die Anzahl der gehörten Songs für jede Stadt \n",
        "# und Montag, dann Mittwoch und Freitag.\n",
        "def number_tracks(df, day, city):\n",
        "    track_list = df[(df['weekday'] == day) & (df['city'] == city)]\n",
        "    track_list_count = track_list['genre_name'].count()\n",
        "    return track_list_count"
      ],
      "metadata": {
        "id": "aJ8ByAtysOUb"
      },
      "execution_count": 28,
      "outputs": []
    },
    {
      "cell_type": "code",
      "source": [
        "number_tracks(df, 'Monday', 'Moscow')"
      ],
      "metadata": {
        "id": "fsJAUvk4td1R",
        "outputId": "1d3cb893-155e-4e4c-e3b6-efca892a8fb7",
        "colab": {
          "base_uri": "https://localhost:8080/"
        }
      },
      "execution_count": 29,
      "outputs": [
        {
          "output_type": "execute_result",
          "data": {
            "text/plain": [
              "15347"
            ]
          },
          "metadata": {},
          "execution_count": 29
        }
      ]
    },
    {
      "cell_type": "code",
      "source": [
        "number_tracks(df, 'Monday', 'Saint-Petersburg')"
      ],
      "metadata": {
        "id": "Z9gAhCRttlXh",
        "outputId": "2be69154-9c6c-4316-b44d-6b26064e18d5",
        "colab": {
          "base_uri": "https://localhost:8080/"
        }
      },
      "execution_count": 30,
      "outputs": [
        {
          "output_type": "execute_result",
          "data": {
            "text/plain": [
              "5519"
            ]
          },
          "metadata": {},
          "execution_count": 30
        }
      ]
    },
    {
      "cell_type": "code",
      "source": [
        "number_tracks(df, 'Wednesday', 'Moscow')"
      ],
      "metadata": {
        "id": "7jfyVujHtnQR",
        "outputId": "bfafc854-ccf3-4001-8751-be86adb3f960",
        "colab": {
          "base_uri": "https://localhost:8080/"
        }
      },
      "execution_count": 31,
      "outputs": [
        {
          "output_type": "execute_result",
          "data": {
            "text/plain": [
              "10865"
            ]
          },
          "metadata": {},
          "execution_count": 31
        }
      ]
    },
    {
      "cell_type": "code",
      "source": [
        "number_tracks(df, 'Wednesday', 'Saint-Petersburg')"
      ],
      "metadata": {
        "id": "gXm6Jgt-tpms",
        "outputId": "ce968ffa-4c85-4f35-cea4-37373f156b25",
        "colab": {
          "base_uri": "https://localhost:8080/"
        }
      },
      "execution_count": 32,
      "outputs": [
        {
          "output_type": "execute_result",
          "data": {
            "text/plain": [
              "6913"
            ]
          },
          "metadata": {},
          "execution_count": 32
        }
      ]
    },
    {
      "cell_type": "code",
      "source": [
        "number_tracks(df, 'Friday', 'Moscow')"
      ],
      "metadata": {
        "id": "IrF0mMbCtrrS",
        "outputId": "becd3c32-b5b0-4f4a-9319-fec13a03db64",
        "colab": {
          "base_uri": "https://localhost:8080/"
        }
      },
      "execution_count": 33,
      "outputs": [
        {
          "output_type": "execute_result",
          "data": {
            "text/plain": [
              "15680"
            ]
          },
          "metadata": {},
          "execution_count": 33
        }
      ]
    },
    {
      "cell_type": "code",
      "source": [
        "number_tracks(df, 'Friday', 'Saint-Petersburg')"
      ],
      "metadata": {
        "id": "bOpNyONQttYv",
        "outputId": "ccdfcdc9-e7f1-45f3-8bfb-a49dfbf89849",
        "colab": {
          "base_uri": "https://localhost:8080/"
        }
      },
      "execution_count": 34,
      "outputs": [
        {
          "output_type": "execute_result",
          "data": {
            "text/plain": [
              "5802"
            ]
          },
          "metadata": {},
          "execution_count": 34
        }
      ]
    },
    {
      "cell_type": "code",
      "source": [
        "# Wir werden die erhaltenen Informationen in einer Tabelle zusammenfassen, \n",
        "# wobei ['Stadt', 'Montag', 'Mittwoch', 'Freitag'] die Namen der Spalten sind.\n",
        "data = [['Moscow', 15347, 10865, 15680],\n",
        "       ['Saint-Petersburg', 5519, 6913, 5802]]\n",
        "columns = ['city', 'monday', 'wednesday', 'friday']\n",
        "table = pd.DataFrame(data = data, columns = columns)\n",
        "table"
      ],
      "metadata": {
        "id": "UK4gJ2P6tv26",
        "outputId": "5b41efdf-2fe8-4658-ab22-5a01a2159fb5",
        "colab": {
          "base_uri": "https://localhost:8080/",
          "height": 112
        }
      },
      "execution_count": 37,
      "outputs": [
        {
          "output_type": "execute_result",
          "data": {
            "text/plain": [
              "               city  monday  wednesday  friday\n",
              "0            Moscow   15347      10865   15680\n",
              "1  Saint-Petersburg    5519       6913    5802"
            ],
            "text/html": [
              "\n",
              "  <div id=\"df-e5f30a4e-8946-4bb7-a6c4-8a6e498f94e3\">\n",
              "    <div class=\"colab-df-container\">\n",
              "      <div>\n",
              "<style scoped>\n",
              "    .dataframe tbody tr th:only-of-type {\n",
              "        vertical-align: middle;\n",
              "    }\n",
              "\n",
              "    .dataframe tbody tr th {\n",
              "        vertical-align: top;\n",
              "    }\n",
              "\n",
              "    .dataframe thead th {\n",
              "        text-align: right;\n",
              "    }\n",
              "</style>\n",
              "<table border=\"1\" class=\"dataframe\">\n",
              "  <thead>\n",
              "    <tr style=\"text-align: right;\">\n",
              "      <th></th>\n",
              "      <th>city</th>\n",
              "      <th>monday</th>\n",
              "      <th>wednesday</th>\n",
              "      <th>friday</th>\n",
              "    </tr>\n",
              "  </thead>\n",
              "  <tbody>\n",
              "    <tr>\n",
              "      <th>0</th>\n",
              "      <td>Moscow</td>\n",
              "      <td>15347</td>\n",
              "      <td>10865</td>\n",
              "      <td>15680</td>\n",
              "    </tr>\n",
              "    <tr>\n",
              "      <th>1</th>\n",
              "      <td>Saint-Petersburg</td>\n",
              "      <td>5519</td>\n",
              "      <td>6913</td>\n",
              "      <td>5802</td>\n",
              "    </tr>\n",
              "  </tbody>\n",
              "</table>\n",
              "</div>\n",
              "      <button class=\"colab-df-convert\" onclick=\"convertToInteractive('df-e5f30a4e-8946-4bb7-a6c4-8a6e498f94e3')\"\n",
              "              title=\"Convert this dataframe to an interactive table.\"\n",
              "              style=\"display:none;\">\n",
              "        \n",
              "  <svg xmlns=\"http://www.w3.org/2000/svg\" height=\"24px\"viewBox=\"0 0 24 24\"\n",
              "       width=\"24px\">\n",
              "    <path d=\"M0 0h24v24H0V0z\" fill=\"none\"/>\n",
              "    <path d=\"M18.56 5.44l.94 2.06.94-2.06 2.06-.94-2.06-.94-.94-2.06-.94 2.06-2.06.94zm-11 1L8.5 8.5l.94-2.06 2.06-.94-2.06-.94L8.5 2.5l-.94 2.06-2.06.94zm10 10l.94 2.06.94-2.06 2.06-.94-2.06-.94-.94-2.06-.94 2.06-2.06.94z\"/><path d=\"M17.41 7.96l-1.37-1.37c-.4-.4-.92-.59-1.43-.59-.52 0-1.04.2-1.43.59L10.3 9.45l-7.72 7.72c-.78.78-.78 2.05 0 2.83L4 21.41c.39.39.9.59 1.41.59.51 0 1.02-.2 1.41-.59l7.78-7.78 2.81-2.81c.8-.78.8-2.07 0-2.86zM5.41 20L4 18.59l7.72-7.72 1.47 1.35L5.41 20z\"/>\n",
              "  </svg>\n",
              "      </button>\n",
              "      \n",
              "  <style>\n",
              "    .colab-df-container {\n",
              "      display:flex;\n",
              "      flex-wrap:wrap;\n",
              "      gap: 12px;\n",
              "    }\n",
              "\n",
              "    .colab-df-convert {\n",
              "      background-color: #E8F0FE;\n",
              "      border: none;\n",
              "      border-radius: 50%;\n",
              "      cursor: pointer;\n",
              "      display: none;\n",
              "      fill: #1967D2;\n",
              "      height: 32px;\n",
              "      padding: 0 0 0 0;\n",
              "      width: 32px;\n",
              "    }\n",
              "\n",
              "    .colab-df-convert:hover {\n",
              "      background-color: #E2EBFA;\n",
              "      box-shadow: 0px 1px 2px rgba(60, 64, 67, 0.3), 0px 1px 3px 1px rgba(60, 64, 67, 0.15);\n",
              "      fill: #174EA6;\n",
              "    }\n",
              "\n",
              "    [theme=dark] .colab-df-convert {\n",
              "      background-color: #3B4455;\n",
              "      fill: #D2E3FC;\n",
              "    }\n",
              "\n",
              "    [theme=dark] .colab-df-convert:hover {\n",
              "      background-color: #434B5C;\n",
              "      box-shadow: 0px 1px 3px 1px rgba(0, 0, 0, 0.15);\n",
              "      filter: drop-shadow(0px 1px 2px rgba(0, 0, 0, 0.3));\n",
              "      fill: #FFFFFF;\n",
              "    }\n",
              "  </style>\n",
              "\n",
              "      <script>\n",
              "        const buttonEl =\n",
              "          document.querySelector('#df-e5f30a4e-8946-4bb7-a6c4-8a6e498f94e3 button.colab-df-convert');\n",
              "        buttonEl.style.display =\n",
              "          google.colab.kernel.accessAllowed ? 'block' : 'none';\n",
              "\n",
              "        async function convertToInteractive(key) {\n",
              "          const element = document.querySelector('#df-e5f30a4e-8946-4bb7-a6c4-8a6e498f94e3');\n",
              "          const dataTable =\n",
              "            await google.colab.kernel.invokeFunction('convertToInteractive',\n",
              "                                                     [key], {});\n",
              "          if (!dataTable) return;\n",
              "\n",
              "          const docLinkHtml = 'Like what you see? Visit the ' +\n",
              "            '<a target=\"_blank\" href=https://colab.research.google.com/notebooks/data_table.ipynb>data table notebook</a>'\n",
              "            + ' to learn more about interactive tables.';\n",
              "          element.innerHTML = '';\n",
              "          dataTable['output_type'] = 'display_data';\n",
              "          await google.colab.output.renderOutput(dataTable, element);\n",
              "          const docLink = document.createElement('div');\n",
              "          docLink.innerHTML = docLinkHtml;\n",
              "          element.appendChild(docLink);\n",
              "        }\n",
              "      </script>\n",
              "    </div>\n",
              "  </div>\n",
              "  "
            ]
          },
          "metadata": {},
          "execution_count": 37
        }
      ]
    },
    {
      "cell_type": "markdown",
      "source": [
        "**Schlussfolgerungen**\n",
        "\n",
        "Die Ergebnisse zeigen, dass die Menschen in St. Petersburg und Moskau am Mittwoch Musik „spiegelverkehrt“ hören: In Moskau fallen die Spitzen am Montag und am Freitag, und am Mittwoch nimmt die Hörzeit ab. Während in St. Petersburg der Mittwoch der Tag des größten Musikinteresses ist, ist es am Montag und Freitag weniger und fast gleich weniger."
      ],
      "metadata": {
        "id": "WhNwgVPyxSU_"
      }
    },
    {
      "cell_type": "markdown",
      "source": [
        "# Montagmorgen und Freitagabend - andere Musik oder die gleiche?"
      ],
      "metadata": {
        "id": "Qg2286r7xtVi"
      }
    },
    {
      "cell_type": "markdown",
      "source": [
        "Wir suchen eine Antwort auf die Frage, welche Genres am Montagmorgen und am Freitagabend in verschiedenen Städten vorherrschen. Es wird davon ausgegangen, dass Benutzer am Montagmorgen belebendere Musik (z. B. Pop-Genre) und am Freitagabend mehr Tanzmusik (z. B. elektronische Musik) hören."
      ],
      "metadata": {
        "id": "ceDo8w7ZyBNq"
      }
    },
    {
      "cell_type": "code",
      "source": [
        "# Wir erhalten Datentabellen für Moskau moscow_general und St. Petersburg spb_general.\n",
        "moscow_general = df[df['city']=='Moscow']\n",
        "spb_general = df[df['city']=='Saint-Petersburg']"
      ],
      "metadata": {
        "id": "rnH579cUuI52"
      },
      "execution_count": 38,
      "outputs": []
    },
    {
      "cell_type": "code",
      "source": [
        "# Wir erstellen eine Funktion genre_weekday(), die eine Liste von Genres für den angeforderten Wochentag \n",
        "# und die Tageszeit von dieser und jener Stunde bis zu dieser und jener zurückgibt.\n",
        "def genre_weekday(df, day, time1, time2):\n",
        "    genre_list = df[(df['weekday']==day) & (df['time']>time1) & (df['time']<time2)]\n",
        "    genre_count = genre_list.groupby('genre_name')['genre_name'].count()\n",
        "    genre_list_sorted = genre_count.sort_values(ascending = False).head(10)\n",
        "    return genre_list_sorted"
      ],
      "metadata": {
        "id": "KTlJxeT8yTkf"
      },
      "execution_count": 39,
      "outputs": []
    },
    {
      "cell_type": "code",
      "source": [
        "# Wir vergleichen die Ergebnisse, die gemäß der Tabelle für Moskau und St. Petersburg \n",
        "# am Montagmorgen (von 7 bis 11) und am Freitagabend (von 17 bis 23) erhalten wurden.\n",
        "display(genre_weekday(moscow_general, 'Monday', '07:00:00', '11:00:00'))\n",
        "display(genre_weekday(spb_general, 'Monday', '07:00:00', '11:00:00'))\n",
        "display(genre_weekday(moscow_general, 'Friday', '17:00:00', '23:00:00'))\n",
        "display(genre_weekday(spb_general, 'Friday', '17:00:00', '23:00:00'))"
      ],
      "metadata": {
        "id": "EC4nLVLxz64K",
        "outputId": "d3a3b51c-3215-4c9e-e3e3-7a66922a8843",
        "colab": {
          "base_uri": "https://localhost:8080/",
          "height": 850
        }
      },
      "execution_count": 41,
      "outputs": [
        {
          "output_type": "display_data",
          "data": {
            "text/plain": [
              "genre_name\n",
              "pop            781\n",
              "dance          549\n",
              "electronic     480\n",
              "rock           474\n",
              "hiphop         286\n",
              "ruspop         186\n",
              "world          181\n",
              "rusrap         175\n",
              "alternative    164\n",
              "classical      157\n",
              "Name: genre_name, dtype: int64"
            ]
          },
          "metadata": {}
        },
        {
          "output_type": "display_data",
          "data": {
            "text/plain": [
              "genre_name\n",
              "pop            218\n",
              "dance          182\n",
              "rock           162\n",
              "electronic     147\n",
              "hiphop          80\n",
              "ruspop          64\n",
              "alternative     58\n",
              "rusrap          55\n",
              "jazz            44\n",
              "classical       40\n",
              "Name: genre_name, dtype: int64"
            ]
          },
          "metadata": {}
        },
        {
          "output_type": "display_data",
          "data": {
            "text/plain": [
              "genre_name\n",
              "pop            713\n",
              "rock           517\n",
              "dance          495\n",
              "electronic     482\n",
              "hiphop         273\n",
              "world          208\n",
              "ruspop         170\n",
              "alternative    163\n",
              "classical      163\n",
              "rusrap         142\n",
              "Name: genre_name, dtype: int64"
            ]
          },
          "metadata": {}
        },
        {
          "output_type": "display_data",
          "data": {
            "text/plain": [
              "genre_name\n",
              "pop            256\n",
              "rock           216\n",
              "electronic     216\n",
              "dance          210\n",
              "hiphop          97\n",
              "alternative     63\n",
              "jazz            61\n",
              "classical       60\n",
              "rusrap          59\n",
              "world           54\n",
              "Name: genre_name, dtype: int64"
            ]
          },
          "metadata": {}
        }
      ]
    },
    {
      "cell_type": "markdown",
      "source": [
        "**Schlussfolgerungen**\n",
        "\n",
        "Populäre Genres stellten sich am Montagmorgen in St. Petersburg und Moskau als ähnlich heraus: Überall ist erwartungsgemäß Pop angesagt. Trotzdem ist das Ende der Top 10 für die beiden Städte unterschiedlich: In St. Petersburg gehören Jazz und russischer Rap zu den Top 10, in Moskau das Weltgenre.\n",
        "\n",
        "Am Ende der Woche ändert sich die Situation nicht. Popmusik steht immer noch an erster Stelle. Auch hier macht sich der Unterschied erst am Ende der Top 10 bemerkbar, wo das Weltgenre am Freitagabend auch in St. Petersburg präsent ist.\n",
        "\n",
        "Das Pop-Genre ist unangefochten führend, und die Top 5 unterscheiden sich im Allgemeinen nicht in beiden Hauptstädten. Gleichzeitig wird klar, dass das Ende der Liste eher „live“ ist: Für jede Stadt werden charakteristischere Genres unterschieden, die je nach Wochentag und Uhrzeit ihre Position wirklich ändern."
      ],
      "metadata": {
        "id": "k7ruSo3j0oEm"
      }
    },
    {
      "cell_type": "markdown",
      "source": [
        "# Bevorzugen die Bewohner der beiden Städte unterschiedliche Musikrichtungen?"
      ],
      "metadata": {
        "id": "_DpV39qL2wJd"
      }
    },
    {
      "cell_type": "code",
      "source": [
        "# Wir werden die Tabelle moscow_general nach Genre gruppieren, \n",
        "# die Anzahl der Songs jedes Genres mit der Methode count() zählen, \n",
        "# in absteigender Reihenfolge sortieren und das Ergebnis in der Tabelle moscow_genres speichern.\n",
        "moscow_genres = moscow_general.groupby('genre_name')['genre_name'].count().sort_values(ascending = False)\n",
        "moscow_genres.head(10)"
      ],
      "metadata": {
        "id": "txuot-iP0Qpc",
        "outputId": "4c0a5c39-303f-4f48-a4ff-080f8ce4588d",
        "colab": {
          "base_uri": "https://localhost:8080/"
        }
      },
      "execution_count": 42,
      "outputs": [
        {
          "output_type": "execute_result",
          "data": {
            "text/plain": [
              "genre_name\n",
              "pop            5892\n",
              "dance          4435\n",
              "rock           3965\n",
              "electronic     3786\n",
              "hiphop         2096\n",
              "classical      1616\n",
              "world          1432\n",
              "alternative    1379\n",
              "ruspop         1372\n",
              "rusrap         1161\n",
              "Name: genre_name, dtype: int64"
            ]
          },
          "metadata": {},
          "execution_count": 42
        }
      ]
    },
    {
      "cell_type": "code",
      "source": [
        "# Wir werden die Tabelle spb_general nach Genre gruppieren, \n",
        "# die Anzahl der Songs jedes Genres mit der Methode count() zählen, \n",
        "# in absteigender Reihenfolge sortieren und das Ergebnis in der Tabelle spb_genres speichern.\n",
        "spb_genres = spb_general.groupby('genre_name')['genre_name'].count().sort_values(ascending = False)\n",
        "spb_genres.head(10)"
      ],
      "metadata": {
        "id": "6yt6l-7L3eWe",
        "outputId": "eb03b9bf-5d96-48fa-9403-1c8f0e1bccb1",
        "colab": {
          "base_uri": "https://localhost:8080/"
        }
      },
      "execution_count": 43,
      "outputs": [
        {
          "output_type": "execute_result",
          "data": {
            "text/plain": [
              "genre_name\n",
              "pop            2431\n",
              "dance          1932\n",
              "rock           1879\n",
              "electronic     1736\n",
              "hiphop          960\n",
              "alternative     649\n",
              "classical       646\n",
              "rusrap          564\n",
              "ruspop          538\n",
              "world           515\n",
              "Name: genre_name, dtype: int64"
            ]
          },
          "metadata": {},
          "execution_count": 43
        }
      ]
    },
    {
      "cell_type": "markdown",
      "source": [
        "**Schlussfolgerungen**\n",
        "\n",
        "Wir sehen, dass die ersten 5 Positionen der Genres in beiden Städten gleich sind. Die Genres auf den Plätzen sechs bis zehn sind ebenfalls gleich, nehmen aber unterschiedliche Positionen ein."
      ],
      "metadata": {
        "id": "4CYkxMDY5Xah"
      }
    },
    {
      "cell_type": "markdown",
      "source": [
        "# Forschungsergebnisse\n",
        "\n",
        "Antworten auf Fragen:\n",
        "\n",
        "Musik in zwei Städten - Moskau und St. Petersburg - hören die Bewohner in einem anderen Modus;\n",
        "\n",
        "die Listen der zehn beliebtesten Genres am Montagmorgen und Freitagabend weisen charakteristische Unterschiede auf;\n",
        "\n",
        "die Bevölkerung der beiden Städte bevorzugt unterschiedliche Musikrichtungen.\n",
        "\n",
        "**Gesamtergebnis**\n",
        "\n",
        "Geschmacklich sind sich Moskau und St. Petersburg einig: Überall herrscht populäre Musik. Gleichzeitig gibt es keine Abhängigkeit von Präferenzen vom Wochentag in jeder einzelnen Stadt - die Menschen hören ständig, was ihnen gefällt. Aber zwischen den Städten, was die Wochentage betrifft, gibt es ein Spiegelbild zum Mittwoch: Moskau hört am Montag und Freitag mehr zu, während St. Petersburg im Gegenteil am Mittwoch mehr, aber am Montag und weniger zuhört Freitag."
      ],
      "metadata": {
        "id": "k_4PA_J26X4o"
      }
    }
  ]
}