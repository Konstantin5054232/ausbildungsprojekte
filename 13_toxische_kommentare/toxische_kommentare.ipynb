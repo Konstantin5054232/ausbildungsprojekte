{
  "cells": [
    {
      "cell_type": "markdown",
      "metadata": {
        "id": "view-in-github",
        "colab_type": "text"
      },
      "source": [
        "<a href=\"https://colab.research.google.com/github/Konstantin5054232/ausbildungsprojekte/blob/main/13_toxische_kommentare/toxische_kommentare.ipynb\" target=\"_parent\"><img src=\"https://colab.research.google.com/assets/colab-badge.svg\" alt=\"Open In Colab\"/></a>"
      ]
    },
    {
      "cell_type": "markdown",
      "metadata": {
        "id": "2I7StDB0AwgC"
      },
      "source": [
        "# Klassifizierung von Kommentaren in positiv und negativ"
      ]
    },
    {
      "cell_type": "markdown",
      "metadata": {
        "id": "2RNc2wutBZx7"
      },
      "source": [
        "Интернет-магазин «Викишоп» запускает новый сервис. Теперь пользователи могут редактировать и дополнять описания товаров, как в вики-сообществах. То есть клиенты предлагают свои правки и комментируют изменения других. Магазину нужен инструмент, который будет искать токсичные комментарии и отправлять их на модерацию.\n",
        "\n",
        "Обучим модель классифицировать комментарии на позитивные и негативные. В нашем распоряжении набор данных с разметкой о токсичности правок.\n",
        "\n",
        "Необходимо построить модель со значением метрики качества F1 не меньше 0.75."
      ]
    },
    {
      "cell_type": "markdown",
      "metadata": {
        "id": "I5CwVUYzCGSB"
      },
      "source": [
        "## Datenaufbereitung"
      ]
    },
    {
      "cell_type": "code",
      "execution_count": null,
      "metadata": {
        "id": "Bg6PmHsaAlk3"
      },
      "outputs": [],
      "source": [
        "# Wir importieren die notwendigen Bibliotheken.\n",
        "import pandas as pd\n",
        "import numpy as np\n",
        "from sklearn.metrics import accuracy_score\n",
        "from pymystem3 import Mystem\n",
        "import re\n",
        "import nltk\n",
        "from nltk.corpus import stopwords as nltk_stopwords\n",
        "from sklearn.feature_extraction.text import TfidfVectorizer\n",
        "from sklearn.metrics import f1_score \n",
        "from sklearn.linear_model import LogisticRegression\n",
        "from sklearn.tree import DecisionTreeClassifier\n",
        "from sklearn.ensemble import RandomForestClassifier\n",
        "from sklearn.model_selection import train_test_split"
      ]
    },
    {
      "cell_type": "code",
      "execution_count": null,
      "metadata": {
        "colab": {
          "base_uri": "https://localhost:8080/",
          "height": 397
        },
        "id": "q3ErbHyZCRWm",
        "outputId": "f9b16829-2332-4015-9c7c-d3b8b240f66d"
      },
      "outputs": [
        {
          "data": {
            "text/plain": [
              "(159292, 3)"
            ]
          },
          "metadata": {},
          "output_type": "display_data"
        },
        {
          "data": {
            "text/html": [
              "\n",
              "  <div id=\"df-2c2fd378-a829-4d9e-8cf8-235b3a8e5198\">\n",
              "    <div class=\"colab-df-container\">\n",
              "      <div>\n",
              "<style scoped>\n",
              "    .dataframe tbody tr th:only-of-type {\n",
              "        vertical-align: middle;\n",
              "    }\n",
              "\n",
              "    .dataframe tbody tr th {\n",
              "        vertical-align: top;\n",
              "    }\n",
              "\n",
              "    .dataframe thead th {\n",
              "        text-align: right;\n",
              "    }\n",
              "</style>\n",
              "<table border=\"1\" class=\"dataframe\">\n",
              "  <thead>\n",
              "    <tr style=\"text-align: right;\">\n",
              "      <th></th>\n",
              "      <th>Unnamed: 0</th>\n",
              "      <th>text</th>\n",
              "      <th>toxic</th>\n",
              "    </tr>\n",
              "  </thead>\n",
              "  <tbody>\n",
              "    <tr>\n",
              "      <th>0</th>\n",
              "      <td>0</td>\n",
              "      <td>Explanation\\nWhy the edits made under my usern...</td>\n",
              "      <td>0</td>\n",
              "    </tr>\n",
              "    <tr>\n",
              "      <th>1</th>\n",
              "      <td>1</td>\n",
              "      <td>D'aww! He matches this background colour I'm s...</td>\n",
              "      <td>0</td>\n",
              "    </tr>\n",
              "    <tr>\n",
              "      <th>2</th>\n",
              "      <td>2</td>\n",
              "      <td>Hey man, I'm really not trying to edit war. It...</td>\n",
              "      <td>0</td>\n",
              "    </tr>\n",
              "    <tr>\n",
              "      <th>3</th>\n",
              "      <td>3</td>\n",
              "      <td>\"\\nMore\\nI can't make any real suggestions on ...</td>\n",
              "      <td>0</td>\n",
              "    </tr>\n",
              "    <tr>\n",
              "      <th>4</th>\n",
              "      <td>4</td>\n",
              "      <td>You, sir, are my hero. Any chance you remember...</td>\n",
              "      <td>0</td>\n",
              "    </tr>\n",
              "  </tbody>\n",
              "</table>\n",
              "</div>\n",
              "      <button class=\"colab-df-convert\" onclick=\"convertToInteractive('df-2c2fd378-a829-4d9e-8cf8-235b3a8e5198')\"\n",
              "              title=\"Convert this dataframe to an interactive table.\"\n",
              "              style=\"display:none;\">\n",
              "        \n",
              "  <svg xmlns=\"http://www.w3.org/2000/svg\" height=\"24px\"viewBox=\"0 0 24 24\"\n",
              "       width=\"24px\">\n",
              "    <path d=\"M0 0h24v24H0V0z\" fill=\"none\"/>\n",
              "    <path d=\"M18.56 5.44l.94 2.06.94-2.06 2.06-.94-2.06-.94-.94-2.06-.94 2.06-2.06.94zm-11 1L8.5 8.5l.94-2.06 2.06-.94-2.06-.94L8.5 2.5l-.94 2.06-2.06.94zm10 10l.94 2.06.94-2.06 2.06-.94-2.06-.94-.94-2.06-.94 2.06-2.06.94z\"/><path d=\"M17.41 7.96l-1.37-1.37c-.4-.4-.92-.59-1.43-.59-.52 0-1.04.2-1.43.59L10.3 9.45l-7.72 7.72c-.78.78-.78 2.05 0 2.83L4 21.41c.39.39.9.59 1.41.59.51 0 1.02-.2 1.41-.59l7.78-7.78 2.81-2.81c.8-.78.8-2.07 0-2.86zM5.41 20L4 18.59l7.72-7.72 1.47 1.35L5.41 20z\"/>\n",
              "  </svg>\n",
              "      </button>\n",
              "      \n",
              "  <style>\n",
              "    .colab-df-container {\n",
              "      display:flex;\n",
              "      flex-wrap:wrap;\n",
              "      gap: 12px;\n",
              "    }\n",
              "\n",
              "    .colab-df-convert {\n",
              "      background-color: #E8F0FE;\n",
              "      border: none;\n",
              "      border-radius: 50%;\n",
              "      cursor: pointer;\n",
              "      display: none;\n",
              "      fill: #1967D2;\n",
              "      height: 32px;\n",
              "      padding: 0 0 0 0;\n",
              "      width: 32px;\n",
              "    }\n",
              "\n",
              "    .colab-df-convert:hover {\n",
              "      background-color: #E2EBFA;\n",
              "      box-shadow: 0px 1px 2px rgba(60, 64, 67, 0.3), 0px 1px 3px 1px rgba(60, 64, 67, 0.15);\n",
              "      fill: #174EA6;\n",
              "    }\n",
              "\n",
              "    [theme=dark] .colab-df-convert {\n",
              "      background-color: #3B4455;\n",
              "      fill: #D2E3FC;\n",
              "    }\n",
              "\n",
              "    [theme=dark] .colab-df-convert:hover {\n",
              "      background-color: #434B5C;\n",
              "      box-shadow: 0px 1px 3px 1px rgba(0, 0, 0, 0.15);\n",
              "      filter: drop-shadow(0px 1px 2px rgba(0, 0, 0, 0.3));\n",
              "      fill: #FFFFFF;\n",
              "    }\n",
              "  </style>\n",
              "\n",
              "      <script>\n",
              "        const buttonEl =\n",
              "          document.querySelector('#df-2c2fd378-a829-4d9e-8cf8-235b3a8e5198 button.colab-df-convert');\n",
              "        buttonEl.style.display =\n",
              "          google.colab.kernel.accessAllowed ? 'block' : 'none';\n",
              "\n",
              "        async function convertToInteractive(key) {\n",
              "          const element = document.querySelector('#df-2c2fd378-a829-4d9e-8cf8-235b3a8e5198');\n",
              "          const dataTable =\n",
              "            await google.colab.kernel.invokeFunction('convertToInteractive',\n",
              "                                                     [key], {});\n",
              "          if (!dataTable) return;\n",
              "\n",
              "          const docLinkHtml = 'Like what you see? Visit the ' +\n",
              "            '<a target=\"_blank\" href=https://colab.research.google.com/notebooks/data_table.ipynb>data table notebook</a>'\n",
              "            + ' to learn more about interactive tables.';\n",
              "          element.innerHTML = '';\n",
              "          dataTable['output_type'] = 'display_data';\n",
              "          await google.colab.output.renderOutput(dataTable, element);\n",
              "          const docLink = document.createElement('div');\n",
              "          docLink.innerHTML = docLinkHtml;\n",
              "          element.appendChild(docLink);\n",
              "        }\n",
              "      </script>\n",
              "    </div>\n",
              "  </div>\n",
              "  "
            ],
            "text/plain": [
              "   Unnamed: 0                                               text  toxic\n",
              "0           0  Explanation\\nWhy the edits made under my usern...      0\n",
              "1           1  D'aww! He matches this background colour I'm s...      0\n",
              "2           2  Hey man, I'm really not trying to edit war. It...      0\n",
              "3           3  \"\\nMore\\nI can't make any real suggestions on ...      0\n",
              "4           4  You, sir, are my hero. Any chance you remember...      0"
            ]
          },
          "metadata": {},
          "output_type": "display_data"
        },
        {
          "name": "stdout",
          "output_type": "stream",
          "text": [
            "<class 'pandas.core.frame.DataFrame'>\n",
            "RangeIndex: 159292 entries, 0 to 159291\n",
            "Data columns (total 3 columns):\n",
            " #   Column      Non-Null Count   Dtype \n",
            "---  ------      --------------   ----- \n",
            " 0   Unnamed: 0  159292 non-null  int64 \n",
            " 1   text        159292 non-null  object\n",
            " 2   toxic       159292 non-null  int64 \n",
            "dtypes: int64(2), object(1)\n",
            "memory usage: 3.6+ MB\n"
          ]
        }
      ],
      "source": [
        "# Wir werden die Daten herunterladen und untersuchen.\n",
        "data = pd.read_csv('/content/toxic_comments.csv')\n",
        "display(data.shape)\n",
        "display(data.head())\n",
        "data.info()"
      ]
    },
    {
      "cell_type": "code",
      "execution_count": null,
      "metadata": {
        "colab": {
          "base_uri": "https://localhost:8080/"
        },
        "id": "YYEggTvMCwgw",
        "outputId": "b7c2a7c8-f85d-45bc-a538-f3193b7ecc04"
      },
      "outputs": [
        {
          "data": {
            "text/plain": [
              "0.10161213369158527"
            ]
          },
          "execution_count": 3,
          "metadata": {},
          "output_type": "execute_result"
        }
      ],
      "source": [
        "# Wir werden das Klassengleichgewicht studieren.\n",
        "balance = data['toxic'].sum() / len(data)\n",
        "balance"
      ]
    },
    {
      "cell_type": "markdown",
      "metadata": {
        "id": "btXqGhmPFKlN"
      },
      "source": [
        "Wir sehen, dass die Klassen unausgewogen sind: etwa 10 % toxische Kommentare."
      ]
    },
    {
      "cell_type": "code",
      "execution_count": null,
      "metadata": {
        "id": "DgBRNbemE7gc"
      },
      "outputs": [],
      "source": [
        "# Wir werden Funktionen für die Lemmatisierung von Text und das Entfernen aller Zeichen außer englischen Buchstaben schreiben.\n",
        "corpus = data['text']\n",
        "\n",
        "def lemmatize(text):\n",
        "    lemm_list = m.lemmatize(text)\n",
        "    lemm_text = \"\".join(lemm_list)\n",
        "    return lemm_text\n",
        "\n",
        "\n",
        "def clear_text(text):\n",
        "    return \" \".join(re.sub(r'[^a-zA-Z ]', ' ', text).split())\n",
        "\n",
        "data['lemm_text'] = corpus.apply(clear_text)"
      ]
    },
    {
      "cell_type": "code",
      "execution_count": null,
      "metadata": {
        "id": "TpEJul2kF2bS"
      },
      "outputs": [],
      "source": [
        "# Wir teilen die Tabelle in Trainings- und Testbeispiele auf.\n",
        "data_train, data_test = train_test_split(data, test_size=0.25, random_state=12345)"
      ]
    },
    {
      "cell_type": "code",
      "execution_count": null,
      "metadata": {
        "colab": {
          "base_uri": "https://localhost:8080/"
        },
        "id": "DTeJ4yjSHMuQ",
        "outputId": "483f01ef-5c6f-4fd9-a1b9-3a88e1aead49"
      },
      "outputs": [
        {
          "name": "stderr",
          "output_type": "stream",
          "text": [
            "[nltk_data] Downloading package stopwords to /root/nltk_data...\n",
            "[nltk_data]   Package stopwords is already up-to-date!\n"
          ]
        },
        {
          "data": {
            "text/plain": [
              "True"
            ]
          },
          "execution_count": 6,
          "metadata": {},
          "output_type": "execute_result"
        }
      ],
      "source": [
        "nltk.download('stopwords')"
      ]
    },
    {
      "cell_type": "code",
      "execution_count": null,
      "metadata": {
        "id": "FRYZVp1SGhZw"
      },
      "outputs": [],
      "source": [
        "# Wir berechnen die TF-IDF für das Trainings- und Testkorpus.\n",
        "train_corpus = data_train['lemm_text'].values.astype('U')\n",
        "train_labels = data_train['toxic']\n",
        " \n",
        "stopwords = set(nltk_stopwords.words('english'))\n",
        "count_tf_idf = TfidfVectorizer(stop_words=stopwords)\n",
        " \n",
        "tfidf_train = count_tf_idf.fit_transform(train_corpus)\n",
        "\n",
        "\n",
        "test_corpus = data_test['lemm_text'].values.astype('U')\n",
        "test_labels = data_test['toxic']\n",
        "\n",
        "tfidf_test = count_tf_idf.transform(test_corpus)"
      ]
    },
    {
      "cell_type": "markdown",
      "metadata": {
        "id": "sQsyDhCJHtiu"
      },
      "source": [
        "## Modelltraining"
      ]
    },
    {
      "cell_type": "markdown",
      "metadata": {
        "id": "EctPzWnYH15L"
      },
      "source": [
        "Wir werden 3 verschiedene Modelle trainieren, Prognosen erstellen und die f1-Metrik für die Testprobe berechnen."
      ]
    },
    {
      "cell_type": "code",
      "execution_count": null,
      "metadata": {
        "colab": {
          "base_uri": "https://localhost:8080/"
        },
        "id": "_n3Bm7yXHuNY",
        "outputId": "9b24e70a-60e5-4cc7-e5fa-ba83e5b388da"
      },
      "outputs": [
        {
          "name": "stdout",
          "output_type": "stream",
          "text": [
            "0.7529845886694161\n"
          ]
        }
      ],
      "source": [
        "model_1 = LogisticRegression(random_state=12345, solver='liblinear', class_weight='balanced')\n",
        "model_1.fit(tfidf_train, train_labels)\n",
        "predictions = model_1.predict(tfidf_test)\n",
        " \n",
        "print(f1_score(test_labels, predictions))"
      ]
    },
    {
      "cell_type": "code",
      "execution_count": null,
      "metadata": {
        "colab": {
          "background_save": true
        },
        "id": "02tm8sBZH8Ih",
        "outputId": "a0c74791-07a7-429d-be7d-4252044195d5"
      },
      "outputs": [
        {
          "name": "stdout",
          "output_type": "stream",
          "text": [
            "0.7191404297851075\n"
          ]
        }
      ],
      "source": [
        "model_2 = DecisionTreeClassifier()\n",
        "model_2.fit(tfidf_train, train_labels)\n",
        "predictions = model_2.predict(tfidf_test)\n",
        " \n",
        "print(f1_score(test_labels, predictions))"
      ]
    },
    {
      "cell_type": "code",
      "source": [
        "model_3 = RandomForestClassifier()\n",
        "model_3.fit(tfidf_train, train_labels)\n",
        "predictions = model_3.predict(tfidf_test)\n",
        " \n",
        "print(f1_score(test_labels, predictions))"
      ],
      "metadata": {
        "colab": {
          "base_uri": "https://localhost:8080/"
        },
        "id": "mHHNab4jLpVU",
        "outputId": "fb56ffff-ebc2-46da-a175-c0bef24794e2"
      },
      "execution_count": 10,
      "outputs": [
        {
          "output_type": "stream",
          "name": "stdout",
          "text": [
            "0.714503351614869\n"
          ]
        }
      ]
    },
    {
      "cell_type": "markdown",
      "source": [
        "## Schlussfolgerungen\n",
        "\n",
        "Wir haben drei verschiedene LogisticRegression-, DecisionTreeClassifier- und RandomForestClassifier-Modelle trainiert. Für jedes Modell wurden Prognosen erstellt und die Metrik f1 berechnet. Der größte Wert der f1-Metrik wurde durch das LogisticRegression-Modell erhalten, der kleinste durch das RandomForestClassifier-Modell.\n",
        "\n",
        "Mit dem geschriebenen Code können wir Kommentare in positive und negative klassifizieren, ohne Zeit mit dem Lesen zu verschwenden, was den Mitarbeitern des Online-Shops Arbeitszeit bei der Bewertung von Kommentaren spart."
      ],
      "metadata": {
        "id": "ERRWAC32MHZg"
      }
    }
  ],
  "metadata": {
    "colab": {
      "provenance": [],
      "authorship_tag": "ABX9TyNynedzqeIngwhSh7liZVWo",
      "include_colab_link": true
    },
    "kernelspec": {
      "display_name": "Python 3",
      "name": "python3"
    },
    "language_info": {
      "name": "python"
    }
  },
  "nbformat": 4,
  "nbformat_minor": 0
}