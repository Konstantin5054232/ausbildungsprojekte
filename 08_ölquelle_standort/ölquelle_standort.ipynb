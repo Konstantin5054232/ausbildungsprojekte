{
  "nbformat": 4,
  "nbformat_minor": 0,
  "metadata": {
    "colab": {
      "name": "Ölquelle_standort .ipynb",
      "provenance": [],
      "toc_visible": true,
      "authorship_tag": "ABX9TyNeMsAh6S1tT/2f/ENZ2YoJ",
      "include_colab_link": true
    },
    "kernelspec": {
      "name": "python3",
      "display_name": "Python 3"
    },
    "language_info": {
      "name": "python"
    }
  },
  "cells": [
    {
      "cell_type": "markdown",
      "metadata": {
        "id": "view-in-github",
        "colab_type": "text"
      },
      "source": [
        "<a href=\"https://colab.research.google.com/github/Konstantin5054232/ausbildungsprojekte/blob/main/08_%C3%B6lquelle_standort/%C3%B6lquelle_standort.ipynb\" target=\"_parent\"><img src=\"https://colab.research.google.com/assets/colab-badge.svg\" alt=\"Open In Colab\"/></a>"
      ]
    },
    {
      "cell_type": "markdown",
      "source": [
        "# Standort für eine Ölquelle auswählen"
      ],
      "metadata": {
        "id": "me3fylFqvoKY"
      }
    },
    {
      "cell_type": "markdown",
      "source": [
        "Die Ölgesellschaft muss entscheiden, wo sie eine neue Bohrung bohren soll.\n",
        "\n",
        "Wir haben Ölproben in drei Regionen zur Verfügung gestellt. In jeder Region gibt es 10.000 Vorkommen, in denen die Qualität des Öls und das Volumen seiner Reserven gemessen wurden. Es ist notwendig, ein maschinelles Lernmodell zu erstellen, das Ihnen hilft, die Region zu bestimmen, in der der Bergbau den größten Gewinn erzielen wird. Mögliche Gewinne und Risiken müssen mit Bootstrap-Technik analysiert werden.\n",
        "\n",
        "Aufgabenbedingungen:\n",
        "- Nur die lineare Regression ist für das Lernen des Modells geeignet (der Rest ist nicht vorhersehbar genug).\n",
        "- Bei der Erkundung der Region werden 500 Punkte untersucht, von denen mithilfe des maschinellen Lernens die besten 200 für die Entwicklung ausgewählt werden.\n",
        "- Das Budget für die Entwicklung von Brunnen in der Region beträgt 10 Milliarden Rubel.\n",
        "- Bei den aktuellen Preisen bringt ein Barrel Rohmaterial 450 Rubel Umsatz. Der Umsatz pro Produkteinheit beträgt 450 Tausend Rubel, da das Volumen in Tausenden von Fässern angegeben ist.\n",
        "- Nach der Risikobewertung müssen Sie nur die Regionen verlassen, in denen die Verlustwahrscheinlichkeit kleiner als 2.5% ist. Unter ihnen wählen Sie die Region mit dem höchsten durchschnittlichen Gewinn."
      ],
      "metadata": {
        "id": "WOpxgt0BzTq6"
      }
    },
    {
      "cell_type": "markdown",
      "source": [
        "# Datenexploration"
      ],
      "metadata": {
        "id": "l8kGZ2TY0d6m"
      }
    },
    {
      "cell_type": "code",
      "source": [
        "# Wir importieren die notwendigen Bibliotheken\n",
        "import pandas as pd\n",
        "import numpy as np\n",
        "from sklearn.linear_model import LinearRegression\n",
        "from sklearn.model_selection import train_test_split\n",
        "from sklearn.metrics import mean_squared_error\n",
        "from scipy import stats as st"
      ],
      "metadata": {
        "id": "gcTucwRmvp7k"
      },
      "execution_count": null,
      "outputs": []
    },
    {
      "cell_type": "code",
      "source": [
        "# Wir laden Tabellen mit Daten\n",
        "geo_data_0 = pd.read_csv('/content/geo_data_0.csv')\n",
        "geo_data_1 = pd.read_csv('/content/geo_data_1.csv')\n",
        "geo_data_2 = pd.read_csv('/content/geo_data_2.csv')"
      ],
      "metadata": {
        "id": "N538Keo40sK7"
      },
      "execution_count": null,
      "outputs": []
    },
    {
      "cell_type": "code",
      "source": [
        "# Wir werden die erhaltenen Daten studieren\n",
        "datas = [geo_data_0, geo_data_1, geo_data_2]\n",
        "for file in datas:\n",
        "    display(file.info())\n",
        "    display(file.shape)\n",
        "    display(file.head())"
      ],
      "metadata": {
        "colab": {
          "base_uri": "https://localhost:8080/",
          "height": 1000
        },
        "id": "UkmyI1Jo1fWY",
        "outputId": "fea21c97-6221-4394-d5b7-3b9d7f39a137"
      },
      "execution_count": null,
      "outputs": [
        {
          "output_type": "stream",
          "name": "stdout",
          "text": [
            "<class 'pandas.core.frame.DataFrame'>\n",
            "RangeIndex: 100000 entries, 0 to 99999\n",
            "Data columns (total 5 columns):\n",
            " #   Column   Non-Null Count   Dtype  \n",
            "---  ------   --------------   -----  \n",
            " 0   id       100000 non-null  object \n",
            " 1   f0       100000 non-null  float64\n",
            " 2   f1       100000 non-null  float64\n",
            " 3   f2       100000 non-null  float64\n",
            " 4   product  100000 non-null  float64\n",
            "dtypes: float64(4), object(1)\n",
            "memory usage: 3.8+ MB\n"
          ]
        },
        {
          "output_type": "display_data",
          "data": {
            "text/plain": [
              "None"
            ]
          },
          "metadata": {}
        },
        {
          "output_type": "display_data",
          "data": {
            "text/plain": [
              "(100000, 5)"
            ]
          },
          "metadata": {}
        },
        {
          "output_type": "display_data",
          "data": {
            "text/plain": [
              "      id        f0        f1        f2     product\n",
              "0  txEyH  0.705745 -0.497823  1.221170  105.280062\n",
              "1  2acmU  1.334711 -0.340164  4.365080   73.037750\n",
              "2  409Wp  1.022732  0.151990  1.419926   85.265647\n",
              "3  iJLyR -0.032172  0.139033  2.978566  168.620776\n",
              "4  Xdl7t  1.988431  0.155413  4.751769  154.036647"
            ],
            "text/html": [
              "\n",
              "  <div id=\"df-de19bd36-cf64-457a-9c1d-87f020cb9dd8\">\n",
              "    <div class=\"colab-df-container\">\n",
              "      <div>\n",
              "<style scoped>\n",
              "    .dataframe tbody tr th:only-of-type {\n",
              "        vertical-align: middle;\n",
              "    }\n",
              "\n",
              "    .dataframe tbody tr th {\n",
              "        vertical-align: top;\n",
              "    }\n",
              "\n",
              "    .dataframe thead th {\n",
              "        text-align: right;\n",
              "    }\n",
              "</style>\n",
              "<table border=\"1\" class=\"dataframe\">\n",
              "  <thead>\n",
              "    <tr style=\"text-align: right;\">\n",
              "      <th></th>\n",
              "      <th>id</th>\n",
              "      <th>f0</th>\n",
              "      <th>f1</th>\n",
              "      <th>f2</th>\n",
              "      <th>product</th>\n",
              "    </tr>\n",
              "  </thead>\n",
              "  <tbody>\n",
              "    <tr>\n",
              "      <th>0</th>\n",
              "      <td>txEyH</td>\n",
              "      <td>0.705745</td>\n",
              "      <td>-0.497823</td>\n",
              "      <td>1.221170</td>\n",
              "      <td>105.280062</td>\n",
              "    </tr>\n",
              "    <tr>\n",
              "      <th>1</th>\n",
              "      <td>2acmU</td>\n",
              "      <td>1.334711</td>\n",
              "      <td>-0.340164</td>\n",
              "      <td>4.365080</td>\n",
              "      <td>73.037750</td>\n",
              "    </tr>\n",
              "    <tr>\n",
              "      <th>2</th>\n",
              "      <td>409Wp</td>\n",
              "      <td>1.022732</td>\n",
              "      <td>0.151990</td>\n",
              "      <td>1.419926</td>\n",
              "      <td>85.265647</td>\n",
              "    </tr>\n",
              "    <tr>\n",
              "      <th>3</th>\n",
              "      <td>iJLyR</td>\n",
              "      <td>-0.032172</td>\n",
              "      <td>0.139033</td>\n",
              "      <td>2.978566</td>\n",
              "      <td>168.620776</td>\n",
              "    </tr>\n",
              "    <tr>\n",
              "      <th>4</th>\n",
              "      <td>Xdl7t</td>\n",
              "      <td>1.988431</td>\n",
              "      <td>0.155413</td>\n",
              "      <td>4.751769</td>\n",
              "      <td>154.036647</td>\n",
              "    </tr>\n",
              "  </tbody>\n",
              "</table>\n",
              "</div>\n",
              "      <button class=\"colab-df-convert\" onclick=\"convertToInteractive('df-de19bd36-cf64-457a-9c1d-87f020cb9dd8')\"\n",
              "              title=\"Convert this dataframe to an interactive table.\"\n",
              "              style=\"display:none;\">\n",
              "        \n",
              "  <svg xmlns=\"http://www.w3.org/2000/svg\" height=\"24px\"viewBox=\"0 0 24 24\"\n",
              "       width=\"24px\">\n",
              "    <path d=\"M0 0h24v24H0V0z\" fill=\"none\"/>\n",
              "    <path d=\"M18.56 5.44l.94 2.06.94-2.06 2.06-.94-2.06-.94-.94-2.06-.94 2.06-2.06.94zm-11 1L8.5 8.5l.94-2.06 2.06-.94-2.06-.94L8.5 2.5l-.94 2.06-2.06.94zm10 10l.94 2.06.94-2.06 2.06-.94-2.06-.94-.94-2.06-.94 2.06-2.06.94z\"/><path d=\"M17.41 7.96l-1.37-1.37c-.4-.4-.92-.59-1.43-.59-.52 0-1.04.2-1.43.59L10.3 9.45l-7.72 7.72c-.78.78-.78 2.05 0 2.83L4 21.41c.39.39.9.59 1.41.59.51 0 1.02-.2 1.41-.59l7.78-7.78 2.81-2.81c.8-.78.8-2.07 0-2.86zM5.41 20L4 18.59l7.72-7.72 1.47 1.35L5.41 20z\"/>\n",
              "  </svg>\n",
              "      </button>\n",
              "      \n",
              "  <style>\n",
              "    .colab-df-container {\n",
              "      display:flex;\n",
              "      flex-wrap:wrap;\n",
              "      gap: 12px;\n",
              "    }\n",
              "\n",
              "    .colab-df-convert {\n",
              "      background-color: #E8F0FE;\n",
              "      border: none;\n",
              "      border-radius: 50%;\n",
              "      cursor: pointer;\n",
              "      display: none;\n",
              "      fill: #1967D2;\n",
              "      height: 32px;\n",
              "      padding: 0 0 0 0;\n",
              "      width: 32px;\n",
              "    }\n",
              "\n",
              "    .colab-df-convert:hover {\n",
              "      background-color: #E2EBFA;\n",
              "      box-shadow: 0px 1px 2px rgba(60, 64, 67, 0.3), 0px 1px 3px 1px rgba(60, 64, 67, 0.15);\n",
              "      fill: #174EA6;\n",
              "    }\n",
              "\n",
              "    [theme=dark] .colab-df-convert {\n",
              "      background-color: #3B4455;\n",
              "      fill: #D2E3FC;\n",
              "    }\n",
              "\n",
              "    [theme=dark] .colab-df-convert:hover {\n",
              "      background-color: #434B5C;\n",
              "      box-shadow: 0px 1px 3px 1px rgba(0, 0, 0, 0.15);\n",
              "      filter: drop-shadow(0px 1px 2px rgba(0, 0, 0, 0.3));\n",
              "      fill: #FFFFFF;\n",
              "    }\n",
              "  </style>\n",
              "\n",
              "      <script>\n",
              "        const buttonEl =\n",
              "          document.querySelector('#df-de19bd36-cf64-457a-9c1d-87f020cb9dd8 button.colab-df-convert');\n",
              "        buttonEl.style.display =\n",
              "          google.colab.kernel.accessAllowed ? 'block' : 'none';\n",
              "\n",
              "        async function convertToInteractive(key) {\n",
              "          const element = document.querySelector('#df-de19bd36-cf64-457a-9c1d-87f020cb9dd8');\n",
              "          const dataTable =\n",
              "            await google.colab.kernel.invokeFunction('convertToInteractive',\n",
              "                                                     [key], {});\n",
              "          if (!dataTable) return;\n",
              "\n",
              "          const docLinkHtml = 'Like what you see? Visit the ' +\n",
              "            '<a target=\"_blank\" href=https://colab.research.google.com/notebooks/data_table.ipynb>data table notebook</a>'\n",
              "            + ' to learn more about interactive tables.';\n",
              "          element.innerHTML = '';\n",
              "          dataTable['output_type'] = 'display_data';\n",
              "          await google.colab.output.renderOutput(dataTable, element);\n",
              "          const docLink = document.createElement('div');\n",
              "          docLink.innerHTML = docLinkHtml;\n",
              "          element.appendChild(docLink);\n",
              "        }\n",
              "      </script>\n",
              "    </div>\n",
              "  </div>\n",
              "  "
            ]
          },
          "metadata": {}
        },
        {
          "output_type": "stream",
          "name": "stdout",
          "text": [
            "<class 'pandas.core.frame.DataFrame'>\n",
            "RangeIndex: 100000 entries, 0 to 99999\n",
            "Data columns (total 5 columns):\n",
            " #   Column   Non-Null Count   Dtype  \n",
            "---  ------   --------------   -----  \n",
            " 0   id       100000 non-null  object \n",
            " 1   f0       100000 non-null  float64\n",
            " 2   f1       100000 non-null  float64\n",
            " 3   f2       100000 non-null  float64\n",
            " 4   product  100000 non-null  float64\n",
            "dtypes: float64(4), object(1)\n",
            "memory usage: 3.8+ MB\n"
          ]
        },
        {
          "output_type": "display_data",
          "data": {
            "text/plain": [
              "None"
            ]
          },
          "metadata": {}
        },
        {
          "output_type": "display_data",
          "data": {
            "text/plain": [
              "(100000, 5)"
            ]
          },
          "metadata": {}
        },
        {
          "output_type": "display_data",
          "data": {
            "text/plain": [
              "      id         f0         f1        f2     product\n",
              "0  kBEdx -15.001348  -8.276000 -0.005876    3.179103\n",
              "1  62mP7  14.272088  -3.475083  0.999183   26.953261\n",
              "2  vyE1P   6.263187  -5.948386  5.001160  134.766305\n",
              "3  KcrkZ -13.081196 -11.506057  4.999415  137.945408\n",
              "4  AHL4O  12.702195  -8.147433  5.004363  134.766305"
            ],
            "text/html": [
              "\n",
              "  <div id=\"df-5a9b127c-cbab-445f-b7e6-e3f8e5303d3c\">\n",
              "    <div class=\"colab-df-container\">\n",
              "      <div>\n",
              "<style scoped>\n",
              "    .dataframe tbody tr th:only-of-type {\n",
              "        vertical-align: middle;\n",
              "    }\n",
              "\n",
              "    .dataframe tbody tr th {\n",
              "        vertical-align: top;\n",
              "    }\n",
              "\n",
              "    .dataframe thead th {\n",
              "        text-align: right;\n",
              "    }\n",
              "</style>\n",
              "<table border=\"1\" class=\"dataframe\">\n",
              "  <thead>\n",
              "    <tr style=\"text-align: right;\">\n",
              "      <th></th>\n",
              "      <th>id</th>\n",
              "      <th>f0</th>\n",
              "      <th>f1</th>\n",
              "      <th>f2</th>\n",
              "      <th>product</th>\n",
              "    </tr>\n",
              "  </thead>\n",
              "  <tbody>\n",
              "    <tr>\n",
              "      <th>0</th>\n",
              "      <td>kBEdx</td>\n",
              "      <td>-15.001348</td>\n",
              "      <td>-8.276000</td>\n",
              "      <td>-0.005876</td>\n",
              "      <td>3.179103</td>\n",
              "    </tr>\n",
              "    <tr>\n",
              "      <th>1</th>\n",
              "      <td>62mP7</td>\n",
              "      <td>14.272088</td>\n",
              "      <td>-3.475083</td>\n",
              "      <td>0.999183</td>\n",
              "      <td>26.953261</td>\n",
              "    </tr>\n",
              "    <tr>\n",
              "      <th>2</th>\n",
              "      <td>vyE1P</td>\n",
              "      <td>6.263187</td>\n",
              "      <td>-5.948386</td>\n",
              "      <td>5.001160</td>\n",
              "      <td>134.766305</td>\n",
              "    </tr>\n",
              "    <tr>\n",
              "      <th>3</th>\n",
              "      <td>KcrkZ</td>\n",
              "      <td>-13.081196</td>\n",
              "      <td>-11.506057</td>\n",
              "      <td>4.999415</td>\n",
              "      <td>137.945408</td>\n",
              "    </tr>\n",
              "    <tr>\n",
              "      <th>4</th>\n",
              "      <td>AHL4O</td>\n",
              "      <td>12.702195</td>\n",
              "      <td>-8.147433</td>\n",
              "      <td>5.004363</td>\n",
              "      <td>134.766305</td>\n",
              "    </tr>\n",
              "  </tbody>\n",
              "</table>\n",
              "</div>\n",
              "      <button class=\"colab-df-convert\" onclick=\"convertToInteractive('df-5a9b127c-cbab-445f-b7e6-e3f8e5303d3c')\"\n",
              "              title=\"Convert this dataframe to an interactive table.\"\n",
              "              style=\"display:none;\">\n",
              "        \n",
              "  <svg xmlns=\"http://www.w3.org/2000/svg\" height=\"24px\"viewBox=\"0 0 24 24\"\n",
              "       width=\"24px\">\n",
              "    <path d=\"M0 0h24v24H0V0z\" fill=\"none\"/>\n",
              "    <path d=\"M18.56 5.44l.94 2.06.94-2.06 2.06-.94-2.06-.94-.94-2.06-.94 2.06-2.06.94zm-11 1L8.5 8.5l.94-2.06 2.06-.94-2.06-.94L8.5 2.5l-.94 2.06-2.06.94zm10 10l.94 2.06.94-2.06 2.06-.94-2.06-.94-.94-2.06-.94 2.06-2.06.94z\"/><path d=\"M17.41 7.96l-1.37-1.37c-.4-.4-.92-.59-1.43-.59-.52 0-1.04.2-1.43.59L10.3 9.45l-7.72 7.72c-.78.78-.78 2.05 0 2.83L4 21.41c.39.39.9.59 1.41.59.51 0 1.02-.2 1.41-.59l7.78-7.78 2.81-2.81c.8-.78.8-2.07 0-2.86zM5.41 20L4 18.59l7.72-7.72 1.47 1.35L5.41 20z\"/>\n",
              "  </svg>\n",
              "      </button>\n",
              "      \n",
              "  <style>\n",
              "    .colab-df-container {\n",
              "      display:flex;\n",
              "      flex-wrap:wrap;\n",
              "      gap: 12px;\n",
              "    }\n",
              "\n",
              "    .colab-df-convert {\n",
              "      background-color: #E8F0FE;\n",
              "      border: none;\n",
              "      border-radius: 50%;\n",
              "      cursor: pointer;\n",
              "      display: none;\n",
              "      fill: #1967D2;\n",
              "      height: 32px;\n",
              "      padding: 0 0 0 0;\n",
              "      width: 32px;\n",
              "    }\n",
              "\n",
              "    .colab-df-convert:hover {\n",
              "      background-color: #E2EBFA;\n",
              "      box-shadow: 0px 1px 2px rgba(60, 64, 67, 0.3), 0px 1px 3px 1px rgba(60, 64, 67, 0.15);\n",
              "      fill: #174EA6;\n",
              "    }\n",
              "\n",
              "    [theme=dark] .colab-df-convert {\n",
              "      background-color: #3B4455;\n",
              "      fill: #D2E3FC;\n",
              "    }\n",
              "\n",
              "    [theme=dark] .colab-df-convert:hover {\n",
              "      background-color: #434B5C;\n",
              "      box-shadow: 0px 1px 3px 1px rgba(0, 0, 0, 0.15);\n",
              "      filter: drop-shadow(0px 1px 2px rgba(0, 0, 0, 0.3));\n",
              "      fill: #FFFFFF;\n",
              "    }\n",
              "  </style>\n",
              "\n",
              "      <script>\n",
              "        const buttonEl =\n",
              "          document.querySelector('#df-5a9b127c-cbab-445f-b7e6-e3f8e5303d3c button.colab-df-convert');\n",
              "        buttonEl.style.display =\n",
              "          google.colab.kernel.accessAllowed ? 'block' : 'none';\n",
              "\n",
              "        async function convertToInteractive(key) {\n",
              "          const element = document.querySelector('#df-5a9b127c-cbab-445f-b7e6-e3f8e5303d3c');\n",
              "          const dataTable =\n",
              "            await google.colab.kernel.invokeFunction('convertToInteractive',\n",
              "                                                     [key], {});\n",
              "          if (!dataTable) return;\n",
              "\n",
              "          const docLinkHtml = 'Like what you see? Visit the ' +\n",
              "            '<a target=\"_blank\" href=https://colab.research.google.com/notebooks/data_table.ipynb>data table notebook</a>'\n",
              "            + ' to learn more about interactive tables.';\n",
              "          element.innerHTML = '';\n",
              "          dataTable['output_type'] = 'display_data';\n",
              "          await google.colab.output.renderOutput(dataTable, element);\n",
              "          const docLink = document.createElement('div');\n",
              "          docLink.innerHTML = docLinkHtml;\n",
              "          element.appendChild(docLink);\n",
              "        }\n",
              "      </script>\n",
              "    </div>\n",
              "  </div>\n",
              "  "
            ]
          },
          "metadata": {}
        },
        {
          "output_type": "stream",
          "name": "stdout",
          "text": [
            "<class 'pandas.core.frame.DataFrame'>\n",
            "RangeIndex: 100000 entries, 0 to 99999\n",
            "Data columns (total 5 columns):\n",
            " #   Column   Non-Null Count   Dtype  \n",
            "---  ------   --------------   -----  \n",
            " 0   id       100000 non-null  object \n",
            " 1   f0       100000 non-null  float64\n",
            " 2   f1       100000 non-null  float64\n",
            " 3   f2       100000 non-null  float64\n",
            " 4   product  100000 non-null  float64\n",
            "dtypes: float64(4), object(1)\n",
            "memory usage: 3.8+ MB\n"
          ]
        },
        {
          "output_type": "display_data",
          "data": {
            "text/plain": [
              "None"
            ]
          },
          "metadata": {}
        },
        {
          "output_type": "display_data",
          "data": {
            "text/plain": [
              "(100000, 5)"
            ]
          },
          "metadata": {}
        },
        {
          "output_type": "display_data",
          "data": {
            "text/plain": [
              "      id        f0        f1        f2     product\n",
              "0  fwXo0 -1.146987  0.963328 -0.828965   27.758673\n",
              "1  WJtFt  0.262778  0.269839 -2.530187   56.069697\n",
              "2  ovLUW  0.194587  0.289035 -5.586433   62.871910\n",
              "3  q6cA6  2.236060 -0.553760  0.930038  114.572842\n",
              "4  WPMUX -0.515993  1.716266  5.899011  149.600746"
            ],
            "text/html": [
              "\n",
              "  <div id=\"df-d161624a-be17-4950-9505-ff813712ea00\">\n",
              "    <div class=\"colab-df-container\">\n",
              "      <div>\n",
              "<style scoped>\n",
              "    .dataframe tbody tr th:only-of-type {\n",
              "        vertical-align: middle;\n",
              "    }\n",
              "\n",
              "    .dataframe tbody tr th {\n",
              "        vertical-align: top;\n",
              "    }\n",
              "\n",
              "    .dataframe thead th {\n",
              "        text-align: right;\n",
              "    }\n",
              "</style>\n",
              "<table border=\"1\" class=\"dataframe\">\n",
              "  <thead>\n",
              "    <tr style=\"text-align: right;\">\n",
              "      <th></th>\n",
              "      <th>id</th>\n",
              "      <th>f0</th>\n",
              "      <th>f1</th>\n",
              "      <th>f2</th>\n",
              "      <th>product</th>\n",
              "    </tr>\n",
              "  </thead>\n",
              "  <tbody>\n",
              "    <tr>\n",
              "      <th>0</th>\n",
              "      <td>fwXo0</td>\n",
              "      <td>-1.146987</td>\n",
              "      <td>0.963328</td>\n",
              "      <td>-0.828965</td>\n",
              "      <td>27.758673</td>\n",
              "    </tr>\n",
              "    <tr>\n",
              "      <th>1</th>\n",
              "      <td>WJtFt</td>\n",
              "      <td>0.262778</td>\n",
              "      <td>0.269839</td>\n",
              "      <td>-2.530187</td>\n",
              "      <td>56.069697</td>\n",
              "    </tr>\n",
              "    <tr>\n",
              "      <th>2</th>\n",
              "      <td>ovLUW</td>\n",
              "      <td>0.194587</td>\n",
              "      <td>0.289035</td>\n",
              "      <td>-5.586433</td>\n",
              "      <td>62.871910</td>\n",
              "    </tr>\n",
              "    <tr>\n",
              "      <th>3</th>\n",
              "      <td>q6cA6</td>\n",
              "      <td>2.236060</td>\n",
              "      <td>-0.553760</td>\n",
              "      <td>0.930038</td>\n",
              "      <td>114.572842</td>\n",
              "    </tr>\n",
              "    <tr>\n",
              "      <th>4</th>\n",
              "      <td>WPMUX</td>\n",
              "      <td>-0.515993</td>\n",
              "      <td>1.716266</td>\n",
              "      <td>5.899011</td>\n",
              "      <td>149.600746</td>\n",
              "    </tr>\n",
              "  </tbody>\n",
              "</table>\n",
              "</div>\n",
              "      <button class=\"colab-df-convert\" onclick=\"convertToInteractive('df-d161624a-be17-4950-9505-ff813712ea00')\"\n",
              "              title=\"Convert this dataframe to an interactive table.\"\n",
              "              style=\"display:none;\">\n",
              "        \n",
              "  <svg xmlns=\"http://www.w3.org/2000/svg\" height=\"24px\"viewBox=\"0 0 24 24\"\n",
              "       width=\"24px\">\n",
              "    <path d=\"M0 0h24v24H0V0z\" fill=\"none\"/>\n",
              "    <path d=\"M18.56 5.44l.94 2.06.94-2.06 2.06-.94-2.06-.94-.94-2.06-.94 2.06-2.06.94zm-11 1L8.5 8.5l.94-2.06 2.06-.94-2.06-.94L8.5 2.5l-.94 2.06-2.06.94zm10 10l.94 2.06.94-2.06 2.06-.94-2.06-.94-.94-2.06-.94 2.06-2.06.94z\"/><path d=\"M17.41 7.96l-1.37-1.37c-.4-.4-.92-.59-1.43-.59-.52 0-1.04.2-1.43.59L10.3 9.45l-7.72 7.72c-.78.78-.78 2.05 0 2.83L4 21.41c.39.39.9.59 1.41.59.51 0 1.02-.2 1.41-.59l7.78-7.78 2.81-2.81c.8-.78.8-2.07 0-2.86zM5.41 20L4 18.59l7.72-7.72 1.47 1.35L5.41 20z\"/>\n",
              "  </svg>\n",
              "      </button>\n",
              "      \n",
              "  <style>\n",
              "    .colab-df-container {\n",
              "      display:flex;\n",
              "      flex-wrap:wrap;\n",
              "      gap: 12px;\n",
              "    }\n",
              "\n",
              "    .colab-df-convert {\n",
              "      background-color: #E8F0FE;\n",
              "      border: none;\n",
              "      border-radius: 50%;\n",
              "      cursor: pointer;\n",
              "      display: none;\n",
              "      fill: #1967D2;\n",
              "      height: 32px;\n",
              "      padding: 0 0 0 0;\n",
              "      width: 32px;\n",
              "    }\n",
              "\n",
              "    .colab-df-convert:hover {\n",
              "      background-color: #E2EBFA;\n",
              "      box-shadow: 0px 1px 2px rgba(60, 64, 67, 0.3), 0px 1px 3px 1px rgba(60, 64, 67, 0.15);\n",
              "      fill: #174EA6;\n",
              "    }\n",
              "\n",
              "    [theme=dark] .colab-df-convert {\n",
              "      background-color: #3B4455;\n",
              "      fill: #D2E3FC;\n",
              "    }\n",
              "\n",
              "    [theme=dark] .colab-df-convert:hover {\n",
              "      background-color: #434B5C;\n",
              "      box-shadow: 0px 1px 3px 1px rgba(0, 0, 0, 0.15);\n",
              "      filter: drop-shadow(0px 1px 2px rgba(0, 0, 0, 0.3));\n",
              "      fill: #FFFFFF;\n",
              "    }\n",
              "  </style>\n",
              "\n",
              "      <script>\n",
              "        const buttonEl =\n",
              "          document.querySelector('#df-d161624a-be17-4950-9505-ff813712ea00 button.colab-df-convert');\n",
              "        buttonEl.style.display =\n",
              "          google.colab.kernel.accessAllowed ? 'block' : 'none';\n",
              "\n",
              "        async function convertToInteractive(key) {\n",
              "          const element = document.querySelector('#df-d161624a-be17-4950-9505-ff813712ea00');\n",
              "          const dataTable =\n",
              "            await google.colab.kernel.invokeFunction('convertToInteractive',\n",
              "                                                     [key], {});\n",
              "          if (!dataTable) return;\n",
              "\n",
              "          const docLinkHtml = 'Like what you see? Visit the ' +\n",
              "            '<a target=\"_blank\" href=https://colab.research.google.com/notebooks/data_table.ipynb>data table notebook</a>'\n",
              "            + ' to learn more about interactive tables.';\n",
              "          element.innerHTML = '';\n",
              "          dataTable['output_type'] = 'display_data';\n",
              "          await google.colab.output.renderOutput(dataTable, element);\n",
              "          const docLink = document.createElement('div');\n",
              "          docLink.innerHTML = docLinkHtml;\n",
              "          element.appendChild(docLink);\n",
              "        }\n",
              "      </script>\n",
              "    </div>\n",
              "  </div>\n",
              "  "
            ]
          },
          "metadata": {}
        }
      ]
    },
    {
      "cell_type": "markdown",
      "source": [
        "**Schlussfolgerungen**\n",
        "\n",
        "Wir sehen, dass jede Tabelle 100.000 Datensätze ungleich Null enthält und 5 Spalten hat. Das Datenformat in der ID-Spalte ist Objekt und in den anderen Spalten Float64. Die Daten in der id-Spalte stören höchstwahrscheinlich das Training des Modells und haben für uns keine Bedeutung."
      ],
      "metadata": {
        "id": "brenq8Va19ve"
      }
    },
    {
      "cell_type": "markdown",
      "source": [
        "# Datenaufbereitung und Modelltraining"
      ],
      "metadata": {
        "id": "3XbtZTuP2Gre"
      }
    },
    {
      "cell_type": "code",
      "source": [
        "# Wir werden die unnötige Spalte entfernen.\n",
        "geo_data_0 = geo_data_0.drop(['id'] , axis=1)\n",
        "geo_data_1 = geo_data_1.drop(['id'] , axis=1)\n",
        "geo_data_2 = geo_data_2.drop(['id'] , axis=1)"
      ],
      "metadata": {
        "id": "vzFaVAjJ2H8v"
      },
      "execution_count": null,
      "outputs": []
    },
    {
      "cell_type": "markdown",
      "source": [
        "## Region 0"
      ],
      "metadata": {
        "id": "fKFnNZJi7mvF"
      }
    },
    {
      "cell_type": "code",
      "source": [
        "# Wir werden die Zielzeichen und Bedingungen hervorheben\n",
        "target = geo_data_0['product']\n",
        "features = geo_data_0.drop(['product'] , axis=1)\n",
        "\n",
        "# Wir werden die Daten in Stichproben zerlegen.\n",
        "features_train, features_valid, target_train_0, target_valid_0 = train_test_split(\n",
        "    features, target, test_size=0.25, random_state=12345)\n",
        "\n",
        "# Wir prüfen, ob die Daten korrekt verteilt wurden.\n",
        "print('{:.0%}'.format(target_train_0.shape[0]/target.shape[0]))\n",
        "print('{:.0%}'.format(target_valid_0.shape[0]/target.shape[0]))"
      ],
      "metadata": {
        "colab": {
          "base_uri": "https://localhost:8080/"
        },
        "id": "2PZQHU6l2WFu",
        "outputId": "07fd0861-e6c0-4fe1-8364-37f8fe373a45"
      },
      "execution_count": null,
      "outputs": [
        {
          "output_type": "stream",
          "name": "stdout",
          "text": [
            "75%\n",
            "25%\n"
          ]
        }
      ]
    },
    {
      "cell_type": "code",
      "source": [
        "# Wir trainieren das Modell, machen eine Vorhersage, berechnen den rmse, den Durchschnitt der vorhergesagten Daten.\n",
        "model = LinearRegression()\n",
        "model.fit(features_train, target_train_0)\n",
        "predicted_valid_0 = model.predict(features_valid)\n",
        "mean_predict_0 = predicted_valid_0.mean()\n",
        "rmse = (mean_squared_error(target_valid_0, predicted_valid_0)) ** 0.5\n",
        "        \n",
        "print('RMSE des vorhergesagten Rohstoffvolumens:', rmse)\n",
        "print('Durchschnitt des vorhergesagten Rohstoffvolumens:', mean_predict_0)"
      ],
      "metadata": {
        "colab": {
          "base_uri": "https://localhost:8080/"
        },
        "id": "95HHhfMo2fg0",
        "outputId": "b6420968-ec7b-4dde-8edc-cd6e3e00316c"
      },
      "execution_count": null,
      "outputs": [
        {
          "output_type": "stream",
          "name": "stdout",
          "text": [
            "RMSE des vorhergesagten Rohstoffvolumens: 37.5794217150813\n",
            "Durchschnitt des vorhergesagten Rohstoffvolumens: 92.59256778438035\n"
          ]
        }
      ]
    },
    {
      "cell_type": "markdown",
      "source": [
        "## Region 1"
      ],
      "metadata": {
        "id": "m1QvDrd88RIU"
      }
    },
    {
      "cell_type": "code",
      "source": [
        "# Wir werden die Zielzeichen und Bedingungen hervorheben\n",
        "target = geo_data_1['product']\n",
        "features = geo_data_1.drop(['product'] , axis=1)\n",
        "\n",
        "# Wir werden die Daten in Stichproben zerlegen.\n",
        "features_train, features_valid, target_train_1, target_valid_1 = train_test_split(\n",
        "    features, target, test_size=0.25, random_state=12345)\n",
        "\n",
        "# Wir prüfen, ob die Daten korrekt verteilt wurden.\n",
        "print('{:.0%}'.format(target_train_1.shape[0]/target.shape[0]))\n",
        "print('{:.0%}'.format(target_valid_1.shape[0]/target.shape[0]))"
      ],
      "metadata": {
        "colab": {
          "base_uri": "https://localhost:8080/"
        },
        "id": "BHbRcPRL8Eu_",
        "outputId": "3ac09ba5-fe02-41f5-bb8f-312cfe9185e8"
      },
      "execution_count": null,
      "outputs": [
        {
          "output_type": "stream",
          "name": "stdout",
          "text": [
            "75%\n",
            "25%\n"
          ]
        }
      ]
    },
    {
      "cell_type": "code",
      "source": [
        "# Wir trainieren das Modell, machen eine Vorhersage, berechnen den rmse, den Durchschnitt der vorhergesagten Daten.\n",
        "model = LinearRegression()\n",
        "model.fit(features_train, target_train_1)\n",
        "predicted_valid_1 = model.predict(features_valid)\n",
        "mean_predict_1 = predicted_valid_1.mean()\n",
        "rmse = (mean_squared_error(target_valid_1, predicted_valid_1)) ** 0.5\n",
        "        \n",
        "print('RMSE des vorhergesagten Rohstoffvolumens:', rmse)\n",
        "print('Durchschnitt des vorhergesagten Rohstoffvolumens:', mean_predict_1)"
      ],
      "metadata": {
        "colab": {
          "base_uri": "https://localhost:8080/"
        },
        "id": "IuHuDzfX8fuS",
        "outputId": "582fe637-85fc-47ec-bbbf-166e45ea78bb"
      },
      "execution_count": null,
      "outputs": [
        {
          "output_type": "stream",
          "name": "stdout",
          "text": [
            "RMSE des vorhergesagten Rohstoffvolumens: 0.893099286775617\n",
            "Durchschnitt des vorhergesagten Rohstoffvolumens: 68.728546895446\n"
          ]
        }
      ]
    },
    {
      "cell_type": "markdown",
      "source": [
        "## Region 2"
      ],
      "metadata": {
        "id": "kD7a6HUG8t15"
      }
    },
    {
      "cell_type": "code",
      "source": [
        "# Wir werden die Zielzeichen und Bedingungen hervorheben\n",
        "target = geo_data_2['product']\n",
        "features = geo_data_2.drop(['product'] , axis=1)\n",
        "\n",
        "# Wir werden die Daten in Stichproben zerlegen.\n",
        "features_train, features_valid, target_train_2, target_valid_2 = train_test_split(\n",
        "    features, target, test_size=0.25, random_state=12345)\n",
        "\n",
        "# Wir prüfen, ob die Daten korrekt verteilt wurden.\n",
        "print('{:.0%}'.format(target_train_2.shape[0]/target.shape[0]))\n",
        "print('{:.0%}'.format(target_valid_2.shape[0]/target.shape[0]))"
      ],
      "metadata": {
        "colab": {
          "base_uri": "https://localhost:8080/"
        },
        "id": "GSKOQB318o2R",
        "outputId": "dbfe9341-009e-4cf9-bb9d-e2a5e27eba8f"
      },
      "execution_count": null,
      "outputs": [
        {
          "output_type": "stream",
          "name": "stdout",
          "text": [
            "75%\n",
            "25%\n"
          ]
        }
      ]
    },
    {
      "cell_type": "code",
      "source": [
        "# Wir trainieren das Modell, machen eine Vorhersage, berechnen den rmse, den Durchschnitt der vorhergesagten Daten.\n",
        "model = LinearRegression()\n",
        "model.fit(features_train, target_train_2)\n",
        "predicted_valid_2 = model.predict(features_valid)\n",
        "mean_predict_2 = predicted_valid_2.mean()\n",
        "rmse = (mean_squared_error(target_valid_2, predicted_valid_2)) ** 0.5\n",
        "        \n",
        "print('RMSE des vorhergesagten Rohstoffvolumens:', rmse)\n",
        "print('Durchschnitt des vorhergesagten Rohstoffvolumens:', mean_predict_2)"
      ],
      "metadata": {
        "colab": {
          "base_uri": "https://localhost:8080/"
        },
        "id": "fMgqQ8RI84Rw",
        "outputId": "62f3797d-ec7a-404b-d79f-af76bc7bf75e"
      },
      "execution_count": null,
      "outputs": [
        {
          "output_type": "stream",
          "name": "stdout",
          "text": [
            "RMSE des vorhergesagten Rohstoffvolumens: 40.02970873393434\n",
            "Durchschnitt des vorhergesagten Rohstoffvolumens: 94.96504596800489\n"
          ]
        }
      ]
    },
    {
      "cell_type": "markdown",
      "source": [
        "**Folgerungen**\n",
        "\n",
        "Nach der Analyse der erhaltenen Daten sehen wir, dass sich die Situation in den Regionen erheblich unterscheidet. In Region 1 gibt es im Vergleich zu den Regionen 0 und 2 eine signifikante Datenstreuung. Dabei ist der Durchschnitt des vorhergesagten Rohstoffvolumens für Region 1 deutlich niedriger als für die übrigen Regionen."
      ],
      "metadata": {
        "id": "lsr2LMP59V8K"
      }
    },
    {
      "cell_type": "markdown",
      "source": [
        "# Vorbereitung auf die Gewinnberechnung"
      ],
      "metadata": {
        "id": "7aF-ZjtT-xg1"
      }
    },
    {
      "cell_type": "code",
      "source": [
        "# Wir berechnen eine ausreichende Menge an Rohstoffen, um eine neue Bohrung zu entwickeln.\n",
        "one_point_cost = 10000000000 / 200\n",
        "value_min = one_point_cost / 450000\n",
        "print('Ausreichende Rohstoffmenge für die Break-Even-Entwicklung eines neuen Bohrlochs: {:.1f} тыс. барр.'.format(value_min))"
      ],
      "metadata": {
        "colab": {
          "base_uri": "https://localhost:8080/"
        },
        "id": "dIBV0i-K9HvP",
        "outputId": "ac1045cd-e07d-4508-df41-7f494ac0085e"
      },
      "execution_count": null,
      "outputs": [
        {
          "output_type": "stream",
          "name": "stdout",
          "text": [
            "Ausreichende Rohstoffmenge für die Break-Even-Entwicklung eines neuen Bohrlochs: 111.1 тыс. барр.\n"
          ]
        }
      ]
    },
    {
      "cell_type": "code",
      "source": [
        "# Wir vergleichen die resultierenden ausreichenden Rohstoffmengen für die Break-Even-Entwicklung \n",
        "# mit dem durchschnittlichen Bestand in jeder Region.\n",
        "print('{:.1%}'.format(mean_predict_0 / value_min))\n",
        "print('{:.1%}'.format(mean_predict_1 / value_min))\n",
        "print('{:.1%}'.format(mean_predict_2 / value_min))"
      ],
      "metadata": {
        "colab": {
          "base_uri": "https://localhost:8080/"
        },
        "id": "PTeOW1NZ_hKJ",
        "outputId": "dd20f400-8e8f-4b51-8ca6-3e60f6e9d89a"
      },
      "execution_count": null,
      "outputs": [
        {
          "output_type": "stream",
          "name": "stdout",
          "text": [
            "83.3%\n",
            "61.9%\n",
            "85.5%\n"
          ]
        }
      ]
    },
    {
      "cell_type": "markdown",
      "source": [
        "Folgerungen\n",
        "\n",
        "Wir sehen, dass der durchschnittliche Rohstoffvorrat in allen Regionen unter ausreichender Menge an Rohstoffen liegt, um eine neue Bohrung zu entwickeln. Das schlechteste Ergebnis in der Region liegt bei 1: 61,9 Prozent der Genügsamkeit."
      ],
      "metadata": {
        "id": "oQ8c6EPRCDkN"
      }
    },
    {
      "cell_type": "markdown",
      "source": [
        "# Gewinn- und Risikoberechnung"
      ],
      "metadata": {
        "id": "Je1v3CDUCWHu"
      }
    },
    {
      "cell_type": "code",
      "source": [
        "# Wir schreiben eine Funktion, um den Gewinn zu berechnen\n",
        "def revenue(target, probabilities, count):\n",
        "    probs_sorted = probabilities.sort_values(ascending=False)\n",
        "    selected = target[probs_sorted.index][:count]\n",
        "    return 450000 * selected.sum() - 10000000000"
      ],
      "metadata": {
        "id": "DZDE3ASPDbg5"
      },
      "execution_count": null,
      "outputs": []
    },
    {
      "cell_type": "code",
      "source": [
        "# Wir setzen die Indizes in den Zieltabellen zurück und geben das Datenformat der Vorhersageliste in Series an.\n",
        "target_valid_0 = target_valid_0.reset_index(drop=True)\n",
        "predicted_valid_0 = pd.Series(predicted_valid_0)\n",
        "\n",
        "target_valid_1 = target_valid_1.reset_index(drop=True)\n",
        "predicted_valid_1 = pd.Series(predicted_valid_1)\n",
        "\n",
        "target_valid_2 = target_valid_2.reset_index(drop=True)\n",
        "predicted_valid_2 = pd.Series(predicted_valid_2)"
      ],
      "metadata": {
        "id": "ZLyBH-a0CHMt"
      },
      "execution_count": null,
      "outputs": []
    },
    {
      "cell_type": "code",
      "source": [
        "state = np.random.RandomState(42) "
      ],
      "metadata": {
        "id": "FDPg6P_kDOup"
      },
      "execution_count": null,
      "outputs": []
    },
    {
      "cell_type": "markdown",
      "source": [
        "## Region 0"
      ],
      "metadata": {
        "id": "fyM7Bn0WE9MN"
      }
    },
    {
      "cell_type": "code",
      "source": [
        "# Wir berechnen mit Bootstrap den durchschnittlichen Gewinn, die Wahrscheinlichkeit von Verlusten und das Konfidenzintervall von 95%.\n",
        "values = []\n",
        "for i in range(1000):\n",
        "    target_subsample = target_valid_0.sample(500, replace=True, random_state=state)\n",
        "    probs_subsample = predicted_valid_0[target_subsample.index]\n",
        "    values.append(revenue(target_subsample, probs_subsample, 200))\n",
        "\n",
        "values = pd.Series(values)\n",
        "mean = values.mean()\n",
        "confidence_interval = st.t.interval(0.95, len(values)-1, values.mean(), values.sem())\n",
        "\n",
        "print(\"Durchschnittlicher Gewinn: {:.1f} млн. руб.\".format(mean / 1000000))\n",
        "print(\"Wahrscheinlichkeit von Verlusten: {:.1%}\".format(len(values.loc[values < 0]) / len(values)))\n",
        "print(\"95% Konfidenzintervall:\", confidence_interval)"
      ],
      "metadata": {
        "colab": {
          "base_uri": "https://localhost:8080/"
        },
        "id": "CBLuSXRjEqIN",
        "outputId": "4f121ea2-0366-490a-ca5c-9725a0219a48"
      },
      "execution_count": null,
      "outputs": [
        {
          "output_type": "stream",
          "name": "stdout",
          "text": [
            "Durchschnittlicher Gewinn: 408.8 млн. руб.\n",
            "Wahrscheinlichkeit von Verlusten: 6.6%\n",
            "95% Konfidenzintervall: (392159649.2899968, 425520962.867716)\n"
          ]
        }
      ]
    },
    {
      "cell_type": "markdown",
      "source": [
        "## Region 1"
      ],
      "metadata": {
        "id": "8b9T4I5iGw2p"
      }
    },
    {
      "cell_type": "code",
      "source": [
        "values = []\n",
        "for i in range(1000):\n",
        "    target_subsample = target_valid_1.sample(500, replace=True, random_state=state)\n",
        "    probs_subsample = predicted_valid_1[target_subsample.index]\n",
        "    values.append(revenue(target_subsample, probs_subsample, 200))\n",
        " \n",
        "values = pd.Series(values)\n",
        "mean = values.mean()\n",
        "confidence_interval = st.t.interval(0.95, len(values)-1, values.mean(), values.sem())\n",
        "\n",
        "print(\"Durchschnittlicher Gewinn: {:.1f} млн. руб.\".format(mean / 1000000))\n",
        "print(\"Wahrscheinlichkeit von Verlusten: {:.1%}\".format(len(values.loc[values < 0]) / len(values)))\n",
        "print(\"95% Konfidenzintervall:\", confidence_interval)"
      ],
      "metadata": {
        "colab": {
          "base_uri": "https://localhost:8080/"
        },
        "id": "3GbRLcVhGNH4",
        "outputId": "1056467d-9c58-4347-a2cf-df472c3b92f6"
      },
      "execution_count": null,
      "outputs": [
        {
          "output_type": "stream",
          "name": "stdout",
          "text": [
            "Durchschnittlicher Gewinn: 513.3 млн. руб.\n",
            "Wahrscheinlichkeit von Verlusten: 1.6%\n",
            "95% Konfidenzintervall: (499270889.5529853, 527247359.86852205)\n"
          ]
        }
      ]
    },
    {
      "cell_type": "markdown",
      "source": [
        "## Region 2"
      ],
      "metadata": {
        "id": "KLMheapEG91c"
      }
    },
    {
      "cell_type": "code",
      "source": [
        "values = []\n",
        "for i in range(1000):\n",
        "    target_subsample = target_valid_2.sample(500, replace=True, random_state=state)\n",
        "    probs_subsample = predicted_valid_2[target_subsample.index]\n",
        "    values.append(revenue(target_subsample, probs_subsample, 200))\n",
        " \n",
        "values = pd.Series(values)\n",
        "mean = values.mean()\n",
        "confidence_interval = st.t.interval(0.95, len(values)-1, values.mean(), values.sem())\n",
        "\n",
        "print(\"Durchschnittlicher Gewinn: {:.1f} млн. руб.\".format(mean / 1000000))\n",
        "print(\"Wahrscheinlichkeit von Verlusten: {:.1%}\".format(len(values.loc[values < 0]) / len(values)))\n",
        "print(\"95% Konfidenzintervall:\", confidence_interval)"
      ],
      "metadata": {
        "colab": {
          "base_uri": "https://localhost:8080/"
        },
        "id": "XOQPQPIKG52Q",
        "outputId": "d07a3567-ef87-412f-ad15-3138dbb463bd"
      },
      "execution_count": null,
      "outputs": [
        {
          "output_type": "stream",
          "name": "stdout",
          "text": [
            "Durchschnittlicher Gewinn: 439.4 млн. руб.\n",
            "Wahrscheinlichkeit von Verlusten: 5.3%\n",
            "95% Konfidenzintervall: (422258996.4553227, 456502767.2918152)\n"
          ]
        }
      ]
    },
    {
      "cell_type": "markdown",
      "source": [
        "# Allgemeine Schlussfolgerung"
      ],
      "metadata": {
        "id": "a-5wbSWaHQmF"
      }
    },
    {
      "cell_type": "markdown",
      "source": [
        "Für die Entwicklung von Bohrlöchern schlagen wir vor, die Region 1 zu wählen. In dieser Region ist die kleinste der drei Regionen der durchschnittliche Rohstoffvorrat. Das Ziel jedes Unternehmens ist jedoch die Gewinnmaximierung. In Region 1 können wir den maximalen Gewinn erzielen, und das Verlustrisiko ist minimal und entspricht der Aufgabenbedingung."
      ],
      "metadata": {
        "id": "jpLZKFInHqCk"
      }
    }
  ]
}