{
  "nbformat": 4,
  "nbformat_minor": 0,
  "metadata": {
    "colab": {
      "provenance": [],
      "authorship_tag": "ABX9TyPLPHyQwbaUG54/ODn6pTcU",
      "include_colab_link": true
    },
    "kernelspec": {
      "name": "python3",
      "display_name": "Python 3"
    },
    "language_info": {
      "name": "python"
    }
  },
  "cells": [
    {
      "cell_type": "markdown",
      "metadata": {
        "id": "view-in-github",
        "colab_type": "text"
      },
      "source": [
        "<a href=\"https://colab.research.google.com/github/Konstantin5054232/ausbildungsprojekte/blob/main/05_computerspielen_verkaufen/computerspielen_verkaufen.ipynb\" target=\"_parent\"><img src=\"https://colab.research.google.com/assets/colab-badge.svg\" alt=\"Open In Colab\"/></a>"
      ]
    },
    {
      "cell_type": "markdown",
      "source": [
        "# Marktforschung für Computerspiele"
      ],
      "metadata": {
        "id": "b8w9KsNeUAC0"
      }
    },
    {
      "cell_type": "markdown",
      "source": [
        "Aus offenen Quellen haben wir Zugriff auf historische Daten zu Spieleverkäufen, Benutzer- und Expertenbewertungen, Genres und Plattformen (z. B. Xbox oder PlayStation). Wir müssen Muster identifizieren, die den Erfolg des Spiels bestimmen. Dies ermöglicht es uns, auf ein potenziell beliebtes Produkt zu bieten und Werbekampagnen zu planen."
      ],
      "metadata": {
        "id": "Ozo6lQj-TJYh"
      }
    },
    {
      "cell_type": "markdown",
      "source": [
        "## Datenexploration"
      ],
      "metadata": {
        "id": "_zmbtIF8Wd80"
      }
    },
    {
      "cell_type": "code",
      "source": [
        "# Wir importieren die notwendigen Bibliotheken\n",
        "import pandas as pd\n",
        "import numpy as np\n",
        "import matplotlib.pyplot as plt\n",
        "from scipy import stats as st"
      ],
      "metadata": {
        "id": "bAKdCFMATKWQ"
      },
      "execution_count": 6,
      "outputs": []
    },
    {
      "cell_type": "code",
      "source": [
        "# Wir laden Tabellen mit Daten\n",
        "data = pd.read_csv('/content/games.csv')"
      ],
      "metadata": {
        "id": "c1dZqfZPTOIF"
      },
      "execution_count": 7,
      "outputs": []
    },
    {
      "cell_type": "code",
      "source": [
        "# Wir werden die erhaltenen Daten studieren\n",
        "display(data.info())\n",
        "display(data.shape)\n",
        "display(data.head())\n",
        "display(data.tail())"
      ],
      "metadata": {
        "colab": {
          "base_uri": "https://localhost:8080/",
          "height": 804
        },
        "id": "10IualV6TYUe",
        "outputId": "991c590c-8edc-4253-8445-9618b8e24190"
      },
      "execution_count": 9,
      "outputs": [
        {
          "output_type": "stream",
          "name": "stdout",
          "text": [
            "<class 'pandas.core.frame.DataFrame'>\n",
            "RangeIndex: 16715 entries, 0 to 16714\n",
            "Data columns (total 11 columns):\n",
            " #   Column           Non-Null Count  Dtype  \n",
            "---  ------           --------------  -----  \n",
            " 0   Name             16713 non-null  object \n",
            " 1   Platform         16715 non-null  object \n",
            " 2   Year_of_Release  16446 non-null  float64\n",
            " 3   Genre            16713 non-null  object \n",
            " 4   NA_sales         16715 non-null  float64\n",
            " 5   EU_sales         16715 non-null  float64\n",
            " 6   JP_sales         16715 non-null  float64\n",
            " 7   Other_sales      16715 non-null  float64\n",
            " 8   Critic_Score     8137 non-null   float64\n",
            " 9   User_Score       10014 non-null  object \n",
            " 10  Rating           9949 non-null   object \n",
            "dtypes: float64(6), object(5)\n",
            "memory usage: 1.4+ MB\n"
          ]
        },
        {
          "output_type": "display_data",
          "data": {
            "text/plain": [
              "None"
            ]
          },
          "metadata": {}
        },
        {
          "output_type": "display_data",
          "data": {
            "text/plain": [
              "(16715, 11)"
            ]
          },
          "metadata": {}
        },
        {
          "output_type": "display_data",
          "data": {
            "text/plain": [
              "                       Name Platform  Year_of_Release         Genre  NA_sales  \\\n",
              "0                Wii Sports      Wii           2006.0        Sports     41.36   \n",
              "1         Super Mario Bros.      NES           1985.0      Platform     29.08   \n",
              "2            Mario Kart Wii      Wii           2008.0        Racing     15.68   \n",
              "3         Wii Sports Resort      Wii           2009.0        Sports     15.61   \n",
              "4  Pokemon Red/Pokemon Blue       GB           1996.0  Role-Playing     11.27   \n",
              "\n",
              "   EU_sales  JP_sales  Other_sales  Critic_Score User_Score Rating  \n",
              "0     28.96      3.77         8.45          76.0          8      E  \n",
              "1      3.58      6.81         0.77           NaN        NaN    NaN  \n",
              "2     12.76      3.79         3.29          82.0        8.3      E  \n",
              "3     10.93      3.28         2.95          80.0          8      E  \n",
              "4      8.89     10.22         1.00           NaN        NaN    NaN  "
            ],
            "text/html": [
              "\n",
              "  <div id=\"df-4f836101-9904-4c0d-9d86-4eea528bd196\">\n",
              "    <div class=\"colab-df-container\">\n",
              "      <div>\n",
              "<style scoped>\n",
              "    .dataframe tbody tr th:only-of-type {\n",
              "        vertical-align: middle;\n",
              "    }\n",
              "\n",
              "    .dataframe tbody tr th {\n",
              "        vertical-align: top;\n",
              "    }\n",
              "\n",
              "    .dataframe thead th {\n",
              "        text-align: right;\n",
              "    }\n",
              "</style>\n",
              "<table border=\"1\" class=\"dataframe\">\n",
              "  <thead>\n",
              "    <tr style=\"text-align: right;\">\n",
              "      <th></th>\n",
              "      <th>Name</th>\n",
              "      <th>Platform</th>\n",
              "      <th>Year_of_Release</th>\n",
              "      <th>Genre</th>\n",
              "      <th>NA_sales</th>\n",
              "      <th>EU_sales</th>\n",
              "      <th>JP_sales</th>\n",
              "      <th>Other_sales</th>\n",
              "      <th>Critic_Score</th>\n",
              "      <th>User_Score</th>\n",
              "      <th>Rating</th>\n",
              "    </tr>\n",
              "  </thead>\n",
              "  <tbody>\n",
              "    <tr>\n",
              "      <th>0</th>\n",
              "      <td>Wii Sports</td>\n",
              "      <td>Wii</td>\n",
              "      <td>2006.0</td>\n",
              "      <td>Sports</td>\n",
              "      <td>41.36</td>\n",
              "      <td>28.96</td>\n",
              "      <td>3.77</td>\n",
              "      <td>8.45</td>\n",
              "      <td>76.0</td>\n",
              "      <td>8</td>\n",
              "      <td>E</td>\n",
              "    </tr>\n",
              "    <tr>\n",
              "      <th>1</th>\n",
              "      <td>Super Mario Bros.</td>\n",
              "      <td>NES</td>\n",
              "      <td>1985.0</td>\n",
              "      <td>Platform</td>\n",
              "      <td>29.08</td>\n",
              "      <td>3.58</td>\n",
              "      <td>6.81</td>\n",
              "      <td>0.77</td>\n",
              "      <td>NaN</td>\n",
              "      <td>NaN</td>\n",
              "      <td>NaN</td>\n",
              "    </tr>\n",
              "    <tr>\n",
              "      <th>2</th>\n",
              "      <td>Mario Kart Wii</td>\n",
              "      <td>Wii</td>\n",
              "      <td>2008.0</td>\n",
              "      <td>Racing</td>\n",
              "      <td>15.68</td>\n",
              "      <td>12.76</td>\n",
              "      <td>3.79</td>\n",
              "      <td>3.29</td>\n",
              "      <td>82.0</td>\n",
              "      <td>8.3</td>\n",
              "      <td>E</td>\n",
              "    </tr>\n",
              "    <tr>\n",
              "      <th>3</th>\n",
              "      <td>Wii Sports Resort</td>\n",
              "      <td>Wii</td>\n",
              "      <td>2009.0</td>\n",
              "      <td>Sports</td>\n",
              "      <td>15.61</td>\n",
              "      <td>10.93</td>\n",
              "      <td>3.28</td>\n",
              "      <td>2.95</td>\n",
              "      <td>80.0</td>\n",
              "      <td>8</td>\n",
              "      <td>E</td>\n",
              "    </tr>\n",
              "    <tr>\n",
              "      <th>4</th>\n",
              "      <td>Pokemon Red/Pokemon Blue</td>\n",
              "      <td>GB</td>\n",
              "      <td>1996.0</td>\n",
              "      <td>Role-Playing</td>\n",
              "      <td>11.27</td>\n",
              "      <td>8.89</td>\n",
              "      <td>10.22</td>\n",
              "      <td>1.00</td>\n",
              "      <td>NaN</td>\n",
              "      <td>NaN</td>\n",
              "      <td>NaN</td>\n",
              "    </tr>\n",
              "  </tbody>\n",
              "</table>\n",
              "</div>\n",
              "      <button class=\"colab-df-convert\" onclick=\"convertToInteractive('df-4f836101-9904-4c0d-9d86-4eea528bd196')\"\n",
              "              title=\"Convert this dataframe to an interactive table.\"\n",
              "              style=\"display:none;\">\n",
              "        \n",
              "  <svg xmlns=\"http://www.w3.org/2000/svg\" height=\"24px\"viewBox=\"0 0 24 24\"\n",
              "       width=\"24px\">\n",
              "    <path d=\"M0 0h24v24H0V0z\" fill=\"none\"/>\n",
              "    <path d=\"M18.56 5.44l.94 2.06.94-2.06 2.06-.94-2.06-.94-.94-2.06-.94 2.06-2.06.94zm-11 1L8.5 8.5l.94-2.06 2.06-.94-2.06-.94L8.5 2.5l-.94 2.06-2.06.94zm10 10l.94 2.06.94-2.06 2.06-.94-2.06-.94-.94-2.06-.94 2.06-2.06.94z\"/><path d=\"M17.41 7.96l-1.37-1.37c-.4-.4-.92-.59-1.43-.59-.52 0-1.04.2-1.43.59L10.3 9.45l-7.72 7.72c-.78.78-.78 2.05 0 2.83L4 21.41c.39.39.9.59 1.41.59.51 0 1.02-.2 1.41-.59l7.78-7.78 2.81-2.81c.8-.78.8-2.07 0-2.86zM5.41 20L4 18.59l7.72-7.72 1.47 1.35L5.41 20z\"/>\n",
              "  </svg>\n",
              "      </button>\n",
              "      \n",
              "  <style>\n",
              "    .colab-df-container {\n",
              "      display:flex;\n",
              "      flex-wrap:wrap;\n",
              "      gap: 12px;\n",
              "    }\n",
              "\n",
              "    .colab-df-convert {\n",
              "      background-color: #E8F0FE;\n",
              "      border: none;\n",
              "      border-radius: 50%;\n",
              "      cursor: pointer;\n",
              "      display: none;\n",
              "      fill: #1967D2;\n",
              "      height: 32px;\n",
              "      padding: 0 0 0 0;\n",
              "      width: 32px;\n",
              "    }\n",
              "\n",
              "    .colab-df-convert:hover {\n",
              "      background-color: #E2EBFA;\n",
              "      box-shadow: 0px 1px 2px rgba(60, 64, 67, 0.3), 0px 1px 3px 1px rgba(60, 64, 67, 0.15);\n",
              "      fill: #174EA6;\n",
              "    }\n",
              "\n",
              "    [theme=dark] .colab-df-convert {\n",
              "      background-color: #3B4455;\n",
              "      fill: #D2E3FC;\n",
              "    }\n",
              "\n",
              "    [theme=dark] .colab-df-convert:hover {\n",
              "      background-color: #434B5C;\n",
              "      box-shadow: 0px 1px 3px 1px rgba(0, 0, 0, 0.15);\n",
              "      filter: drop-shadow(0px 1px 2px rgba(0, 0, 0, 0.3));\n",
              "      fill: #FFFFFF;\n",
              "    }\n",
              "  </style>\n",
              "\n",
              "      <script>\n",
              "        const buttonEl =\n",
              "          document.querySelector('#df-4f836101-9904-4c0d-9d86-4eea528bd196 button.colab-df-convert');\n",
              "        buttonEl.style.display =\n",
              "          google.colab.kernel.accessAllowed ? 'block' : 'none';\n",
              "\n",
              "        async function convertToInteractive(key) {\n",
              "          const element = document.querySelector('#df-4f836101-9904-4c0d-9d86-4eea528bd196');\n",
              "          const dataTable =\n",
              "            await google.colab.kernel.invokeFunction('convertToInteractive',\n",
              "                                                     [key], {});\n",
              "          if (!dataTable) return;\n",
              "\n",
              "          const docLinkHtml = 'Like what you see? Visit the ' +\n",
              "            '<a target=\"_blank\" href=https://colab.research.google.com/notebooks/data_table.ipynb>data table notebook</a>'\n",
              "            + ' to learn more about interactive tables.';\n",
              "          element.innerHTML = '';\n",
              "          dataTable['output_type'] = 'display_data';\n",
              "          await google.colab.output.renderOutput(dataTable, element);\n",
              "          const docLink = document.createElement('div');\n",
              "          docLink.innerHTML = docLinkHtml;\n",
              "          element.appendChild(docLink);\n",
              "        }\n",
              "      </script>\n",
              "    </div>\n",
              "  </div>\n",
              "  "
            ]
          },
          "metadata": {}
        },
        {
          "output_type": "display_data",
          "data": {
            "text/plain": [
              "                                Name Platform  Year_of_Release       Genre  \\\n",
              "16710  Samurai Warriors: Sanada Maru      PS3           2016.0      Action   \n",
              "16711               LMA Manager 2007     X360           2006.0      Sports   \n",
              "16712        Haitaka no Psychedelica      PSV           2016.0   Adventure   \n",
              "16713               Spirits & Spells      GBA           2003.0    Platform   \n",
              "16714            Winning Post 8 2016      PSV           2016.0  Simulation   \n",
              "\n",
              "       NA_sales  EU_sales  JP_sales  Other_sales  Critic_Score User_Score  \\\n",
              "16710      0.00      0.00      0.01          0.0           NaN        NaN   \n",
              "16711      0.00      0.01      0.00          0.0           NaN        NaN   \n",
              "16712      0.00      0.00      0.01          0.0           NaN        NaN   \n",
              "16713      0.01      0.00      0.00          0.0           NaN        NaN   \n",
              "16714      0.00      0.00      0.01          0.0           NaN        NaN   \n",
              "\n",
              "      Rating  \n",
              "16710    NaN  \n",
              "16711    NaN  \n",
              "16712    NaN  \n",
              "16713    NaN  \n",
              "16714    NaN  "
            ],
            "text/html": [
              "\n",
              "  <div id=\"df-a4f33b10-19fc-4f1b-9c9f-ba47cc802ff1\">\n",
              "    <div class=\"colab-df-container\">\n",
              "      <div>\n",
              "<style scoped>\n",
              "    .dataframe tbody tr th:only-of-type {\n",
              "        vertical-align: middle;\n",
              "    }\n",
              "\n",
              "    .dataframe tbody tr th {\n",
              "        vertical-align: top;\n",
              "    }\n",
              "\n",
              "    .dataframe thead th {\n",
              "        text-align: right;\n",
              "    }\n",
              "</style>\n",
              "<table border=\"1\" class=\"dataframe\">\n",
              "  <thead>\n",
              "    <tr style=\"text-align: right;\">\n",
              "      <th></th>\n",
              "      <th>Name</th>\n",
              "      <th>Platform</th>\n",
              "      <th>Year_of_Release</th>\n",
              "      <th>Genre</th>\n",
              "      <th>NA_sales</th>\n",
              "      <th>EU_sales</th>\n",
              "      <th>JP_sales</th>\n",
              "      <th>Other_sales</th>\n",
              "      <th>Critic_Score</th>\n",
              "      <th>User_Score</th>\n",
              "      <th>Rating</th>\n",
              "    </tr>\n",
              "  </thead>\n",
              "  <tbody>\n",
              "    <tr>\n",
              "      <th>16710</th>\n",
              "      <td>Samurai Warriors: Sanada Maru</td>\n",
              "      <td>PS3</td>\n",
              "      <td>2016.0</td>\n",
              "      <td>Action</td>\n",
              "      <td>0.00</td>\n",
              "      <td>0.00</td>\n",
              "      <td>0.01</td>\n",
              "      <td>0.0</td>\n",
              "      <td>NaN</td>\n",
              "      <td>NaN</td>\n",
              "      <td>NaN</td>\n",
              "    </tr>\n",
              "    <tr>\n",
              "      <th>16711</th>\n",
              "      <td>LMA Manager 2007</td>\n",
              "      <td>X360</td>\n",
              "      <td>2006.0</td>\n",
              "      <td>Sports</td>\n",
              "      <td>0.00</td>\n",
              "      <td>0.01</td>\n",
              "      <td>0.00</td>\n",
              "      <td>0.0</td>\n",
              "      <td>NaN</td>\n",
              "      <td>NaN</td>\n",
              "      <td>NaN</td>\n",
              "    </tr>\n",
              "    <tr>\n",
              "      <th>16712</th>\n",
              "      <td>Haitaka no Psychedelica</td>\n",
              "      <td>PSV</td>\n",
              "      <td>2016.0</td>\n",
              "      <td>Adventure</td>\n",
              "      <td>0.00</td>\n",
              "      <td>0.00</td>\n",
              "      <td>0.01</td>\n",
              "      <td>0.0</td>\n",
              "      <td>NaN</td>\n",
              "      <td>NaN</td>\n",
              "      <td>NaN</td>\n",
              "    </tr>\n",
              "    <tr>\n",
              "      <th>16713</th>\n",
              "      <td>Spirits &amp; Spells</td>\n",
              "      <td>GBA</td>\n",
              "      <td>2003.0</td>\n",
              "      <td>Platform</td>\n",
              "      <td>0.01</td>\n",
              "      <td>0.00</td>\n",
              "      <td>0.00</td>\n",
              "      <td>0.0</td>\n",
              "      <td>NaN</td>\n",
              "      <td>NaN</td>\n",
              "      <td>NaN</td>\n",
              "    </tr>\n",
              "    <tr>\n",
              "      <th>16714</th>\n",
              "      <td>Winning Post 8 2016</td>\n",
              "      <td>PSV</td>\n",
              "      <td>2016.0</td>\n",
              "      <td>Simulation</td>\n",
              "      <td>0.00</td>\n",
              "      <td>0.00</td>\n",
              "      <td>0.01</td>\n",
              "      <td>0.0</td>\n",
              "      <td>NaN</td>\n",
              "      <td>NaN</td>\n",
              "      <td>NaN</td>\n",
              "    </tr>\n",
              "  </tbody>\n",
              "</table>\n",
              "</div>\n",
              "      <button class=\"colab-df-convert\" onclick=\"convertToInteractive('df-a4f33b10-19fc-4f1b-9c9f-ba47cc802ff1')\"\n",
              "              title=\"Convert this dataframe to an interactive table.\"\n",
              "              style=\"display:none;\">\n",
              "        \n",
              "  <svg xmlns=\"http://www.w3.org/2000/svg\" height=\"24px\"viewBox=\"0 0 24 24\"\n",
              "       width=\"24px\">\n",
              "    <path d=\"M0 0h24v24H0V0z\" fill=\"none\"/>\n",
              "    <path d=\"M18.56 5.44l.94 2.06.94-2.06 2.06-.94-2.06-.94-.94-2.06-.94 2.06-2.06.94zm-11 1L8.5 8.5l.94-2.06 2.06-.94-2.06-.94L8.5 2.5l-.94 2.06-2.06.94zm10 10l.94 2.06.94-2.06 2.06-.94-2.06-.94-.94-2.06-.94 2.06-2.06.94z\"/><path d=\"M17.41 7.96l-1.37-1.37c-.4-.4-.92-.59-1.43-.59-.52 0-1.04.2-1.43.59L10.3 9.45l-7.72 7.72c-.78.78-.78 2.05 0 2.83L4 21.41c.39.39.9.59 1.41.59.51 0 1.02-.2 1.41-.59l7.78-7.78 2.81-2.81c.8-.78.8-2.07 0-2.86zM5.41 20L4 18.59l7.72-7.72 1.47 1.35L5.41 20z\"/>\n",
              "  </svg>\n",
              "      </button>\n",
              "      \n",
              "  <style>\n",
              "    .colab-df-container {\n",
              "      display:flex;\n",
              "      flex-wrap:wrap;\n",
              "      gap: 12px;\n",
              "    }\n",
              "\n",
              "    .colab-df-convert {\n",
              "      background-color: #E8F0FE;\n",
              "      border: none;\n",
              "      border-radius: 50%;\n",
              "      cursor: pointer;\n",
              "      display: none;\n",
              "      fill: #1967D2;\n",
              "      height: 32px;\n",
              "      padding: 0 0 0 0;\n",
              "      width: 32px;\n",
              "    }\n",
              "\n",
              "    .colab-df-convert:hover {\n",
              "      background-color: #E2EBFA;\n",
              "      box-shadow: 0px 1px 2px rgba(60, 64, 67, 0.3), 0px 1px 3px 1px rgba(60, 64, 67, 0.15);\n",
              "      fill: #174EA6;\n",
              "    }\n",
              "\n",
              "    [theme=dark] .colab-df-convert {\n",
              "      background-color: #3B4455;\n",
              "      fill: #D2E3FC;\n",
              "    }\n",
              "\n",
              "    [theme=dark] .colab-df-convert:hover {\n",
              "      background-color: #434B5C;\n",
              "      box-shadow: 0px 1px 3px 1px rgba(0, 0, 0, 0.15);\n",
              "      filter: drop-shadow(0px 1px 2px rgba(0, 0, 0, 0.3));\n",
              "      fill: #FFFFFF;\n",
              "    }\n",
              "  </style>\n",
              "\n",
              "      <script>\n",
              "        const buttonEl =\n",
              "          document.querySelector('#df-a4f33b10-19fc-4f1b-9c9f-ba47cc802ff1 button.colab-df-convert');\n",
              "        buttonEl.style.display =\n",
              "          google.colab.kernel.accessAllowed ? 'block' : 'none';\n",
              "\n",
              "        async function convertToInteractive(key) {\n",
              "          const element = document.querySelector('#df-a4f33b10-19fc-4f1b-9c9f-ba47cc802ff1');\n",
              "          const dataTable =\n",
              "            await google.colab.kernel.invokeFunction('convertToInteractive',\n",
              "                                                     [key], {});\n",
              "          if (!dataTable) return;\n",
              "\n",
              "          const docLinkHtml = 'Like what you see? Visit the ' +\n",
              "            '<a target=\"_blank\" href=https://colab.research.google.com/notebooks/data_table.ipynb>data table notebook</a>'\n",
              "            + ' to learn more about interactive tables.';\n",
              "          element.innerHTML = '';\n",
              "          dataTable['output_type'] = 'display_data';\n",
              "          await google.colab.output.renderOutput(dataTable, element);\n",
              "          const docLink = document.createElement('div');\n",
              "          docLink.innerHTML = docLinkHtml;\n",
              "          element.appendChild(docLink);\n",
              "        }\n",
              "      </script>\n",
              "    </div>\n",
              "  </div>\n",
              "  "
            ]
          },
          "metadata": {}
        }
      ]
    },
    {
      "cell_type": "code",
      "source": [
        "df.info()"
      ],
      "metadata": {
        "colab": {
          "base_uri": "https://localhost:8080/"
        },
        "id": "Y1zwJ3_HTbC7",
        "outputId": "5e1903f7-0ce7-464a-9b27-82fcac5a09a6"
      },
      "execution_count": 5,
      "outputs": [
        {
          "output_type": "stream",
          "name": "stdout",
          "text": [
            "<class 'pandas.core.frame.DataFrame'>\n",
            "RangeIndex: 16715 entries, 0 to 16714\n",
            "Data columns (total 11 columns):\n",
            " #   Column           Non-Null Count  Dtype  \n",
            "---  ------           --------------  -----  \n",
            " 0   Name             16713 non-null  object \n",
            " 1   Platform         16715 non-null  object \n",
            " 2   Year_of_Release  16446 non-null  float64\n",
            " 3   Genre            16713 non-null  object \n",
            " 4   NA_sales         16715 non-null  float64\n",
            " 5   EU_sales         16715 non-null  float64\n",
            " 6   JP_sales         16715 non-null  float64\n",
            " 7   Other_sales      16715 non-null  float64\n",
            " 8   Critic_Score     8137 non-null   float64\n",
            " 9   User_Score       10014 non-null  object \n",
            " 10  Rating           9949 non-null   object \n",
            "dtypes: float64(6), object(5)\n",
            "memory usage: 1.4+ MB\n"
          ]
        }
      ]
    },
    {
      "cell_type": "code",
      "source": [
        "# Wir werden sehen, welche Werte und in welcher Menge in den einzelnen Spalten der Tabelle stehen.\n",
        "for column in data.columns:\n",
        "    display(data[column].value_counts())"
      ],
      "metadata": {
        "colab": {
          "base_uri": "https://localhost:8080/",
          "height": 1000
        },
        "id": "4oGcot8FTfNK",
        "outputId": "3f10a1b8-0df5-43cc-fb89-c485606249c4"
      },
      "execution_count": 10,
      "outputs": [
        {
          "output_type": "display_data",
          "data": {
            "text/plain": [
              "Need for Speed: Most Wanted                         12\n",
              "Ratatouille                                          9\n",
              "LEGO Marvel Super Heroes                             9\n",
              "FIFA 14                                              9\n",
              "Madden NFL 07                                        9\n",
              "                                                    ..\n",
              "Jewels of the Tropical Lost Island                   1\n",
              "Sherlock Holmes and the Mystery of Osborne House     1\n",
              "The King of Fighters '95 (CD)                        1\n",
              "Megamind: Mega Team Unite                            1\n",
              "Haitaka no Psychedelica                              1\n",
              "Name: Name, Length: 11559, dtype: int64"
            ]
          },
          "metadata": {}
        },
        {
          "output_type": "display_data",
          "data": {
            "text/plain": [
              "PS2     2161\n",
              "DS      2151\n",
              "PS3     1331\n",
              "Wii     1320\n",
              "X360    1262\n",
              "PSP     1209\n",
              "PS      1197\n",
              "PC       974\n",
              "XB       824\n",
              "GBA      822\n",
              "GC       556\n",
              "3DS      520\n",
              "PSV      430\n",
              "PS4      392\n",
              "N64      319\n",
              "XOne     247\n",
              "SNES     239\n",
              "SAT      173\n",
              "WiiU     147\n",
              "2600     133\n",
              "NES       98\n",
              "GB        98\n",
              "DC        52\n",
              "GEN       29\n",
              "NG        12\n",
              "SCD        6\n",
              "WS         6\n",
              "3DO        3\n",
              "TG16       2\n",
              "GG         1\n",
              "PCFX       1\n",
              "Name: Platform, dtype: int64"
            ]
          },
          "metadata": {}
        },
        {
          "output_type": "display_data",
          "data": {
            "text/plain": [
              "2008.0    1427\n",
              "2009.0    1426\n",
              "2010.0    1255\n",
              "2007.0    1197\n",
              "2011.0    1136\n",
              "2006.0    1006\n",
              "2005.0     939\n",
              "2002.0     829\n",
              "2003.0     775\n",
              "2004.0     762\n",
              "2012.0     653\n",
              "2015.0     606\n",
              "2014.0     581\n",
              "2013.0     544\n",
              "2016.0     502\n",
              "2001.0     482\n",
              "1998.0     379\n",
              "2000.0     350\n",
              "1999.0     338\n",
              "1997.0     289\n",
              "1996.0     263\n",
              "1995.0     219\n",
              "1994.0     121\n",
              "1993.0      62\n",
              "1981.0      46\n",
              "1992.0      43\n",
              "1991.0      41\n",
              "1982.0      36\n",
              "1986.0      21\n",
              "1989.0      17\n",
              "1983.0      17\n",
              "1990.0      16\n",
              "1987.0      16\n",
              "1988.0      15\n",
              "1985.0      14\n",
              "1984.0      14\n",
              "1980.0       9\n",
              "Name: Year_of_Release, dtype: int64"
            ]
          },
          "metadata": {}
        },
        {
          "output_type": "display_data",
          "data": {
            "text/plain": [
              "Action          3369\n",
              "Sports          2348\n",
              "Misc            1750\n",
              "Role-Playing    1498\n",
              "Shooter         1323\n",
              "Adventure       1303\n",
              "Racing          1249\n",
              "Platform         888\n",
              "Simulation       873\n",
              "Fighting         849\n",
              "Strategy         683\n",
              "Puzzle           580\n",
              "Name: Genre, dtype: int64"
            ]
          },
          "metadata": {}
        },
        {
          "output_type": "display_data",
          "data": {
            "text/plain": [
              "0.00     4508\n",
              "0.02      576\n",
              "0.03      561\n",
              "0.04      549\n",
              "0.01      545\n",
              "         ... \n",
              "3.68        1\n",
              "2.98        1\n",
              "2.61        1\n",
              "3.04        1\n",
              "41.36       1\n",
              "Name: NA_sales, Length: 402, dtype: int64"
            ]
          },
          "metadata": {}
        },
        {
          "output_type": "display_data",
          "data": {
            "text/plain": [
              "0.00     5870\n",
              "0.01     1494\n",
              "0.02     1308\n",
              "0.03      926\n",
              "0.04      709\n",
              "         ... \n",
              "1.87        1\n",
              "1.75        1\n",
              "1.44        1\n",
              "1.60        1\n",
              "28.96       1\n",
              "Name: EU_sales, Length: 307, dtype: int64"
            ]
          },
          "metadata": {}
        },
        {
          "output_type": "display_data",
          "data": {
            "text/plain": [
              "0.00    10514\n",
              "0.02      741\n",
              "0.01      706\n",
              "0.03      546\n",
              "0.04      397\n",
              "        ...  \n",
              "3.14        1\n",
              "2.73        1\n",
              "3.18        1\n",
              "3.63        1\n",
              "0.97        1\n",
              "Name: JP_sales, Length: 244, dtype: int64"
            ]
          },
          "metadata": {}
        },
        {
          "output_type": "display_data",
          "data": {
            "text/plain": [
              "0.00    6601\n",
              "0.01    3464\n",
              "0.02    1618\n",
              "0.03     926\n",
              "0.04     654\n",
              "        ... \n",
              "2.11       1\n",
              "7.53       1\n",
              "1.21       1\n",
              "1.79       1\n",
              "0.93       1\n",
              "Name: Other_sales, Length: 155, dtype: int64"
            ]
          },
          "metadata": {}
        },
        {
          "output_type": "display_data",
          "data": {
            "text/plain": [
              "70.0    256\n",
              "71.0    254\n",
              "75.0    245\n",
              "78.0    240\n",
              "73.0    238\n",
              "       ... \n",
              "20.0      3\n",
              "21.0      1\n",
              "17.0      1\n",
              "22.0      1\n",
              "13.0      1\n",
              "Name: Critic_Score, Length: 82, dtype: int64"
            ]
          },
          "metadata": {}
        },
        {
          "output_type": "display_data",
          "data": {
            "text/plain": [
              "tbd    2424\n",
              "7.8     324\n",
              "8       290\n",
              "8.2     282\n",
              "8.3     254\n",
              "       ... \n",
              "1.1       2\n",
              "1.9       2\n",
              "9.6       2\n",
              "0         1\n",
              "9.7       1\n",
              "Name: User_Score, Length: 96, dtype: int64"
            ]
          },
          "metadata": {}
        },
        {
          "output_type": "display_data",
          "data": {
            "text/plain": [
              "E       3990\n",
              "T       2961\n",
              "M       1563\n",
              "E10+    1420\n",
              "EC         8\n",
              "K-A        3\n",
              "RP         3\n",
              "AO         1\n",
              "Name: Rating, dtype: int64"
            ]
          },
          "metadata": {}
        }
      ]
    },
    {
      "cell_type": "markdown",
      "source": [
        "**Schlussfolgerungen**\n",
        "\n",
        "Wir können sehen, dass die Spalte mit Informationen zum Erscheinungsjahr das falsche Format hat. Die Jahreszahl kann nur eine Ganzzahl sein. Die Daten in der Spalte Kritikerpunktzahl enthalten eine Null nach dem Dezimalkomma. Offensichtlich sind diese Schätzungen ganze Zahlen. Die Daten in der Benutzerbewertungsspalte sind im Objektformat, das keine Berechnungen zulässt. Eine kleine Anzahl von Zeilen enthält keine Informationen über das Erscheinungsjahr des Spiels, Titel und Genre. Eine beträchtliche Datenmenge hat Nullwerte in den Spalten Critic_Score, User_Score, Rating.\n",
        "\n",
        "Wir können sehen, dass die größte Anzahl von Werten in der Spalte User_Score tbd ist, was bedeutet, dass die Daten definiert werden müssen."
      ],
      "metadata": {
        "id": "608E240oYJHf"
      }
    },
    {
      "cell_type": "markdown",
      "source": [
        "## Datenvorverarbeitung"
      ],
      "metadata": {
        "id": "ZZddI76UYXhn"
      }
    },
    {
      "cell_type": "code",
      "source": [
        "# Wir werden die Anzahl der Duplikate mit einer Reihe von Methoden zählen data.duplicated().sum().\n",
        "print(data.duplicated().sum())"
      ],
      "metadata": {
        "colab": {
          "base_uri": "https://localhost:8080/"
        },
        "id": "gke0VkxvXdel",
        "outputId": "d7c153f1-3e23-4e21-b0e5-169d63a76ee4"
      },
      "execution_count": 11,
      "outputs": [
        {
          "output_type": "stream",
          "name": "stdout",
          "text": [
            "0\n"
          ]
        }
      ]
    },
    {
      "cell_type": "code",
      "source": [
        "# Wir werden die Spaltennamen ersetzen (Kleinbuchstaben).\n",
        "data.columns = map(str.lower, data.columns)"
      ],
      "metadata": {
        "id": "okbF9mO_YrYk"
      },
      "execution_count": 12,
      "outputs": []
    },
    {
      "cell_type": "code",
      "source": [
        "# Wir werden die Zeilen entfernen, in denen der Name und das Erscheinungsjahr des Spiels fehlen.\n",
        "data.dropna(subset = ['year_of_release'], inplace = True)\n",
        "data.dropna(subset = ['name'], inplace = True)"
      ],
      "metadata": {
        "id": "z9sFdaO-Y9Me"
      },
      "execution_count": 13,
      "outputs": []
    },
    {
      "cell_type": "code",
      "source": [
        "# Wir werden die Abkürzung tbd durch NaN ersetzen.\n",
        "data['user_score'] = pd.to_numeric(data['user_score'], errors='coerce')"
      ],
      "metadata": {
        "id": "00LlXxiUZM3P"
      },
      "execution_count": 14,
      "outputs": []
    },
    {
      "cell_type": "code",
      "source": [
        "# Wir werden die fehlenden Werte in den Spalten „critic_score“ und „user_score“ durch den Median nach Genretyp ersetzen.\n",
        "for genre in data['genre'].unique():\n",
        "    median = data.loc[data['genre'] == genre, 'critic_score'].median()\n",
        "    data.loc[(data['genre'] == genre) & (data['critic_score'].isna()), 'critic_score'] = median\n",
        "\n",
        "    median = data.loc[data['genre'] == genre, 'user_score'].median()\n",
        "    data.loc[(data['genre'] == genre) & (data['user_score'].isna()), 'user_score'] = median"
      ],
      "metadata": {
        "id": "mO9npZ0bZ3jx"
      },
      "execution_count": 15,
      "outputs": []
    },
    {
      "cell_type": "code",
      "source": [
        "# Wir konvertieren Datentypen.\n",
        "data = data.astype({ \"year_of_release\": \"int\", \"critic_score\": \"int\"})"
      ],
      "metadata": {
        "id": "L3onzQvrbtcB"
      },
      "execution_count": 16,
      "outputs": []
    },
    {
      "cell_type": "code",
      "source": [
        "# Wir werden den Gesamtumsatz in allen Regionen berechnen und in eine separate Spalte schreiben.\n",
        "data['total_sales'] = data['na_sales'] + data['eu_sales'] + data['jp_sales'] + data['other_sales']"
      ],
      "metadata": {
        "id": "o1nz4NbQcAyn"
      },
      "execution_count": 17,
      "outputs": []
    },
    {
      "cell_type": "code",
      "source": [
        "# Mal sehen was passiert.\n",
        "display(data.head())\n",
        "data.info()"
      ],
      "metadata": {
        "colab": {
          "base_uri": "https://localhost:8080/",
          "height": 614
        },
        "id": "T-d9kcIPcQ_1",
        "outputId": "cd706246-5abb-4e68-d8df-c34794996d0e"
      },
      "execution_count": 18,
      "outputs": [
        {
          "output_type": "display_data",
          "data": {
            "text/plain": [
              "                       name platform  year_of_release         genre  na_sales  \\\n",
              "0                Wii Sports      Wii             2006        Sports     41.36   \n",
              "1         Super Mario Bros.      NES             1985      Platform     29.08   \n",
              "2            Mario Kart Wii      Wii             2008        Racing     15.68   \n",
              "3         Wii Sports Resort      Wii             2009        Sports     15.61   \n",
              "4  Pokemon Red/Pokemon Blue       GB             1996  Role-Playing     11.27   \n",
              "\n",
              "   eu_sales  jp_sales  other_sales  critic_score  user_score rating  \\\n",
              "0     28.96      3.77         8.45            76         8.0      E   \n",
              "1      3.58      6.81         0.77            69         7.7    NaN   \n",
              "2     12.76      3.79         3.29            82         8.3      E   \n",
              "3     10.93      3.28         2.95            80         8.0      E   \n",
              "4      8.89     10.22         1.00            74         7.8    NaN   \n",
              "\n",
              "   total_sales  \n",
              "0        82.54  \n",
              "1        40.24  \n",
              "2        35.52  \n",
              "3        32.77  \n",
              "4        31.38  "
            ],
            "text/html": [
              "\n",
              "  <div id=\"df-a7244ea2-fe83-4214-a6f3-e9189b3038a9\">\n",
              "    <div class=\"colab-df-container\">\n",
              "      <div>\n",
              "<style scoped>\n",
              "    .dataframe tbody tr th:only-of-type {\n",
              "        vertical-align: middle;\n",
              "    }\n",
              "\n",
              "    .dataframe tbody tr th {\n",
              "        vertical-align: top;\n",
              "    }\n",
              "\n",
              "    .dataframe thead th {\n",
              "        text-align: right;\n",
              "    }\n",
              "</style>\n",
              "<table border=\"1\" class=\"dataframe\">\n",
              "  <thead>\n",
              "    <tr style=\"text-align: right;\">\n",
              "      <th></th>\n",
              "      <th>name</th>\n",
              "      <th>platform</th>\n",
              "      <th>year_of_release</th>\n",
              "      <th>genre</th>\n",
              "      <th>na_sales</th>\n",
              "      <th>eu_sales</th>\n",
              "      <th>jp_sales</th>\n",
              "      <th>other_sales</th>\n",
              "      <th>critic_score</th>\n",
              "      <th>user_score</th>\n",
              "      <th>rating</th>\n",
              "      <th>total_sales</th>\n",
              "    </tr>\n",
              "  </thead>\n",
              "  <tbody>\n",
              "    <tr>\n",
              "      <th>0</th>\n",
              "      <td>Wii Sports</td>\n",
              "      <td>Wii</td>\n",
              "      <td>2006</td>\n",
              "      <td>Sports</td>\n",
              "      <td>41.36</td>\n",
              "      <td>28.96</td>\n",
              "      <td>3.77</td>\n",
              "      <td>8.45</td>\n",
              "      <td>76</td>\n",
              "      <td>8.0</td>\n",
              "      <td>E</td>\n",
              "      <td>82.54</td>\n",
              "    </tr>\n",
              "    <tr>\n",
              "      <th>1</th>\n",
              "      <td>Super Mario Bros.</td>\n",
              "      <td>NES</td>\n",
              "      <td>1985</td>\n",
              "      <td>Platform</td>\n",
              "      <td>29.08</td>\n",
              "      <td>3.58</td>\n",
              "      <td>6.81</td>\n",
              "      <td>0.77</td>\n",
              "      <td>69</td>\n",
              "      <td>7.7</td>\n",
              "      <td>NaN</td>\n",
              "      <td>40.24</td>\n",
              "    </tr>\n",
              "    <tr>\n",
              "      <th>2</th>\n",
              "      <td>Mario Kart Wii</td>\n",
              "      <td>Wii</td>\n",
              "      <td>2008</td>\n",
              "      <td>Racing</td>\n",
              "      <td>15.68</td>\n",
              "      <td>12.76</td>\n",
              "      <td>3.79</td>\n",
              "      <td>3.29</td>\n",
              "      <td>82</td>\n",
              "      <td>8.3</td>\n",
              "      <td>E</td>\n",
              "      <td>35.52</td>\n",
              "    </tr>\n",
              "    <tr>\n",
              "      <th>3</th>\n",
              "      <td>Wii Sports Resort</td>\n",
              "      <td>Wii</td>\n",
              "      <td>2009</td>\n",
              "      <td>Sports</td>\n",
              "      <td>15.61</td>\n",
              "      <td>10.93</td>\n",
              "      <td>3.28</td>\n",
              "      <td>2.95</td>\n",
              "      <td>80</td>\n",
              "      <td>8.0</td>\n",
              "      <td>E</td>\n",
              "      <td>32.77</td>\n",
              "    </tr>\n",
              "    <tr>\n",
              "      <th>4</th>\n",
              "      <td>Pokemon Red/Pokemon Blue</td>\n",
              "      <td>GB</td>\n",
              "      <td>1996</td>\n",
              "      <td>Role-Playing</td>\n",
              "      <td>11.27</td>\n",
              "      <td>8.89</td>\n",
              "      <td>10.22</td>\n",
              "      <td>1.00</td>\n",
              "      <td>74</td>\n",
              "      <td>7.8</td>\n",
              "      <td>NaN</td>\n",
              "      <td>31.38</td>\n",
              "    </tr>\n",
              "  </tbody>\n",
              "</table>\n",
              "</div>\n",
              "      <button class=\"colab-df-convert\" onclick=\"convertToInteractive('df-a7244ea2-fe83-4214-a6f3-e9189b3038a9')\"\n",
              "              title=\"Convert this dataframe to an interactive table.\"\n",
              "              style=\"display:none;\">\n",
              "        \n",
              "  <svg xmlns=\"http://www.w3.org/2000/svg\" height=\"24px\"viewBox=\"0 0 24 24\"\n",
              "       width=\"24px\">\n",
              "    <path d=\"M0 0h24v24H0V0z\" fill=\"none\"/>\n",
              "    <path d=\"M18.56 5.44l.94 2.06.94-2.06 2.06-.94-2.06-.94-.94-2.06-.94 2.06-2.06.94zm-11 1L8.5 8.5l.94-2.06 2.06-.94-2.06-.94L8.5 2.5l-.94 2.06-2.06.94zm10 10l.94 2.06.94-2.06 2.06-.94-2.06-.94-.94-2.06-.94 2.06-2.06.94z\"/><path d=\"M17.41 7.96l-1.37-1.37c-.4-.4-.92-.59-1.43-.59-.52 0-1.04.2-1.43.59L10.3 9.45l-7.72 7.72c-.78.78-.78 2.05 0 2.83L4 21.41c.39.39.9.59 1.41.59.51 0 1.02-.2 1.41-.59l7.78-7.78 2.81-2.81c.8-.78.8-2.07 0-2.86zM5.41 20L4 18.59l7.72-7.72 1.47 1.35L5.41 20z\"/>\n",
              "  </svg>\n",
              "      </button>\n",
              "      \n",
              "  <style>\n",
              "    .colab-df-container {\n",
              "      display:flex;\n",
              "      flex-wrap:wrap;\n",
              "      gap: 12px;\n",
              "    }\n",
              "\n",
              "    .colab-df-convert {\n",
              "      background-color: #E8F0FE;\n",
              "      border: none;\n",
              "      border-radius: 50%;\n",
              "      cursor: pointer;\n",
              "      display: none;\n",
              "      fill: #1967D2;\n",
              "      height: 32px;\n",
              "      padding: 0 0 0 0;\n",
              "      width: 32px;\n",
              "    }\n",
              "\n",
              "    .colab-df-convert:hover {\n",
              "      background-color: #E2EBFA;\n",
              "      box-shadow: 0px 1px 2px rgba(60, 64, 67, 0.3), 0px 1px 3px 1px rgba(60, 64, 67, 0.15);\n",
              "      fill: #174EA6;\n",
              "    }\n",
              "\n",
              "    [theme=dark] .colab-df-convert {\n",
              "      background-color: #3B4455;\n",
              "      fill: #D2E3FC;\n",
              "    }\n",
              "\n",
              "    [theme=dark] .colab-df-convert:hover {\n",
              "      background-color: #434B5C;\n",
              "      box-shadow: 0px 1px 3px 1px rgba(0, 0, 0, 0.15);\n",
              "      filter: drop-shadow(0px 1px 2px rgba(0, 0, 0, 0.3));\n",
              "      fill: #FFFFFF;\n",
              "    }\n",
              "  </style>\n",
              "\n",
              "      <script>\n",
              "        const buttonEl =\n",
              "          document.querySelector('#df-a7244ea2-fe83-4214-a6f3-e9189b3038a9 button.colab-df-convert');\n",
              "        buttonEl.style.display =\n",
              "          google.colab.kernel.accessAllowed ? 'block' : 'none';\n",
              "\n",
              "        async function convertToInteractive(key) {\n",
              "          const element = document.querySelector('#df-a7244ea2-fe83-4214-a6f3-e9189b3038a9');\n",
              "          const dataTable =\n",
              "            await google.colab.kernel.invokeFunction('convertToInteractive',\n",
              "                                                     [key], {});\n",
              "          if (!dataTable) return;\n",
              "\n",
              "          const docLinkHtml = 'Like what you see? Visit the ' +\n",
              "            '<a target=\"_blank\" href=https://colab.research.google.com/notebooks/data_table.ipynb>data table notebook</a>'\n",
              "            + ' to learn more about interactive tables.';\n",
              "          element.innerHTML = '';\n",
              "          dataTable['output_type'] = 'display_data';\n",
              "          await google.colab.output.renderOutput(dataTable, element);\n",
              "          const docLink = document.createElement('div');\n",
              "          docLink.innerHTML = docLinkHtml;\n",
              "          element.appendChild(docLink);\n",
              "        }\n",
              "      </script>\n",
              "    </div>\n",
              "  </div>\n",
              "  "
            ]
          },
          "metadata": {}
        },
        {
          "output_type": "stream",
          "name": "stdout",
          "text": [
            "<class 'pandas.core.frame.DataFrame'>\n",
            "Int64Index: 16444 entries, 0 to 16714\n",
            "Data columns (total 12 columns):\n",
            " #   Column           Non-Null Count  Dtype  \n",
            "---  ------           --------------  -----  \n",
            " 0   name             16444 non-null  object \n",
            " 1   platform         16444 non-null  object \n",
            " 2   year_of_release  16444 non-null  int64  \n",
            " 3   genre            16444 non-null  object \n",
            " 4   na_sales         16444 non-null  float64\n",
            " 5   eu_sales         16444 non-null  float64\n",
            " 6   jp_sales         16444 non-null  float64\n",
            " 7   other_sales      16444 non-null  float64\n",
            " 8   critic_score     16444 non-null  int64  \n",
            " 9   user_score       16444 non-null  float64\n",
            " 10  rating           9768 non-null   object \n",
            " 11  total_sales      16444 non-null  float64\n",
            "dtypes: float64(6), int64(2), object(4)\n",
            "memory usage: 1.6+ MB\n"
          ]
        }
      ]
    },
    {
      "cell_type": "markdown",
      "source": [
        "**Schlussfolgerungen**\n",
        "\n",
        "Keine Duplikate gefunden. Wir haben den Datentyp in den Spalten year_of_release geändert, weil das Jahr wird nur durch eine Ganzzahl angegeben, und der Kritiker_Wert seit Beim Studium der erhaltenen Daten stellten sie fest, dass die Bewertung der Kritiker immer als ganze Zahl ausgedrückt wird.\n",
        "\n",
        "Wir haben Zeilen mit fehlenden Daten entfernt, was die Ergebnisse der Analyse nicht wesentlich beeinflussen kann.\n",
        "\n",
        "Eine beträchtliche Datenmenge hat Nullwerte in den Spalten Critic_Score, User_Score, Rating. Wir werden diese Zeilen nicht entfernen. Wir haben die Mittelwerte und Mediane für die angegebenen Spalten berechnet. Diese Indikatoren unterscheiden sich geringfügig, daher wurde in beiden Fällen der Median gewählt, um die Nullwerte auszufüllen.\n",
        "\n",
        "Die größte Anzahl von Werten in der Spalte User_Score ist tbd. Tatsächlich bedeutet dies keine Daten, daher wurde die angegebene Abkürzung durch NaN ersetzt.\n",
        "\n",
        "Wir haben die Gesamtumsätze in allen Regionen berechnet und in einer eigenen Spalte erfasst."
      ],
      "metadata": {
        "id": "hLW-rSjqdj76"
      }
    },
    {
      "cell_type": "code",
      "source": [],
      "metadata": {
        "id": "usLBUrlGcXF1"
      },
      "execution_count": null,
      "outputs": []
    }
  ]
}