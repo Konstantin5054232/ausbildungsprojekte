{
  "nbformat": 4,
  "nbformat_minor": 0,
  "metadata": {
    "colab": {
      "name": "wohnungen_verkauf.ipynb",
      "provenance": [],
      "toc_visible": true,
      "include_colab_link": true
    },
    "kernelspec": {
      "name": "python3",
      "display_name": "Python 3"
    },
    "language_info": {
      "name": "python"
    }
  },
  "cells": [
    {
      "cell_type": "markdown",
      "metadata": {
        "id": "view-in-github",
        "colab_type": "text"
      },
      "source": [
        "<a href=\"https://colab.research.google.com/github/Konstantin5054232/ausbildungsprojekte/blob/main/03_wohnungen_verkauf/wohnungen_verkauf.ipynb\" target=\"_parent\"><img src=\"https://colab.research.google.com/assets/colab-badge.svg\" alt=\"Open In Colab\"/></a>"
      ]
    },
    {
      "cell_type": "markdown",
      "source": [
        "## Immobilienmarktforschung"
      ],
      "metadata": {
        "id": "5-2fgDAJtgyw"
      }
    },
    {
      "cell_type": "markdown",
      "source": [
        "Wir werden das Archiv der Anzeigen für den Verkauf von Wohnungen in St. Petersburg und benachbarten Siedlungen über mehrere Jahre analysieren. Ziel ist es zu lernen, wie man den Marktwert von Immobilien ermittelt. Es ist notwendig, die Parameter festzulegen, die den Aufbau eines automatisierten Systems zur Verfolgung von Anomalien und betrügerischen Aktivitäten ermöglichen.\n",
        "\n",
        "Für jede zum Verkauf stehende Wohnung stehen zwei Arten von Daten zur Verfügung. Die ersten werden vom Benutzer eingegeben, die zweiten werden automatisch auf der Grundlage kartografischer Daten erhalten. Zum Beispiel die Entfernung zum Zentrum, Flughafen, nächsten Park und Stausee."
      ],
      "metadata": {
        "id": "rGYumFrOtt0I"
      }
    },
    {
      "cell_type": "markdown",
      "source": [
        "# Datenexploration"
      ],
      "metadata": {
        "id": "Z8q73FLjuLGX"
      }
    },
    {
      "cell_type": "code",
      "source": [
        "# Wir importieren die notwendigen Bibliotheken\n",
        "import pandas as pd"
      ],
      "metadata": {
        "id": "34nKmE9FtrKg"
      },
      "execution_count": null,
      "outputs": []
    },
    {
      "cell_type": "code",
      "source": [
        "# Wir laden Tabellen mit Daten\n",
        "data = pd.read_csv('/content/real_estate_data.csv', sep='\\t')"
      ],
      "metadata": {
        "id": "GPdfNJpNwbyb"
      },
      "execution_count": null,
      "outputs": []
    },
    {
      "cell_type": "code",
      "source": [
        "# Wir werden die erhaltenen Daten studieren\n",
        "display(data.info())\n",
        "display(data.shape)\n",
        "display(data.head())\n",
        "display(data.tail())"
      ],
      "metadata": {
        "colab": {
          "base_uri": "https://localhost:8080/",
          "height": 1000
        },
        "id": "BaHR4-IZwpGi",
        "outputId": "190b7477-3ceb-4334-cef3-bd9aa22e740f"
      },
      "execution_count": null,
      "outputs": [
        {
          "output_type": "stream",
          "name": "stdout",
          "text": [
            "<class 'pandas.core.frame.DataFrame'>\n",
            "RangeIndex: 23699 entries, 0 to 23698\n",
            "Data columns (total 22 columns):\n",
            " #   Column                Non-Null Count  Dtype  \n",
            "---  ------                --------------  -----  \n",
            " 0   total_images          23699 non-null  int64  \n",
            " 1   last_price            23699 non-null  float64\n",
            " 2   total_area            23699 non-null  float64\n",
            " 3   first_day_exposition  23699 non-null  object \n",
            " 4   rooms                 23699 non-null  int64  \n",
            " 5   ceiling_height        14504 non-null  float64\n",
            " 6   floors_total          23613 non-null  float64\n",
            " 7   living_area           21796 non-null  float64\n",
            " 8   floor                 23699 non-null  int64  \n",
            " 9   is_apartment          2775 non-null   object \n",
            " 10  studio                23699 non-null  bool   \n",
            " 11  open_plan             23699 non-null  bool   \n",
            " 12  kitchen_area          21421 non-null  float64\n",
            " 13  balcony               12180 non-null  float64\n",
            " 14  locality_name         23650 non-null  object \n",
            " 15  airports_nearest      18157 non-null  float64\n",
            " 16  cityCenters_nearest   18180 non-null  float64\n",
            " 17  parks_around3000      18181 non-null  float64\n",
            " 18  parks_nearest         8079 non-null   float64\n",
            " 19  ponds_around3000      18181 non-null  float64\n",
            " 20  ponds_nearest         9110 non-null   float64\n",
            " 21  days_exposition       20518 non-null  float64\n",
            "dtypes: bool(2), float64(14), int64(3), object(3)\n",
            "memory usage: 3.7+ MB\n"
          ]
        },
        {
          "output_type": "display_data",
          "data": {
            "text/plain": [
              "None"
            ]
          },
          "metadata": {}
        },
        {
          "output_type": "display_data",
          "data": {
            "text/plain": [
              "(23699, 22)"
            ]
          },
          "metadata": {}
        },
        {
          "output_type": "display_data",
          "data": {
            "text/plain": [
              "   total_images  last_price  total_area first_day_exposition  rooms  \\\n",
              "0            20  13000000.0       108.0  2019-03-07T00:00:00      3   \n",
              "1             7   3350000.0        40.4  2018-12-04T00:00:00      1   \n",
              "2            10   5196000.0        56.0  2015-08-20T00:00:00      2   \n",
              "3             0  64900000.0       159.0  2015-07-24T00:00:00      3   \n",
              "4             2  10000000.0       100.0  2018-06-19T00:00:00      2   \n",
              "\n",
              "   ceiling_height  floors_total  living_area  floor is_apartment  ...  \\\n",
              "0            2.70          16.0         51.0      8          NaN  ...   \n",
              "1             NaN          11.0         18.6      1          NaN  ...   \n",
              "2             NaN           5.0         34.3      4          NaN  ...   \n",
              "3             NaN          14.0          NaN      9          NaN  ...   \n",
              "4            3.03          14.0         32.0     13          NaN  ...   \n",
              "\n",
              "   kitchen_area  balcony    locality_name  airports_nearest  \\\n",
              "0          25.0      NaN  Санкт-Петербург           18863.0   \n",
              "1          11.0      2.0   посёлок Шушары           12817.0   \n",
              "2           8.3      0.0  Санкт-Петербург           21741.0   \n",
              "3           NaN      0.0  Санкт-Петербург           28098.0   \n",
              "4          41.0      NaN  Санкт-Петербург           31856.0   \n",
              "\n",
              "  cityCenters_nearest  parks_around3000  parks_nearest  ponds_around3000  \\\n",
              "0             16028.0               1.0          482.0               2.0   \n",
              "1             18603.0               0.0            NaN               0.0   \n",
              "2             13933.0               1.0           90.0               2.0   \n",
              "3              6800.0               2.0           84.0               3.0   \n",
              "4              8098.0               2.0          112.0               1.0   \n",
              "\n",
              "   ponds_nearest  days_exposition  \n",
              "0          755.0              NaN  \n",
              "1            NaN             81.0  \n",
              "2          574.0            558.0  \n",
              "3          234.0            424.0  \n",
              "4           48.0            121.0  \n",
              "\n",
              "[5 rows x 22 columns]"
            ],
            "text/html": [
              "\n",
              "  <div id=\"df-07d4616f-2a1c-4411-9b3d-483f3c0324c1\">\n",
              "    <div class=\"colab-df-container\">\n",
              "      <div>\n",
              "<style scoped>\n",
              "    .dataframe tbody tr th:only-of-type {\n",
              "        vertical-align: middle;\n",
              "    }\n",
              "\n",
              "    .dataframe tbody tr th {\n",
              "        vertical-align: top;\n",
              "    }\n",
              "\n",
              "    .dataframe thead th {\n",
              "        text-align: right;\n",
              "    }\n",
              "</style>\n",
              "<table border=\"1\" class=\"dataframe\">\n",
              "  <thead>\n",
              "    <tr style=\"text-align: right;\">\n",
              "      <th></th>\n",
              "      <th>total_images</th>\n",
              "      <th>last_price</th>\n",
              "      <th>total_area</th>\n",
              "      <th>first_day_exposition</th>\n",
              "      <th>rooms</th>\n",
              "      <th>ceiling_height</th>\n",
              "      <th>floors_total</th>\n",
              "      <th>living_area</th>\n",
              "      <th>floor</th>\n",
              "      <th>is_apartment</th>\n",
              "      <th>...</th>\n",
              "      <th>kitchen_area</th>\n",
              "      <th>balcony</th>\n",
              "      <th>locality_name</th>\n",
              "      <th>airports_nearest</th>\n",
              "      <th>cityCenters_nearest</th>\n",
              "      <th>parks_around3000</th>\n",
              "      <th>parks_nearest</th>\n",
              "      <th>ponds_around3000</th>\n",
              "      <th>ponds_nearest</th>\n",
              "      <th>days_exposition</th>\n",
              "    </tr>\n",
              "  </thead>\n",
              "  <tbody>\n",
              "    <tr>\n",
              "      <th>0</th>\n",
              "      <td>20</td>\n",
              "      <td>13000000.0</td>\n",
              "      <td>108.0</td>\n",
              "      <td>2019-03-07T00:00:00</td>\n",
              "      <td>3</td>\n",
              "      <td>2.70</td>\n",
              "      <td>16.0</td>\n",
              "      <td>51.0</td>\n",
              "      <td>8</td>\n",
              "      <td>NaN</td>\n",
              "      <td>...</td>\n",
              "      <td>25.0</td>\n",
              "      <td>NaN</td>\n",
              "      <td>Санкт-Петербург</td>\n",
              "      <td>18863.0</td>\n",
              "      <td>16028.0</td>\n",
              "      <td>1.0</td>\n",
              "      <td>482.0</td>\n",
              "      <td>2.0</td>\n",
              "      <td>755.0</td>\n",
              "      <td>NaN</td>\n",
              "    </tr>\n",
              "    <tr>\n",
              "      <th>1</th>\n",
              "      <td>7</td>\n",
              "      <td>3350000.0</td>\n",
              "      <td>40.4</td>\n",
              "      <td>2018-12-04T00:00:00</td>\n",
              "      <td>1</td>\n",
              "      <td>NaN</td>\n",
              "      <td>11.0</td>\n",
              "      <td>18.6</td>\n",
              "      <td>1</td>\n",
              "      <td>NaN</td>\n",
              "      <td>...</td>\n",
              "      <td>11.0</td>\n",
              "      <td>2.0</td>\n",
              "      <td>посёлок Шушары</td>\n",
              "      <td>12817.0</td>\n",
              "      <td>18603.0</td>\n",
              "      <td>0.0</td>\n",
              "      <td>NaN</td>\n",
              "      <td>0.0</td>\n",
              "      <td>NaN</td>\n",
              "      <td>81.0</td>\n",
              "    </tr>\n",
              "    <tr>\n",
              "      <th>2</th>\n",
              "      <td>10</td>\n",
              "      <td>5196000.0</td>\n",
              "      <td>56.0</td>\n",
              "      <td>2015-08-20T00:00:00</td>\n",
              "      <td>2</td>\n",
              "      <td>NaN</td>\n",
              "      <td>5.0</td>\n",
              "      <td>34.3</td>\n",
              "      <td>4</td>\n",
              "      <td>NaN</td>\n",
              "      <td>...</td>\n",
              "      <td>8.3</td>\n",
              "      <td>0.0</td>\n",
              "      <td>Санкт-Петербург</td>\n",
              "      <td>21741.0</td>\n",
              "      <td>13933.0</td>\n",
              "      <td>1.0</td>\n",
              "      <td>90.0</td>\n",
              "      <td>2.0</td>\n",
              "      <td>574.0</td>\n",
              "      <td>558.0</td>\n",
              "    </tr>\n",
              "    <tr>\n",
              "      <th>3</th>\n",
              "      <td>0</td>\n",
              "      <td>64900000.0</td>\n",
              "      <td>159.0</td>\n",
              "      <td>2015-07-24T00:00:00</td>\n",
              "      <td>3</td>\n",
              "      <td>NaN</td>\n",
              "      <td>14.0</td>\n",
              "      <td>NaN</td>\n",
              "      <td>9</td>\n",
              "      <td>NaN</td>\n",
              "      <td>...</td>\n",
              "      <td>NaN</td>\n",
              "      <td>0.0</td>\n",
              "      <td>Санкт-Петербург</td>\n",
              "      <td>28098.0</td>\n",
              "      <td>6800.0</td>\n",
              "      <td>2.0</td>\n",
              "      <td>84.0</td>\n",
              "      <td>3.0</td>\n",
              "      <td>234.0</td>\n",
              "      <td>424.0</td>\n",
              "    </tr>\n",
              "    <tr>\n",
              "      <th>4</th>\n",
              "      <td>2</td>\n",
              "      <td>10000000.0</td>\n",
              "      <td>100.0</td>\n",
              "      <td>2018-06-19T00:00:00</td>\n",
              "      <td>2</td>\n",
              "      <td>3.03</td>\n",
              "      <td>14.0</td>\n",
              "      <td>32.0</td>\n",
              "      <td>13</td>\n",
              "      <td>NaN</td>\n",
              "      <td>...</td>\n",
              "      <td>41.0</td>\n",
              "      <td>NaN</td>\n",
              "      <td>Санкт-Петербург</td>\n",
              "      <td>31856.0</td>\n",
              "      <td>8098.0</td>\n",
              "      <td>2.0</td>\n",
              "      <td>112.0</td>\n",
              "      <td>1.0</td>\n",
              "      <td>48.0</td>\n",
              "      <td>121.0</td>\n",
              "    </tr>\n",
              "  </tbody>\n",
              "</table>\n",
              "<p>5 rows × 22 columns</p>\n",
              "</div>\n",
              "      <button class=\"colab-df-convert\" onclick=\"convertToInteractive('df-07d4616f-2a1c-4411-9b3d-483f3c0324c1')\"\n",
              "              title=\"Convert this dataframe to an interactive table.\"\n",
              "              style=\"display:none;\">\n",
              "        \n",
              "  <svg xmlns=\"http://www.w3.org/2000/svg\" height=\"24px\"viewBox=\"0 0 24 24\"\n",
              "       width=\"24px\">\n",
              "    <path d=\"M0 0h24v24H0V0z\" fill=\"none\"/>\n",
              "    <path d=\"M18.56 5.44l.94 2.06.94-2.06 2.06-.94-2.06-.94-.94-2.06-.94 2.06-2.06.94zm-11 1L8.5 8.5l.94-2.06 2.06-.94-2.06-.94L8.5 2.5l-.94 2.06-2.06.94zm10 10l.94 2.06.94-2.06 2.06-.94-2.06-.94-.94-2.06-.94 2.06-2.06.94z\"/><path d=\"M17.41 7.96l-1.37-1.37c-.4-.4-.92-.59-1.43-.59-.52 0-1.04.2-1.43.59L10.3 9.45l-7.72 7.72c-.78.78-.78 2.05 0 2.83L4 21.41c.39.39.9.59 1.41.59.51 0 1.02-.2 1.41-.59l7.78-7.78 2.81-2.81c.8-.78.8-2.07 0-2.86zM5.41 20L4 18.59l7.72-7.72 1.47 1.35L5.41 20z\"/>\n",
              "  </svg>\n",
              "      </button>\n",
              "      \n",
              "  <style>\n",
              "    .colab-df-container {\n",
              "      display:flex;\n",
              "      flex-wrap:wrap;\n",
              "      gap: 12px;\n",
              "    }\n",
              "\n",
              "    .colab-df-convert {\n",
              "      background-color: #E8F0FE;\n",
              "      border: none;\n",
              "      border-radius: 50%;\n",
              "      cursor: pointer;\n",
              "      display: none;\n",
              "      fill: #1967D2;\n",
              "      height: 32px;\n",
              "      padding: 0 0 0 0;\n",
              "      width: 32px;\n",
              "    }\n",
              "\n",
              "    .colab-df-convert:hover {\n",
              "      background-color: #E2EBFA;\n",
              "      box-shadow: 0px 1px 2px rgba(60, 64, 67, 0.3), 0px 1px 3px 1px rgba(60, 64, 67, 0.15);\n",
              "      fill: #174EA6;\n",
              "    }\n",
              "\n",
              "    [theme=dark] .colab-df-convert {\n",
              "      background-color: #3B4455;\n",
              "      fill: #D2E3FC;\n",
              "    }\n",
              "\n",
              "    [theme=dark] .colab-df-convert:hover {\n",
              "      background-color: #434B5C;\n",
              "      box-shadow: 0px 1px 3px 1px rgba(0, 0, 0, 0.15);\n",
              "      filter: drop-shadow(0px 1px 2px rgba(0, 0, 0, 0.3));\n",
              "      fill: #FFFFFF;\n",
              "    }\n",
              "  </style>\n",
              "\n",
              "      <script>\n",
              "        const buttonEl =\n",
              "          document.querySelector('#df-07d4616f-2a1c-4411-9b3d-483f3c0324c1 button.colab-df-convert');\n",
              "        buttonEl.style.display =\n",
              "          google.colab.kernel.accessAllowed ? 'block' : 'none';\n",
              "\n",
              "        async function convertToInteractive(key) {\n",
              "          const element = document.querySelector('#df-07d4616f-2a1c-4411-9b3d-483f3c0324c1');\n",
              "          const dataTable =\n",
              "            await google.colab.kernel.invokeFunction('convertToInteractive',\n",
              "                                                     [key], {});\n",
              "          if (!dataTable) return;\n",
              "\n",
              "          const docLinkHtml = 'Like what you see? Visit the ' +\n",
              "            '<a target=\"_blank\" href=https://colab.research.google.com/notebooks/data_table.ipynb>data table notebook</a>'\n",
              "            + ' to learn more about interactive tables.';\n",
              "          element.innerHTML = '';\n",
              "          dataTable['output_type'] = 'display_data';\n",
              "          await google.colab.output.renderOutput(dataTable, element);\n",
              "          const docLink = document.createElement('div');\n",
              "          docLink.innerHTML = docLinkHtml;\n",
              "          element.appendChild(docLink);\n",
              "        }\n",
              "      </script>\n",
              "    </div>\n",
              "  </div>\n",
              "  "
            ]
          },
          "metadata": {}
        },
        {
          "output_type": "display_data",
          "data": {
            "text/plain": [
              "       total_images  last_price  total_area first_day_exposition  rooms  \\\n",
              "23694             9   9700000.0      133.81  2017-03-21T00:00:00      3   \n",
              "23695            14   3100000.0       59.00  2018-01-15T00:00:00      3   \n",
              "23696            18   2500000.0       56.70  2018-02-11T00:00:00      2   \n",
              "23697            13  11475000.0       76.75  2017-03-28T00:00:00      2   \n",
              "23698             4   1350000.0       32.30  2017-07-21T00:00:00      1   \n",
              "\n",
              "       ceiling_height  floors_total  living_area  floor is_apartment  ...  \\\n",
              "23694             3.7           5.0         73.3      3          NaN  ...   \n",
              "23695             NaN           5.0         38.0      4          NaN  ...   \n",
              "23696             NaN           3.0         29.7      1          NaN  ...   \n",
              "23697             3.0          17.0          NaN     12          NaN  ...   \n",
              "23698             2.5           5.0         12.3      1          NaN  ...   \n",
              "\n",
              "       kitchen_area  balcony        locality_name  airports_nearest  \\\n",
              "23694         13.83      NaN      Санкт-Петербург           24665.0   \n",
              "23695          8.50      NaN                Тосно               NaN   \n",
              "23696           NaN      NaN     село Рождествено               NaN   \n",
              "23697         23.30      2.0      Санкт-Петербург           39140.0   \n",
              "23698          9.00      NaN  поселок Новый Учхоз               NaN   \n",
              "\n",
              "      cityCenters_nearest  parks_around3000  parks_nearest  ponds_around3000  \\\n",
              "23694              4232.0               1.0          796.0               3.0   \n",
              "23695                 NaN               NaN            NaN               NaN   \n",
              "23696                 NaN               NaN            NaN               NaN   \n",
              "23697             10364.0               2.0          173.0               3.0   \n",
              "23698                 NaN               NaN            NaN               NaN   \n",
              "\n",
              "       ponds_nearest  days_exposition  \n",
              "23694          381.0              NaN  \n",
              "23695            NaN             45.0  \n",
              "23696            NaN              NaN  \n",
              "23697          196.0            602.0  \n",
              "23698            NaN              NaN  \n",
              "\n",
              "[5 rows x 22 columns]"
            ],
            "text/html": [
              "\n",
              "  <div id=\"df-ad50592a-59e0-48cc-9176-5158e0fb7a04\">\n",
              "    <div class=\"colab-df-container\">\n",
              "      <div>\n",
              "<style scoped>\n",
              "    .dataframe tbody tr th:only-of-type {\n",
              "        vertical-align: middle;\n",
              "    }\n",
              "\n",
              "    .dataframe tbody tr th {\n",
              "        vertical-align: top;\n",
              "    }\n",
              "\n",
              "    .dataframe thead th {\n",
              "        text-align: right;\n",
              "    }\n",
              "</style>\n",
              "<table border=\"1\" class=\"dataframe\">\n",
              "  <thead>\n",
              "    <tr style=\"text-align: right;\">\n",
              "      <th></th>\n",
              "      <th>total_images</th>\n",
              "      <th>last_price</th>\n",
              "      <th>total_area</th>\n",
              "      <th>first_day_exposition</th>\n",
              "      <th>rooms</th>\n",
              "      <th>ceiling_height</th>\n",
              "      <th>floors_total</th>\n",
              "      <th>living_area</th>\n",
              "      <th>floor</th>\n",
              "      <th>is_apartment</th>\n",
              "      <th>...</th>\n",
              "      <th>kitchen_area</th>\n",
              "      <th>balcony</th>\n",
              "      <th>locality_name</th>\n",
              "      <th>airports_nearest</th>\n",
              "      <th>cityCenters_nearest</th>\n",
              "      <th>parks_around3000</th>\n",
              "      <th>parks_nearest</th>\n",
              "      <th>ponds_around3000</th>\n",
              "      <th>ponds_nearest</th>\n",
              "      <th>days_exposition</th>\n",
              "    </tr>\n",
              "  </thead>\n",
              "  <tbody>\n",
              "    <tr>\n",
              "      <th>23694</th>\n",
              "      <td>9</td>\n",
              "      <td>9700000.0</td>\n",
              "      <td>133.81</td>\n",
              "      <td>2017-03-21T00:00:00</td>\n",
              "      <td>3</td>\n",
              "      <td>3.7</td>\n",
              "      <td>5.0</td>\n",
              "      <td>73.3</td>\n",
              "      <td>3</td>\n",
              "      <td>NaN</td>\n",
              "      <td>...</td>\n",
              "      <td>13.83</td>\n",
              "      <td>NaN</td>\n",
              "      <td>Санкт-Петербург</td>\n",
              "      <td>24665.0</td>\n",
              "      <td>4232.0</td>\n",
              "      <td>1.0</td>\n",
              "      <td>796.0</td>\n",
              "      <td>3.0</td>\n",
              "      <td>381.0</td>\n",
              "      <td>NaN</td>\n",
              "    </tr>\n",
              "    <tr>\n",
              "      <th>23695</th>\n",
              "      <td>14</td>\n",
              "      <td>3100000.0</td>\n",
              "      <td>59.00</td>\n",
              "      <td>2018-01-15T00:00:00</td>\n",
              "      <td>3</td>\n",
              "      <td>NaN</td>\n",
              "      <td>5.0</td>\n",
              "      <td>38.0</td>\n",
              "      <td>4</td>\n",
              "      <td>NaN</td>\n",
              "      <td>...</td>\n",
              "      <td>8.50</td>\n",
              "      <td>NaN</td>\n",
              "      <td>Тосно</td>\n",
              "      <td>NaN</td>\n",
              "      <td>NaN</td>\n",
              "      <td>NaN</td>\n",
              "      <td>NaN</td>\n",
              "      <td>NaN</td>\n",
              "      <td>NaN</td>\n",
              "      <td>45.0</td>\n",
              "    </tr>\n",
              "    <tr>\n",
              "      <th>23696</th>\n",
              "      <td>18</td>\n",
              "      <td>2500000.0</td>\n",
              "      <td>56.70</td>\n",
              "      <td>2018-02-11T00:00:00</td>\n",
              "      <td>2</td>\n",
              "      <td>NaN</td>\n",
              "      <td>3.0</td>\n",
              "      <td>29.7</td>\n",
              "      <td>1</td>\n",
              "      <td>NaN</td>\n",
              "      <td>...</td>\n",
              "      <td>NaN</td>\n",
              "      <td>NaN</td>\n",
              "      <td>село Рождествено</td>\n",
              "      <td>NaN</td>\n",
              "      <td>NaN</td>\n",
              "      <td>NaN</td>\n",
              "      <td>NaN</td>\n",
              "      <td>NaN</td>\n",
              "      <td>NaN</td>\n",
              "      <td>NaN</td>\n",
              "    </tr>\n",
              "    <tr>\n",
              "      <th>23697</th>\n",
              "      <td>13</td>\n",
              "      <td>11475000.0</td>\n",
              "      <td>76.75</td>\n",
              "      <td>2017-03-28T00:00:00</td>\n",
              "      <td>2</td>\n",
              "      <td>3.0</td>\n",
              "      <td>17.0</td>\n",
              "      <td>NaN</td>\n",
              "      <td>12</td>\n",
              "      <td>NaN</td>\n",
              "      <td>...</td>\n",
              "      <td>23.30</td>\n",
              "      <td>2.0</td>\n",
              "      <td>Санкт-Петербург</td>\n",
              "      <td>39140.0</td>\n",
              "      <td>10364.0</td>\n",
              "      <td>2.0</td>\n",
              "      <td>173.0</td>\n",
              "      <td>3.0</td>\n",
              "      <td>196.0</td>\n",
              "      <td>602.0</td>\n",
              "    </tr>\n",
              "    <tr>\n",
              "      <th>23698</th>\n",
              "      <td>4</td>\n",
              "      <td>1350000.0</td>\n",
              "      <td>32.30</td>\n",
              "      <td>2017-07-21T00:00:00</td>\n",
              "      <td>1</td>\n",
              "      <td>2.5</td>\n",
              "      <td>5.0</td>\n",
              "      <td>12.3</td>\n",
              "      <td>1</td>\n",
              "      <td>NaN</td>\n",
              "      <td>...</td>\n",
              "      <td>9.00</td>\n",
              "      <td>NaN</td>\n",
              "      <td>поселок Новый Учхоз</td>\n",
              "      <td>NaN</td>\n",
              "      <td>NaN</td>\n",
              "      <td>NaN</td>\n",
              "      <td>NaN</td>\n",
              "      <td>NaN</td>\n",
              "      <td>NaN</td>\n",
              "      <td>NaN</td>\n",
              "    </tr>\n",
              "  </tbody>\n",
              "</table>\n",
              "<p>5 rows × 22 columns</p>\n",
              "</div>\n",
              "      <button class=\"colab-df-convert\" onclick=\"convertToInteractive('df-ad50592a-59e0-48cc-9176-5158e0fb7a04')\"\n",
              "              title=\"Convert this dataframe to an interactive table.\"\n",
              "              style=\"display:none;\">\n",
              "        \n",
              "  <svg xmlns=\"http://www.w3.org/2000/svg\" height=\"24px\"viewBox=\"0 0 24 24\"\n",
              "       width=\"24px\">\n",
              "    <path d=\"M0 0h24v24H0V0z\" fill=\"none\"/>\n",
              "    <path d=\"M18.56 5.44l.94 2.06.94-2.06 2.06-.94-2.06-.94-.94-2.06-.94 2.06-2.06.94zm-11 1L8.5 8.5l.94-2.06 2.06-.94-2.06-.94L8.5 2.5l-.94 2.06-2.06.94zm10 10l.94 2.06.94-2.06 2.06-.94-2.06-.94-.94-2.06-.94 2.06-2.06.94z\"/><path d=\"M17.41 7.96l-1.37-1.37c-.4-.4-.92-.59-1.43-.59-.52 0-1.04.2-1.43.59L10.3 9.45l-7.72 7.72c-.78.78-.78 2.05 0 2.83L4 21.41c.39.39.9.59 1.41.59.51 0 1.02-.2 1.41-.59l7.78-7.78 2.81-2.81c.8-.78.8-2.07 0-2.86zM5.41 20L4 18.59l7.72-7.72 1.47 1.35L5.41 20z\"/>\n",
              "  </svg>\n",
              "      </button>\n",
              "      \n",
              "  <style>\n",
              "    .colab-df-container {\n",
              "      display:flex;\n",
              "      flex-wrap:wrap;\n",
              "      gap: 12px;\n",
              "    }\n",
              "\n",
              "    .colab-df-convert {\n",
              "      background-color: #E8F0FE;\n",
              "      border: none;\n",
              "      border-radius: 50%;\n",
              "      cursor: pointer;\n",
              "      display: none;\n",
              "      fill: #1967D2;\n",
              "      height: 32px;\n",
              "      padding: 0 0 0 0;\n",
              "      width: 32px;\n",
              "    }\n",
              "\n",
              "    .colab-df-convert:hover {\n",
              "      background-color: #E2EBFA;\n",
              "      box-shadow: 0px 1px 2px rgba(60, 64, 67, 0.3), 0px 1px 3px 1px rgba(60, 64, 67, 0.15);\n",
              "      fill: #174EA6;\n",
              "    }\n",
              "\n",
              "    [theme=dark] .colab-df-convert {\n",
              "      background-color: #3B4455;\n",
              "      fill: #D2E3FC;\n",
              "    }\n",
              "\n",
              "    [theme=dark] .colab-df-convert:hover {\n",
              "      background-color: #434B5C;\n",
              "      box-shadow: 0px 1px 3px 1px rgba(0, 0, 0, 0.15);\n",
              "      filter: drop-shadow(0px 1px 2px rgba(0, 0, 0, 0.3));\n",
              "      fill: #FFFFFF;\n",
              "    }\n",
              "  </style>\n",
              "\n",
              "      <script>\n",
              "        const buttonEl =\n",
              "          document.querySelector('#df-ad50592a-59e0-48cc-9176-5158e0fb7a04 button.colab-df-convert');\n",
              "        buttonEl.style.display =\n",
              "          google.colab.kernel.accessAllowed ? 'block' : 'none';\n",
              "\n",
              "        async function convertToInteractive(key) {\n",
              "          const element = document.querySelector('#df-ad50592a-59e0-48cc-9176-5158e0fb7a04');\n",
              "          const dataTable =\n",
              "            await google.colab.kernel.invokeFunction('convertToInteractive',\n",
              "                                                     [key], {});\n",
              "          if (!dataTable) return;\n",
              "\n",
              "          const docLinkHtml = 'Like what you see? Visit the ' +\n",
              "            '<a target=\"_blank\" href=https://colab.research.google.com/notebooks/data_table.ipynb>data table notebook</a>'\n",
              "            + ' to learn more about interactive tables.';\n",
              "          element.innerHTML = '';\n",
              "          dataTable['output_type'] = 'display_data';\n",
              "          await google.colab.output.renderOutput(dataTable, element);\n",
              "          const docLink = document.createElement('div');\n",
              "          docLink.innerHTML = docLinkHtml;\n",
              "          element.appendChild(docLink);\n",
              "        }\n",
              "      </script>\n",
              "    </div>\n",
              "  </div>\n",
              "  "
            ]
          },
          "metadata": {}
        }
      ]
    },
    {
      "cell_type": "markdown",
      "source": [
        "**Schlussfolgerungen**\n",
        "\n",
        "Nachdem wir die Daten untersucht haben, sehen wir, dass der Datenrahmen aus 23699 Zeilen und 22 Spalten besteht. Die Tabelle ist sehr unhandlich, einige Spalten werden zur Beantwortung der Fragen nicht benötigt. Separate Spalten enthalten Nullwerte, irgendwo mehr als die Hälfte davon. Die first_day_exposition-Spalte enthält Informationen über Zeit und Datum, hat aber das Objektdatenformat, die Zeit ist überall Null, sie wird nicht für die Recherche benötigt."
      ],
      "metadata": {
        "id": "N1mC-ex6xMD7"
      }
    },
    {
      "cell_type": "markdown",
      "source": [
        "# Datenvorverarbeitung"
      ],
      "metadata": {
        "id": "b3FGhAkMxVNr"
      }
    },
    {
      "cell_type": "code",
      "source": [
        "# Wir werden Spalten entfernen, die für die Datenanalyse nicht benötigt werden\n",
        "data = data.drop(['total_images', 'is_apartment', 'studio', 'open_plan', 'airports_nearest', 'parks_around3000', 'parks_nearest', 'ponds_around3000', 'ponds_nearest'], axis=1)"
      ],
      "metadata": {
        "id": "3xL79q7Kwwo7"
      },
      "execution_count": null,
      "outputs": []
    },
    {
      "cell_type": "code",
      "source": [
        "# Wir zählen die Anzahl der Duplikate mit einer Reihe von Methoden data.duplicated().sum()\n",
        "display(data.duplicated().sum())"
      ],
      "metadata": {
        "colab": {
          "base_uri": "https://localhost:8080/",
          "height": 34
        },
        "id": "4hDZ6oP9xUBj",
        "outputId": "31b9720f-b872-4fc1-e425-fcf9a55d0e2a"
      },
      "execution_count": null,
      "outputs": [
        {
          "output_type": "display_data",
          "data": {
            "text/plain": [
              "0"
            ]
          },
          "metadata": {}
        }
      ]
    },
    {
      "cell_type": "code",
      "source": [
        "# Wir entfernen die Zeilen, in denen es keine Informationen über die Anzahl der Stockwerke im Haus gibt.\n",
        "# Es gibt nicht viele solcher Zeilen, das Löschen wird das Ergebnis nicht wesentlich beeinflussen.\n",
        "data.dropna(subset = ['floors_total'], inplace = True)"
      ],
      "metadata": {
        "id": "cOD_9NQYyhSU"
      },
      "execution_count": null,
      "outputs": []
    },
    {
      "cell_type": "code",
      "source": [
        "# Wir füllen die Nullwerte in der Balkonspalte mit 0-Werten, da es wahrscheinlich keine Balkone gibt.\n",
        "data['balcony'] = data['balcony'].fillna(0)"
      ],
      "metadata": {
        "id": "tbHAPYfgzAMM"
      },
      "execution_count": null,
      "outputs": []
    },
    {
      "cell_type": "code",
      "source": [
        "# Wir werden die Nullwerte in der Spalte cityCenters_nearest mit dem Medianwert für diese Spalte füllen.\n",
        "# Wir werden Zeilen mit leeren Werten in dieser Spalte nicht löschen, da zu viele von ihnen.\n",
        "data['cityCenters_nearest'] = data['cityCenters_nearest'].fillna(data['cityCenters_nearest'].median())"
      ],
      "metadata": {
        "id": "YELUJaN50rVv"
      },
      "execution_count": null,
      "outputs": []
    },
    {
      "cell_type": "code",
      "source": [
        "# Wir werden das Datenformat für die Spalte first_day_exposition ändern\n",
        "data['first_day_exposition'] = pd.to_datetime(data['first_day_exposition'], format='%Y-%m-%dT%H:%M:%S')"
      ],
      "metadata": {
        "id": "0x7e3Kvu2Fwf"
      },
      "execution_count": null,
      "outputs": []
    },
    {
      "cell_type": "code",
      "source": [
        "# Wir übersetzen die Werte der Spalten last_price, Floors_total, Balcony in ganze Zahlen\n",
        "data['last_price'] = data['last_price'].astype('int')\n",
        "data['balcony'] = data['balcony'].astype('int')\n",
        "data['floors_total'] = data['floors_total'].astype('int')"
      ],
      "metadata": {
        "id": "E5Vj5zo62Rl3"
      },
      "execution_count": null,
      "outputs": []
    },
    {
      "cell_type": "code",
      "source": [
        "# Mal sehen was passiert\n",
        "data.info()\n",
        "data.head()"
      ],
      "metadata": {
        "colab": {
          "base_uri": "https://localhost:8080/",
          "height": 553
        },
        "id": "SP9u5QXS2hzv",
        "outputId": "0cc36e6b-a336-4394-90d0-cff1b729bee0"
      },
      "execution_count": null,
      "outputs": [
        {
          "output_type": "stream",
          "name": "stdout",
          "text": [
            "<class 'pandas.core.frame.DataFrame'>\n",
            "Int64Index: 23613 entries, 0 to 23698\n",
            "Data columns (total 13 columns):\n",
            " #   Column                Non-Null Count  Dtype         \n",
            "---  ------                --------------  -----         \n",
            " 0   last_price            23613 non-null  int64         \n",
            " 1   total_area            23613 non-null  float64       \n",
            " 2   first_day_exposition  23613 non-null  datetime64[ns]\n",
            " 3   rooms                 23613 non-null  int64         \n",
            " 4   ceiling_height        14495 non-null  float64       \n",
            " 5   floors_total          23613 non-null  int64         \n",
            " 6   living_area           21743 non-null  float64       \n",
            " 7   floor                 23613 non-null  int64         \n",
            " 8   kitchen_area          21382 non-null  float64       \n",
            " 9   balcony               23613 non-null  int64         \n",
            " 10  locality_name         23565 non-null  object        \n",
            " 11  cityCenters_nearest   23613 non-null  float64       \n",
            " 12  days_exposition       20441 non-null  float64       \n",
            "dtypes: datetime64[ns](1), float64(6), int64(5), object(1)\n",
            "memory usage: 2.5+ MB\n"
          ]
        },
        {
          "output_type": "execute_result",
          "data": {
            "text/plain": [
              "   last_price  total_area first_day_exposition  rooms  ceiling_height  \\\n",
              "0    13000000       108.0           2019-03-07      3            2.70   \n",
              "1     3350000        40.4           2018-12-04      1             NaN   \n",
              "2     5196000        56.0           2015-08-20      2             NaN   \n",
              "3    64900000       159.0           2015-07-24      3             NaN   \n",
              "4    10000000       100.0           2018-06-19      2            3.03   \n",
              "\n",
              "   floors_total  living_area  floor  kitchen_area  balcony    locality_name  \\\n",
              "0            16         51.0      8          25.0        0  Санкт-Петербург   \n",
              "1            11         18.6      1          11.0        2   посёлок Шушары   \n",
              "2             5         34.3      4           8.3        0  Санкт-Петербург   \n",
              "3            14          NaN      9           NaN        0  Санкт-Петербург   \n",
              "4            14         32.0     13          41.0        0  Санкт-Петербург   \n",
              "\n",
              "   cityCenters_nearest  days_exposition  \n",
              "0              16028.0              NaN  \n",
              "1              18603.0             81.0  \n",
              "2              13933.0            558.0  \n",
              "3               6800.0            424.0  \n",
              "4               8098.0            121.0  "
            ],
            "text/html": [
              "\n",
              "  <div id=\"df-34d3bf29-12c2-4c58-95c8-76cfb1bf43ba\">\n",
              "    <div class=\"colab-df-container\">\n",
              "      <div>\n",
              "<style scoped>\n",
              "    .dataframe tbody tr th:only-of-type {\n",
              "        vertical-align: middle;\n",
              "    }\n",
              "\n",
              "    .dataframe tbody tr th {\n",
              "        vertical-align: top;\n",
              "    }\n",
              "\n",
              "    .dataframe thead th {\n",
              "        text-align: right;\n",
              "    }\n",
              "</style>\n",
              "<table border=\"1\" class=\"dataframe\">\n",
              "  <thead>\n",
              "    <tr style=\"text-align: right;\">\n",
              "      <th></th>\n",
              "      <th>last_price</th>\n",
              "      <th>total_area</th>\n",
              "      <th>first_day_exposition</th>\n",
              "      <th>rooms</th>\n",
              "      <th>ceiling_height</th>\n",
              "      <th>floors_total</th>\n",
              "      <th>living_area</th>\n",
              "      <th>floor</th>\n",
              "      <th>kitchen_area</th>\n",
              "      <th>balcony</th>\n",
              "      <th>locality_name</th>\n",
              "      <th>cityCenters_nearest</th>\n",
              "      <th>days_exposition</th>\n",
              "    </tr>\n",
              "  </thead>\n",
              "  <tbody>\n",
              "    <tr>\n",
              "      <th>0</th>\n",
              "      <td>13000000</td>\n",
              "      <td>108.0</td>\n",
              "      <td>2019-03-07</td>\n",
              "      <td>3</td>\n",
              "      <td>2.70</td>\n",
              "      <td>16</td>\n",
              "      <td>51.0</td>\n",
              "      <td>8</td>\n",
              "      <td>25.0</td>\n",
              "      <td>0</td>\n",
              "      <td>Санкт-Петербург</td>\n",
              "      <td>16028.0</td>\n",
              "      <td>NaN</td>\n",
              "    </tr>\n",
              "    <tr>\n",
              "      <th>1</th>\n",
              "      <td>3350000</td>\n",
              "      <td>40.4</td>\n",
              "      <td>2018-12-04</td>\n",
              "      <td>1</td>\n",
              "      <td>NaN</td>\n",
              "      <td>11</td>\n",
              "      <td>18.6</td>\n",
              "      <td>1</td>\n",
              "      <td>11.0</td>\n",
              "      <td>2</td>\n",
              "      <td>посёлок Шушары</td>\n",
              "      <td>18603.0</td>\n",
              "      <td>81.0</td>\n",
              "    </tr>\n",
              "    <tr>\n",
              "      <th>2</th>\n",
              "      <td>5196000</td>\n",
              "      <td>56.0</td>\n",
              "      <td>2015-08-20</td>\n",
              "      <td>2</td>\n",
              "      <td>NaN</td>\n",
              "      <td>5</td>\n",
              "      <td>34.3</td>\n",
              "      <td>4</td>\n",
              "      <td>8.3</td>\n",
              "      <td>0</td>\n",
              "      <td>Санкт-Петербург</td>\n",
              "      <td>13933.0</td>\n",
              "      <td>558.0</td>\n",
              "    </tr>\n",
              "    <tr>\n",
              "      <th>3</th>\n",
              "      <td>64900000</td>\n",
              "      <td>159.0</td>\n",
              "      <td>2015-07-24</td>\n",
              "      <td>3</td>\n",
              "      <td>NaN</td>\n",
              "      <td>14</td>\n",
              "      <td>NaN</td>\n",
              "      <td>9</td>\n",
              "      <td>NaN</td>\n",
              "      <td>0</td>\n",
              "      <td>Санкт-Петербург</td>\n",
              "      <td>6800.0</td>\n",
              "      <td>424.0</td>\n",
              "    </tr>\n",
              "    <tr>\n",
              "      <th>4</th>\n",
              "      <td>10000000</td>\n",
              "      <td>100.0</td>\n",
              "      <td>2018-06-19</td>\n",
              "      <td>2</td>\n",
              "      <td>3.03</td>\n",
              "      <td>14</td>\n",
              "      <td>32.0</td>\n",
              "      <td>13</td>\n",
              "      <td>41.0</td>\n",
              "      <td>0</td>\n",
              "      <td>Санкт-Петербург</td>\n",
              "      <td>8098.0</td>\n",
              "      <td>121.0</td>\n",
              "    </tr>\n",
              "  </tbody>\n",
              "</table>\n",
              "</div>\n",
              "      <button class=\"colab-df-convert\" onclick=\"convertToInteractive('df-34d3bf29-12c2-4c58-95c8-76cfb1bf43ba')\"\n",
              "              title=\"Convert this dataframe to an interactive table.\"\n",
              "              style=\"display:none;\">\n",
              "        \n",
              "  <svg xmlns=\"http://www.w3.org/2000/svg\" height=\"24px\"viewBox=\"0 0 24 24\"\n",
              "       width=\"24px\">\n",
              "    <path d=\"M0 0h24v24H0V0z\" fill=\"none\"/>\n",
              "    <path d=\"M18.56 5.44l.94 2.06.94-2.06 2.06-.94-2.06-.94-.94-2.06-.94 2.06-2.06.94zm-11 1L8.5 8.5l.94-2.06 2.06-.94-2.06-.94L8.5 2.5l-.94 2.06-2.06.94zm10 10l.94 2.06.94-2.06 2.06-.94-2.06-.94-.94-2.06-.94 2.06-2.06.94z\"/><path d=\"M17.41 7.96l-1.37-1.37c-.4-.4-.92-.59-1.43-.59-.52 0-1.04.2-1.43.59L10.3 9.45l-7.72 7.72c-.78.78-.78 2.05 0 2.83L4 21.41c.39.39.9.59 1.41.59.51 0 1.02-.2 1.41-.59l7.78-7.78 2.81-2.81c.8-.78.8-2.07 0-2.86zM5.41 20L4 18.59l7.72-7.72 1.47 1.35L5.41 20z\"/>\n",
              "  </svg>\n",
              "      </button>\n",
              "      \n",
              "  <style>\n",
              "    .colab-df-container {\n",
              "      display:flex;\n",
              "      flex-wrap:wrap;\n",
              "      gap: 12px;\n",
              "    }\n",
              "\n",
              "    .colab-df-convert {\n",
              "      background-color: #E8F0FE;\n",
              "      border: none;\n",
              "      border-radius: 50%;\n",
              "      cursor: pointer;\n",
              "      display: none;\n",
              "      fill: #1967D2;\n",
              "      height: 32px;\n",
              "      padding: 0 0 0 0;\n",
              "      width: 32px;\n",
              "    }\n",
              "\n",
              "    .colab-df-convert:hover {\n",
              "      background-color: #E2EBFA;\n",
              "      box-shadow: 0px 1px 2px rgba(60, 64, 67, 0.3), 0px 1px 3px 1px rgba(60, 64, 67, 0.15);\n",
              "      fill: #174EA6;\n",
              "    }\n",
              "\n",
              "    [theme=dark] .colab-df-convert {\n",
              "      background-color: #3B4455;\n",
              "      fill: #D2E3FC;\n",
              "    }\n",
              "\n",
              "    [theme=dark] .colab-df-convert:hover {\n",
              "      background-color: #434B5C;\n",
              "      box-shadow: 0px 1px 3px 1px rgba(0, 0, 0, 0.15);\n",
              "      filter: drop-shadow(0px 1px 2px rgba(0, 0, 0, 0.3));\n",
              "      fill: #FFFFFF;\n",
              "    }\n",
              "  </style>\n",
              "\n",
              "      <script>\n",
              "        const buttonEl =\n",
              "          document.querySelector('#df-34d3bf29-12c2-4c58-95c8-76cfb1bf43ba button.colab-df-convert');\n",
              "        buttonEl.style.display =\n",
              "          google.colab.kernel.accessAllowed ? 'block' : 'none';\n",
              "\n",
              "        async function convertToInteractive(key) {\n",
              "          const element = document.querySelector('#df-34d3bf29-12c2-4c58-95c8-76cfb1bf43ba');\n",
              "          const dataTable =\n",
              "            await google.colab.kernel.invokeFunction('convertToInteractive',\n",
              "                                                     [key], {});\n",
              "          if (!dataTable) return;\n",
              "\n",
              "          const docLinkHtml = 'Like what you see? Visit the ' +\n",
              "            '<a target=\"_blank\" href=https://colab.research.google.com/notebooks/data_table.ipynb>data table notebook</a>'\n",
              "            + ' to learn more about interactive tables.';\n",
              "          element.innerHTML = '';\n",
              "          dataTable['output_type'] = 'display_data';\n",
              "          await google.colab.output.renderOutput(dataTable, element);\n",
              "          const docLink = document.createElement('div');\n",
              "          docLink.innerHTML = docLinkHtml;\n",
              "          element.appendChild(docLink);\n",
              "        }\n",
              "      </script>\n",
              "    </div>\n",
              "  </div>\n",
              "  "
            ]
          },
          "metadata": {},
          "execution_count": 49
        }
      ]
    },
    {
      "cell_type": "code",
      "source": [
        "# Wir werden die Nullwerte in die Spalten living_area und kitchen_area je nach Anzahl der Zimmer in der Wohnung eintragen\n",
        "for rooms in data['rooms'].unique():\n",
        "    median = data.loc[data['rooms'] == rooms, 'living_area'].median()\n",
        "    data.loc[(data['rooms'] == rooms) & (data['living_area'].isna()), 'living_area'] = median\n",
        "\n",
        "    median = data.loc[data['rooms'] == rooms, 'kitchen_area'].median()\n",
        "    data.loc[(data['rooms'] == rooms) & (data['kitchen_area'].isna()), 'kitchen_area'] = median\n",
        "    \n",
        "data.info()\n",
        "data.head() "
      ],
      "metadata": {
        "colab": {
          "base_uri": "https://localhost:8080/",
          "height": 588
        },
        "id": "SmoKesi02q1_",
        "outputId": "c6bb5c63-09e9-4477-c08c-722285439c72"
      },
      "execution_count": null,
      "outputs": [
        {
          "output_type": "stream",
          "name": "stdout",
          "text": [
            "<class 'pandas.core.frame.DataFrame'>\n",
            "Int64Index: 23613 entries, 0 to 23698\n",
            "Data columns (total 13 columns):\n",
            " #   Column                Non-Null Count  Dtype         \n",
            "---  ------                --------------  -----         \n",
            " 0   last_price            23613 non-null  int64         \n",
            " 1   total_area            23613 non-null  float64       \n",
            " 2   first_day_exposition  23613 non-null  datetime64[ns]\n",
            " 3   rooms                 23613 non-null  int64         \n",
            " 4   ceiling_height        14495 non-null  float64       \n",
            " 5   floors_total          23613 non-null  int64         \n",
            " 6   living_area           23613 non-null  float64       \n",
            " 7   floor                 23613 non-null  int64         \n",
            " 8   kitchen_area          23419 non-null  float64       \n",
            " 9   balcony               23613 non-null  int64         \n",
            " 10  locality_name         23565 non-null  object        \n",
            " 11  cityCenters_nearest   23613 non-null  float64       \n",
            " 12  days_exposition       20441 non-null  float64       \n",
            "dtypes: datetime64[ns](1), float64(6), int64(5), object(1)\n",
            "memory usage: 2.5+ MB\n"
          ]
        },
        {
          "output_type": "stream",
          "name": "stderr",
          "text": [
            "/usr/local/lib/python3.7/dist-packages/numpy/lib/nanfunctions.py:1117: RuntimeWarning: Mean of empty slice\n",
            "  return np.nanmean(a, axis, out=out, keepdims=keepdims)\n"
          ]
        },
        {
          "output_type": "execute_result",
          "data": {
            "text/plain": [
              "   last_price  total_area first_day_exposition  rooms  ceiling_height  \\\n",
              "0    13000000       108.0           2019-03-07      3            2.70   \n",
              "1     3350000        40.4           2018-12-04      1             NaN   \n",
              "2     5196000        56.0           2015-08-20      2             NaN   \n",
              "3    64900000       159.0           2015-07-24      3             NaN   \n",
              "4    10000000       100.0           2018-06-19      2            3.03   \n",
              "\n",
              "   floors_total  living_area  floor  kitchen_area  balcony    locality_name  \\\n",
              "0            16         51.0      8          25.0        0  Санкт-Петербург   \n",
              "1            11         18.6      1          11.0        2   посёлок Шушары   \n",
              "2             5         34.3      4           8.3        0  Санкт-Петербург   \n",
              "3            14         45.0      9           9.5        0  Санкт-Петербург   \n",
              "4            14         32.0     13          41.0        0  Санкт-Петербург   \n",
              "\n",
              "   cityCenters_nearest  days_exposition  \n",
              "0              16028.0              NaN  \n",
              "1              18603.0             81.0  \n",
              "2              13933.0            558.0  \n",
              "3               6800.0            424.0  \n",
              "4               8098.0            121.0  "
            ],
            "text/html": [
              "\n",
              "  <div id=\"df-013025ce-0ecf-4153-a4fe-158cd637f5e2\">\n",
              "    <div class=\"colab-df-container\">\n",
              "      <div>\n",
              "<style scoped>\n",
              "    .dataframe tbody tr th:only-of-type {\n",
              "        vertical-align: middle;\n",
              "    }\n",
              "\n",
              "    .dataframe tbody tr th {\n",
              "        vertical-align: top;\n",
              "    }\n",
              "\n",
              "    .dataframe thead th {\n",
              "        text-align: right;\n",
              "    }\n",
              "</style>\n",
              "<table border=\"1\" class=\"dataframe\">\n",
              "  <thead>\n",
              "    <tr style=\"text-align: right;\">\n",
              "      <th></th>\n",
              "      <th>last_price</th>\n",
              "      <th>total_area</th>\n",
              "      <th>first_day_exposition</th>\n",
              "      <th>rooms</th>\n",
              "      <th>ceiling_height</th>\n",
              "      <th>floors_total</th>\n",
              "      <th>living_area</th>\n",
              "      <th>floor</th>\n",
              "      <th>kitchen_area</th>\n",
              "      <th>balcony</th>\n",
              "      <th>locality_name</th>\n",
              "      <th>cityCenters_nearest</th>\n",
              "      <th>days_exposition</th>\n",
              "    </tr>\n",
              "  </thead>\n",
              "  <tbody>\n",
              "    <tr>\n",
              "      <th>0</th>\n",
              "      <td>13000000</td>\n",
              "      <td>108.0</td>\n",
              "      <td>2019-03-07</td>\n",
              "      <td>3</td>\n",
              "      <td>2.70</td>\n",
              "      <td>16</td>\n",
              "      <td>51.0</td>\n",
              "      <td>8</td>\n",
              "      <td>25.0</td>\n",
              "      <td>0</td>\n",
              "      <td>Санкт-Петербург</td>\n",
              "      <td>16028.0</td>\n",
              "      <td>NaN</td>\n",
              "    </tr>\n",
              "    <tr>\n",
              "      <th>1</th>\n",
              "      <td>3350000</td>\n",
              "      <td>40.4</td>\n",
              "      <td>2018-12-04</td>\n",
              "      <td>1</td>\n",
              "      <td>NaN</td>\n",
              "      <td>11</td>\n",
              "      <td>18.6</td>\n",
              "      <td>1</td>\n",
              "      <td>11.0</td>\n",
              "      <td>2</td>\n",
              "      <td>посёлок Шушары</td>\n",
              "      <td>18603.0</td>\n",
              "      <td>81.0</td>\n",
              "    </tr>\n",
              "    <tr>\n",
              "      <th>2</th>\n",
              "      <td>5196000</td>\n",
              "      <td>56.0</td>\n",
              "      <td>2015-08-20</td>\n",
              "      <td>2</td>\n",
              "      <td>NaN</td>\n",
              "      <td>5</td>\n",
              "      <td>34.3</td>\n",
              "      <td>4</td>\n",
              "      <td>8.3</td>\n",
              "      <td>0</td>\n",
              "      <td>Санкт-Петербург</td>\n",
              "      <td>13933.0</td>\n",
              "      <td>558.0</td>\n",
              "    </tr>\n",
              "    <tr>\n",
              "      <th>3</th>\n",
              "      <td>64900000</td>\n",
              "      <td>159.0</td>\n",
              "      <td>2015-07-24</td>\n",
              "      <td>3</td>\n",
              "      <td>NaN</td>\n",
              "      <td>14</td>\n",
              "      <td>45.0</td>\n",
              "      <td>9</td>\n",
              "      <td>9.5</td>\n",
              "      <td>0</td>\n",
              "      <td>Санкт-Петербург</td>\n",
              "      <td>6800.0</td>\n",
              "      <td>424.0</td>\n",
              "    </tr>\n",
              "    <tr>\n",
              "      <th>4</th>\n",
              "      <td>10000000</td>\n",
              "      <td>100.0</td>\n",
              "      <td>2018-06-19</td>\n",
              "      <td>2</td>\n",
              "      <td>3.03</td>\n",
              "      <td>14</td>\n",
              "      <td>32.0</td>\n",
              "      <td>13</td>\n",
              "      <td>41.0</td>\n",
              "      <td>0</td>\n",
              "      <td>Санкт-Петербург</td>\n",
              "      <td>8098.0</td>\n",
              "      <td>121.0</td>\n",
              "    </tr>\n",
              "  </tbody>\n",
              "</table>\n",
              "</div>\n",
              "      <button class=\"colab-df-convert\" onclick=\"convertToInteractive('df-013025ce-0ecf-4153-a4fe-158cd637f5e2')\"\n",
              "              title=\"Convert this dataframe to an interactive table.\"\n",
              "              style=\"display:none;\">\n",
              "        \n",
              "  <svg xmlns=\"http://www.w3.org/2000/svg\" height=\"24px\"viewBox=\"0 0 24 24\"\n",
              "       width=\"24px\">\n",
              "    <path d=\"M0 0h24v24H0V0z\" fill=\"none\"/>\n",
              "    <path d=\"M18.56 5.44l.94 2.06.94-2.06 2.06-.94-2.06-.94-.94-2.06-.94 2.06-2.06.94zm-11 1L8.5 8.5l.94-2.06 2.06-.94-2.06-.94L8.5 2.5l-.94 2.06-2.06.94zm10 10l.94 2.06.94-2.06 2.06-.94-2.06-.94-.94-2.06-.94 2.06-2.06.94z\"/><path d=\"M17.41 7.96l-1.37-1.37c-.4-.4-.92-.59-1.43-.59-.52 0-1.04.2-1.43.59L10.3 9.45l-7.72 7.72c-.78.78-.78 2.05 0 2.83L4 21.41c.39.39.9.59 1.41.59.51 0 1.02-.2 1.41-.59l7.78-7.78 2.81-2.81c.8-.78.8-2.07 0-2.86zM5.41 20L4 18.59l7.72-7.72 1.47 1.35L5.41 20z\"/>\n",
              "  </svg>\n",
              "      </button>\n",
              "      \n",
              "  <style>\n",
              "    .colab-df-container {\n",
              "      display:flex;\n",
              "      flex-wrap:wrap;\n",
              "      gap: 12px;\n",
              "    }\n",
              "\n",
              "    .colab-df-convert {\n",
              "      background-color: #E8F0FE;\n",
              "      border: none;\n",
              "      border-radius: 50%;\n",
              "      cursor: pointer;\n",
              "      display: none;\n",
              "      fill: #1967D2;\n",
              "      height: 32px;\n",
              "      padding: 0 0 0 0;\n",
              "      width: 32px;\n",
              "    }\n",
              "\n",
              "    .colab-df-convert:hover {\n",
              "      background-color: #E2EBFA;\n",
              "      box-shadow: 0px 1px 2px rgba(60, 64, 67, 0.3), 0px 1px 3px 1px rgba(60, 64, 67, 0.15);\n",
              "      fill: #174EA6;\n",
              "    }\n",
              "\n",
              "    [theme=dark] .colab-df-convert {\n",
              "      background-color: #3B4455;\n",
              "      fill: #D2E3FC;\n",
              "    }\n",
              "\n",
              "    [theme=dark] .colab-df-convert:hover {\n",
              "      background-color: #434B5C;\n",
              "      box-shadow: 0px 1px 3px 1px rgba(0, 0, 0, 0.15);\n",
              "      filter: drop-shadow(0px 1px 2px rgba(0, 0, 0, 0.3));\n",
              "      fill: #FFFFFF;\n",
              "    }\n",
              "  </style>\n",
              "\n",
              "      <script>\n",
              "        const buttonEl =\n",
              "          document.querySelector('#df-013025ce-0ecf-4153-a4fe-158cd637f5e2 button.colab-df-convert');\n",
              "        buttonEl.style.display =\n",
              "          google.colab.kernel.accessAllowed ? 'block' : 'none';\n",
              "\n",
              "        async function convertToInteractive(key) {\n",
              "          const element = document.querySelector('#df-013025ce-0ecf-4153-a4fe-158cd637f5e2');\n",
              "          const dataTable =\n",
              "            await google.colab.kernel.invokeFunction('convertToInteractive',\n",
              "                                                     [key], {});\n",
              "          if (!dataTable) return;\n",
              "\n",
              "          const docLinkHtml = 'Like what you see? Visit the ' +\n",
              "            '<a target=\"_blank\" href=https://colab.research.google.com/notebooks/data_table.ipynb>data table notebook</a>'\n",
              "            + ' to learn more about interactive tables.';\n",
              "          element.innerHTML = '';\n",
              "          dataTable['output_type'] = 'display_data';\n",
              "          await google.colab.output.renderOutput(dataTable, element);\n",
              "          const docLink = document.createElement('div');\n",
              "          docLink.innerHTML = docLinkHtml;\n",
              "          element.appendChild(docLink);\n",
              "        }\n",
              "      </script>\n",
              "    </div>\n",
              "  </div>\n",
              "  "
            ]
          },
          "metadata": {},
          "execution_count": 50
        }
      ]
    },
    {
      "cell_type": "markdown",
      "source": [
        "**Schlussfolgerungen**\n",
        "\n",
        "Es gibt keine Duplikate. Spalten mit Daten, die für die Analyse nicht benötigt werden, wurden entfernt, um die Tabelle nicht zu überladen. Wir haben die Nullwerte auf unterschiedliche Weise ausgefüllt, abhängig von der Anzahl der Nullwerte und der Bedeutung der in der Spalte enthaltenen Daten. Separat haben wir Nullwerte in die Spalten eingetragen, die Informationen über Wohnfläche und Küchenbereich enthalten: Wir haben Medianwerte in Abhängigkeit von der Anzahl der Zimmer in der Wohnung angegeben, damit die Berechnungen genauer waren. Zur weiteren Analyse haben wir das Datenformat in der Spalte first_day_exposition in datetime64[ns] geändert. Zur leichteren Wahrnehmung wurden die Werte in den einzelnen Spalten in Ganzzahlen umgewandelt. Die Daten sind nun bereit für die Analyse."
      ],
      "metadata": {
        "id": "L82sZ9XqZKhK"
      }
    },
    {
      "cell_type": "markdown",
      "source": [
        "# Berechnungen durchführen"
      ],
      "metadata": {
        "id": "5aefizB9ZdEC"
      }
    },
    {
      "cell_type": "code",
      "source": [
        "# Wir berechnen die erforderlichen Verhältnisse und ergänzen die Tabelle\n",
        "data['price_per_meter'] = data['last_price'] / data['total_area']\n",
        "data['part_living_total'] = data['living_area'] / data['total_area']\n",
        "data['part_kitchen_total'] = data['kitchen_area'] / data['total_area']"
      ],
      "metadata": {
        "id": "OryeYdyqZMqa"
      },
      "execution_count": null,
      "outputs": []
    },
    {
      "cell_type": "code",
      "source": [
        "# Wir extrahieren den Wochentag, den Monat und das Jahr und fügen der Tabelle Spalten hinzu\n",
        "data['weekday'] = data['first_day_exposition'].dt.weekday\n",
        "data['month'] = data['first_day_exposition'].dt.month\n",
        "data['year'] = data['first_day_exposition'].dt.year"
      ],
      "metadata": {
        "id": "4vDDQs637uAB"
      },
      "execution_count": null,
      "outputs": []
    },
    {
      "cell_type": "code",
      "source": [
        "# Wir werden eine zusätzliche Spalte mit Bodentypdaten bilden (1 - erste, 3 - letzte, 2 - andere)\n",
        "def floor_type(row):\n",
        "    floor = row['floor']\n",
        "    floors_total = row['floors_total']\n",
        "    if floor == 1:\n",
        "        return 1\n",
        "    if floor == floors_total:\n",
        "        return 3\n",
        "    return 2\n",
        "\n",
        "data['floor_type'] = data.apply(floor_type, axis=1)\n",
        "\n",
        "data.head()"
      ],
      "metadata": {
        "id": "hlfRecse7-mg",
        "outputId": "ee59ab0e-5bc9-498b-c961-a1ac8931c656",
        "colab": {
          "base_uri": "https://localhost:8080/",
          "height": 357
        }
      },
      "execution_count": null,
      "outputs": [
        {
          "output_type": "execute_result",
          "data": {
            "text/plain": [
              "   last_price  total_area first_day_exposition  rooms  ceiling_height  \\\n",
              "0    13000000       108.0           2019-03-07      3            2.70   \n",
              "1     3350000        40.4           2018-12-04      1             NaN   \n",
              "2     5196000        56.0           2015-08-20      2             NaN   \n",
              "3    64900000       159.0           2015-07-24      3             NaN   \n",
              "4    10000000       100.0           2018-06-19      2            3.03   \n",
              "\n",
              "   floors_total  living_area  floor  kitchen_area  balcony    locality_name  \\\n",
              "0            16         51.0      8          25.0        0  Санкт-Петербург   \n",
              "1            11         18.6      1          11.0        2   посёлок Шушары   \n",
              "2             5         34.3      4           8.3        0  Санкт-Петербург   \n",
              "3            14         45.0      9           9.5        0  Санкт-Петербург   \n",
              "4            14         32.0     13          41.0        0  Санкт-Петербург   \n",
              "\n",
              "   cityCenters_nearest  days_exposition  price_per_meter  part_living_total  \\\n",
              "0              16028.0              NaN    120370.370370           0.472222   \n",
              "1              18603.0             81.0     82920.792079           0.460396   \n",
              "2              13933.0            558.0     92785.714286           0.612500   \n",
              "3               6800.0            424.0    408176.100629           0.283019   \n",
              "4               8098.0            121.0    100000.000000           0.320000   \n",
              "\n",
              "   part_kitchen_total  weekday  month  year  floor_type  \n",
              "0            0.231481        3      3  2019           2  \n",
              "1            0.272277        1     12  2018           1  \n",
              "2            0.148214        3      8  2015           2  \n",
              "3            0.059748        4      7  2015           2  \n",
              "4            0.410000        1      6  2018           2  "
            ],
            "text/html": [
              "\n",
              "  <div id=\"df-71547dec-4427-4a56-9033-59214b77254e\">\n",
              "    <div class=\"colab-df-container\">\n",
              "      <div>\n",
              "<style scoped>\n",
              "    .dataframe tbody tr th:only-of-type {\n",
              "        vertical-align: middle;\n",
              "    }\n",
              "\n",
              "    .dataframe tbody tr th {\n",
              "        vertical-align: top;\n",
              "    }\n",
              "\n",
              "    .dataframe thead th {\n",
              "        text-align: right;\n",
              "    }\n",
              "</style>\n",
              "<table border=\"1\" class=\"dataframe\">\n",
              "  <thead>\n",
              "    <tr style=\"text-align: right;\">\n",
              "      <th></th>\n",
              "      <th>last_price</th>\n",
              "      <th>total_area</th>\n",
              "      <th>first_day_exposition</th>\n",
              "      <th>rooms</th>\n",
              "      <th>ceiling_height</th>\n",
              "      <th>floors_total</th>\n",
              "      <th>living_area</th>\n",
              "      <th>floor</th>\n",
              "      <th>kitchen_area</th>\n",
              "      <th>balcony</th>\n",
              "      <th>locality_name</th>\n",
              "      <th>cityCenters_nearest</th>\n",
              "      <th>days_exposition</th>\n",
              "      <th>price_per_meter</th>\n",
              "      <th>part_living_total</th>\n",
              "      <th>part_kitchen_total</th>\n",
              "      <th>weekday</th>\n",
              "      <th>month</th>\n",
              "      <th>year</th>\n",
              "      <th>floor_type</th>\n",
              "    </tr>\n",
              "  </thead>\n",
              "  <tbody>\n",
              "    <tr>\n",
              "      <th>0</th>\n",
              "      <td>13000000</td>\n",
              "      <td>108.0</td>\n",
              "      <td>2019-03-07</td>\n",
              "      <td>3</td>\n",
              "      <td>2.70</td>\n",
              "      <td>16</td>\n",
              "      <td>51.0</td>\n",
              "      <td>8</td>\n",
              "      <td>25.0</td>\n",
              "      <td>0</td>\n",
              "      <td>Санкт-Петербург</td>\n",
              "      <td>16028.0</td>\n",
              "      <td>NaN</td>\n",
              "      <td>120370.370370</td>\n",
              "      <td>0.472222</td>\n",
              "      <td>0.231481</td>\n",
              "      <td>3</td>\n",
              "      <td>3</td>\n",
              "      <td>2019</td>\n",
              "      <td>2</td>\n",
              "    </tr>\n",
              "    <tr>\n",
              "      <th>1</th>\n",
              "      <td>3350000</td>\n",
              "      <td>40.4</td>\n",
              "      <td>2018-12-04</td>\n",
              "      <td>1</td>\n",
              "      <td>NaN</td>\n",
              "      <td>11</td>\n",
              "      <td>18.6</td>\n",
              "      <td>1</td>\n",
              "      <td>11.0</td>\n",
              "      <td>2</td>\n",
              "      <td>посёлок Шушары</td>\n",
              "      <td>18603.0</td>\n",
              "      <td>81.0</td>\n",
              "      <td>82920.792079</td>\n",
              "      <td>0.460396</td>\n",
              "      <td>0.272277</td>\n",
              "      <td>1</td>\n",
              "      <td>12</td>\n",
              "      <td>2018</td>\n",
              "      <td>1</td>\n",
              "    </tr>\n",
              "    <tr>\n",
              "      <th>2</th>\n",
              "      <td>5196000</td>\n",
              "      <td>56.0</td>\n",
              "      <td>2015-08-20</td>\n",
              "      <td>2</td>\n",
              "      <td>NaN</td>\n",
              "      <td>5</td>\n",
              "      <td>34.3</td>\n",
              "      <td>4</td>\n",
              "      <td>8.3</td>\n",
              "      <td>0</td>\n",
              "      <td>Санкт-Петербург</td>\n",
              "      <td>13933.0</td>\n",
              "      <td>558.0</td>\n",
              "      <td>92785.714286</td>\n",
              "      <td>0.612500</td>\n",
              "      <td>0.148214</td>\n",
              "      <td>3</td>\n",
              "      <td>8</td>\n",
              "      <td>2015</td>\n",
              "      <td>2</td>\n",
              "    </tr>\n",
              "    <tr>\n",
              "      <th>3</th>\n",
              "      <td>64900000</td>\n",
              "      <td>159.0</td>\n",
              "      <td>2015-07-24</td>\n",
              "      <td>3</td>\n",
              "      <td>NaN</td>\n",
              "      <td>14</td>\n",
              "      <td>45.0</td>\n",
              "      <td>9</td>\n",
              "      <td>9.5</td>\n",
              "      <td>0</td>\n",
              "      <td>Санкт-Петербург</td>\n",
              "      <td>6800.0</td>\n",
              "      <td>424.0</td>\n",
              "      <td>408176.100629</td>\n",
              "      <td>0.283019</td>\n",
              "      <td>0.059748</td>\n",
              "      <td>4</td>\n",
              "      <td>7</td>\n",
              "      <td>2015</td>\n",
              "      <td>2</td>\n",
              "    </tr>\n",
              "    <tr>\n",
              "      <th>4</th>\n",
              "      <td>10000000</td>\n",
              "      <td>100.0</td>\n",
              "      <td>2018-06-19</td>\n",
              "      <td>2</td>\n",
              "      <td>3.03</td>\n",
              "      <td>14</td>\n",
              "      <td>32.0</td>\n",
              "      <td>13</td>\n",
              "      <td>41.0</td>\n",
              "      <td>0</td>\n",
              "      <td>Санкт-Петербург</td>\n",
              "      <td>8098.0</td>\n",
              "      <td>121.0</td>\n",
              "      <td>100000.000000</td>\n",
              "      <td>0.320000</td>\n",
              "      <td>0.410000</td>\n",
              "      <td>1</td>\n",
              "      <td>6</td>\n",
              "      <td>2018</td>\n",
              "      <td>2</td>\n",
              "    </tr>\n",
              "  </tbody>\n",
              "</table>\n",
              "</div>\n",
              "      <button class=\"colab-df-convert\" onclick=\"convertToInteractive('df-71547dec-4427-4a56-9033-59214b77254e')\"\n",
              "              title=\"Convert this dataframe to an interactive table.\"\n",
              "              style=\"display:none;\">\n",
              "        \n",
              "  <svg xmlns=\"http://www.w3.org/2000/svg\" height=\"24px\"viewBox=\"0 0 24 24\"\n",
              "       width=\"24px\">\n",
              "    <path d=\"M0 0h24v24H0V0z\" fill=\"none\"/>\n",
              "    <path d=\"M18.56 5.44l.94 2.06.94-2.06 2.06-.94-2.06-.94-.94-2.06-.94 2.06-2.06.94zm-11 1L8.5 8.5l.94-2.06 2.06-.94-2.06-.94L8.5 2.5l-.94 2.06-2.06.94zm10 10l.94 2.06.94-2.06 2.06-.94-2.06-.94-.94-2.06-.94 2.06-2.06.94z\"/><path d=\"M17.41 7.96l-1.37-1.37c-.4-.4-.92-.59-1.43-.59-.52 0-1.04.2-1.43.59L10.3 9.45l-7.72 7.72c-.78.78-.78 2.05 0 2.83L4 21.41c.39.39.9.59 1.41.59.51 0 1.02-.2 1.41-.59l7.78-7.78 2.81-2.81c.8-.78.8-2.07 0-2.86zM5.41 20L4 18.59l7.72-7.72 1.47 1.35L5.41 20z\"/>\n",
              "  </svg>\n",
              "      </button>\n",
              "      \n",
              "  <style>\n",
              "    .colab-df-container {\n",
              "      display:flex;\n",
              "      flex-wrap:wrap;\n",
              "      gap: 12px;\n",
              "    }\n",
              "\n",
              "    .colab-df-convert {\n",
              "      background-color: #E8F0FE;\n",
              "      border: none;\n",
              "      border-radius: 50%;\n",
              "      cursor: pointer;\n",
              "      display: none;\n",
              "      fill: #1967D2;\n",
              "      height: 32px;\n",
              "      padding: 0 0 0 0;\n",
              "      width: 32px;\n",
              "    }\n",
              "\n",
              "    .colab-df-convert:hover {\n",
              "      background-color: #E2EBFA;\n",
              "      box-shadow: 0px 1px 2px rgba(60, 64, 67, 0.3), 0px 1px 3px 1px rgba(60, 64, 67, 0.15);\n",
              "      fill: #174EA6;\n",
              "    }\n",
              "\n",
              "    [theme=dark] .colab-df-convert {\n",
              "      background-color: #3B4455;\n",
              "      fill: #D2E3FC;\n",
              "    }\n",
              "\n",
              "    [theme=dark] .colab-df-convert:hover {\n",
              "      background-color: #434B5C;\n",
              "      box-shadow: 0px 1px 3px 1px rgba(0, 0, 0, 0.15);\n",
              "      filter: drop-shadow(0px 1px 2px rgba(0, 0, 0, 0.3));\n",
              "      fill: #FFFFFF;\n",
              "    }\n",
              "  </style>\n",
              "\n",
              "      <script>\n",
              "        const buttonEl =\n",
              "          document.querySelector('#df-71547dec-4427-4a56-9033-59214b77254e button.colab-df-convert');\n",
              "        buttonEl.style.display =\n",
              "          google.colab.kernel.accessAllowed ? 'block' : 'none';\n",
              "\n",
              "        async function convertToInteractive(key) {\n",
              "          const element = document.querySelector('#df-71547dec-4427-4a56-9033-59214b77254e');\n",
              "          const dataTable =\n",
              "            await google.colab.kernel.invokeFunction('convertToInteractive',\n",
              "                                                     [key], {});\n",
              "          if (!dataTable) return;\n",
              "\n",
              "          const docLinkHtml = 'Like what you see? Visit the ' +\n",
              "            '<a target=\"_blank\" href=https://colab.research.google.com/notebooks/data_table.ipynb>data table notebook</a>'\n",
              "            + ' to learn more about interactive tables.';\n",
              "          element.innerHTML = '';\n",
              "          dataTable['output_type'] = 'display_data';\n",
              "          await google.colab.output.renderOutput(dataTable, element);\n",
              "          const docLink = document.createElement('div');\n",
              "          docLink.innerHTML = docLinkHtml;\n",
              "          element.appendChild(docLink);\n",
              "        }\n",
              "      </script>\n",
              "    </div>\n",
              "  </div>\n",
              "  "
            ]
          },
          "metadata": {},
          "execution_count": 53
        }
      ]
    },
    {
      "cell_type": "markdown",
      "source": [
        "**Schlussfolgerungen**\n",
        "\n",
        "Wir haben der Tabelle Spalten hinzugefügt, die für die weitere Datenanalyse benötigt werden."
      ],
      "metadata": {
        "id": "NnvbytbABufJ"
      }
    },
    {
      "cell_type": "markdown",
      "source": [
        "# Explorative Datenanalyse"
      ],
      "metadata": {
        "id": "wWzSKRZ5CleJ"
      }
    },
    {
      "cell_type": "code",
      "source": [
        "# Wir erstellen Histogramme für Parameter: Fläche, Preis, Anzahl der Zimmer, Deckenhöhe\n",
        "data.plot(kind='hist', y='total_area', bins=100, alpha=1, grid=True, legend=True, figsize=(15,5))\n",
        "data.plot(kind='hist', y='last_price', bins=100, alpha=1, grid=True, legend=True, figsize=(15,5))\n",
        "data.plot(kind='hist', y='rooms', bins=10, alpha=1, grid=True, legend=True, figsize=(15,5))\n",
        "data.plot(kind='hist', y='ceiling_height', bins=100, alpha=1, grid=True, legend=True, figsize=(15,5))\n",
        "\n",
        "print(len(data.query('last_price < 17000000')) / len(data))\n",
        "print(len(data.query('total_area < 150')) / len(data))\n",
        "print(len(data.query('rooms < 7')) / len(data))\n",
        "print(len(data.query('ceiling_height < 4')) / len(data))"
      ],
      "metadata": {
        "id": "e4UDueIHCnfQ",
        "outputId": "e3a173e3-2603-49a3-b4a0-9d17e3d8cc02",
        "colab": {
          "base_uri": "https://localhost:8080/",
          "height": 1000
        }
      },
      "execution_count": null,
      "outputs": [
        {
          "output_type": "stream",
          "name": "stdout",
          "text": [
            "0.9590479820437895\n",
            "0.9753949095837039\n",
            "0.9961885402109008\n",
            "0.6090289247448439\n"
          ]
        },
        {
          "output_type": "display_data",
          "data": {
            "text/plain": [
              "<Figure size 1080x360 with 1 Axes>"
            ],
            "image/png": "[encoded data removed]"
          },
          "metadata": {
            "needs_background": "light"
          }
        },
        {
          "output_type": "display_data",
          "data": {
            "text/plain": [
              "<Figure size 1080x360 with 1 Axes>"
            ],
            "image/png": "[encoded data removed]"
          },
          "metadata": {
            "needs_background": "light"
          }
        },
        {
          "output_type": "display_data",
          "data": {
            "text/plain": [
              "<Figure size 1080x360 with 1 Axes>"
            ],
            "image/png": "[encoded data removed]"
          },
          "metadata": {
            "needs_background": "light"
          }
        },
        {
          "output_type": "display_data",
          "data": {
            "text/plain": [
              "<Figure size 1080x360 with 1 Axes>"
            ],
            "image/png": "[encoded data removed]"
          },
          "metadata": {
            "needs_background": "light"
          }
        }
      ]
    },
    {
      "cell_type": "markdown",
      "source": [
        "Zwischenergebnisse\n",
        "\n",
        "Wir haben Diagramme ohne Verwendung des Bereichsparameters erstellt. Wir sehen, dass die Gesamtfläche der Wohnungen 1000 Quadratmeter erreicht. m, jedoch gibt es eine kleine Anzahl von Wohnungen mit einer Fläche von über 150 qm. Es gibt separate Emissionen für den Preis von Wohnungen, aber Wohnungen kosten mehr als 17 Millionen Rubel. Sie sind für die Analyse nicht interessant, die Anzahl der Zimmer erreicht 18, für die Analyse beschränken wir uns jedoch auf Wohnungen mit bis zu 7 Zimmern, wir belassen die Deckenhöhe bei maximal 4 Metern."
      ],
      "metadata": {
        "id": "n9A3dKl9Dc7K"
      }
    },
    {
      "cell_type": "code",
      "source": [
        "# Zur einfacheren Analyse übersetzen wir den Wohnungspreis in Millionen Rubel.\n",
        "data['last_price_mln'] = data['last_price'] / 1000000"
      ],
      "metadata": {
        "id": "aOYjO_MqCzjJ"
      },
      "execution_count": null,
      "outputs": []
    },
    {
      "cell_type": "code",
      "source": [
        "# Wir werden Histogramme für Parameter erstellen: Fläche, Preis, Anzahl der Zimmer, Deckenhöhe unter Verwendung des Bereichsparameters\n",
        "data.plot(kind='hist', y='total_area', range=(20, 150), bins=100, alpha=1, grid=True, legend=True, figsize=(15,5))\n",
        "data.plot(kind='hist', y='last_price_mln', range=(0, 17), bins=100, alpha=1, grid=True, legend=True, figsize=(15,5))\n",
        "data.plot(kind='hist', y='rooms', range=(0, 7), bins=10, alpha=1, grid=True, legend=True, figsize=(15,5))\n",
        "data.plot(kind='hist', y='ceiling_height', range=(2, 4), bins=100, alpha=1, grid=True, legend=True, figsize=(15,5))"
      ],
      "metadata": {
        "id": "_0Q-kDObDxfS",
        "outputId": "1425de25-f8f2-4280-a209-c2a79d543e5a",
        "colab": {
          "base_uri": "https://localhost:8080/",
          "height": 1000
        }
      },
      "execution_count": null,
      "outputs": [
        {
          "output_type": "execute_result",
          "data": {
            "text/plain": [
              "<matplotlib.axes._subplots.AxesSubplot at 0x7f0e8c8c3250>"
            ]
          },
          "metadata": {},
          "execution_count": 56
        },
        {
          "output_type": "display_data",
          "data": {
            "text/plain": [
              "<Figure size 1080x360 with 1 Axes>"
            ],
            "image/png": "[encoded data removed]"
          },
          "metadata": {
            "needs_background": "light"
          }
        },
        {
          "output_type": "display_data",
          "data": {
            "text/plain": [
              "<Figure size 1080x360 with 1 Axes>"
            ],
            "image/png": "[encoded data removed]"
          },
          "metadata": {
            "needs_background": "light"
          }
        },
        {
          "output_type": "display_data",
          "data": {
            "text/plain": [
              "<Figure size 1080x360 with 1 Axes>"
            ],
            "image/png": "[encoded data removed]"
          },
          "metadata": {
            "needs_background": "light"
          }
        },
        {
          "output_type": "display_data",
          "data": {
            "text/plain": [
              "<Figure size 1080x360 with 1 Axes>"
            ],
            "image/png": "[encoded data removed]"
          },
          "metadata": {
            "needs_background": "light"
          }
        }
      ]
    },
    {
      "cell_type": "code",
      "source": [
        "# Wir werden berechnen, welchen Teil der Linien wir genommen haben, um die angegebenen Parameter zu analysieren\n",
        "print(\"{:.1%}\".format(len(data.query('last_price < 17000000')) / len(data)))\n",
        "print(\"{:.1%}\".format(len(data.query('total_area < 150')) / len(data)))\n",
        "print(\"{:.1%}\".format(len(data.query('rooms < 7')) / len(data)))\n",
        "print(\"{:.1%}\".format(len(data.query('ceiling_height < 4')) / len(data)))"
      ],
      "metadata": {
        "id": "QhSs3GzUD8aS",
        "outputId": "5ba57528-f430-470c-cbd7-a264dec49ec9",
        "colab": {
          "base_uri": "https://localhost:8080/"
        }
      },
      "execution_count": null,
      "outputs": [
        {
          "output_type": "stream",
          "name": "stdout",
          "text": [
            "95.9%\n",
            "97.5%\n",
            "99.6%\n",
            "60.9%\n"
          ]
        }
      ]
    },
    {
      "cell_type": "markdown",
      "source": [
        "**Schlussfolgerungen**\n",
        "\n",
        "Die meisten Wohnungen werden mit einer Fläche von 30-70 qm verkauft. Wohnungen mit einer Fläche von mehreren hundert Quadratmetern sind eine Seltenheit oder ein Fehler beim Datenupload. Der stärkste Rückgang der Wohnungsfläche wird nach 100 qm beobachtet. Am häufigsten werden Wohnungen im Preisbereich von 3 bis 5 Millionen Rubel verkauft. Wohnungen im Wert von über 10 Millionen Rubel. selten verkauft. Am beliebtesten in Bezug auf die Anzahl der Zimmer sind Ein- und Zweimünzenwohnungen, von denen jeweils etwa 8.000 verkauft wurden. An zweiter Stelle stehen Dreizimmerwohnungen. Wohnungen mit mehr als sieben Zimmern sind sehr selten. Auf dem Histogramm der Deckenhöhe sehen wir, dass dieser Parameter ziemlich standardisiert ist. Die beliebtesten Wohnungen haben eine Deckenhöhe von etwa 2,5 m. Wir haben etwa 40% der Wohnungen für die Deckenhöhenanalyse verworfen, aber wie wir uns erinnern, werden viele Nullwerte für diesen Parameter gesetzt. Bei anderen Parametern haben die von uns vorgenommenen Einschränkungen das Endergebnis nicht wesentlich beeinflusst."
      ],
      "metadata": {
        "id": "YamwW-fkFuuc"
      }
    },
    {
      "cell_type": "code",
      "source": [
        "# Wir untersuchen den Zeitpunkt des Verkaufs einer Wohnung, erstellen ein Histogramm, berechnen den Durchschnitt und den Median.\n",
        "data.plot(kind='hist', y='days_exposition', bins=100, alpha=1, grid=True, legend=True, figsize=(15,5))\n",
        "print('Durchschnitt {:.1f}'.format(data['days_exposition'].mean()))\n",
        "print('Median {:.1f}'.format(data['days_exposition'].median()))"
      ],
      "metadata": {
        "id": "sWmF8Ag6Eo3b",
        "outputId": "46116b7a-17d6-4f3d-e726-afb7ea5ff00d",
        "colab": {
          "base_uri": "https://localhost:8080/",
          "height": 355
        }
      },
      "execution_count": null,
      "outputs": [
        {
          "output_type": "stream",
          "name": "stdout",
          "text": [
            "Durchschnitt 180.9\n",
            "Median 95.0\n"
          ]
        },
        {
          "output_type": "display_data",
          "data": {
            "text/plain": [
              "<Figure size 1080x360 with 1 Axes>"
            ],
            "image/png": "[encoded data removed]"
          },
          "metadata": {
            "needs_background": "light"
          }
        }
      ]
    },
    {
      "cell_type": "code",
      "source": [
        "# Wir erstellen ein Diagramm für Wohnungsverkaufszeiten von weniger als einem Jahr und sehen, wie viele Daten das sind.\n",
        "print(\"{:.1%}\".format(len(data.query('days_exposition < 365')) / len(data)))\n",
        "data.plot(kind='hist', y='days_exposition', range=(0, 365), bins=100, alpha=1, grid=True, legend=True, figsize=(15,5))"
      ],
      "metadata": {
        "id": "wkbstbP2GGLc",
        "outputId": "7a4a4299-2137-4152-8be2-0af0cbc980df",
        "colab": {
          "base_uri": "https://localhost:8080/",
          "height": 355
        }
      },
      "execution_count": null,
      "outputs": [
        {
          "output_type": "stream",
          "name": "stdout",
          "text": [
            "73.6%\n"
          ]
        },
        {
          "output_type": "execute_result",
          "data": {
            "text/plain": [
              "<matplotlib.axes._subplots.AxesSubplot at 0x7f0e8caaecd0>"
            ]
          },
          "metadata": {},
          "execution_count": 59
        },
        {
          "output_type": "display_data",
          "data": {
            "text/plain": [
              "<Figure size 1080x360 with 1 Axes>"
            ],
            "image/png": "[encoded data removed]"
          },
          "metadata": {
            "needs_background": "light"
          }
        }
      ]
    },
    {
      "cell_type": "code",
      "source": [
        "# Wir erstellen ein Diagramm für die Verkaufsbedingungen von Wohnungen in weniger als 50 Tagen.\n",
        "data.plot(kind='hist', y='days_exposition', range=(0, 50), bins=100, alpha=1, grid=True, legend=True, figsize=(15,5))"
      ],
      "metadata": {
        "id": "xMeWKnkLIYH9",
        "outputId": "7ed403cd-6f69-4a32-aebd-ad112f198cfb",
        "colab": {
          "base_uri": "https://localhost:8080/",
          "height": 337
        }
      },
      "execution_count": null,
      "outputs": [
        {
          "output_type": "execute_result",
          "data": {
            "text/plain": [
              "<matplotlib.axes._subplots.AxesSubplot at 0x7f0e8dde37d0>"
            ]
          },
          "metadata": {},
          "execution_count": 60
        },
        {
          "output_type": "display_data",
          "data": {
            "text/plain": [
              "<Figure size 1080x360 with 1 Axes>"
            ],
            "image/png": "[encoded data removed]"
          },
          "metadata": {
            "needs_background": "light"
          }
        }
      ]
    },
    {
      "cell_type": "markdown",
      "source": [
        "**Schlussfolgerungen**\n",
        "\n",
        "Wir haben Diagramme mit unterschiedlicher Anzahl von \"Körben\" erstellt, um die Antwort auf die gestellte Frage klarer zu erhalten. Alles, was seit mehr als einem Jahr zum Verkauf steht, ist für die Analyse nicht von großem Interesse, es gibt nur sehr wenige solcher Wohnungen. Laut Histogramm sehen wir, dass die meisten Wohnungen innerhalb von zwei Monaten verkauft sind. Es gibt auch anomale Verkaufsbedingungen - etwa 5 Jahre. Vielleicht sind dies Fehler in den Daten, die den arithmetischen Durchschnitt des Zeitraums für den Verkauf von Wohnungen - sechs Monate - erheblich beeinflusst haben. Aussagekräftiger ist in diesem Fall der Wert des Medians – 3 Monate. Interessant ist, dass die meisten Wohnungen genau anderthalb Monate nach Veröffentlichung der Ausschreibung verkauft waren.\n",
        "\n",
        "Wir können daraus schließen, dass dies ein gutes Ergebnis ist, wenn die Wohnung im ersten Monat verkauft wurde. Wenn mehr als zwei Monate vergangen sind, sollten die Verkäufer höchstwahrscheinlich den Preis des Objekts überdenken."
      ],
      "metadata": {
        "id": "gM82eNltJIqY"
      }
    },
    {
      "cell_type": "code",
      "source": [
        "# Wir werden uns ansehen, welche Faktoren die Kosten einer Wohnung am meisten beeinflussen\n",
        "display(data['last_price'].corr(data['total_area']))\n",
        "display(data['last_price'].corr(data['rooms']))\n",
        "display(data['last_price'].corr(data['floor_type']))\n",
        "display(data['last_price'].corr(data['cityCenters_nearest']))\n",
        "display(data['last_price'].corr(data['weekday']))\n",
        "display(data['last_price'].corr(data['month']))\n",
        "display(data['last_price'].corr(data['year']))\n",
        "\n",
        "data.corr()['last_price'].reset_index()"
      ],
      "metadata": {
        "id": "_QRtSOL-Iq4-",
        "outputId": "cf21bc6a-ab41-402f-b205-061cd5538acb",
        "colab": {
          "base_uri": "https://localhost:8080/",
          "height": 767
        }
      },
      "execution_count": null,
      "outputs": [
        {
          "output_type": "display_data",
          "data": {
            "text/plain": [
              "0.6535810085611219"
            ]
          },
          "metadata": {}
        },
        {
          "output_type": "display_data",
          "data": {
            "text/plain": [
              "0.36312416659845514"
            ]
          },
          "metadata": {}
        },
        {
          "output_type": "display_data",
          "data": {
            "text/plain": [
              "0.05887556532281145"
            ]
          },
          "metadata": {}
        },
        {
          "output_type": "display_data",
          "data": {
            "text/plain": [
              "-0.19051092587721635"
            ]
          },
          "metadata": {}
        },
        {
          "output_type": "display_data",
          "data": {
            "text/plain": [
              "0.0012947242289498373"
            ]
          },
          "metadata": {}
        },
        {
          "output_type": "display_data",
          "data": {
            "text/plain": [
              "0.002765232657488408"
            ]
          },
          "metadata": {}
        },
        {
          "output_type": "display_data",
          "data": {
            "text/plain": [
              "-0.04302312009925655"
            ]
          },
          "metadata": {}
        },
        {
          "output_type": "execute_result",
          "data": {
            "text/plain": [
              "                  index  last_price\n",
              "0            last_price    1.000000\n",
              "1            total_area    0.653581\n",
              "2                 rooms    0.363124\n",
              "3        ceiling_height    0.085435\n",
              "4          floors_total   -0.006984\n",
              "5           living_area    0.556011\n",
              "6                 floor    0.026644\n",
              "7          kitchen_area    0.453906\n",
              "8               balcony    0.008598\n",
              "9   cityCenters_nearest   -0.190511\n",
              "10      days_exposition    0.081063\n",
              "11      price_per_meter    0.736746\n",
              "12    part_living_total   -0.036343\n",
              "13   part_kitchen_total   -0.112761\n",
              "14              weekday    0.001295\n",
              "15                month    0.002765\n",
              "16                 year   -0.043023\n",
              "17           floor_type    0.058876\n",
              "18       last_price_mln    1.000000"
            ],
            "text/html": [
              "\n",
              "  <div id=\"df-c044205a-4221-47a2-a5d2-5d6fbfbb86e2\">\n",
              "    <div class=\"colab-df-container\">\n",
              "      <div>\n",
              "<style scoped>\n",
              "    .dataframe tbody tr th:only-of-type {\n",
              "        vertical-align: middle;\n",
              "    }\n",
              "\n",
              "    .dataframe tbody tr th {\n",
              "        vertical-align: top;\n",
              "    }\n",
              "\n",
              "    .dataframe thead th {\n",
              "        text-align: right;\n",
              "    }\n",
              "</style>\n",
              "<table border=\"1\" class=\"dataframe\">\n",
              "  <thead>\n",
              "    <tr style=\"text-align: right;\">\n",
              "      <th></th>\n",
              "      <th>index</th>\n",
              "      <th>last_price</th>\n",
              "    </tr>\n",
              "  </thead>\n",
              "  <tbody>\n",
              "    <tr>\n",
              "      <th>0</th>\n",
              "      <td>last_price</td>\n",
              "      <td>1.000000</td>\n",
              "    </tr>\n",
              "    <tr>\n",
              "      <th>1</th>\n",
              "      <td>total_area</td>\n",
              "      <td>0.653581</td>\n",
              "    </tr>\n",
              "    <tr>\n",
              "      <th>2</th>\n",
              "      <td>rooms</td>\n",
              "      <td>0.363124</td>\n",
              "    </tr>\n",
              "    <tr>\n",
              "      <th>3</th>\n",
              "      <td>ceiling_height</td>\n",
              "      <td>0.085435</td>\n",
              "    </tr>\n",
              "    <tr>\n",
              "      <th>4</th>\n",
              "      <td>floors_total</td>\n",
              "      <td>-0.006984</td>\n",
              "    </tr>\n",
              "    <tr>\n",
              "      <th>5</th>\n",
              "      <td>living_area</td>\n",
              "      <td>0.556011</td>\n",
              "    </tr>\n",
              "    <tr>\n",
              "      <th>6</th>\n",
              "      <td>floor</td>\n",
              "      <td>0.026644</td>\n",
              "    </tr>\n",
              "    <tr>\n",
              "      <th>7</th>\n",
              "      <td>kitchen_area</td>\n",
              "      <td>0.453906</td>\n",
              "    </tr>\n",
              "    <tr>\n",
              "      <th>8</th>\n",
              "      <td>balcony</td>\n",
              "      <td>0.008598</td>\n",
              "    </tr>\n",
              "    <tr>\n",
              "      <th>9</th>\n",
              "      <td>cityCenters_nearest</td>\n",
              "      <td>-0.190511</td>\n",
              "    </tr>\n",
              "    <tr>\n",
              "      <th>10</th>\n",
              "      <td>days_exposition</td>\n",
              "      <td>0.081063</td>\n",
              "    </tr>\n",
              "    <tr>\n",
              "      <th>11</th>\n",
              "      <td>price_per_meter</td>\n",
              "      <td>0.736746</td>\n",
              "    </tr>\n",
              "    <tr>\n",
              "      <th>12</th>\n",
              "      <td>part_living_total</td>\n",
              "      <td>-0.036343</td>\n",
              "    </tr>\n",
              "    <tr>\n",
              "      <th>13</th>\n",
              "      <td>part_kitchen_total</td>\n",
              "      <td>-0.112761</td>\n",
              "    </tr>\n",
              "    <tr>\n",
              "      <th>14</th>\n",
              "      <td>weekday</td>\n",
              "      <td>0.001295</td>\n",
              "    </tr>\n",
              "    <tr>\n",
              "      <th>15</th>\n",
              "      <td>month</td>\n",
              "      <td>0.002765</td>\n",
              "    </tr>\n",
              "    <tr>\n",
              "      <th>16</th>\n",
              "      <td>year</td>\n",
              "      <td>-0.043023</td>\n",
              "    </tr>\n",
              "    <tr>\n",
              "      <th>17</th>\n",
              "      <td>floor_type</td>\n",
              "      <td>0.058876</td>\n",
              "    </tr>\n",
              "    <tr>\n",
              "      <th>18</th>\n",
              "      <td>last_price_mln</td>\n",
              "      <td>1.000000</td>\n",
              "    </tr>\n",
              "  </tbody>\n",
              "</table>\n",
              "</div>\n",
              "      <button class=\"colab-df-convert\" onclick=\"convertToInteractive('df-c044205a-4221-47a2-a5d2-5d6fbfbb86e2')\"\n",
              "              title=\"Convert this dataframe to an interactive table.\"\n",
              "              style=\"display:none;\">\n",
              "        \n",
              "  <svg xmlns=\"http://www.w3.org/2000/svg\" height=\"24px\"viewBox=\"0 0 24 24\"\n",
              "       width=\"24px\">\n",
              "    <path d=\"M0 0h24v24H0V0z\" fill=\"none\"/>\n",
              "    <path d=\"M18.56 5.44l.94 2.06.94-2.06 2.06-.94-2.06-.94-.94-2.06-.94 2.06-2.06.94zm-11 1L8.5 8.5l.94-2.06 2.06-.94-2.06-.94L8.5 2.5l-.94 2.06-2.06.94zm10 10l.94 2.06.94-2.06 2.06-.94-2.06-.94-.94-2.06-.94 2.06-2.06.94z\"/><path d=\"M17.41 7.96l-1.37-1.37c-.4-.4-.92-.59-1.43-.59-.52 0-1.04.2-1.43.59L10.3 9.45l-7.72 7.72c-.78.78-.78 2.05 0 2.83L4 21.41c.39.39.9.59 1.41.59.51 0 1.02-.2 1.41-.59l7.78-7.78 2.81-2.81c.8-.78.8-2.07 0-2.86zM5.41 20L4 18.59l7.72-7.72 1.47 1.35L5.41 20z\"/>\n",
              "  </svg>\n",
              "      </button>\n",
              "      \n",
              "  <style>\n",
              "    .colab-df-container {\n",
              "      display:flex;\n",
              "      flex-wrap:wrap;\n",
              "      gap: 12px;\n",
              "    }\n",
              "\n",
              "    .colab-df-convert {\n",
              "      background-color: #E8F0FE;\n",
              "      border: none;\n",
              "      border-radius: 50%;\n",
              "      cursor: pointer;\n",
              "      display: none;\n",
              "      fill: #1967D2;\n",
              "      height: 32px;\n",
              "      padding: 0 0 0 0;\n",
              "      width: 32px;\n",
              "    }\n",
              "\n",
              "    .colab-df-convert:hover {\n",
              "      background-color: #E2EBFA;\n",
              "      box-shadow: 0px 1px 2px rgba(60, 64, 67, 0.3), 0px 1px 3px 1px rgba(60, 64, 67, 0.15);\n",
              "      fill: #174EA6;\n",
              "    }\n",
              "\n",
              "    [theme=dark] .colab-df-convert {\n",
              "      background-color: #3B4455;\n",
              "      fill: #D2E3FC;\n",
              "    }\n",
              "\n",
              "    [theme=dark] .colab-df-convert:hover {\n",
              "      background-color: #434B5C;\n",
              "      box-shadow: 0px 1px 3px 1px rgba(0, 0, 0, 0.15);\n",
              "      filter: drop-shadow(0px 1px 2px rgba(0, 0, 0, 0.3));\n",
              "      fill: #FFFFFF;\n",
              "    }\n",
              "  </style>\n",
              "\n",
              "      <script>\n",
              "        const buttonEl =\n",
              "          document.querySelector('#df-c044205a-4221-47a2-a5d2-5d6fbfbb86e2 button.colab-df-convert');\n",
              "        buttonEl.style.display =\n",
              "          google.colab.kernel.accessAllowed ? 'block' : 'none';\n",
              "\n",
              "        async function convertToInteractive(key) {\n",
              "          const element = document.querySelector('#df-c044205a-4221-47a2-a5d2-5d6fbfbb86e2');\n",
              "          const dataTable =\n",
              "            await google.colab.kernel.invokeFunction('convertToInteractive',\n",
              "                                                     [key], {});\n",
              "          if (!dataTable) return;\n",
              "\n",
              "          const docLinkHtml = 'Like what you see? Visit the ' +\n",
              "            '<a target=\"_blank\" href=https://colab.research.google.com/notebooks/data_table.ipynb>data table notebook</a>'\n",
              "            + ' to learn more about interactive tables.';\n",
              "          element.innerHTML = '';\n",
              "          dataTable['output_type'] = 'display_data';\n",
              "          await google.colab.output.renderOutput(dataTable, element);\n",
              "          const docLink = document.createElement('div');\n",
              "          docLink.innerHTML = docLinkHtml;\n",
              "          element.appendChild(docLink);\n",
              "        }\n",
              "      </script>\n",
              "    </div>\n",
              "  </div>\n",
              "  "
            ]
          },
          "metadata": {},
          "execution_count": 61
        }
      ]
    },
    {
      "cell_type": "markdown",
      "source": [
        "**Schlussfolgerungen**\n",
        "\n",
        "Natürlich wirken sich die Fläche der zum Verkauf stehenden Wohnung, Wohnfläche, Küchenfläche und die Anzahl der Zimmer am stärksten auf den Preis aus. Wir sehen keinen signifikanten Einfluss der Art der Etage auf den Preis, aber dieses Problem erfordert eine tiefere Untersuchung: Es ist die erste Etage, die die Kosten der Wohnung stark senkt, und nicht die letzte.\n",
        "\n",
        "Ein umgekehrt proportionaler Zusammenhang zwischen dem Preis einer Wohnung und der Entfernung vom Zentrum ist offensichtlich: Je größer die Entfernung vom Zentrum, desto geringer sind die Kosten für die Wohnung.\n",
        "\n",
        "Wochentag, Monat und Jahr der Schaltung einer Anzeige für den Verkauf einer Wohnung haben keinen Einfluss auf den Preis."
      ],
      "metadata": {
        "id": "4HQevzLGKxDI"
      }
    },
    {
      "cell_type": "code",
      "source": [
        "# Wir werden 10 Siedlungen mit der größten Anzahl von Anzeigen auswählen, \n",
        "# den durchschnittlichen Quadratmeterpreis in diesen Siedlungen berechnen, \n",
        "# die Siedlungen mit den höchsten und niedrigsten Wohnkosten auswählen.\n",
        "data_new = data.pivot_table(index='locality_name', values='price_per_meter', aggfunc=['mean', 'count'])\n",
        "data_new.columns = ['mean', 'count'] \n",
        "data_new.sort_values('count', ascending=False).head(10)"
      ],
      "metadata": {
        "id": "qiDS_9fpJaKH",
        "outputId": "a4859648-333d-4cf6-8e14-d052d46e38ae",
        "colab": {
          "base_uri": "https://localhost:8080/",
          "height": 394
        }
      },
      "execution_count": null,
      "outputs": [
        {
          "output_type": "execute_result",
          "data": {
            "text/plain": [
              "                            mean  count\n",
              "locality_name                          \n",
              "Санкт-Петербург    114868.877341  15651\n",
              "посёлок Мурино      85673.259928    520\n",
              "посёлок Шушары      78551.344545    439\n",
              "Всеволожск          68654.473986    398\n",
              "Пушкин             103125.819291    369\n",
              "Колпино             75424.579098    338\n",
              "посёлок Парголово   90175.913458    327\n",
              "Гатчина             68746.146763    307\n",
              "деревня Кудрово     92473.547576    299\n",
              "Выборг              58141.909153    237"
            ],
            "text/html": [
              "\n",
              "  <div id=\"df-9f6b3080-c4d4-4ae6-bace-2322c8e4898d\">\n",
              "    <div class=\"colab-df-container\">\n",
              "      <div>\n",
              "<style scoped>\n",
              "    .dataframe tbody tr th:only-of-type {\n",
              "        vertical-align: middle;\n",
              "    }\n",
              "\n",
              "    .dataframe tbody tr th {\n",
              "        vertical-align: top;\n",
              "    }\n",
              "\n",
              "    .dataframe thead th {\n",
              "        text-align: right;\n",
              "    }\n",
              "</style>\n",
              "<table border=\"1\" class=\"dataframe\">\n",
              "  <thead>\n",
              "    <tr style=\"text-align: right;\">\n",
              "      <th></th>\n",
              "      <th>mean</th>\n",
              "      <th>count</th>\n",
              "    </tr>\n",
              "    <tr>\n",
              "      <th>locality_name</th>\n",
              "      <th></th>\n",
              "      <th></th>\n",
              "    </tr>\n",
              "  </thead>\n",
              "  <tbody>\n",
              "    <tr>\n",
              "      <th>Санкт-Петербург</th>\n",
              "      <td>114868.877341</td>\n",
              "      <td>15651</td>\n",
              "    </tr>\n",
              "    <tr>\n",
              "      <th>посёлок Мурино</th>\n",
              "      <td>85673.259928</td>\n",
              "      <td>520</td>\n",
              "    </tr>\n",
              "    <tr>\n",
              "      <th>посёлок Шушары</th>\n",
              "      <td>78551.344545</td>\n",
              "      <td>439</td>\n",
              "    </tr>\n",
              "    <tr>\n",
              "      <th>Всеволожск</th>\n",
              "      <td>68654.473986</td>\n",
              "      <td>398</td>\n",
              "    </tr>\n",
              "    <tr>\n",
              "      <th>Пушкин</th>\n",
              "      <td>103125.819291</td>\n",
              "      <td>369</td>\n",
              "    </tr>\n",
              "    <tr>\n",
              "      <th>Колпино</th>\n",
              "      <td>75424.579098</td>\n",
              "      <td>338</td>\n",
              "    </tr>\n",
              "    <tr>\n",
              "      <th>посёлок Парголово</th>\n",
              "      <td>90175.913458</td>\n",
              "      <td>327</td>\n",
              "    </tr>\n",
              "    <tr>\n",
              "      <th>Гатчина</th>\n",
              "      <td>68746.146763</td>\n",
              "      <td>307</td>\n",
              "    </tr>\n",
              "    <tr>\n",
              "      <th>деревня Кудрово</th>\n",
              "      <td>92473.547576</td>\n",
              "      <td>299</td>\n",
              "    </tr>\n",
              "    <tr>\n",
              "      <th>Выборг</th>\n",
              "      <td>58141.909153</td>\n",
              "      <td>237</td>\n",
              "    </tr>\n",
              "  </tbody>\n",
              "</table>\n",
              "</div>\n",
              "      <button class=\"colab-df-convert\" onclick=\"convertToInteractive('df-9f6b3080-c4d4-4ae6-bace-2322c8e4898d')\"\n",
              "              title=\"Convert this dataframe to an interactive table.\"\n",
              "              style=\"display:none;\">\n",
              "        \n",
              "  <svg xmlns=\"http://www.w3.org/2000/svg\" height=\"24px\"viewBox=\"0 0 24 24\"\n",
              "       width=\"24px\">\n",
              "    <path d=\"M0 0h24v24H0V0z\" fill=\"none\"/>\n",
              "    <path d=\"M18.56 5.44l.94 2.06.94-2.06 2.06-.94-2.06-.94-.94-2.06-.94 2.06-2.06.94zm-11 1L8.5 8.5l.94-2.06 2.06-.94-2.06-.94L8.5 2.5l-.94 2.06-2.06.94zm10 10l.94 2.06.94-2.06 2.06-.94-2.06-.94-.94-2.06-.94 2.06-2.06.94z\"/><path d=\"M17.41 7.96l-1.37-1.37c-.4-.4-.92-.59-1.43-.59-.52 0-1.04.2-1.43.59L10.3 9.45l-7.72 7.72c-.78.78-.78 2.05 0 2.83L4 21.41c.39.39.9.59 1.41.59.51 0 1.02-.2 1.41-.59l7.78-7.78 2.81-2.81c.8-.78.8-2.07 0-2.86zM5.41 20L4 18.59l7.72-7.72 1.47 1.35L5.41 20z\"/>\n",
              "  </svg>\n",
              "      </button>\n",
              "      \n",
              "  <style>\n",
              "    .colab-df-container {\n",
              "      display:flex;\n",
              "      flex-wrap:wrap;\n",
              "      gap: 12px;\n",
              "    }\n",
              "\n",
              "    .colab-df-convert {\n",
              "      background-color: #E8F0FE;\n",
              "      border: none;\n",
              "      border-radius: 50%;\n",
              "      cursor: pointer;\n",
              "      display: none;\n",
              "      fill: #1967D2;\n",
              "      height: 32px;\n",
              "      padding: 0 0 0 0;\n",
              "      width: 32px;\n",
              "    }\n",
              "\n",
              "    .colab-df-convert:hover {\n",
              "      background-color: #E2EBFA;\n",
              "      box-shadow: 0px 1px 2px rgba(60, 64, 67, 0.3), 0px 1px 3px 1px rgba(60, 64, 67, 0.15);\n",
              "      fill: #174EA6;\n",
              "    }\n",
              "\n",
              "    [theme=dark] .colab-df-convert {\n",
              "      background-color: #3B4455;\n",
              "      fill: #D2E3FC;\n",
              "    }\n",
              "\n",
              "    [theme=dark] .colab-df-convert:hover {\n",
              "      background-color: #434B5C;\n",
              "      box-shadow: 0px 1px 3px 1px rgba(0, 0, 0, 0.15);\n",
              "      filter: drop-shadow(0px 1px 2px rgba(0, 0, 0, 0.3));\n",
              "      fill: #FFFFFF;\n",
              "    }\n",
              "  </style>\n",
              "\n",
              "      <script>\n",
              "        const buttonEl =\n",
              "          document.querySelector('#df-9f6b3080-c4d4-4ae6-bace-2322c8e4898d button.colab-df-convert');\n",
              "        buttonEl.style.display =\n",
              "          google.colab.kernel.accessAllowed ? 'block' : 'none';\n",
              "\n",
              "        async function convertToInteractive(key) {\n",
              "          const element = document.querySelector('#df-9f6b3080-c4d4-4ae6-bace-2322c8e4898d');\n",
              "          const dataTable =\n",
              "            await google.colab.kernel.invokeFunction('convertToInteractive',\n",
              "                                                     [key], {});\n",
              "          if (!dataTable) return;\n",
              "\n",
              "          const docLinkHtml = 'Like what you see? Visit the ' +\n",
              "            '<a target=\"_blank\" href=https://colab.research.google.com/notebooks/data_table.ipynb>data table notebook</a>'\n",
              "            + ' to learn more about interactive tables.';\n",
              "          element.innerHTML = '';\n",
              "          dataTable['output_type'] = 'display_data';\n",
              "          await google.colab.output.renderOutput(dataTable, element);\n",
              "          const docLink = document.createElement('div');\n",
              "          docLink.innerHTML = docLinkHtml;\n",
              "          element.appendChild(docLink);\n",
              "        }\n",
              "      </script>\n",
              "    </div>\n",
              "  </div>\n",
              "  "
            ]
          },
          "metadata": {},
          "execution_count": 62
        }
      ]
    },
    {
      "cell_type": "markdown",
      "source": [
        "**Schlussfolgerungen**\n",
        "\n",
        "Von den 10 Siedlungen mit der größten Anzahl von Anzeigen sind die höchsten Durchschnittskosten pro Quadratmeter Wohnung natürlich in St. Petersburg, die niedrigsten in Wyborg."
      ],
      "metadata": {
        "id": "PqdEXcoWLb2X"
      }
    },
    {
      "cell_type": "code",
      "source": [
        "# Wir werden Wohnungen in St. Petersburg auswählen, \n",
        "# eine Spalte mit der Entfernung zum Zentrum in Kilometern erstellen und auf ganzzahlige Werte runden.\n",
        "flats_SPB = data[data['locality_name'] == 'Санкт-Петербург']\n",
        "flats_SPB['to_centr_km'] = (flats_SPB['cityCenters_nearest'] / 1000).astype('int')\n",
        "flats_SPB.head()"
      ],
      "metadata": {
        "id": "59znqtgDLQeQ",
        "outputId": "458454b3-33f7-4f12-baee-32611596635a",
        "colab": {
          "base_uri": "https://localhost:8080/",
          "height": 404
        }
      },
      "execution_count": null,
      "outputs": [
        {
          "output_type": "stream",
          "name": "stderr",
          "text": [
            "/usr/local/lib/python3.7/dist-packages/ipykernel_launcher.py:4: SettingWithCopyWarning: \n",
            "A value is trying to be set on a copy of a slice from a DataFrame.\n",
            "Try using .loc[row_indexer,col_indexer] = value instead\n",
            "\n",
            "See the caveats in the documentation: https://pandas.pydata.org/pandas-docs/stable/user_guide/indexing.html#returning-a-view-versus-a-copy\n",
            "  after removing the cwd from sys.path.\n"
          ]
        },
        {
          "output_type": "execute_result",
          "data": {
            "text/plain": [
              "   last_price  total_area first_day_exposition  rooms  ceiling_height  \\\n",
              "0    13000000       108.0           2019-03-07      3            2.70   \n",
              "2     5196000        56.0           2015-08-20      2             NaN   \n",
              "3    64900000       159.0           2015-07-24      3             NaN   \n",
              "4    10000000       100.0           2018-06-19      2            3.03   \n",
              "7     7915000        71.6           2019-04-18      2             NaN   \n",
              "\n",
              "   floors_total  living_area  floor  kitchen_area  balcony  ...  \\\n",
              "0            16         51.0      8          25.0        0  ...   \n",
              "2             5         34.3      4           8.3        0  ...   \n",
              "3            14         45.0      9           9.5        0  ...   \n",
              "4            14         32.0     13          41.0        0  ...   \n",
              "7            24         30.5     22          18.9        2  ...   \n",
              "\n",
              "  days_exposition  price_per_meter  part_living_total  part_kitchen_total  \\\n",
              "0             NaN    120370.370370           0.472222            0.231481   \n",
              "2           558.0     92785.714286           0.612500            0.148214   \n",
              "3           424.0    408176.100629           0.283019            0.059748   \n",
              "4           121.0    100000.000000           0.320000            0.410000   \n",
              "7             NaN    110544.692737           0.425978            0.263966   \n",
              "\n",
              "   weekday  month  year  floor_type  last_price_mln  to_centr_km  \n",
              "0        3      3  2019           2          13.000           16  \n",
              "2        3      8  2015           2           5.196           13  \n",
              "3        4      7  2015           2          64.900            6  \n",
              "4        1      6  2018           2          10.000            8  \n",
              "7        3      4  2019           2           7.915           11  \n",
              "\n",
              "[5 rows x 22 columns]"
            ],
            "text/html": [
              "\n",
              "  <div id=\"df-494f7558-10fc-443b-8b1c-0ef5df39f449\">\n",
              "    <div class=\"colab-df-container\">\n",
              "      <div>\n",
              "<style scoped>\n",
              "    .dataframe tbody tr th:only-of-type {\n",
              "        vertical-align: middle;\n",
              "    }\n",
              "\n",
              "    .dataframe tbody tr th {\n",
              "        vertical-align: top;\n",
              "    }\n",
              "\n",
              "    .dataframe thead th {\n",
              "        text-align: right;\n",
              "    }\n",
              "</style>\n",
              "<table border=\"1\" class=\"dataframe\">\n",
              "  <thead>\n",
              "    <tr style=\"text-align: right;\">\n",
              "      <th></th>\n",
              "      <th>last_price</th>\n",
              "      <th>total_area</th>\n",
              "      <th>first_day_exposition</th>\n",
              "      <th>rooms</th>\n",
              "      <th>ceiling_height</th>\n",
              "      <th>floors_total</th>\n",
              "      <th>living_area</th>\n",
              "      <th>floor</th>\n",
              "      <th>kitchen_area</th>\n",
              "      <th>balcony</th>\n",
              "      <th>...</th>\n",
              "      <th>days_exposition</th>\n",
              "      <th>price_per_meter</th>\n",
              "      <th>part_living_total</th>\n",
              "      <th>part_kitchen_total</th>\n",
              "      <th>weekday</th>\n",
              "      <th>month</th>\n",
              "      <th>year</th>\n",
              "      <th>floor_type</th>\n",
              "      <th>last_price_mln</th>\n",
              "      <th>to_centr_km</th>\n",
              "    </tr>\n",
              "  </thead>\n",
              "  <tbody>\n",
              "    <tr>\n",
              "      <th>0</th>\n",
              "      <td>13000000</td>\n",
              "      <td>108.0</td>\n",
              "      <td>2019-03-07</td>\n",
              "      <td>3</td>\n",
              "      <td>2.70</td>\n",
              "      <td>16</td>\n",
              "      <td>51.0</td>\n",
              "      <td>8</td>\n",
              "      <td>25.0</td>\n",
              "      <td>0</td>\n",
              "      <td>...</td>\n",
              "      <td>NaN</td>\n",
              "      <td>120370.370370</td>\n",
              "      <td>0.472222</td>\n",
              "      <td>0.231481</td>\n",
              "      <td>3</td>\n",
              "      <td>3</td>\n",
              "      <td>2019</td>\n",
              "      <td>2</td>\n",
              "      <td>13.000</td>\n",
              "      <td>16</td>\n",
              "    </tr>\n",
              "    <tr>\n",
              "      <th>2</th>\n",
              "      <td>5196000</td>\n",
              "      <td>56.0</td>\n",
              "      <td>2015-08-20</td>\n",
              "      <td>2</td>\n",
              "      <td>NaN</td>\n",
              "      <td>5</td>\n",
              "      <td>34.3</td>\n",
              "      <td>4</td>\n",
              "      <td>8.3</td>\n",
              "      <td>0</td>\n",
              "      <td>...</td>\n",
              "      <td>558.0</td>\n",
              "      <td>92785.714286</td>\n",
              "      <td>0.612500</td>\n",
              "      <td>0.148214</td>\n",
              "      <td>3</td>\n",
              "      <td>8</td>\n",
              "      <td>2015</td>\n",
              "      <td>2</td>\n",
              "      <td>5.196</td>\n",
              "      <td>13</td>\n",
              "    </tr>\n",
              "    <tr>\n",
              "      <th>3</th>\n",
              "      <td>64900000</td>\n",
              "      <td>159.0</td>\n",
              "      <td>2015-07-24</td>\n",
              "      <td>3</td>\n",
              "      <td>NaN</td>\n",
              "      <td>14</td>\n",
              "      <td>45.0</td>\n",
              "      <td>9</td>\n",
              "      <td>9.5</td>\n",
              "      <td>0</td>\n",
              "      <td>...</td>\n",
              "      <td>424.0</td>\n",
              "      <td>408176.100629</td>\n",
              "      <td>0.283019</td>\n",
              "      <td>0.059748</td>\n",
              "      <td>4</td>\n",
              "      <td>7</td>\n",
              "      <td>2015</td>\n",
              "      <td>2</td>\n",
              "      <td>64.900</td>\n",
              "      <td>6</td>\n",
              "    </tr>\n",
              "    <tr>\n",
              "      <th>4</th>\n",
              "      <td>10000000</td>\n",
              "      <td>100.0</td>\n",
              "      <td>2018-06-19</td>\n",
              "      <td>2</td>\n",
              "      <td>3.03</td>\n",
              "      <td>14</td>\n",
              "      <td>32.0</td>\n",
              "      <td>13</td>\n",
              "      <td>41.0</td>\n",
              "      <td>0</td>\n",
              "      <td>...</td>\n",
              "      <td>121.0</td>\n",
              "      <td>100000.000000</td>\n",
              "      <td>0.320000</td>\n",
              "      <td>0.410000</td>\n",
              "      <td>1</td>\n",
              "      <td>6</td>\n",
              "      <td>2018</td>\n",
              "      <td>2</td>\n",
              "      <td>10.000</td>\n",
              "      <td>8</td>\n",
              "    </tr>\n",
              "    <tr>\n",
              "      <th>7</th>\n",
              "      <td>7915000</td>\n",
              "      <td>71.6</td>\n",
              "      <td>2019-04-18</td>\n",
              "      <td>2</td>\n",
              "      <td>NaN</td>\n",
              "      <td>24</td>\n",
              "      <td>30.5</td>\n",
              "      <td>22</td>\n",
              "      <td>18.9</td>\n",
              "      <td>2</td>\n",
              "      <td>...</td>\n",
              "      <td>NaN</td>\n",
              "      <td>110544.692737</td>\n",
              "      <td>0.425978</td>\n",
              "      <td>0.263966</td>\n",
              "      <td>3</td>\n",
              "      <td>4</td>\n",
              "      <td>2019</td>\n",
              "      <td>2</td>\n",
              "      <td>7.915</td>\n",
              "      <td>11</td>\n",
              "    </tr>\n",
              "  </tbody>\n",
              "</table>\n",
              "<p>5 rows × 22 columns</p>\n",
              "</div>\n",
              "      <button class=\"colab-df-convert\" onclick=\"convertToInteractive('df-494f7558-10fc-443b-8b1c-0ef5df39f449')\"\n",
              "              title=\"Convert this dataframe to an interactive table.\"\n",
              "              style=\"display:none;\">\n",
              "        \n",
              "  <svg xmlns=\"http://www.w3.org/2000/svg\" height=\"24px\"viewBox=\"0 0 24 24\"\n",
              "       width=\"24px\">\n",
              "    <path d=\"M0 0h24v24H0V0z\" fill=\"none\"/>\n",
              "    <path d=\"M18.56 5.44l.94 2.06.94-2.06 2.06-.94-2.06-.94-.94-2.06-.94 2.06-2.06.94zm-11 1L8.5 8.5l.94-2.06 2.06-.94-2.06-.94L8.5 2.5l-.94 2.06-2.06.94zm10 10l.94 2.06.94-2.06 2.06-.94-2.06-.94-.94-2.06-.94 2.06-2.06.94z\"/><path d=\"M17.41 7.96l-1.37-1.37c-.4-.4-.92-.59-1.43-.59-.52 0-1.04.2-1.43.59L10.3 9.45l-7.72 7.72c-.78.78-.78 2.05 0 2.83L4 21.41c.39.39.9.59 1.41.59.51 0 1.02-.2 1.41-.59l7.78-7.78 2.81-2.81c.8-.78.8-2.07 0-2.86zM5.41 20L4 18.59l7.72-7.72 1.47 1.35L5.41 20z\"/>\n",
              "  </svg>\n",
              "      </button>\n",
              "      \n",
              "  <style>\n",
              "    .colab-df-container {\n",
              "      display:flex;\n",
              "      flex-wrap:wrap;\n",
              "      gap: 12px;\n",
              "    }\n",
              "\n",
              "    .colab-df-convert {\n",
              "      background-color: #E8F0FE;\n",
              "      border: none;\n",
              "      border-radius: 50%;\n",
              "      cursor: pointer;\n",
              "      display: none;\n",
              "      fill: #1967D2;\n",
              "      height: 32px;\n",
              "      padding: 0 0 0 0;\n",
              "      width: 32px;\n",
              "    }\n",
              "\n",
              "    .colab-df-convert:hover {\n",
              "      background-color: #E2EBFA;\n",
              "      box-shadow: 0px 1px 2px rgba(60, 64, 67, 0.3), 0px 1px 3px 1px rgba(60, 64, 67, 0.15);\n",
              "      fill: #174EA6;\n",
              "    }\n",
              "\n",
              "    [theme=dark] .colab-df-convert {\n",
              "      background-color: #3B4455;\n",
              "      fill: #D2E3FC;\n",
              "    }\n",
              "\n",
              "    [theme=dark] .colab-df-convert:hover {\n",
              "      background-color: #434B5C;\n",
              "      box-shadow: 0px 1px 3px 1px rgba(0, 0, 0, 0.15);\n",
              "      filter: drop-shadow(0px 1px 2px rgba(0, 0, 0, 0.3));\n",
              "      fill: #FFFFFF;\n",
              "    }\n",
              "  </style>\n",
              "\n",
              "      <script>\n",
              "        const buttonEl =\n",
              "          document.querySelector('#df-494f7558-10fc-443b-8b1c-0ef5df39f449 button.colab-df-convert');\n",
              "        buttonEl.style.display =\n",
              "          google.colab.kernel.accessAllowed ? 'block' : 'none';\n",
              "\n",
              "        async function convertToInteractive(key) {\n",
              "          const element = document.querySelector('#df-494f7558-10fc-443b-8b1c-0ef5df39f449');\n",
              "          const dataTable =\n",
              "            await google.colab.kernel.invokeFunction('convertToInteractive',\n",
              "                                                     [key], {});\n",
              "          if (!dataTable) return;\n",
              "\n",
              "          const docLinkHtml = 'Like what you see? Visit the ' +\n",
              "            '<a target=\"_blank\" href=https://colab.research.google.com/notebooks/data_table.ipynb>data table notebook</a>'\n",
              "            + ' to learn more about interactive tables.';\n",
              "          element.innerHTML = '';\n",
              "          dataTable['output_type'] = 'display_data';\n",
              "          await google.colab.output.renderOutput(dataTable, element);\n",
              "          const docLink = document.createElement('div');\n",
              "          docLink.innerHTML = docLinkHtml;\n",
              "          element.appendChild(docLink);\n",
              "        }\n",
              "      </script>\n",
              "    </div>\n",
              "  </div>\n",
              "  "
            ]
          },
          "metadata": {},
          "execution_count": 63
        }
      ]
    },
    {
      "cell_type": "code",
      "source": [
        "# Wir berechnen den Durchschnittspreis pro Kilometer\n",
        "price_per_meter_mean = flats_SPB.groupby('to_centr_km')['price_per_meter'].mean()\n",
        "\n",
        "# Wir zeichnen die Abhängigkeit des Preises einer Wohnung von der Entfernung zum Stadtzentrum auf\n",
        "price_per_meter_mean.plot(x='to_centr_km', y='price_per_meter', style='o-', xlim=(0, 30), ylim=(50000, 200000), figsize=(15, 5), grid=True)"
      ],
      "metadata": {
        "id": "cd8mxCQnL-Xo",
        "outputId": "6074e54b-08a6-403f-bc68-bf94ee601175",
        "colab": {
          "base_uri": "https://localhost:8080/",
          "height": 356
        }
      },
      "execution_count": null,
      "outputs": [
        {
          "output_type": "execute_result",
          "data": {
            "text/plain": [
              "<matplotlib.axes._subplots.AxesSubplot at 0x7f0e8db9c050>"
            ]
          },
          "metadata": {},
          "execution_count": 64
        },
        {
          "output_type": "display_data",
          "data": {
            "text/plain": [
              "<Figure size 1080x360 with 1 Axes>"
            ],
            "image/png": "[encoded data removed]"
          },
          "metadata": {
            "needs_background": "light"
          }
        }
      ]
    },
    {
      "cell_type": "markdown",
      "source": [
        "Schlussfolgerungen\n",
        "\n",
        "Aus der Grafik können wir schließen, dass sich die zentrale Zone in einem Umkreis von acht Kilometern um das Zentrum befindet."
      ],
      "metadata": {
        "id": "QH3OOZ9ENOXa"
      }
    },
    {
      "cell_type": "code",
      "source": [
        "# Wir werden ein Segment von Wohnungen im Stadtzentrum auswählen, \n",
        "# dieses Gebiet analysieren und die folgenden Parameter untersuchen: Fläche, Preis, Anzahl der Zimmer, Deckenhöhe.\n",
        "flats_SPB_centr = flats_SPB[flats_SPB['to_centr_km']<=8]\n",
        "\n",
        "flats_SPB_centr.plot(kind='hist', y='total_area', range=(0, 300), bins=100, alpha=1, grid=True, legend=True, figsize=(15,5))\n",
        "flats_SPB_centr.plot(kind='hist', y='last_price_mln', range=(0, 30), bins=100, alpha=1, grid=True, legend=True, figsize=(15,5))\n",
        "flats_SPB_centr.plot(kind='hist', y='rooms', range=(0, 8), bins=8, alpha=1, grid=True, legend=True, figsize=(15,5))\n",
        "flats_SPB_centr.plot(kind='hist', y='ceiling_height', range=(2, 5), bins=100, alpha=1, grid=True, legend=True, figsize=(15,5))"
      ],
      "metadata": {
        "id": "NmJclCYxOvp8",
        "outputId": "2740c1d2-d49a-4b78-f944-4d155841e39c",
        "colab": {
          "base_uri": "https://localhost:8080/",
          "height": 1000
        }
      },
      "execution_count": null,
      "outputs": [
        {
          "output_type": "execute_result",
          "data": {
            "text/plain": [
              "<matplotlib.axes._subplots.AxesSubplot at 0x7f0e8caaefd0>"
            ]
          },
          "metadata": {},
          "execution_count": 65
        },
        {
          "output_type": "display_data",
          "data": {
            "text/plain": [
              "<Figure size 1080x360 with 1 Axes>"
            ],
            "image/png": "[encoded data removed]"
          },
          "metadata": {
            "needs_background": "light"
          }
        },
        {
          "output_type": "display_data",
          "data": {
            "text/plain": [
              "<Figure size 1080x360 with 1 Axes>"
            ],
            "image/png": "[encoded data removed]"
          },
          "metadata": {
            "needs_background": "light"
          }
        },
        {
          "output_type": "display_data",
          "data": {
            "text/plain": [
              "<Figure size 1080x360 with 1 Axes>"
            ],
            "image/png": "[encoded data removed]"
          },
          "metadata": {
            "needs_background": "light"
          }
        },
        {
          "output_type": "display_data",
          "data": {
            "text/plain": [
              "<Figure size 1080x360 with 1 Axes>"
            ],
            "image/png": "[encoded data removed]"
          },
          "metadata": {
            "needs_background": "light"
          }
        }
      ]
    },
    {
      "cell_type": "code",
      "source": [
        "# Wir werden berechnen, welchen Teil der Linien wir genommen haben, um die angegebenen Parameter zu analysieren\n",
        "print(\"{:.1%}\".format(len(flats_SPB_centr.query('total_area < 300')) / len(flats_SPB_centr)))\n",
        "print(\"{:.1%}\".format(len(flats_SPB_centr.query('last_price_mln < 30')) / len(flats_SPB_centr)))\n",
        "print(\"{:.1%}\".format(len(flats_SPB_centr.query('rooms < 8')) / len(flats_SPB_centr)))\n",
        "print(\"{:.1%}\".format(len(flats_SPB_centr.query('ceiling_height < 5')) / len(flats_SPB_centr)))"
      ],
      "metadata": {
        "id": "HRr33rJgPXr-",
        "outputId": "ce8981dd-071e-4451-823b-1827d037c129",
        "colab": {
          "base_uri": "https://localhost:8080/"
        }
      },
      "execution_count": null,
      "outputs": [
        {
          "output_type": "stream",
          "name": "stdout",
          "text": [
            "98.9%\n",
            "93.2%\n",
            "99.5%\n",
            "65.3%\n"
          ]
        }
      ]
    },
    {
      "cell_type": "markdown",
      "source": [
        "**Schlussfolgerungen**\n",
        "\n",
        "Wir sehen, dass sich in der Innenstadt das Angebot an zum Verkauf stehenden Wohnungen nach rechts verschiebt: Die meisten zum Verkauf stehenden Wohnungen sind 40-100 qm groß. Der stärkste Rückgang der Wohnungsfläche wird nach 200 qm beobachtet. Wohnungen im Stadtzentrum sind teurer, meistens werden Wohnungen in der Preisklasse von 3 bis 14 Millionen Rubel verkauft. Viele Wohnungen kosten zwischen 20 und 30 Millionen Rubel.\n",
        "\n",
        "Am beliebtesten in Bezug auf die Anzahl der Zimmer sind bereits Zwei- und Dreizimmerwohnungen, Einzimmerwohnungen sind auf den zweiten Platz gerückt. Auch viele Vierzimmerwohnungen stehen zum Verkauf – mehr als 500. Auf dem Deckenhöhenhistogramm sehen wir, dass Wohnungen mit einer Deckenhöhe von 3 Metern einen absoluten Vorsprung in der Mitte einnehmen. Es ist offensichtlich, dass sich im zentralen Teil der Stadt die meisten Häuser aus vorrevolutionärer Bauweise befinden."
      ],
      "metadata": {
        "id": "EU-qzcHIQrdt"
      }
    },
    {
      "cell_type": "code",
      "source": [
        "# Wir untersuchen den Einfluss verschiedener Faktoren auf die Kosten einer Wohnung\n",
        "display(flats_SPB_centr['last_price'].corr(flats_SPB_centr['total_area']))\n",
        "display(flats_SPB_centr['last_price'].corr(flats_SPB_centr['rooms']))\n",
        "display(flats_SPB_centr['last_price'].corr(flats_SPB_centr['floor_type']))\n",
        "display(flats_SPB_centr['last_price'].corr(flats_SPB_centr['cityCenters_nearest']))\n",
        "display(flats_SPB_centr['last_price'].corr(flats_SPB_centr['weekday']))\n",
        "display(flats_SPB_centr['last_price'].corr(flats_SPB_centr['month']))\n",
        "display(flats_SPB_centr['last_price'].corr(flats_SPB_centr['year']))\n",
        "\n",
        "flats_SPB_centr.corr()['last_price'].reset_index()"
      ],
      "metadata": {
        "id": "ewKerhFoP8Md",
        "outputId": "70c4afcd-ad41-466a-ba71-917644241b7a",
        "colab": {
          "base_uri": "https://localhost:8080/",
          "height": 798
        }
      },
      "execution_count": null,
      "outputs": [
        {
          "output_type": "display_data",
          "data": {
            "text/plain": [
              "0.6411725061469974"
            ]
          },
          "metadata": {}
        },
        {
          "output_type": "display_data",
          "data": {
            "text/plain": [
              "0.3450224274581447"
            ]
          },
          "metadata": {}
        },
        {
          "output_type": "display_data",
          "data": {
            "text/plain": [
              "0.09878285750153576"
            ]
          },
          "metadata": {}
        },
        {
          "output_type": "display_data",
          "data": {
            "text/plain": [
              "-0.10026105084964257"
            ]
          },
          "metadata": {}
        },
        {
          "output_type": "display_data",
          "data": {
            "text/plain": [
              "0.019812850755545355"
            ]
          },
          "metadata": {}
        },
        {
          "output_type": "display_data",
          "data": {
            "text/plain": [
              "-0.0035339430539036683"
            ]
          },
          "metadata": {}
        },
        {
          "output_type": "display_data",
          "data": {
            "text/plain": [
              "-0.048747963325269254"
            ]
          },
          "metadata": {}
        },
        {
          "output_type": "execute_result",
          "data": {
            "text/plain": [
              "                  index  last_price\n",
              "0            last_price    1.000000\n",
              "1            total_area    0.641173\n",
              "2                 rooms    0.345022\n",
              "3        ceiling_height    0.042884\n",
              "4          floors_total    0.024109\n",
              "5           living_area    0.532951\n",
              "6                 floor    0.106708\n",
              "7          kitchen_area    0.429008\n",
              "8               balcony    0.052346\n",
              "9   cityCenters_nearest   -0.100261\n",
              "10      days_exposition    0.067047\n",
              "11      price_per_meter    0.777097\n",
              "12    part_living_total   -0.063615\n",
              "13   part_kitchen_total   -0.113605\n",
              "14              weekday    0.019813\n",
              "15                month   -0.003534\n",
              "16                 year   -0.048748\n",
              "17           floor_type    0.098783\n",
              "18       last_price_mln    1.000000\n",
              "19          to_centr_km   -0.103017"
            ],
            "text/html": [
              "\n",
              "  <div id=\"df-35161426-42a4-4f92-a7e4-8381438b07dc\">\n",
              "    <div class=\"colab-df-container\">\n",
              "      <div>\n",
              "<style scoped>\n",
              "    .dataframe tbody tr th:only-of-type {\n",
              "        vertical-align: middle;\n",
              "    }\n",
              "\n",
              "    .dataframe tbody tr th {\n",
              "        vertical-align: top;\n",
              "    }\n",
              "\n",
              "    .dataframe thead th {\n",
              "        text-align: right;\n",
              "    }\n",
              "</style>\n",
              "<table border=\"1\" class=\"dataframe\">\n",
              "  <thead>\n",
              "    <tr style=\"text-align: right;\">\n",
              "      <th></th>\n",
              "      <th>index</th>\n",
              "      <th>last_price</th>\n",
              "    </tr>\n",
              "  </thead>\n",
              "  <tbody>\n",
              "    <tr>\n",
              "      <th>0</th>\n",
              "      <td>last_price</td>\n",
              "      <td>1.000000</td>\n",
              "    </tr>\n",
              "    <tr>\n",
              "      <th>1</th>\n",
              "      <td>total_area</td>\n",
              "      <td>0.641173</td>\n",
              "    </tr>\n",
              "    <tr>\n",
              "      <th>2</th>\n",
              "      <td>rooms</td>\n",
              "      <td>0.345022</td>\n",
              "    </tr>\n",
              "    <tr>\n",
              "      <th>3</th>\n",
              "      <td>ceiling_height</td>\n",
              "      <td>0.042884</td>\n",
              "    </tr>\n",
              "    <tr>\n",
              "      <th>4</th>\n",
              "      <td>floors_total</td>\n",
              "      <td>0.024109</td>\n",
              "    </tr>\n",
              "    <tr>\n",
              "      <th>5</th>\n",
              "      <td>living_area</td>\n",
              "      <td>0.532951</td>\n",
              "    </tr>\n",
              "    <tr>\n",
              "      <th>6</th>\n",
              "      <td>floor</td>\n",
              "      <td>0.106708</td>\n",
              "    </tr>\n",
              "    <tr>\n",
              "      <th>7</th>\n",
              "      <td>kitchen_area</td>\n",
              "      <td>0.429008</td>\n",
              "    </tr>\n",
              "    <tr>\n",
              "      <th>8</th>\n",
              "      <td>balcony</td>\n",
              "      <td>0.052346</td>\n",
              "    </tr>\n",
              "    <tr>\n",
              "      <th>9</th>\n",
              "      <td>cityCenters_nearest</td>\n",
              "      <td>-0.100261</td>\n",
              "    </tr>\n",
              "    <tr>\n",
              "      <th>10</th>\n",
              "      <td>days_exposition</td>\n",
              "      <td>0.067047</td>\n",
              "    </tr>\n",
              "    <tr>\n",
              "      <th>11</th>\n",
              "      <td>price_per_meter</td>\n",
              "      <td>0.777097</td>\n",
              "    </tr>\n",
              "    <tr>\n",
              "      <th>12</th>\n",
              "      <td>part_living_total</td>\n",
              "      <td>-0.063615</td>\n",
              "    </tr>\n",
              "    <tr>\n",
              "      <th>13</th>\n",
              "      <td>part_kitchen_total</td>\n",
              "      <td>-0.113605</td>\n",
              "    </tr>\n",
              "    <tr>\n",
              "      <th>14</th>\n",
              "      <td>weekday</td>\n",
              "      <td>0.019813</td>\n",
              "    </tr>\n",
              "    <tr>\n",
              "      <th>15</th>\n",
              "      <td>month</td>\n",
              "      <td>-0.003534</td>\n",
              "    </tr>\n",
              "    <tr>\n",
              "      <th>16</th>\n",
              "      <td>year</td>\n",
              "      <td>-0.048748</td>\n",
              "    </tr>\n",
              "    <tr>\n",
              "      <th>17</th>\n",
              "      <td>floor_type</td>\n",
              "      <td>0.098783</td>\n",
              "    </tr>\n",
              "    <tr>\n",
              "      <th>18</th>\n",
              "      <td>last_price_mln</td>\n",
              "      <td>1.000000</td>\n",
              "    </tr>\n",
              "    <tr>\n",
              "      <th>19</th>\n",
              "      <td>to_centr_km</td>\n",
              "      <td>-0.103017</td>\n",
              "    </tr>\n",
              "  </tbody>\n",
              "</table>\n",
              "</div>\n",
              "      <button class=\"colab-df-convert\" onclick=\"convertToInteractive('df-35161426-42a4-4f92-a7e4-8381438b07dc')\"\n",
              "              title=\"Convert this dataframe to an interactive table.\"\n",
              "              style=\"display:none;\">\n",
              "        \n",
              "  <svg xmlns=\"http://www.w3.org/2000/svg\" height=\"24px\"viewBox=\"0 0 24 24\"\n",
              "       width=\"24px\">\n",
              "    <path d=\"M0 0h24v24H0V0z\" fill=\"none\"/>\n",
              "    <path d=\"M18.56 5.44l.94 2.06.94-2.06 2.06-.94-2.06-.94-.94-2.06-.94 2.06-2.06.94zm-11 1L8.5 8.5l.94-2.06 2.06-.94-2.06-.94L8.5 2.5l-.94 2.06-2.06.94zm10 10l.94 2.06.94-2.06 2.06-.94-2.06-.94-.94-2.06-.94 2.06-2.06.94z\"/><path d=\"M17.41 7.96l-1.37-1.37c-.4-.4-.92-.59-1.43-.59-.52 0-1.04.2-1.43.59L10.3 9.45l-7.72 7.72c-.78.78-.78 2.05 0 2.83L4 21.41c.39.39.9.59 1.41.59.51 0 1.02-.2 1.41-.59l7.78-7.78 2.81-2.81c.8-.78.8-2.07 0-2.86zM5.41 20L4 18.59l7.72-7.72 1.47 1.35L5.41 20z\"/>\n",
              "  </svg>\n",
              "      </button>\n",
              "      \n",
              "  <style>\n",
              "    .colab-df-container {\n",
              "      display:flex;\n",
              "      flex-wrap:wrap;\n",
              "      gap: 12px;\n",
              "    }\n",
              "\n",
              "    .colab-df-convert {\n",
              "      background-color: #E8F0FE;\n",
              "      border: none;\n",
              "      border-radius: 50%;\n",
              "      cursor: pointer;\n",
              "      display: none;\n",
              "      fill: #1967D2;\n",
              "      height: 32px;\n",
              "      padding: 0 0 0 0;\n",
              "      width: 32px;\n",
              "    }\n",
              "\n",
              "    .colab-df-convert:hover {\n",
              "      background-color: #E2EBFA;\n",
              "      box-shadow: 0px 1px 2px rgba(60, 64, 67, 0.3), 0px 1px 3px 1px rgba(60, 64, 67, 0.15);\n",
              "      fill: #174EA6;\n",
              "    }\n",
              "\n",
              "    [theme=dark] .colab-df-convert {\n",
              "      background-color: #3B4455;\n",
              "      fill: #D2E3FC;\n",
              "    }\n",
              "\n",
              "    [theme=dark] .colab-df-convert:hover {\n",
              "      background-color: #434B5C;\n",
              "      box-shadow: 0px 1px 3px 1px rgba(0, 0, 0, 0.15);\n",
              "      filter: drop-shadow(0px 1px 2px rgba(0, 0, 0, 0.3));\n",
              "      fill: #FFFFFF;\n",
              "    }\n",
              "  </style>\n",
              "\n",
              "      <script>\n",
              "        const buttonEl =\n",
              "          document.querySelector('#df-35161426-42a4-4f92-a7e4-8381438b07dc button.colab-df-convert');\n",
              "        buttonEl.style.display =\n",
              "          google.colab.kernel.accessAllowed ? 'block' : 'none';\n",
              "\n",
              "        async function convertToInteractive(key) {\n",
              "          const element = document.querySelector('#df-35161426-42a4-4f92-a7e4-8381438b07dc');\n",
              "          const dataTable =\n",
              "            await google.colab.kernel.invokeFunction('convertToInteractive',\n",
              "                                                     [key], {});\n",
              "          if (!dataTable) return;\n",
              "\n",
              "          const docLinkHtml = 'Like what you see? Visit the ' +\n",
              "            '<a target=\"_blank\" href=https://colab.research.google.com/notebooks/data_table.ipynb>data table notebook</a>'\n",
              "            + ' to learn more about interactive tables.';\n",
              "          element.innerHTML = '';\n",
              "          dataTable['output_type'] = 'display_data';\n",
              "          await google.colab.output.renderOutput(dataTable, element);\n",
              "          const docLink = document.createElement('div');\n",
              "          docLink.innerHTML = docLinkHtml;\n",
              "          element.appendChild(docLink);\n",
              "        }\n",
              "      </script>\n",
              "    </div>\n",
              "  </div>\n",
              "  "
            ]
          },
          "metadata": {},
          "execution_count": 67
        }
      ]
    },
    {
      "cell_type": "markdown",
      "source": [
        "**Schlussfolgerungen**\n",
        "\n",
        "Wie zuvor sehen wir, dass der Preis am stärksten von der Fläche der verkauften Wohnung, der Wohnfläche, beeinflusst wird. Küchenbereich sowie die Anzahl der Zimmer. Der Einfluss des Bodentyps auf den Preis hat merklich zugenommen. Es ist davon auszugehen, dass es im Zentrum viele Touristen gibt, der Autoverkehr ist viel höher, was das Leben im Erdgeschoss weniger komfortabel macht.\n",
        "\n",
        "Die Abhängigkeit des Wohnungspreises von der Entfernung zum Zentrum hat abgenommen. Es ist verständlich, das ist das Zentrum.\n",
        "\n",
        "Der Wochentag, der Monat und das Jahr der Schaltung einer Anzeige für den Verkauf einer Wohnung haben noch keinen Einfluss auf den Preis."
      ],
      "metadata": {
        "id": "1EWFcc0GSLCN"
      }
    },
    {
      "cell_type": "markdown",
      "source": [
        "# Allgemeine Schlussfolgerung"
      ],
      "metadata": {
        "id": "UHtaIealSNg9"
      }
    },
    {
      "cell_type": "markdown",
      "source": [
        "Wir haben mehrere Jahre lang eine Studie über Anzeigen für den Verkauf von Wohnungen in St. Petersburg und benachbarten Siedlungen durchgeführt.\n",
        "\n",
        "Die zur Analyse bereitgestellten Daten enthielten eine Reihe erheblicher Mängel, die behoben wurden.\n",
        "\n",
        "Wir haben einige wichtige Kennziffern errechnet, die wir für die Analyse benötigen: den Quadratmeterpreis, den Anteil von Wohn- und Küchenfläche an der Gesamtfläche der Wohnung. Für die weitere Analyse wurde ermittelt, welche Wohnungen sich im Erdgeschoss, welche im Dachgeschoss und welche in anderen Geschossen befinden. Ausgewählter Wochentag, Monat und Jahr ab dem Datum der Schaltung der Anzeige für den Verkauf der Wohnung.\n",
        "\n",
        "Im Durchschnitt werden Wohnungen für 1,5-3 Monate verkauft. Wenn in dieser Zeit kein Käufer gefunden wurde, sollten die Verkäufer den Preis der Wohnung nach unten korrigieren.\n",
        "\n",
        "Von den 10 Standorten mit der größten Anzahl von Anzeigen, die höchsten durchschnittlichen Kosten pro Quadratmeter Wohnraum in St. Petersburg, die niedrigsten - in Wyborg.\n",
        "\n",
        "Als nächstes haben wir Parameter wie Wohnungspreis, Gesamtfläche, Anzahl der Zimmer und Deckenhöhe für alle Wohnungen und für Wohnungen im Zentrum von St. Petersburg analysiert. Als Ergebnis kamen wir zu dem Ergebnis, dass Wohnungen in der Innenstadt im Durchschnitt eine größere Fläche haben, teurer sind, mehr Zimmer haben und die Decken in der Innenstadt höher sind.\n",
        "\n",
        "Es war interessant zu vergleichen, wie sich einzelne Faktoren auf die Kosten aller untersuchten Wohnungen und Wohnungen im Zentrum von St. Petersburg auswirken. In beiden Fällen wird der Preis einer Wohnung durch ihre Fläche und die Anzahl der Zimmer beeinflusst. Die Art der Etage, auf der sich die Wohnung befindet, hat einen größeren Einfluss auf den Preis in der Innenstadt. Je weiter die Wohnung vom Zentrum entfernt ist, desto billiger ist sie, aber der Wochentag, der Monat und das Jahr der Platzierung einer Anzeige für den Verkauf einer Wohnung haben keinen Einfluss auf den Preis."
      ],
      "metadata": {
        "id": "otwx2WBNSdqO"
      }
    }
  ]
}