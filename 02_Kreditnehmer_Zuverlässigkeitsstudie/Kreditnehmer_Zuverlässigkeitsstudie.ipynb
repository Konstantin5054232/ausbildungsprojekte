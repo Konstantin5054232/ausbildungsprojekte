{
  "nbformat": 4,
  "nbformat_minor": 0,
  "metadata": {
    "colab": {
      "name": "Kreditnehmer-Zuverlässigkeitsstudie.ipynb",
      "provenance": [],
      "authorship_tag": "ABX9TyMocZ4gdnCjUnEwJvQAabdV",
      "include_colab_link": true
    },
    "kernelspec": {
      "name": "python3",
      "display_name": "Python 3"
    },
    "language_info": {
      "name": "python"
    }
  },
  "cells": [
    {
      "cell_type": "markdown",
      "metadata": {
        "id": "view-in-github",
        "colab_type": "text"
      },
      "source": [
        "<a href=\"https://colab.research.google.com/github/Konstantin5054232/ausbildungsprojekte/blob/main/02_Kreditnehmer_Zuverl%C3%A4ssigkeitsstudie/Kreditnehmer_Zuverl%C3%A4ssigkeitsstudie.ipynb\" target=\"_parent\"><img src=\"https://colab.research.google.com/assets/colab-badge.svg\" alt=\"Open In Colab\"/></a>"
      ]
    },
    {
      "cell_type": "markdown",
      "source": [
        "# **Kreditnehmer-Zuverlässigkeitsstudie**"
      ],
      "metadata": {
        "id": "eAUvAS9e-gGl"
      }
    },
    {
      "cell_type": "markdown",
      "source": [
        "Die Kreditabteilung der Bank muss folgende Fragen beantworten: \n",
        "* Gibt es einen Zusammenhang zwischen Kinderwunsch und fristgerechter Kreditrückzahlung? \n",
        "* Gibt es einen Zusammenhang zwischen Familienstand und pünktlicher Kreditrückzahlung? \n",
        "* Gibt es einen Zusammenhang zwischen Einkommen und fristgerechter Kreditrückzahlung? \n",
        "* Wie wirken sich unterschiedliche Verwendungszwecke des Darlehens auf die fristgerechte Rückzahlung aus?\n",
        "\n",
        "Die Bank erhielt Statistiken über die Zahlungsfähigkeit der Kunden.\n",
        "\n",
        "Die Ergebnisse der Studie werden beim Aufbau eines Kredit-Scoring-Modells angewendet."
      ],
      "metadata": {
        "id": "SjyqOTsVAc-3"
      }
    },
    {
      "cell_type": "markdown",
      "source": [
        "# Datenexploration"
      ],
      "metadata": {
        "id": "JN9Prav1BAFu"
      }
    },
    {
      "cell_type": "code",
      "source": [
        "# Wir importieren die notwendigen Bibliotheken\n",
        "import pandas as pd"
      ],
      "metadata": {
        "id": "PDNf5cse-ktI"
      },
      "execution_count": 1,
      "outputs": []
    },
    {
      "cell_type": "code",
      "source": [
        "# Wir laden Tabellen mit Daten\n",
        "data = pd.read_csv('/content/loaners.csv')"
      ],
      "metadata": {
        "id": "cXEY-SduBV73"
      },
      "execution_count": 2,
      "outputs": []
    },
    {
      "cell_type": "code",
      "source": [
        "# Wir werden die erhaltenen Daten studieren\n",
        "display(data.head())\n",
        "display(data.tail())\n",
        "display(data.info())\n",
        "display(data.shape)\n",
        "\n",
        "for column in data.columns:\n",
        "    display(data[column].value_counts())"
      ],
      "metadata": {
        "colab": {
          "base_uri": "https://localhost:8080/",
          "height": 1000
        },
        "id": "u12Bz8LICOPt",
        "outputId": "b0db0ccc-0952-431e-c3a4-f912fedcae17"
      },
      "execution_count": 3,
      "outputs": [
        {
          "output_type": "display_data",
          "data": {
            "text/plain": [
              "   children  days_employed  dob_years education  education_id  \\\n",
              "0         1   -8437.673028         42    высшее             0   \n",
              "1         1   -4024.803754         36   среднее             1   \n",
              "2         0   -5623.422610         33   Среднее             1   \n",
              "3         3   -4124.747207         32   среднее             1   \n",
              "4         0  340266.072047         53   среднее             1   \n",
              "\n",
              "      family_status  family_status_id gender income_type  debt   total_income  \\\n",
              "0   женат / замужем                 0      F   сотрудник     0  253875.639453   \n",
              "1   женат / замужем                 0      F   сотрудник     0  112080.014102   \n",
              "2   женат / замужем                 0      M   сотрудник     0  145885.952297   \n",
              "3   женат / замужем                 0      M   сотрудник     0  267628.550329   \n",
              "4  гражданский брак                 1      F   пенсионер     0  158616.077870   \n",
              "\n",
              "                      purpose  \n",
              "0               покупка жилья  \n",
              "1     приобретение автомобиля  \n",
              "2               покупка жилья  \n",
              "3  дополнительное образование  \n",
              "4             сыграть свадьбу  "
            ],
            "text/html": [
              "\n",
              "  <div id=\"df-13b88ce9-5b7c-4c59-a121-297268cc772f\">\n",
              "    <div class=\"colab-df-container\">\n",
              "      <div>\n",
              "<style scoped>\n",
              "    .dataframe tbody tr th:only-of-type {\n",
              "        vertical-align: middle;\n",
              "    }\n",
              "\n",
              "    .dataframe tbody tr th {\n",
              "        vertical-align: top;\n",
              "    }\n",
              "\n",
              "    .dataframe thead th {\n",
              "        text-align: right;\n",
              "    }\n",
              "</style>\n",
              "<table border=\"1\" class=\"dataframe\">\n",
              "  <thead>\n",
              "    <tr style=\"text-align: right;\">\n",
              "      <th></th>\n",
              "      <th>children</th>\n",
              "      <th>days_employed</th>\n",
              "      <th>dob_years</th>\n",
              "      <th>education</th>\n",
              "      <th>education_id</th>\n",
              "      <th>family_status</th>\n",
              "      <th>family_status_id</th>\n",
              "      <th>gender</th>\n",
              "      <th>income_type</th>\n",
              "      <th>debt</th>\n",
              "      <th>total_income</th>\n",
              "      <th>purpose</th>\n",
              "    </tr>\n",
              "  </thead>\n",
              "  <tbody>\n",
              "    <tr>\n",
              "      <th>0</th>\n",
              "      <td>1</td>\n",
              "      <td>-8437.673028</td>\n",
              "      <td>42</td>\n",
              "      <td>высшее</td>\n",
              "      <td>0</td>\n",
              "      <td>женат / замужем</td>\n",
              "      <td>0</td>\n",
              "      <td>F</td>\n",
              "      <td>сотрудник</td>\n",
              "      <td>0</td>\n",
              "      <td>253875.639453</td>\n",
              "      <td>покупка жилья</td>\n",
              "    </tr>\n",
              "    <tr>\n",
              "      <th>1</th>\n",
              "      <td>1</td>\n",
              "      <td>-4024.803754</td>\n",
              "      <td>36</td>\n",
              "      <td>среднее</td>\n",
              "      <td>1</td>\n",
              "      <td>женат / замужем</td>\n",
              "      <td>0</td>\n",
              "      <td>F</td>\n",
              "      <td>сотрудник</td>\n",
              "      <td>0</td>\n",
              "      <td>112080.014102</td>\n",
              "      <td>приобретение автомобиля</td>\n",
              "    </tr>\n",
              "    <tr>\n",
              "      <th>2</th>\n",
              "      <td>0</td>\n",
              "      <td>-5623.422610</td>\n",
              "      <td>33</td>\n",
              "      <td>Среднее</td>\n",
              "      <td>1</td>\n",
              "      <td>женат / замужем</td>\n",
              "      <td>0</td>\n",
              "      <td>M</td>\n",
              "      <td>сотрудник</td>\n",
              "      <td>0</td>\n",
              "      <td>145885.952297</td>\n",
              "      <td>покупка жилья</td>\n",
              "    </tr>\n",
              "    <tr>\n",
              "      <th>3</th>\n",
              "      <td>3</td>\n",
              "      <td>-4124.747207</td>\n",
              "      <td>32</td>\n",
              "      <td>среднее</td>\n",
              "      <td>1</td>\n",
              "      <td>женат / замужем</td>\n",
              "      <td>0</td>\n",
              "      <td>M</td>\n",
              "      <td>сотрудник</td>\n",
              "      <td>0</td>\n",
              "      <td>267628.550329</td>\n",
              "      <td>дополнительное образование</td>\n",
              "    </tr>\n",
              "    <tr>\n",
              "      <th>4</th>\n",
              "      <td>0</td>\n",
              "      <td>340266.072047</td>\n",
              "      <td>53</td>\n",
              "      <td>среднее</td>\n",
              "      <td>1</td>\n",
              "      <td>гражданский брак</td>\n",
              "      <td>1</td>\n",
              "      <td>F</td>\n",
              "      <td>пенсионер</td>\n",
              "      <td>0</td>\n",
              "      <td>158616.077870</td>\n",
              "      <td>сыграть свадьбу</td>\n",
              "    </tr>\n",
              "  </tbody>\n",
              "</table>\n",
              "</div>\n",
              "      <button class=\"colab-df-convert\" onclick=\"convertToInteractive('df-13b88ce9-5b7c-4c59-a121-297268cc772f')\"\n",
              "              title=\"Convert this dataframe to an interactive table.\"\n",
              "              style=\"display:none;\">\n",
              "        \n",
              "  <svg xmlns=\"http://www.w3.org/2000/svg\" height=\"24px\"viewBox=\"0 0 24 24\"\n",
              "       width=\"24px\">\n",
              "    <path d=\"M0 0h24v24H0V0z\" fill=\"none\"/>\n",
              "    <path d=\"M18.56 5.44l.94 2.06.94-2.06 2.06-.94-2.06-.94-.94-2.06-.94 2.06-2.06.94zm-11 1L8.5 8.5l.94-2.06 2.06-.94-2.06-.94L8.5 2.5l-.94 2.06-2.06.94zm10 10l.94 2.06.94-2.06 2.06-.94-2.06-.94-.94-2.06-.94 2.06-2.06.94z\"/><path d=\"M17.41 7.96l-1.37-1.37c-.4-.4-.92-.59-1.43-.59-.52 0-1.04.2-1.43.59L10.3 9.45l-7.72 7.72c-.78.78-.78 2.05 0 2.83L4 21.41c.39.39.9.59 1.41.59.51 0 1.02-.2 1.41-.59l7.78-7.78 2.81-2.81c.8-.78.8-2.07 0-2.86zM5.41 20L4 18.59l7.72-7.72 1.47 1.35L5.41 20z\"/>\n",
              "  </svg>\n",
              "      </button>\n",
              "      \n",
              "  <style>\n",
              "    .colab-df-container {\n",
              "      display:flex;\n",
              "      flex-wrap:wrap;\n",
              "      gap: 12px;\n",
              "    }\n",
              "\n",
              "    .colab-df-convert {\n",
              "      background-color: #E8F0FE;\n",
              "      border: none;\n",
              "      border-radius: 50%;\n",
              "      cursor: pointer;\n",
              "      display: none;\n",
              "      fill: #1967D2;\n",
              "      height: 32px;\n",
              "      padding: 0 0 0 0;\n",
              "      width: 32px;\n",
              "    }\n",
              "\n",
              "    .colab-df-convert:hover {\n",
              "      background-color: #E2EBFA;\n",
              "      box-shadow: 0px 1px 2px rgba(60, 64, 67, 0.3), 0px 1px 3px 1px rgba(60, 64, 67, 0.15);\n",
              "      fill: #174EA6;\n",
              "    }\n",
              "\n",
              "    [theme=dark] .colab-df-convert {\n",
              "      background-color: #3B4455;\n",
              "      fill: #D2E3FC;\n",
              "    }\n",
              "\n",
              "    [theme=dark] .colab-df-convert:hover {\n",
              "      background-color: #434B5C;\n",
              "      box-shadow: 0px 1px 3px 1px rgba(0, 0, 0, 0.15);\n",
              "      filter: drop-shadow(0px 1px 2px rgba(0, 0, 0, 0.3));\n",
              "      fill: #FFFFFF;\n",
              "    }\n",
              "  </style>\n",
              "\n",
              "      <script>\n",
              "        const buttonEl =\n",
              "          document.querySelector('#df-13b88ce9-5b7c-4c59-a121-297268cc772f button.colab-df-convert');\n",
              "        buttonEl.style.display =\n",
              "          google.colab.kernel.accessAllowed ? 'block' : 'none';\n",
              "\n",
              "        async function convertToInteractive(key) {\n",
              "          const element = document.querySelector('#df-13b88ce9-5b7c-4c59-a121-297268cc772f');\n",
              "          const dataTable =\n",
              "            await google.colab.kernel.invokeFunction('convertToInteractive',\n",
              "                                                     [key], {});\n",
              "          if (!dataTable) return;\n",
              "\n",
              "          const docLinkHtml = 'Like what you see? Visit the ' +\n",
              "            '<a target=\"_blank\" href=https://colab.research.google.com/notebooks/data_table.ipynb>data table notebook</a>'\n",
              "            + ' to learn more about interactive tables.';\n",
              "          element.innerHTML = '';\n",
              "          dataTable['output_type'] = 'display_data';\n",
              "          await google.colab.output.renderOutput(dataTable, element);\n",
              "          const docLink = document.createElement('div');\n",
              "          docLink.innerHTML = docLinkHtml;\n",
              "          element.appendChild(docLink);\n",
              "        }\n",
              "      </script>\n",
              "    </div>\n",
              "  </div>\n",
              "  "
            ]
          },
          "metadata": {}
        },
        {
          "output_type": "display_data",
          "data": {
            "text/plain": [
              "       children  days_employed  dob_years education  education_id  \\\n",
              "21520         1   -4529.316663         43   среднее             1   \n",
              "21521         0  343937.404131         67   среднее             1   \n",
              "21522         1   -2113.346888         38   среднее             1   \n",
              "21523         3   -3112.481705         38   среднее             1   \n",
              "21524         2   -1984.507589         40   среднее             1   \n",
              "\n",
              "          family_status  family_status_id gender income_type  debt  \\\n",
              "21520  гражданский брак                 1      F   компаньон     0   \n",
              "21521   женат / замужем                 0      F   пенсионер     0   \n",
              "21522  гражданский брак                 1      M   сотрудник     1   \n",
              "21523   женат / замужем                 0      M   сотрудник     1   \n",
              "21524   женат / замужем                 0      F   сотрудник     0   \n",
              "\n",
              "        total_income                       purpose  \n",
              "21520  224791.862382             операции с жильем  \n",
              "21521  155999.806512          сделка с автомобилем  \n",
              "21522   89672.561153                  недвижимость  \n",
              "21523  244093.050500  на покупку своего автомобиля  \n",
              "21524   82047.418899         на покупку автомобиля  "
            ],
            "text/html": [
              "\n",
              "  <div id=\"df-dd750e41-3829-466a-91e7-0cefd034d954\">\n",
              "    <div class=\"colab-df-container\">\n",
              "      <div>\n",
              "<style scoped>\n",
              "    .dataframe tbody tr th:only-of-type {\n",
              "        vertical-align: middle;\n",
              "    }\n",
              "\n",
              "    .dataframe tbody tr th {\n",
              "        vertical-align: top;\n",
              "    }\n",
              "\n",
              "    .dataframe thead th {\n",
              "        text-align: right;\n",
              "    }\n",
              "</style>\n",
              "<table border=\"1\" class=\"dataframe\">\n",
              "  <thead>\n",
              "    <tr style=\"text-align: right;\">\n",
              "      <th></th>\n",
              "      <th>children</th>\n",
              "      <th>days_employed</th>\n",
              "      <th>dob_years</th>\n",
              "      <th>education</th>\n",
              "      <th>education_id</th>\n",
              "      <th>family_status</th>\n",
              "      <th>family_status_id</th>\n",
              "      <th>gender</th>\n",
              "      <th>income_type</th>\n",
              "      <th>debt</th>\n",
              "      <th>total_income</th>\n",
              "      <th>purpose</th>\n",
              "    </tr>\n",
              "  </thead>\n",
              "  <tbody>\n",
              "    <tr>\n",
              "      <th>21520</th>\n",
              "      <td>1</td>\n",
              "      <td>-4529.316663</td>\n",
              "      <td>43</td>\n",
              "      <td>среднее</td>\n",
              "      <td>1</td>\n",
              "      <td>гражданский брак</td>\n",
              "      <td>1</td>\n",
              "      <td>F</td>\n",
              "      <td>компаньон</td>\n",
              "      <td>0</td>\n",
              "      <td>224791.862382</td>\n",
              "      <td>операции с жильем</td>\n",
              "    </tr>\n",
              "    <tr>\n",
              "      <th>21521</th>\n",
              "      <td>0</td>\n",
              "      <td>343937.404131</td>\n",
              "      <td>67</td>\n",
              "      <td>среднее</td>\n",
              "      <td>1</td>\n",
              "      <td>женат / замужем</td>\n",
              "      <td>0</td>\n",
              "      <td>F</td>\n",
              "      <td>пенсионер</td>\n",
              "      <td>0</td>\n",
              "      <td>155999.806512</td>\n",
              "      <td>сделка с автомобилем</td>\n",
              "    </tr>\n",
              "    <tr>\n",
              "      <th>21522</th>\n",
              "      <td>1</td>\n",
              "      <td>-2113.346888</td>\n",
              "      <td>38</td>\n",
              "      <td>среднее</td>\n",
              "      <td>1</td>\n",
              "      <td>гражданский брак</td>\n",
              "      <td>1</td>\n",
              "      <td>M</td>\n",
              "      <td>сотрудник</td>\n",
              "      <td>1</td>\n",
              "      <td>89672.561153</td>\n",
              "      <td>недвижимость</td>\n",
              "    </tr>\n",
              "    <tr>\n",
              "      <th>21523</th>\n",
              "      <td>3</td>\n",
              "      <td>-3112.481705</td>\n",
              "      <td>38</td>\n",
              "      <td>среднее</td>\n",
              "      <td>1</td>\n",
              "      <td>женат / замужем</td>\n",
              "      <td>0</td>\n",
              "      <td>M</td>\n",
              "      <td>сотрудник</td>\n",
              "      <td>1</td>\n",
              "      <td>244093.050500</td>\n",
              "      <td>на покупку своего автомобиля</td>\n",
              "    </tr>\n",
              "    <tr>\n",
              "      <th>21524</th>\n",
              "      <td>2</td>\n",
              "      <td>-1984.507589</td>\n",
              "      <td>40</td>\n",
              "      <td>среднее</td>\n",
              "      <td>1</td>\n",
              "      <td>женат / замужем</td>\n",
              "      <td>0</td>\n",
              "      <td>F</td>\n",
              "      <td>сотрудник</td>\n",
              "      <td>0</td>\n",
              "      <td>82047.418899</td>\n",
              "      <td>на покупку автомобиля</td>\n",
              "    </tr>\n",
              "  </tbody>\n",
              "</table>\n",
              "</div>\n",
              "      <button class=\"colab-df-convert\" onclick=\"convertToInteractive('df-dd750e41-3829-466a-91e7-0cefd034d954')\"\n",
              "              title=\"Convert this dataframe to an interactive table.\"\n",
              "              style=\"display:none;\">\n",
              "        \n",
              "  <svg xmlns=\"http://www.w3.org/2000/svg\" height=\"24px\"viewBox=\"0 0 24 24\"\n",
              "       width=\"24px\">\n",
              "    <path d=\"M0 0h24v24H0V0z\" fill=\"none\"/>\n",
              "    <path d=\"M18.56 5.44l.94 2.06.94-2.06 2.06-.94-2.06-.94-.94-2.06-.94 2.06-2.06.94zm-11 1L8.5 8.5l.94-2.06 2.06-.94-2.06-.94L8.5 2.5l-.94 2.06-2.06.94zm10 10l.94 2.06.94-2.06 2.06-.94-2.06-.94-.94-2.06-.94 2.06-2.06.94z\"/><path d=\"M17.41 7.96l-1.37-1.37c-.4-.4-.92-.59-1.43-.59-.52 0-1.04.2-1.43.59L10.3 9.45l-7.72 7.72c-.78.78-.78 2.05 0 2.83L4 21.41c.39.39.9.59 1.41.59.51 0 1.02-.2 1.41-.59l7.78-7.78 2.81-2.81c.8-.78.8-2.07 0-2.86zM5.41 20L4 18.59l7.72-7.72 1.47 1.35L5.41 20z\"/>\n",
              "  </svg>\n",
              "      </button>\n",
              "      \n",
              "  <style>\n",
              "    .colab-df-container {\n",
              "      display:flex;\n",
              "      flex-wrap:wrap;\n",
              "      gap: 12px;\n",
              "    }\n",
              "\n",
              "    .colab-df-convert {\n",
              "      background-color: #E8F0FE;\n",
              "      border: none;\n",
              "      border-radius: 50%;\n",
              "      cursor: pointer;\n",
              "      display: none;\n",
              "      fill: #1967D2;\n",
              "      height: 32px;\n",
              "      padding: 0 0 0 0;\n",
              "      width: 32px;\n",
              "    }\n",
              "\n",
              "    .colab-df-convert:hover {\n",
              "      background-color: #E2EBFA;\n",
              "      box-shadow: 0px 1px 2px rgba(60, 64, 67, 0.3), 0px 1px 3px 1px rgba(60, 64, 67, 0.15);\n",
              "      fill: #174EA6;\n",
              "    }\n",
              "\n",
              "    [theme=dark] .colab-df-convert {\n",
              "      background-color: #3B4455;\n",
              "      fill: #D2E3FC;\n",
              "    }\n",
              "\n",
              "    [theme=dark] .colab-df-convert:hover {\n",
              "      background-color: #434B5C;\n",
              "      box-shadow: 0px 1px 3px 1px rgba(0, 0, 0, 0.15);\n",
              "      filter: drop-shadow(0px 1px 2px rgba(0, 0, 0, 0.3));\n",
              "      fill: #FFFFFF;\n",
              "    }\n",
              "  </style>\n",
              "\n",
              "      <script>\n",
              "        const buttonEl =\n",
              "          document.querySelector('#df-dd750e41-3829-466a-91e7-0cefd034d954 button.colab-df-convert');\n",
              "        buttonEl.style.display =\n",
              "          google.colab.kernel.accessAllowed ? 'block' : 'none';\n",
              "\n",
              "        async function convertToInteractive(key) {\n",
              "          const element = document.querySelector('#df-dd750e41-3829-466a-91e7-0cefd034d954');\n",
              "          const dataTable =\n",
              "            await google.colab.kernel.invokeFunction('convertToInteractive',\n",
              "                                                     [key], {});\n",
              "          if (!dataTable) return;\n",
              "\n",
              "          const docLinkHtml = 'Like what you see? Visit the ' +\n",
              "            '<a target=\"_blank\" href=https://colab.research.google.com/notebooks/data_table.ipynb>data table notebook</a>'\n",
              "            + ' to learn more about interactive tables.';\n",
              "          element.innerHTML = '';\n",
              "          dataTable['output_type'] = 'display_data';\n",
              "          await google.colab.output.renderOutput(dataTable, element);\n",
              "          const docLink = document.createElement('div');\n",
              "          docLink.innerHTML = docLinkHtml;\n",
              "          element.appendChild(docLink);\n",
              "        }\n",
              "      </script>\n",
              "    </div>\n",
              "  </div>\n",
              "  "
            ]
          },
          "metadata": {}
        },
        {
          "output_type": "stream",
          "name": "stdout",
          "text": [
            "<class 'pandas.core.frame.DataFrame'>\n",
            "RangeIndex: 21525 entries, 0 to 21524\n",
            "Data columns (total 12 columns):\n",
            " #   Column            Non-Null Count  Dtype  \n",
            "---  ------            --------------  -----  \n",
            " 0   children          21525 non-null  int64  \n",
            " 1   days_employed     19351 non-null  float64\n",
            " 2   dob_years         21525 non-null  int64  \n",
            " 3   education         21525 non-null  object \n",
            " 4   education_id      21525 non-null  int64  \n",
            " 5   family_status     21525 non-null  object \n",
            " 6   family_status_id  21525 non-null  int64  \n",
            " 7   gender            21525 non-null  object \n",
            " 8   income_type       21525 non-null  object \n",
            " 9   debt              21525 non-null  int64  \n",
            " 10  total_income      19351 non-null  float64\n",
            " 11  purpose           21525 non-null  object \n",
            "dtypes: float64(2), int64(5), object(5)\n",
            "memory usage: 2.0+ MB\n"
          ]
        },
        {
          "output_type": "display_data",
          "data": {
            "text/plain": [
              "None"
            ]
          },
          "metadata": {}
        },
        {
          "output_type": "display_data",
          "data": {
            "text/plain": [
              "(21525, 12)"
            ]
          },
          "metadata": {}
        },
        {
          "output_type": "display_data",
          "data": {
            "text/plain": [
              " 0     14149\n",
              " 1      4818\n",
              " 2      2055\n",
              " 3       330\n",
              " 20       76\n",
              "-1        47\n",
              " 4        41\n",
              " 5         9\n",
              "Name: children, dtype: int64"
            ]
          },
          "metadata": {}
        },
        {
          "output_type": "display_data",
          "data": {
            "text/plain": [
              "-8437.673028      1\n",
              "-3507.818775      1\n",
              " 354500.415854    1\n",
              "-769.717438       1\n",
              "-3963.590317      1\n",
              "                 ..\n",
              "-1099.957609      1\n",
              "-209.984794       1\n",
              " 398099.392433    1\n",
              "-1271.038880      1\n",
              "-1984.507589      1\n",
              "Name: days_employed, Length: 19351, dtype: int64"
            ]
          },
          "metadata": {}
        },
        {
          "output_type": "display_data",
          "data": {
            "text/plain": [
              "35    617\n",
              "40    609\n",
              "41    607\n",
              "34    603\n",
              "38    598\n",
              "42    597\n",
              "33    581\n",
              "39    573\n",
              "31    560\n",
              "36    555\n",
              "44    547\n",
              "29    545\n",
              "30    540\n",
              "48    538\n",
              "37    537\n",
              "50    514\n",
              "43    513\n",
              "32    510\n",
              "49    508\n",
              "28    503\n",
              "45    497\n",
              "27    493\n",
              "56    487\n",
              "52    484\n",
              "47    480\n",
              "54    479\n",
              "46    475\n",
              "58    461\n",
              "57    460\n",
              "53    459\n",
              "51    448\n",
              "59    444\n",
              "55    443\n",
              "26    408\n",
              "60    377\n",
              "25    357\n",
              "61    355\n",
              "62    352\n",
              "63    269\n",
              "64    265\n",
              "24    264\n",
              "23    254\n",
              "65    194\n",
              "22    183\n",
              "66    183\n",
              "67    167\n",
              "21    111\n",
              "0     101\n",
              "68     99\n",
              "69     85\n",
              "70     65\n",
              "71     58\n",
              "20     51\n",
              "72     33\n",
              "19     14\n",
              "73      8\n",
              "74      6\n",
              "75      1\n",
              "Name: dob_years, dtype: int64"
            ]
          },
          "metadata": {}
        },
        {
          "output_type": "display_data",
          "data": {
            "text/plain": [
              "среднее                13750\n",
              "высшее                  4718\n",
              "СРЕДНЕЕ                  772\n",
              "Среднее                  711\n",
              "неоконченное высшее      668\n",
              "ВЫСШЕЕ                   274\n",
              "Высшее                   268\n",
              "начальное                250\n",
              "Неоконченное высшее       47\n",
              "НЕОКОНЧЕННОЕ ВЫСШЕЕ       29\n",
              "НАЧАЛЬНОЕ                 17\n",
              "Начальное                 15\n",
              "ученая степень             4\n",
              "Ученая степень             1\n",
              "УЧЕНАЯ СТЕПЕНЬ             1\n",
              "Name: education, dtype: int64"
            ]
          },
          "metadata": {}
        },
        {
          "output_type": "display_data",
          "data": {
            "text/plain": [
              "1    15233\n",
              "0     5260\n",
              "2      744\n",
              "3      282\n",
              "4        6\n",
              "Name: education_id, dtype: int64"
            ]
          },
          "metadata": {}
        },
        {
          "output_type": "display_data",
          "data": {
            "text/plain": [
              "женат / замужем          12380\n",
              "гражданский брак          4177\n",
              "Не женат / не замужем     2813\n",
              "в разводе                 1195\n",
              "вдовец / вдова             960\n",
              "Name: family_status, dtype: int64"
            ]
          },
          "metadata": {}
        },
        {
          "output_type": "display_data",
          "data": {
            "text/plain": [
              "0    12380\n",
              "1     4177\n",
              "4     2813\n",
              "3     1195\n",
              "2      960\n",
              "Name: family_status_id, dtype: int64"
            ]
          },
          "metadata": {}
        },
        {
          "output_type": "display_data",
          "data": {
            "text/plain": [
              "F      14236\n",
              "M       7288\n",
              "XNA        1\n",
              "Name: gender, dtype: int64"
            ]
          },
          "metadata": {}
        },
        {
          "output_type": "display_data",
          "data": {
            "text/plain": [
              "сотрудник          11119\n",
              "компаньон           5085\n",
              "пенсионер           3856\n",
              "госслужащий         1459\n",
              "безработный            2\n",
              "предприниматель        2\n",
              "студент                1\n",
              "в декрете              1\n",
              "Name: income_type, dtype: int64"
            ]
          },
          "metadata": {}
        },
        {
          "output_type": "display_data",
          "data": {
            "text/plain": [
              "0    19784\n",
              "1     1741\n",
              "Name: debt, dtype: int64"
            ]
          },
          "metadata": {}
        },
        {
          "output_type": "display_data",
          "data": {
            "text/plain": [
              "253875.639453    1\n",
              "157691.851056    1\n",
              "70113.902786     1\n",
              "116196.518662    1\n",
              "157205.834562    1\n",
              "                ..\n",
              "168880.592469    1\n",
              "148042.721049    1\n",
              "60039.334460     1\n",
              "175979.762960    1\n",
              "82047.418899     1\n",
              "Name: total_income, Length: 19351, dtype: int64"
            ]
          },
          "metadata": {}
        },
        {
          "output_type": "display_data",
          "data": {
            "text/plain": [
              "свадьба                                   797\n",
              "на проведение свадьбы                     777\n",
              "сыграть свадьбу                           774\n",
              "операции с недвижимостью                  676\n",
              "покупка коммерческой недвижимости         664\n",
              "покупка жилья для сдачи                   653\n",
              "операции с жильем                         653\n",
              "операции с коммерческой недвижимостью     651\n",
              "покупка жилья                             647\n",
              "жилье                                     647\n",
              "покупка жилья для семьи                   641\n",
              "строительство собственной недвижимости    635\n",
              "недвижимость                              634\n",
              "операции со своей недвижимостью           630\n",
              "строительство жилой недвижимости          626\n",
              "покупка недвижимости                      624\n",
              "строительство недвижимости                620\n",
              "покупка своего жилья                      620\n",
              "ремонт жилью                              612\n",
              "покупка жилой недвижимости                607\n",
              "на покупку своего автомобиля              505\n",
              "заняться высшим образованием              496\n",
              "автомобиль                                495\n",
              "сделка с подержанным автомобилем          489\n",
              "свой автомобиль                           480\n",
              "на покупку подержанного автомобиля        479\n",
              "автомобили                                478\n",
              "на покупку автомобиля                     472\n",
              "дополнительное образование                462\n",
              "приобретение автомобиля                   462\n",
              "сделка с автомобилем                      455\n",
              "высшее образование                        453\n",
              "образование                               447\n",
              "получение дополнительного образования     447\n",
              "получение образования                     443\n",
              "профильное образование                    436\n",
              "получение высшего образования             426\n",
              "заняться образованием                     412\n",
              "Name: purpose, dtype: int64"
            ]
          },
          "metadata": {}
        }
      ]
    },
    {
      "cell_type": "markdown",
      "source": [
        "**Schlussfolgerungen**\n",
        "\n",
        "Es gibt Fehler in den Daten, höchstwahrscheinlich aufgrund menschlicher Fehler oder Upload-Fehler. Die Spalte 'children' enthält 47 Mal den Wert „-1“ und 76 Mal den Wert „20“, und es gibt keine Kreditnehmer mit 6 bis 19 Kindern.Die Spalte 'days_employed' enthält nur negative Werte oder Artefakte: 400281 Tage , 340266 Tage (1361 Jahr), auch wenn es Arbeitsstunden sind, sind es ungefähr 170 Jahre. Der älteste Kreditnehmer ist 75 Jahre alt, sodass die maximale Anzahl an Arbeitstagen etwa 15.000 betragen kann: (75-18) * 250. Die Spalte „dob_years“ enthält außerdem 101 „0“-Werte. Die Spalte 'education' enthält Werte in Groß- und Kleinschreibung. Die Spalte 'gender' enthält einen XNA-Wert. Die Spalte 'purpose' enthält viele ähnliche Zwecke. Alle Spalten außer 'days_employed' und 'total_income'  enthalten 21525 Nicht-Null-Werte, und diese beiden Spalten enthalten die gleiche Anzahl von Werten, nämlich 19351. Die Null-Werte in diesen Spalten stimmen höchstwahrscheinlich zeilenübergreifend überein. Dies wird durch die Zeilen 12 und 21510 bestätigt."
      ],
      "metadata": {
        "id": "2S7zUEYRE1tZ"
      }
    },
    {
      "cell_type": "markdown",
      "source": [
        "# Datenvorverarbeitung"
      ],
      "metadata": {
        "id": "3vv3O_qcFguO"
      }
    },
    {
      "cell_type": "markdown",
      "source": [
        "## Umgang mit fehlenden Daten"
      ],
      "metadata": {
        "id": "V10VdgH1HzMa"
      }
    },
    {
      "cell_type": "code",
      "source": [
        "# Wir sehen uns eine Tabelle an, die Zeilen mit Nullen in den Spalten 'days_employed' und \n",
        "# 'total_income' enthält und wie viele es sind.\n",
        "display(data[data['days_employed'].isnull()].head())\n",
        "display(data[data['days_employed'].isnull()].count())\n",
        "display(data[data['total_income'].isnull()].head())\n",
        "display(data[data['total_income'].isnull()].count())"
      ],
      "metadata": {
        "id": "3wmeuI8gCZ5h",
        "outputId": "f88dd998-379e-4172-e42b-e91be32c2aac",
        "colab": {
          "base_uri": "https://localhost:8080/",
          "height": 1000
        }
      },
      "execution_count": 4,
      "outputs": [
        {
          "output_type": "display_data",
          "data": {
            "text/plain": [
              "    children  days_employed  dob_years education  education_id  \\\n",
              "12         0            NaN         65   среднее             1   \n",
              "26         0            NaN         41   среднее             1   \n",
              "29         0            NaN         63   среднее             1   \n",
              "41         0            NaN         50   среднее             1   \n",
              "55         0            NaN         54   среднее             1   \n",
              "\n",
              "            family_status  family_status_id gender  income_type  debt  \\\n",
              "12       гражданский брак                 1      M    пенсионер     0   \n",
              "26        женат / замужем                 0      M  госслужащий     0   \n",
              "29  Не женат / не замужем                 4      F    пенсионер     0   \n",
              "41        женат / замужем                 0      F  госслужащий     0   \n",
              "55       гражданский брак                 1      F    пенсионер     1   \n",
              "\n",
              "    total_income                           purpose  \n",
              "12           NaN                   сыграть свадьбу  \n",
              "26           NaN                       образование  \n",
              "29           NaN  строительство жилой недвижимости  \n",
              "41           NaN  сделка с подержанным автомобилем  \n",
              "55           NaN                   сыграть свадьбу  "
            ],
            "text/html": [
              "\n",
              "  <div id=\"df-46404ad3-3a10-4a2f-b7b5-3e87fc1ba317\">\n",
              "    <div class=\"colab-df-container\">\n",
              "      <div>\n",
              "<style scoped>\n",
              "    .dataframe tbody tr th:only-of-type {\n",
              "        vertical-align: middle;\n",
              "    }\n",
              "\n",
              "    .dataframe tbody tr th {\n",
              "        vertical-align: top;\n",
              "    }\n",
              "\n",
              "    .dataframe thead th {\n",
              "        text-align: right;\n",
              "    }\n",
              "</style>\n",
              "<table border=\"1\" class=\"dataframe\">\n",
              "  <thead>\n",
              "    <tr style=\"text-align: right;\">\n",
              "      <th></th>\n",
              "      <th>children</th>\n",
              "      <th>days_employed</th>\n",
              "      <th>dob_years</th>\n",
              "      <th>education</th>\n",
              "      <th>education_id</th>\n",
              "      <th>family_status</th>\n",
              "      <th>family_status_id</th>\n",
              "      <th>gender</th>\n",
              "      <th>income_type</th>\n",
              "      <th>debt</th>\n",
              "      <th>total_income</th>\n",
              "      <th>purpose</th>\n",
              "    </tr>\n",
              "  </thead>\n",
              "  <tbody>\n",
              "    <tr>\n",
              "      <th>12</th>\n",
              "      <td>0</td>\n",
              "      <td>NaN</td>\n",
              "      <td>65</td>\n",
              "      <td>среднее</td>\n",
              "      <td>1</td>\n",
              "      <td>гражданский брак</td>\n",
              "      <td>1</td>\n",
              "      <td>M</td>\n",
              "      <td>пенсионер</td>\n",
              "      <td>0</td>\n",
              "      <td>NaN</td>\n",
              "      <td>сыграть свадьбу</td>\n",
              "    </tr>\n",
              "    <tr>\n",
              "      <th>26</th>\n",
              "      <td>0</td>\n",
              "      <td>NaN</td>\n",
              "      <td>41</td>\n",
              "      <td>среднее</td>\n",
              "      <td>1</td>\n",
              "      <td>женат / замужем</td>\n",
              "      <td>0</td>\n",
              "      <td>M</td>\n",
              "      <td>госслужащий</td>\n",
              "      <td>0</td>\n",
              "      <td>NaN</td>\n",
              "      <td>образование</td>\n",
              "    </tr>\n",
              "    <tr>\n",
              "      <th>29</th>\n",
              "      <td>0</td>\n",
              "      <td>NaN</td>\n",
              "      <td>63</td>\n",
              "      <td>среднее</td>\n",
              "      <td>1</td>\n",
              "      <td>Не женат / не замужем</td>\n",
              "      <td>4</td>\n",
              "      <td>F</td>\n",
              "      <td>пенсионер</td>\n",
              "      <td>0</td>\n",
              "      <td>NaN</td>\n",
              "      <td>строительство жилой недвижимости</td>\n",
              "    </tr>\n",
              "    <tr>\n",
              "      <th>41</th>\n",
              "      <td>0</td>\n",
              "      <td>NaN</td>\n",
              "      <td>50</td>\n",
              "      <td>среднее</td>\n",
              "      <td>1</td>\n",
              "      <td>женат / замужем</td>\n",
              "      <td>0</td>\n",
              "      <td>F</td>\n",
              "      <td>госслужащий</td>\n",
              "      <td>0</td>\n",
              "      <td>NaN</td>\n",
              "      <td>сделка с подержанным автомобилем</td>\n",
              "    </tr>\n",
              "    <tr>\n",
              "      <th>55</th>\n",
              "      <td>0</td>\n",
              "      <td>NaN</td>\n",
              "      <td>54</td>\n",
              "      <td>среднее</td>\n",
              "      <td>1</td>\n",
              "      <td>гражданский брак</td>\n",
              "      <td>1</td>\n",
              "      <td>F</td>\n",
              "      <td>пенсионер</td>\n",
              "      <td>1</td>\n",
              "      <td>NaN</td>\n",
              "      <td>сыграть свадьбу</td>\n",
              "    </tr>\n",
              "  </tbody>\n",
              "</table>\n",
              "</div>\n",
              "      <button class=\"colab-df-convert\" onclick=\"convertToInteractive('df-46404ad3-3a10-4a2f-b7b5-3e87fc1ba317')\"\n",
              "              title=\"Convert this dataframe to an interactive table.\"\n",
              "              style=\"display:none;\">\n",
              "        \n",
              "  <svg xmlns=\"http://www.w3.org/2000/svg\" height=\"24px\"viewBox=\"0 0 24 24\"\n",
              "       width=\"24px\">\n",
              "    <path d=\"M0 0h24v24H0V0z\" fill=\"none\"/>\n",
              "    <path d=\"M18.56 5.44l.94 2.06.94-2.06 2.06-.94-2.06-.94-.94-2.06-.94 2.06-2.06.94zm-11 1L8.5 8.5l.94-2.06 2.06-.94-2.06-.94L8.5 2.5l-.94 2.06-2.06.94zm10 10l.94 2.06.94-2.06 2.06-.94-2.06-.94-.94-2.06-.94 2.06-2.06.94z\"/><path d=\"M17.41 7.96l-1.37-1.37c-.4-.4-.92-.59-1.43-.59-.52 0-1.04.2-1.43.59L10.3 9.45l-7.72 7.72c-.78.78-.78 2.05 0 2.83L4 21.41c.39.39.9.59 1.41.59.51 0 1.02-.2 1.41-.59l7.78-7.78 2.81-2.81c.8-.78.8-2.07 0-2.86zM5.41 20L4 18.59l7.72-7.72 1.47 1.35L5.41 20z\"/>\n",
              "  </svg>\n",
              "      </button>\n",
              "      \n",
              "  <style>\n",
              "    .colab-df-container {\n",
              "      display:flex;\n",
              "      flex-wrap:wrap;\n",
              "      gap: 12px;\n",
              "    }\n",
              "\n",
              "    .colab-df-convert {\n",
              "      background-color: #E8F0FE;\n",
              "      border: none;\n",
              "      border-radius: 50%;\n",
              "      cursor: pointer;\n",
              "      display: none;\n",
              "      fill: #1967D2;\n",
              "      height: 32px;\n",
              "      padding: 0 0 0 0;\n",
              "      width: 32px;\n",
              "    }\n",
              "\n",
              "    .colab-df-convert:hover {\n",
              "      background-color: #E2EBFA;\n",
              "      box-shadow: 0px 1px 2px rgba(60, 64, 67, 0.3), 0px 1px 3px 1px rgba(60, 64, 67, 0.15);\n",
              "      fill: #174EA6;\n",
              "    }\n",
              "\n",
              "    [theme=dark] .colab-df-convert {\n",
              "      background-color: #3B4455;\n",
              "      fill: #D2E3FC;\n",
              "    }\n",
              "\n",
              "    [theme=dark] .colab-df-convert:hover {\n",
              "      background-color: #434B5C;\n",
              "      box-shadow: 0px 1px 3px 1px rgba(0, 0, 0, 0.15);\n",
              "      filter: drop-shadow(0px 1px 2px rgba(0, 0, 0, 0.3));\n",
              "      fill: #FFFFFF;\n",
              "    }\n",
              "  </style>\n",
              "\n",
              "      <script>\n",
              "        const buttonEl =\n",
              "          document.querySelector('#df-46404ad3-3a10-4a2f-b7b5-3e87fc1ba317 button.colab-df-convert');\n",
              "        buttonEl.style.display =\n",
              "          google.colab.kernel.accessAllowed ? 'block' : 'none';\n",
              "\n",
              "        async function convertToInteractive(key) {\n",
              "          const element = document.querySelector('#df-46404ad3-3a10-4a2f-b7b5-3e87fc1ba317');\n",
              "          const dataTable =\n",
              "            await google.colab.kernel.invokeFunction('convertToInteractive',\n",
              "                                                     [key], {});\n",
              "          if (!dataTable) return;\n",
              "\n",
              "          const docLinkHtml = 'Like what you see? Visit the ' +\n",
              "            '<a target=\"_blank\" href=https://colab.research.google.com/notebooks/data_table.ipynb>data table notebook</a>'\n",
              "            + ' to learn more about interactive tables.';\n",
              "          element.innerHTML = '';\n",
              "          dataTable['output_type'] = 'display_data';\n",
              "          await google.colab.output.renderOutput(dataTable, element);\n",
              "          const docLink = document.createElement('div');\n",
              "          docLink.innerHTML = docLinkHtml;\n",
              "          element.appendChild(docLink);\n",
              "        }\n",
              "      </script>\n",
              "    </div>\n",
              "  </div>\n",
              "  "
            ]
          },
          "metadata": {}
        },
        {
          "output_type": "display_data",
          "data": {
            "text/plain": [
              "children            2174\n",
              "days_employed          0\n",
              "dob_years           2174\n",
              "education           2174\n",
              "education_id        2174\n",
              "family_status       2174\n",
              "family_status_id    2174\n",
              "gender              2174\n",
              "income_type         2174\n",
              "debt                2174\n",
              "total_income           0\n",
              "purpose             2174\n",
              "dtype: int64"
            ]
          },
          "metadata": {}
        },
        {
          "output_type": "display_data",
          "data": {
            "text/plain": [
              "    children  days_employed  dob_years education  education_id  \\\n",
              "12         0            NaN         65   среднее             1   \n",
              "26         0            NaN         41   среднее             1   \n",
              "29         0            NaN         63   среднее             1   \n",
              "41         0            NaN         50   среднее             1   \n",
              "55         0            NaN         54   среднее             1   \n",
              "\n",
              "            family_status  family_status_id gender  income_type  debt  \\\n",
              "12       гражданский брак                 1      M    пенсионер     0   \n",
              "26        женат / замужем                 0      M  госслужащий     0   \n",
              "29  Не женат / не замужем                 4      F    пенсионер     0   \n",
              "41        женат / замужем                 0      F  госслужащий     0   \n",
              "55       гражданский брак                 1      F    пенсионер     1   \n",
              "\n",
              "    total_income                           purpose  \n",
              "12           NaN                   сыграть свадьбу  \n",
              "26           NaN                       образование  \n",
              "29           NaN  строительство жилой недвижимости  \n",
              "41           NaN  сделка с подержанным автомобилем  \n",
              "55           NaN                   сыграть свадьбу  "
            ],
            "text/html": [
              "\n",
              "  <div id=\"df-c68dc158-b2b5-4abe-82cb-e15398d94c18\">\n",
              "    <div class=\"colab-df-container\">\n",
              "      <div>\n",
              "<style scoped>\n",
              "    .dataframe tbody tr th:only-of-type {\n",
              "        vertical-align: middle;\n",
              "    }\n",
              "\n",
              "    .dataframe tbody tr th {\n",
              "        vertical-align: top;\n",
              "    }\n",
              "\n",
              "    .dataframe thead th {\n",
              "        text-align: right;\n",
              "    }\n",
              "</style>\n",
              "<table border=\"1\" class=\"dataframe\">\n",
              "  <thead>\n",
              "    <tr style=\"text-align: right;\">\n",
              "      <th></th>\n",
              "      <th>children</th>\n",
              "      <th>days_employed</th>\n",
              "      <th>dob_years</th>\n",
              "      <th>education</th>\n",
              "      <th>education_id</th>\n",
              "      <th>family_status</th>\n",
              "      <th>family_status_id</th>\n",
              "      <th>gender</th>\n",
              "      <th>income_type</th>\n",
              "      <th>debt</th>\n",
              "      <th>total_income</th>\n",
              "      <th>purpose</th>\n",
              "    </tr>\n",
              "  </thead>\n",
              "  <tbody>\n",
              "    <tr>\n",
              "      <th>12</th>\n",
              "      <td>0</td>\n",
              "      <td>NaN</td>\n",
              "      <td>65</td>\n",
              "      <td>среднее</td>\n",
              "      <td>1</td>\n",
              "      <td>гражданский брак</td>\n",
              "      <td>1</td>\n",
              "      <td>M</td>\n",
              "      <td>пенсионер</td>\n",
              "      <td>0</td>\n",
              "      <td>NaN</td>\n",
              "      <td>сыграть свадьбу</td>\n",
              "    </tr>\n",
              "    <tr>\n",
              "      <th>26</th>\n",
              "      <td>0</td>\n",
              "      <td>NaN</td>\n",
              "      <td>41</td>\n",
              "      <td>среднее</td>\n",
              "      <td>1</td>\n",
              "      <td>женат / замужем</td>\n",
              "      <td>0</td>\n",
              "      <td>M</td>\n",
              "      <td>госслужащий</td>\n",
              "      <td>0</td>\n",
              "      <td>NaN</td>\n",
              "      <td>образование</td>\n",
              "    </tr>\n",
              "    <tr>\n",
              "      <th>29</th>\n",
              "      <td>0</td>\n",
              "      <td>NaN</td>\n",
              "      <td>63</td>\n",
              "      <td>среднее</td>\n",
              "      <td>1</td>\n",
              "      <td>Не женат / не замужем</td>\n",
              "      <td>4</td>\n",
              "      <td>F</td>\n",
              "      <td>пенсионер</td>\n",
              "      <td>0</td>\n",
              "      <td>NaN</td>\n",
              "      <td>строительство жилой недвижимости</td>\n",
              "    </tr>\n",
              "    <tr>\n",
              "      <th>41</th>\n",
              "      <td>0</td>\n",
              "      <td>NaN</td>\n",
              "      <td>50</td>\n",
              "      <td>среднее</td>\n",
              "      <td>1</td>\n",
              "      <td>женат / замужем</td>\n",
              "      <td>0</td>\n",
              "      <td>F</td>\n",
              "      <td>госслужащий</td>\n",
              "      <td>0</td>\n",
              "      <td>NaN</td>\n",
              "      <td>сделка с подержанным автомобилем</td>\n",
              "    </tr>\n",
              "    <tr>\n",
              "      <th>55</th>\n",
              "      <td>0</td>\n",
              "      <td>NaN</td>\n",
              "      <td>54</td>\n",
              "      <td>среднее</td>\n",
              "      <td>1</td>\n",
              "      <td>гражданский брак</td>\n",
              "      <td>1</td>\n",
              "      <td>F</td>\n",
              "      <td>пенсионер</td>\n",
              "      <td>1</td>\n",
              "      <td>NaN</td>\n",
              "      <td>сыграть свадьбу</td>\n",
              "    </tr>\n",
              "  </tbody>\n",
              "</table>\n",
              "</div>\n",
              "      <button class=\"colab-df-convert\" onclick=\"convertToInteractive('df-c68dc158-b2b5-4abe-82cb-e15398d94c18')\"\n",
              "              title=\"Convert this dataframe to an interactive table.\"\n",
              "              style=\"display:none;\">\n",
              "        \n",
              "  <svg xmlns=\"http://www.w3.org/2000/svg\" height=\"24px\"viewBox=\"0 0 24 24\"\n",
              "       width=\"24px\">\n",
              "    <path d=\"M0 0h24v24H0V0z\" fill=\"none\"/>\n",
              "    <path d=\"M18.56 5.44l.94 2.06.94-2.06 2.06-.94-2.06-.94-.94-2.06-.94 2.06-2.06.94zm-11 1L8.5 8.5l.94-2.06 2.06-.94-2.06-.94L8.5 2.5l-.94 2.06-2.06.94zm10 10l.94 2.06.94-2.06 2.06-.94-2.06-.94-.94-2.06-.94 2.06-2.06.94z\"/><path d=\"M17.41 7.96l-1.37-1.37c-.4-.4-.92-.59-1.43-.59-.52 0-1.04.2-1.43.59L10.3 9.45l-7.72 7.72c-.78.78-.78 2.05 0 2.83L4 21.41c.39.39.9.59 1.41.59.51 0 1.02-.2 1.41-.59l7.78-7.78 2.81-2.81c.8-.78.8-2.07 0-2.86zM5.41 20L4 18.59l7.72-7.72 1.47 1.35L5.41 20z\"/>\n",
              "  </svg>\n",
              "      </button>\n",
              "      \n",
              "  <style>\n",
              "    .colab-df-container {\n",
              "      display:flex;\n",
              "      flex-wrap:wrap;\n",
              "      gap: 12px;\n",
              "    }\n",
              "\n",
              "    .colab-df-convert {\n",
              "      background-color: #E8F0FE;\n",
              "      border: none;\n",
              "      border-radius: 50%;\n",
              "      cursor: pointer;\n",
              "      display: none;\n",
              "      fill: #1967D2;\n",
              "      height: 32px;\n",
              "      padding: 0 0 0 0;\n",
              "      width: 32px;\n",
              "    }\n",
              "\n",
              "    .colab-df-convert:hover {\n",
              "      background-color: #E2EBFA;\n",
              "      box-shadow: 0px 1px 2px rgba(60, 64, 67, 0.3), 0px 1px 3px 1px rgba(60, 64, 67, 0.15);\n",
              "      fill: #174EA6;\n",
              "    }\n",
              "\n",
              "    [theme=dark] .colab-df-convert {\n",
              "      background-color: #3B4455;\n",
              "      fill: #D2E3FC;\n",
              "    }\n",
              "\n",
              "    [theme=dark] .colab-df-convert:hover {\n",
              "      background-color: #434B5C;\n",
              "      box-shadow: 0px 1px 3px 1px rgba(0, 0, 0, 0.15);\n",
              "      filter: drop-shadow(0px 1px 2px rgba(0, 0, 0, 0.3));\n",
              "      fill: #FFFFFF;\n",
              "    }\n",
              "  </style>\n",
              "\n",
              "      <script>\n",
              "        const buttonEl =\n",
              "          document.querySelector('#df-c68dc158-b2b5-4abe-82cb-e15398d94c18 button.colab-df-convert');\n",
              "        buttonEl.style.display =\n",
              "          google.colab.kernel.accessAllowed ? 'block' : 'none';\n",
              "\n",
              "        async function convertToInteractive(key) {\n",
              "          const element = document.querySelector('#df-c68dc158-b2b5-4abe-82cb-e15398d94c18');\n",
              "          const dataTable =\n",
              "            await google.colab.kernel.invokeFunction('convertToInteractive',\n",
              "                                                     [key], {});\n",
              "          if (!dataTable) return;\n",
              "\n",
              "          const docLinkHtml = 'Like what you see? Visit the ' +\n",
              "            '<a target=\"_blank\" href=https://colab.research.google.com/notebooks/data_table.ipynb>data table notebook</a>'\n",
              "            + ' to learn more about interactive tables.';\n",
              "          element.innerHTML = '';\n",
              "          dataTable['output_type'] = 'display_data';\n",
              "          await google.colab.output.renderOutput(dataTable, element);\n",
              "          const docLink = document.createElement('div');\n",
              "          docLink.innerHTML = docLinkHtml;\n",
              "          element.appendChild(docLink);\n",
              "        }\n",
              "      </script>\n",
              "    </div>\n",
              "  </div>\n",
              "  "
            ]
          },
          "metadata": {}
        },
        {
          "output_type": "display_data",
          "data": {
            "text/plain": [
              "children            2174\n",
              "days_employed          0\n",
              "dob_years           2174\n",
              "education           2174\n",
              "education_id        2174\n",
              "family_status       2174\n",
              "family_status_id    2174\n",
              "gender              2174\n",
              "income_type         2174\n",
              "debt                2174\n",
              "total_income           0\n",
              "purpose             2174\n",
              "dtype: int64"
            ]
          },
          "metadata": {}
        }
      ]
    },
    {
      "cell_type": "code",
      "source": [
        "# Wir berechnen das arithmetische Mittel und den Median für die angegebenen Spalten.\n",
        "print('days_employed, mean', data['days_employed'].mean())\n",
        "print('days_employed, median', data['days_employed'].median())\n",
        "print('total_income, mean', data['total_income'].mean())\n",
        "print('total_income, median', data['total_income'].median())"
      ],
      "metadata": {
        "id": "4UP335q2Hx02",
        "outputId": "e84b20e6-0ea4-4f6a-e729-eb630cdbb8ec",
        "colab": {
          "base_uri": "https://localhost:8080/"
        }
      },
      "execution_count": 6,
      "outputs": [
        {
          "output_type": "stream",
          "name": "stdout",
          "text": [
            "days_employed, mean 63046.49766147338\n",
            "days_employed, median -1203.369528770489\n",
            "total_income, mean 167422.30220817294\n",
            "total_income, median 145017.93753253992\n"
          ]
        }
      ]
    },
    {
      "cell_type": "markdown",
      "source": [
        "Der arithmetische Mittelwert für die Spalte 'days_employed' beträgt 63047 Tage, also über 200 Jahre. In diesem Fall sind die Werte in der Spalte entweder negativ oder unrealistische Werte. Verwenden Sie den Median, um Nullwerte einzugeben."
      ],
      "metadata": {
        "id": "gJ1E-DHR7cYw"
      }
    },
    {
      "cell_type": "code",
      "source": [
        "# Wir werden Nullwerte mit der gewählten Methode füllen.\n",
        "median_days_employed = data['days_employed'].median()\n",
        "data['days_employed'] = data['days_employed'].fillna(median_days_employed)\n",
        "# Wir werden prüfen, ob in der Tabelle noch Nullwerte vorhanden sind.\n",
        "data[data['days_employed'].isnull()].count()"
      ],
      "metadata": {
        "id": "orAO0JdB6Y_J",
        "outputId": "6ab3da50-15af-4fb4-eb9a-b83db9c98ba8",
        "colab": {
          "base_uri": "https://localhost:8080/"
        }
      },
      "execution_count": 7,
      "outputs": [
        {
          "output_type": "execute_result",
          "data": {
            "text/plain": [
              "children            0\n",
              "days_employed       0\n",
              "dob_years           0\n",
              "education           0\n",
              "education_id        0\n",
              "family_status       0\n",
              "family_status_id    0\n",
              "gender              0\n",
              "income_type         0\n",
              "debt                0\n",
              "total_income        0\n",
              "purpose             0\n",
              "dtype: int64"
            ]
          },
          "metadata": {},
          "execution_count": 7
        }
      ]
    },
    {
      "cell_type": "markdown",
      "source": [
        "Für die Spalte „total_income“ unterscheiden sich das arithmetische Mittel und die Medianwerte leicht, daher verwenden wir auch den Median, um Nullwerte einzugeben."
      ],
      "metadata": {
        "id": "BIq-YJWw8cRE"
      }
    },
    {
      "cell_type": "code",
      "source": [
        "# Wir durchlaufen die eindeutigen „income_type“-Werte, berechnen den Median \n",
        "# für jede Gruppe und füllen die Lücken aus.\n",
        "for income_type in data['income_type'].unique():\n",
        "    median = data.loc[data['income_type'] == income_type, 'total_income'].median()\n",
        "    data.loc[(data['income_type'] == income_type) & (data['total_income'].isna()), 'total_income'] = median\n",
        "# Wir prüfen, ob die Tabelle Nullwerte enthält.\n",
        "data[data['total_income'].isnull()].count()"
      ],
      "metadata": {
        "id": "ybldnJpN8J9F",
        "outputId": "c7fb4ddd-2bce-44f6-db29-42d6a6af1f7e",
        "colab": {
          "base_uri": "https://localhost:8080/"
        }
      },
      "execution_count": 8,
      "outputs": [
        {
          "output_type": "execute_result",
          "data": {
            "text/plain": [
              "children            0\n",
              "days_employed       0\n",
              "dob_years           0\n",
              "education           0\n",
              "education_id        0\n",
              "family_status       0\n",
              "family_status_id    0\n",
              "gender              0\n",
              "income_type         0\n",
              "debt                0\n",
              "total_income        0\n",
              "purpose             0\n",
              "dtype: int64"
            ]
          },
          "metadata": {},
          "execution_count": 8
        }
      ]
    },
    {
      "cell_type": "code",
      "source": [
        "# Wir füllen die Lücken in der Spalte total_income auf andere Weise aus.\n",
        "data['total_income'] = data.groupby('income_type')['total_income'].apply(lambda x: x.fillna(x.median()))\n",
        "# Wir prüfen, ob die Tabelle Nullwerte enthält.\n",
        "data[data['total_income'].isnull()].count()"
      ],
      "metadata": {
        "id": "60OrQNHz9DeB",
        "outputId": "c45d8774-ff31-4a19-e069-07e495dd88fd",
        "colab": {
          "base_uri": "https://localhost:8080/"
        }
      },
      "execution_count": 9,
      "outputs": [
        {
          "output_type": "execute_result",
          "data": {
            "text/plain": [
              "children            0\n",
              "days_employed       0\n",
              "dob_years           0\n",
              "education           0\n",
              "education_id        0\n",
              "family_status       0\n",
              "family_status_id    0\n",
              "gender              0\n",
              "income_type         0\n",
              "debt                0\n",
              "total_income        0\n",
              "purpose             0\n",
              "dtype: int64"
            ]
          },
          "metadata": {},
          "execution_count": 9
        }
      ]
    },
    {
      "cell_type": "markdown",
      "source": [
        "**Schlussfolgerungen**\n",
        "\n",
        "Die Spalten „Tagesbeschäftigung“ und „Gesamteinkommen“ enthielten jeweils 2174 Nullwerte. Mögliche Gründe für das Auftreten von Datenlücken können die Zurückhaltung von Klienten sein, Angaben zu ihrem Einkommen und ihrer Dienstzeit zu machen, oder ihre Abwesenheit (z. B. bei Studenten). Sie sollten diese Zeilen nicht löschen, weil das sind 10,1 % aller Daten (2174/21525). Jetzt gibt es keine Nullwerte in der Tabelle."
      ],
      "metadata": {
        "id": "umR3Ythj-d_k"
      }
    },
    {
      "cell_type": "markdown",
      "source": [
        "## Ersetzen des Datentyps"
      ],
      "metadata": {
        "id": "qXOrZyDm-rlY"
      }
    },
    {
      "cell_type": "code",
      "source": [
        "# Wir werden die Werte der Spalten, die Informationen über die Dienstzeit der Kreditnehmer und \n",
        "# ihr Einkommen enthalten, in ganze Zahlen umwandeln.\n",
        "data['days_employed'] = data['days_employed'].astype('int')\n",
        "data['total_income'] = data['total_income'].astype('int')\n",
        "# Mal sehen was passiert.\n",
        "data.head()"
      ],
      "metadata": {
        "id": "Kivqt8z395e9",
        "outputId": "28015bd2-3241-4de2-b7ff-659fa32ddc89",
        "colab": {
          "base_uri": "https://localhost:8080/",
          "height": 357
        }
      },
      "execution_count": 10,
      "outputs": [
        {
          "output_type": "execute_result",
          "data": {
            "text/plain": [
              "   children  days_employed  dob_years education  education_id  \\\n",
              "0         1          -8437         42    высшее             0   \n",
              "1         1          -4024         36   среднее             1   \n",
              "2         0          -5623         33   Среднее             1   \n",
              "3         3          -4124         32   среднее             1   \n",
              "4         0         340266         53   среднее             1   \n",
              "\n",
              "      family_status  family_status_id gender income_type  debt  total_income  \\\n",
              "0   женат / замужем                 0      F   сотрудник     0        253875   \n",
              "1   женат / замужем                 0      F   сотрудник     0        112080   \n",
              "2   женат / замужем                 0      M   сотрудник     0        145885   \n",
              "3   женат / замужем                 0      M   сотрудник     0        267628   \n",
              "4  гражданский брак                 1      F   пенсионер     0        158616   \n",
              "\n",
              "                      purpose  \n",
              "0               покупка жилья  \n",
              "1     приобретение автомобиля  \n",
              "2               покупка жилья  \n",
              "3  дополнительное образование  \n",
              "4             сыграть свадьбу  "
            ],
            "text/html": [
              "\n",
              "  <div id=\"df-1913a6a3-ec34-4275-aec6-bdb325937603\">\n",
              "    <div class=\"colab-df-container\">\n",
              "      <div>\n",
              "<style scoped>\n",
              "    .dataframe tbody tr th:only-of-type {\n",
              "        vertical-align: middle;\n",
              "    }\n",
              "\n",
              "    .dataframe tbody tr th {\n",
              "        vertical-align: top;\n",
              "    }\n",
              "\n",
              "    .dataframe thead th {\n",
              "        text-align: right;\n",
              "    }\n",
              "</style>\n",
              "<table border=\"1\" class=\"dataframe\">\n",
              "  <thead>\n",
              "    <tr style=\"text-align: right;\">\n",
              "      <th></th>\n",
              "      <th>children</th>\n",
              "      <th>days_employed</th>\n",
              "      <th>dob_years</th>\n",
              "      <th>education</th>\n",
              "      <th>education_id</th>\n",
              "      <th>family_status</th>\n",
              "      <th>family_status_id</th>\n",
              "      <th>gender</th>\n",
              "      <th>income_type</th>\n",
              "      <th>debt</th>\n",
              "      <th>total_income</th>\n",
              "      <th>purpose</th>\n",
              "    </tr>\n",
              "  </thead>\n",
              "  <tbody>\n",
              "    <tr>\n",
              "      <th>0</th>\n",
              "      <td>1</td>\n",
              "      <td>-8437</td>\n",
              "      <td>42</td>\n",
              "      <td>высшее</td>\n",
              "      <td>0</td>\n",
              "      <td>женат / замужем</td>\n",
              "      <td>0</td>\n",
              "      <td>F</td>\n",
              "      <td>сотрудник</td>\n",
              "      <td>0</td>\n",
              "      <td>253875</td>\n",
              "      <td>покупка жилья</td>\n",
              "    </tr>\n",
              "    <tr>\n",
              "      <th>1</th>\n",
              "      <td>1</td>\n",
              "      <td>-4024</td>\n",
              "      <td>36</td>\n",
              "      <td>среднее</td>\n",
              "      <td>1</td>\n",
              "      <td>женат / замужем</td>\n",
              "      <td>0</td>\n",
              "      <td>F</td>\n",
              "      <td>сотрудник</td>\n",
              "      <td>0</td>\n",
              "      <td>112080</td>\n",
              "      <td>приобретение автомобиля</td>\n",
              "    </tr>\n",
              "    <tr>\n",
              "      <th>2</th>\n",
              "      <td>0</td>\n",
              "      <td>-5623</td>\n",
              "      <td>33</td>\n",
              "      <td>Среднее</td>\n",
              "      <td>1</td>\n",
              "      <td>женат / замужем</td>\n",
              "      <td>0</td>\n",
              "      <td>M</td>\n",
              "      <td>сотрудник</td>\n",
              "      <td>0</td>\n",
              "      <td>145885</td>\n",
              "      <td>покупка жилья</td>\n",
              "    </tr>\n",
              "    <tr>\n",
              "      <th>3</th>\n",
              "      <td>3</td>\n",
              "      <td>-4124</td>\n",
              "      <td>32</td>\n",
              "      <td>среднее</td>\n",
              "      <td>1</td>\n",
              "      <td>женат / замужем</td>\n",
              "      <td>0</td>\n",
              "      <td>M</td>\n",
              "      <td>сотрудник</td>\n",
              "      <td>0</td>\n",
              "      <td>267628</td>\n",
              "      <td>дополнительное образование</td>\n",
              "    </tr>\n",
              "    <tr>\n",
              "      <th>4</th>\n",
              "      <td>0</td>\n",
              "      <td>340266</td>\n",
              "      <td>53</td>\n",
              "      <td>среднее</td>\n",
              "      <td>1</td>\n",
              "      <td>гражданский брак</td>\n",
              "      <td>1</td>\n",
              "      <td>F</td>\n",
              "      <td>пенсионер</td>\n",
              "      <td>0</td>\n",
              "      <td>158616</td>\n",
              "      <td>сыграть свадьбу</td>\n",
              "    </tr>\n",
              "  </tbody>\n",
              "</table>\n",
              "</div>\n",
              "      <button class=\"colab-df-convert\" onclick=\"convertToInteractive('df-1913a6a3-ec34-4275-aec6-bdb325937603')\"\n",
              "              title=\"Convert this dataframe to an interactive table.\"\n",
              "              style=\"display:none;\">\n",
              "        \n",
              "  <svg xmlns=\"http://www.w3.org/2000/svg\" height=\"24px\"viewBox=\"0 0 24 24\"\n",
              "       width=\"24px\">\n",
              "    <path d=\"M0 0h24v24H0V0z\" fill=\"none\"/>\n",
              "    <path d=\"M18.56 5.44l.94 2.06.94-2.06 2.06-.94-2.06-.94-.94-2.06-.94 2.06-2.06.94zm-11 1L8.5 8.5l.94-2.06 2.06-.94-2.06-.94L8.5 2.5l-.94 2.06-2.06.94zm10 10l.94 2.06.94-2.06 2.06-.94-2.06-.94-.94-2.06-.94 2.06-2.06.94z\"/><path d=\"M17.41 7.96l-1.37-1.37c-.4-.4-.92-.59-1.43-.59-.52 0-1.04.2-1.43.59L10.3 9.45l-7.72 7.72c-.78.78-.78 2.05 0 2.83L4 21.41c.39.39.9.59 1.41.59.51 0 1.02-.2 1.41-.59l7.78-7.78 2.81-2.81c.8-.78.8-2.07 0-2.86zM5.41 20L4 18.59l7.72-7.72 1.47 1.35L5.41 20z\"/>\n",
              "  </svg>\n",
              "      </button>\n",
              "      \n",
              "  <style>\n",
              "    .colab-df-container {\n",
              "      display:flex;\n",
              "      flex-wrap:wrap;\n",
              "      gap: 12px;\n",
              "    }\n",
              "\n",
              "    .colab-df-convert {\n",
              "      background-color: #E8F0FE;\n",
              "      border: none;\n",
              "      border-radius: 50%;\n",
              "      cursor: pointer;\n",
              "      display: none;\n",
              "      fill: #1967D2;\n",
              "      height: 32px;\n",
              "      padding: 0 0 0 0;\n",
              "      width: 32px;\n",
              "    }\n",
              "\n",
              "    .colab-df-convert:hover {\n",
              "      background-color: #E2EBFA;\n",
              "      box-shadow: 0px 1px 2px rgba(60, 64, 67, 0.3), 0px 1px 3px 1px rgba(60, 64, 67, 0.15);\n",
              "      fill: #174EA6;\n",
              "    }\n",
              "\n",
              "    [theme=dark] .colab-df-convert {\n",
              "      background-color: #3B4455;\n",
              "      fill: #D2E3FC;\n",
              "    }\n",
              "\n",
              "    [theme=dark] .colab-df-convert:hover {\n",
              "      background-color: #434B5C;\n",
              "      box-shadow: 0px 1px 3px 1px rgba(0, 0, 0, 0.15);\n",
              "      filter: drop-shadow(0px 1px 2px rgba(0, 0, 0, 0.3));\n",
              "      fill: #FFFFFF;\n",
              "    }\n",
              "  </style>\n",
              "\n",
              "      <script>\n",
              "        const buttonEl =\n",
              "          document.querySelector('#df-1913a6a3-ec34-4275-aec6-bdb325937603 button.colab-df-convert');\n",
              "        buttonEl.style.display =\n",
              "          google.colab.kernel.accessAllowed ? 'block' : 'none';\n",
              "\n",
              "        async function convertToInteractive(key) {\n",
              "          const element = document.querySelector('#df-1913a6a3-ec34-4275-aec6-bdb325937603');\n",
              "          const dataTable =\n",
              "            await google.colab.kernel.invokeFunction('convertToInteractive',\n",
              "                                                     [key], {});\n",
              "          if (!dataTable) return;\n",
              "\n",
              "          const docLinkHtml = 'Like what you see? Visit the ' +\n",
              "            '<a target=\"_blank\" href=https://colab.research.google.com/notebooks/data_table.ipynb>data table notebook</a>'\n",
              "            + ' to learn more about interactive tables.';\n",
              "          element.innerHTML = '';\n",
              "          dataTable['output_type'] = 'display_data';\n",
              "          await google.colab.output.renderOutput(dataTable, element);\n",
              "          const docLink = document.createElement('div');\n",
              "          docLink.innerHTML = docLinkHtml;\n",
              "          element.appendChild(docLink);\n",
              "        }\n",
              "      </script>\n",
              "    </div>\n",
              "  </div>\n",
              "  "
            ]
          },
          "metadata": {},
          "execution_count": 10
        }
      ]
    },
    {
      "cell_type": "markdown",
      "source": [
        "**Schlussfolgerungen**\n",
        "\n",
        "Die Gesamtarbeitserfahrung wird in ganzen Tagen gemessen, daher müssen die Werte in der Spalte 'days_employed' in Ganzzahlen umgewandelt werden. Die Werte der Spalte 'total_income' werden ebenfalls in ganze Zahlen umgewandelt, weil eine solche Genauigkeit ist nicht erforderlich, um das Problem zu lösen. Einkommensbruchteile können sich in der Tabelle ergeben haben, indem das Jahreseinkommen des Kreditnehmers durch 12 Monate geteilt wurde. Bruchteile von Erfahrungswerten, gemessen in Jahren und Monaten, könnten durch Division durch die Anzahl der Tage in einem Jahr oder in einem Monat entstehen."
      ],
      "metadata": {
        "id": "t-3JpwQTBuP1"
      }
    },
    {
      "cell_type": "markdown",
      "source": [
        "## Doppelte Handhabung"
      ],
      "metadata": {
        "id": "0ZQb3i9wB263"
      }
    },
    {
      "cell_type": "code",
      "source": [
        "# Wir zählen die Anzahl der Duplikate\n",
        "data.duplicated().sum()"
      ],
      "metadata": {
        "id": "3dLY4H-t_Lcx",
        "outputId": "955f9cf2-c3b3-48a3-f5ea-9959e09988f1",
        "colab": {
          "base_uri": "https://localhost:8080/"
        }
      },
      "execution_count": 11,
      "outputs": [
        {
          "output_type": "execute_result",
          "data": {
            "text/plain": [
              "54"
            ]
          },
          "metadata": {},
          "execution_count": 11
        }
      ]
    },
    {
      "cell_type": "code",
      "source": [
        "# Wir werden die Spalte 'education' klein schreiben und die Anzahl der Duplikate erneut zählen.\n",
        "data['education'] = data['education'].str.lower()\n",
        "data.duplicated().sum()"
      ],
      "metadata": {
        "id": "AZs8ZaabCC80",
        "outputId": "b5dd1433-4211-4bad-f39f-2543cab7b640",
        "colab": {
          "base_uri": "https://localhost:8080/"
        }
      },
      "execution_count": 12,
      "outputs": [
        {
          "output_type": "execute_result",
          "data": {
            "text/plain": [
              "71"
            ]
          },
          "metadata": {},
          "execution_count": 12
        }
      ]
    },
    {
      "cell_type": "code",
      "source": [
        "# Das Ergebnis ist 71. Es gibt also Zeilen, die sich nur in Großbuchstaben in der Spalte 'education' unterscheiden. \n",
        "# Sie müssen auch entfernt werden.\n",
        "data = data.drop_duplicates().reset_index(drop = True)"
      ],
      "metadata": {
        "id": "p18qi3ycCi_J"
      },
      "execution_count": 13,
      "outputs": []
    },
    {
      "cell_type": "code",
      "source": [
        "# Wir prüfen die Anzahl der Duplikate und Zeilen in der Tabelle.\n",
        "display(data.duplicated().sum())\n",
        "data.shape"
      ],
      "metadata": {
        "id": "GI6pU-xyDgCl",
        "outputId": "df79faf2-4b71-449d-8077-74c369b24a61",
        "colab": {
          "base_uri": "https://localhost:8080/",
          "height": 52
        }
      },
      "execution_count": 14,
      "outputs": [
        {
          "output_type": "display_data",
          "data": {
            "text/plain": [
              "0"
            ]
          },
          "metadata": {}
        },
        {
          "output_type": "execute_result",
          "data": {
            "text/plain": [
              "(21454, 12)"
            ]
          },
          "metadata": {},
          "execution_count": 14
        }
      ]
    },
    {
      "cell_type": "markdown",
      "source": [
        "**Schlussfolgerungen**\n",
        "\n",
        "Es gibt 0 Duplikate, die Anzahl der Zeilen in der Tabelle beträgt 21454, d.h. 71 weniger. Durch Mitarbeiterfehler können Dubletten entstanden sein. Beispielsweise hat ein Mitarbeiter Informationen über denselben Kunden zweimal eingegeben, verschiedene Mitarbeiter haben Informationen über denselben Kunden eingegeben und so weiter."
      ],
      "metadata": {
        "id": "cCLrjEs2FVvn"
      }
    },
    {
      "cell_type": "markdown",
      "source": [
        "## Lemmatisierung"
      ],
      "metadata": {
        "id": "hFOgJGqfFdUu"
      }
    },
    {
      "cell_type": "code",
      "source": [
        "# Wir werden die Lemmatisierungsbibliothek laden.\n",
        "from pymystem3 import Mystem\n",
        "m = Mystem()"
      ],
      "metadata": {
        "id": "gejmmDBaFXkI"
      },
      "execution_count": 20,
      "outputs": []
    },
    {
      "cell_type": "code",
      "source": [
        "# Wir erstellen eine Liste der eindeutigen Zwecke der Spalte 'purpose' und untersuchen sie.\n",
        "purpose_list = data['purpose'].unique()\n",
        "purpose_list"
      ],
      "metadata": {
        "id": "llPop1s0FwNQ",
        "outputId": "21f6f395-7189-4f93-ecc8-777223e595cb",
        "colab": {
          "base_uri": "https://localhost:8080/"
        }
      },
      "execution_count": 21,
      "outputs": [
        {
          "output_type": "execute_result",
          "data": {
            "text/plain": [
              "array(['покупка жилья', 'приобретение автомобиля',\n",
              "       'дополнительное образование', 'сыграть свадьбу',\n",
              "       'операции с жильем', 'образование', 'на проведение свадьбы',\n",
              "       'покупка жилья для семьи', 'покупка недвижимости',\n",
              "       'покупка коммерческой недвижимости', 'покупка жилой недвижимости',\n",
              "       'строительство собственной недвижимости', 'недвижимость',\n",
              "       'строительство недвижимости', 'на покупку подержанного автомобиля',\n",
              "       'на покупку своего автомобиля',\n",
              "       'операции с коммерческой недвижимостью',\n",
              "       'строительство жилой недвижимости', 'жилье',\n",
              "       'операции со своей недвижимостью', 'автомобили',\n",
              "       'заняться образованием', 'сделка с подержанным автомобилем',\n",
              "       'получение образования', 'автомобиль', 'свадьба',\n",
              "       'получение дополнительного образования', 'покупка своего жилья',\n",
              "       'операции с недвижимостью', 'получение высшего образования',\n",
              "       'свой автомобиль', 'сделка с автомобилем',\n",
              "       'профильное образование', 'высшее образование',\n",
              "       'покупка жилья для сдачи', 'на покупку автомобиля', 'ремонт жилью',\n",
              "       'заняться высшим образованием'], dtype=object)"
            ]
          },
          "metadata": {},
          "execution_count": 21
        }
      ]
    },
    {
      "cell_type": "code",
      "source": [
        "# Wir lemmatisieren jedes der Ziele.\n",
        "lemmas = []\n",
        "for row in purpose_list:\n",
        "    lemma = m.lemmatize(row)\n",
        "    lemmas.append(lemma)\n",
        "# Wir werden das Ergebnis sehen und studieren.\n",
        "lemmas"
      ],
      "metadata": {
        "id": "F2W342xnGGrW",
        "outputId": "caf51246-0839-4a14-8e27-24606458e48d",
        "colab": {
          "base_uri": "https://localhost:8080/",
          "height": 380
        }
      },
      "execution_count": 22,
      "outputs": [
        {
          "output_type": "error",
          "ename": "KeyboardInterrupt",
          "evalue": "ignored",
          "traceback": [
            "\u001b[0;31m---------------------------------------------------------------------------\u001b[0m",
            "\u001b[0;31mKeyboardInterrupt\u001b[0m                         Traceback (most recent call last)",
            "\u001b[0;32m<ipython-input-22-134bdeed9e12>\u001b[0m in \u001b[0;36m<module>\u001b[0;34m()\u001b[0m\n\u001b[1;32m      2\u001b[0m \u001b[0mlemmas\u001b[0m \u001b[0;34m=\u001b[0m \u001b[0;34m[\u001b[0m\u001b[0;34m]\u001b[0m\u001b[0;34m\u001b[0m\u001b[0;34m\u001b[0m\u001b[0m\n\u001b[1;32m      3\u001b[0m \u001b[0;32mfor\u001b[0m \u001b[0mrow\u001b[0m \u001b[0;32min\u001b[0m \u001b[0mpurpose_list\u001b[0m\u001b[0;34m:\u001b[0m\u001b[0;34m\u001b[0m\u001b[0;34m\u001b[0m\u001b[0m\n\u001b[0;32m----> 4\u001b[0;31m     \u001b[0mlemma\u001b[0m \u001b[0;34m=\u001b[0m \u001b[0mm\u001b[0m\u001b[0;34m.\u001b[0m\u001b[0mlemmatize\u001b[0m\u001b[0;34m(\u001b[0m\u001b[0mrow\u001b[0m\u001b[0;34m)\u001b[0m\u001b[0;34m\u001b[0m\u001b[0;34m\u001b[0m\u001b[0m\n\u001b[0m\u001b[1;32m      5\u001b[0m     \u001b[0mlemmas\u001b[0m\u001b[0;34m.\u001b[0m\u001b[0mappend\u001b[0m\u001b[0;34m(\u001b[0m\u001b[0mlemma\u001b[0m\u001b[0;34m)\u001b[0m\u001b[0;34m\u001b[0m\u001b[0;34m\u001b[0m\u001b[0m\n\u001b[1;32m      6\u001b[0m \u001b[0;31m# Wir werden das Ergebnis sehen und studieren.\u001b[0m\u001b[0;34m\u001b[0m\u001b[0;34m\u001b[0m\u001b[0;34m\u001b[0m\u001b[0m\n",
            "\u001b[0;32m/usr/local/lib/python3.7/dist-packages/pymystem3/mystem.py\u001b[0m in \u001b[0;36mlemmatize\u001b[0;34m(self, text)\u001b[0m\n\u001b[1;32m    263\u001b[0m         \u001b[0mneed_encode\u001b[0m \u001b[0;34m=\u001b[0m \u001b[0;34m(\u001b[0m\u001b[0msys\u001b[0m\u001b[0;34m.\u001b[0m\u001b[0mversion_info\u001b[0m\u001b[0;34m[\u001b[0m\u001b[0;36m0\u001b[0m\u001b[0;34m]\u001b[0m \u001b[0;34m<\u001b[0m \u001b[0;36m3\u001b[0m \u001b[0;32mand\u001b[0m \u001b[0misinstance\u001b[0m\u001b[0;34m(\u001b[0m\u001b[0mtext\u001b[0m\u001b[0;34m,\u001b[0m \u001b[0mstr\u001b[0m\u001b[0;34m)\u001b[0m\u001b[0;34m)\u001b[0m\u001b[0;34m\u001b[0m\u001b[0;34m\u001b[0m\u001b[0m\n\u001b[1;32m    264\u001b[0m \u001b[0;34m\u001b[0m\u001b[0m\n\u001b[0;32m--> 265\u001b[0;31m         \u001b[0minfos\u001b[0m \u001b[0;34m=\u001b[0m \u001b[0mself\u001b[0m\u001b[0;34m.\u001b[0m\u001b[0manalyze\u001b[0m\u001b[0;34m(\u001b[0m\u001b[0mtext\u001b[0m\u001b[0;34m)\u001b[0m\u001b[0;34m\u001b[0m\u001b[0;34m\u001b[0m\u001b[0m\n\u001b[0m\u001b[1;32m    266\u001b[0m         \u001b[0mlemmas\u001b[0m \u001b[0;34m=\u001b[0m \u001b[0mlist\u001b[0m\u001b[0;34m(\u001b[0m\u001b[0mfilter\u001b[0m\u001b[0;34m(\u001b[0m\u001b[0;32mNone\u001b[0m\u001b[0;34m,\u001b[0m \u001b[0mmap\u001b[0m\u001b[0;34m(\u001b[0m\u001b[0mself\u001b[0m\u001b[0;34m.\u001b[0m\u001b[0m_get_lemma\u001b[0m\u001b[0;34m,\u001b[0m \u001b[0minfos\u001b[0m\u001b[0;34m)\u001b[0m\u001b[0;34m)\u001b[0m\u001b[0;34m)\u001b[0m\u001b[0;34m\u001b[0m\u001b[0;34m\u001b[0m\u001b[0m\n\u001b[1;32m    267\u001b[0m \u001b[0;34m\u001b[0m\u001b[0m\n",
            "\u001b[0;32m/usr/local/lib/python3.7/dist-packages/pymystem3/mystem.py\u001b[0m in \u001b[0;36manalyze\u001b[0;34m(self, text)\u001b[0m\n\u001b[1;32m    248\u001b[0m         \u001b[0mresult\u001b[0m \u001b[0;34m=\u001b[0m \u001b[0;34m[\u001b[0m\u001b[0;34m]\u001b[0m\u001b[0;34m\u001b[0m\u001b[0;34m\u001b[0m\u001b[0m\n\u001b[1;32m    249\u001b[0m         \u001b[0;32mfor\u001b[0m \u001b[0mline\u001b[0m \u001b[0;32min\u001b[0m \u001b[0mtext\u001b[0m\u001b[0;34m.\u001b[0m\u001b[0msplitlines\u001b[0m\u001b[0;34m(\u001b[0m\u001b[0;34m)\u001b[0m\u001b[0;34m:\u001b[0m\u001b[0;34m\u001b[0m\u001b[0;34m\u001b[0m\u001b[0m\n\u001b[0;32m--> 250\u001b[0;31m             \u001b[0mresult\u001b[0m\u001b[0;34m.\u001b[0m\u001b[0mextend\u001b[0m\u001b[0;34m(\u001b[0m\u001b[0mself\u001b[0m\u001b[0;34m.\u001b[0m\u001b[0m_analyze_impl\u001b[0m\u001b[0;34m(\u001b[0m\u001b[0mline\u001b[0m\u001b[0;34m)\u001b[0m\u001b[0;34m)\u001b[0m\u001b[0;34m\u001b[0m\u001b[0;34m\u001b[0m\u001b[0m\n\u001b[0m\u001b[1;32m    251\u001b[0m         \u001b[0;32mreturn\u001b[0m \u001b[0mresult\u001b[0m\u001b[0;34m\u001b[0m\u001b[0;34m\u001b[0m\u001b[0m\n\u001b[1;32m    252\u001b[0m \u001b[0;34m\u001b[0m\u001b[0m\n",
            "\u001b[0;32m/usr/local/lib/python3.7/dist-packages/pymystem3/mystem.py\u001b[0m in \u001b[0;36m_analyze_impl\u001b[0;34m(self, text)\u001b[0m\n\u001b[1;32m    289\u001b[0m             \u001b[0;32mwhile\u001b[0m \u001b[0;32mTrue\u001b[0m\u001b[0;34m:\u001b[0m\u001b[0;34m\u001b[0m\u001b[0;34m\u001b[0m\u001b[0m\n\u001b[1;32m    290\u001b[0m                 \u001b[0;32mtry\u001b[0m\u001b[0;34m:\u001b[0m\u001b[0;34m\u001b[0m\u001b[0;34m\u001b[0m\u001b[0m\n\u001b[0;32m--> 291\u001b[0;31m                     \u001b[0mout\u001b[0m \u001b[0;34m=\u001b[0m \u001b[0mself\u001b[0m\u001b[0;34m.\u001b[0m\u001b[0m_procout\u001b[0m\u001b[0;34m.\u001b[0m\u001b[0mread\u001b[0m\u001b[0;34m(\u001b[0m\u001b[0;34m)\u001b[0m\u001b[0;34m\u001b[0m\u001b[0;34m\u001b[0m\u001b[0m\n\u001b[0m\u001b[1;32m    292\u001b[0m                     \u001b[0msio\u001b[0m\u001b[0;34m.\u001b[0m\u001b[0mwrite\u001b[0m\u001b[0;34m(\u001b[0m\u001b[0mout\u001b[0m\u001b[0;34m)\u001b[0m\u001b[0;34m\u001b[0m\u001b[0;34m\u001b[0m\u001b[0m\n\u001b[1;32m    293\u001b[0m                     \u001b[0mobj\u001b[0m \u001b[0;34m=\u001b[0m \u001b[0mjson\u001b[0m\u001b[0;34m.\u001b[0m\u001b[0mloads\u001b[0m\u001b[0;34m(\u001b[0m\u001b[0msio\u001b[0m\u001b[0;34m.\u001b[0m\u001b[0mgetvalue\u001b[0m\u001b[0;34m(\u001b[0m\u001b[0;34m)\u001b[0m\u001b[0;34m.\u001b[0m\u001b[0mdecode\u001b[0m\u001b[0;34m(\u001b[0m\u001b[0;34m'utf-8'\u001b[0m\u001b[0;34m)\u001b[0m\u001b[0;34m)\u001b[0m\u001b[0;34m\u001b[0m\u001b[0;34m\u001b[0m\u001b[0m\n",
            "\u001b[0;31mKeyboardInterrupt\u001b[0m: "
          ]
        }
      ]
    },
    {
      "cell_type": "markdown",
      "source": [
        "Es gibt offensichtliche Ausgabengruppen für den Kauf eines Autos, eine Ausbildung, die Organisation einer Hochzeit. Es ist nicht möglich, den Zweck eines Darlehens zu trennen, um ein Haus für sich selbst zu kaufen oder ein Haus zu vermieten, weil Es gibt einen Zweck einfach \"Gehäuse\". Es ist auch nicht möglich, den Wohnungskauf vom Erwerb einer Gewerbeimmobilie zu trennen, weil Es gibt ein Ziel \"Immobilien\", ohne seinen Zweck zu spezifizieren. Deshalb vereinen wir diese Ziele zu einem: „Immobilien“."
      ],
      "metadata": {
        "id": "rav0oTDOG1UX"
      }
    },
    {
      "cell_type": "code",
      "source": [
        "# Wir werden eine Funktion erstellen, um den Zweck der Kreditaufnahme zu standardisieren.\n",
        "def purpose_standart(row):\n",
        "    purpose = m.lemmatize(row['purpose'])\n",
        "    if 'автомобиль' in purpose:\n",
        "        return 'автомобиль'\n",
        "    if 'свадьба' in purpose:\n",
        "        return 'свадьба'\n",
        "    if 'образование' in purpose:\n",
        "        return 'образование'\n",
        "    if 'недвиж' or 'жил' in purpose:\n",
        "        return 'недвижимость'\n",
        "\n",
        "    # Wir werden eine Spalte mit standardisierten Zielen an die Tabelle anhängen.\n",
        "    data['purpose_standart'] = data.apply(purpose_standart, axis=1) \n",
        "    data.head()"
      ],
      "metadata": {
        "id": "jgQd3ikMGZPy"
      },
      "execution_count": null,
      "outputs": []
    },
    {
      "cell_type": "markdown",
      "source": [
        "**Schlussfolgerungen**\n",
        "\n",
        "Informationen über Kreditnehmer in die Datenbank wurden höchstwahrscheinlich von verschiedenen Bankangestellten eingegeben, die keine klaren Anweisungen hatten, wie der Zweck der Kreditaufnahme widergespiegelt werden sollte. Wir haben alle Ziele auf eine Einheitlichkeit gebracht, indem wir 4 Gruppen gebildet haben. Diese Informationen werden nun weiter analysiert."
      ],
      "metadata": {
        "id": "kvCKe0KqIA5X"
      }
    },
    {
      "cell_type": "markdown",
      "source": [
        "## Datenkategorisierung"
      ],
      "metadata": {
        "id": "GBcZD1jXIH7z"
      }
    },
    {
      "cell_type": "code",
      "source": [
        "# Zur weiteren Analyse teilen wir Kreditnehmer in folgende Gruppen ein: \n",
        "# „keine Kinder“ und „haben Kinder“.\n",
        "# Wir schreiben eine Funktion zur Aufteilung in Gruppen.\n",
        "def children_class(row):\n",
        "    children = row['children']\n",
        "    debt = row['debt']\n",
        "    \n",
        "    if children == 0:\n",
        "        return 'keine Kinder'\n",
        "                \n",
        "    if children != 0:\n",
        "        return 'es gibt Kinder'"
      ],
      "metadata": {
        "id": "UoXHHCsbICg4"
      },
      "execution_count": null,
      "outputs": []
    },
    {
      "cell_type": "code",
      "source": [
        "# Wir bilden eine zusätzliche Spalte zur Tabelle und sehen uns diese an.\n",
        "data['children_class'] = data.apply(children_class, axis=1)\n",
        "display(data.head())"
      ],
      "metadata": {
        "id": "oaA7jUnzKnSx"
      },
      "execution_count": null,
      "outputs": []
    },
    {
      "cell_type": "code",
      "source": [
        "# Wir werden die Kunden der Bank nach Einkommen in 3 Gruppen einteilen: \n",
        "# bis 100 (niedrig), von 100 bis 250 (mittel), über 250 (hoch).\n",
        "# Wir schreiben eine Funktion zur Aufteilung in Gruppen.\n",
        "def income_class(row):\n",
        "    total_income = row['total_income']\n",
        "    debt = row['debt']\n",
        "    if total_income < 100000:\n",
        "        return 'niedriges Einkommen'\n",
        "        \n",
        "    if 100000 <= total_income < 250000:\n",
        "        return 'mittelis Einkommen'\n",
        "        \n",
        "    if total_income >= 250000:\n",
        "        return 'hohes Einkommen'"
      ],
      "metadata": {
        "id": "B9dERtb9LCSS"
      },
      "execution_count": null,
      "outputs": []
    },
    {
      "cell_type": "code",
      "source": [
        "# Wir bilden eine zusätzliche Spalte zur Tabelle und sehen uns diese an.\n",
        "data['income_class'] = data.apply(income_class, axis=1)\n",
        "data.head()"
      ],
      "metadata": {
        "id": "l50o0ka3L0zH"
      },
      "execution_count": null,
      "outputs": []
    },
    {
      "cell_type": "markdown",
      "source": [
        "**Schlussfolgerungen**\n",
        "\n",
        "Wir haben alle Kunden in Gruppen eingeteilt. Die erhaltenen Informationen ermöglichen es uns, die vom Kunden gestellten Fragen zu beantworten."
      ],
      "metadata": {
        "id": "pjvSf-SnMBO-"
      }
    },
    {
      "cell_type": "code",
      "source": [
        ""
      ],
      "metadata": {
        "id": "K1HJvop3MCrr"
      },
      "execution_count": null,
      "outputs": []
    }
  ]
}