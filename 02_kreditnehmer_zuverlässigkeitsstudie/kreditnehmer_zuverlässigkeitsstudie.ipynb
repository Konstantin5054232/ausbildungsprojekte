{
 "cells": [
  {
   "cell_type": "markdown",
   "metadata": {},
   "source": [
    "# **Kreditnehmer-Zuverlässigkeitsstudie**\n",
    "\n",
    "Die Kreditabteilung der Bank muss folgende Fragen beantworten: \n",
    "* Gibt es einen Zusammenhang zwischen Kinderwunsch und fristgerechter Kreditrückzahlung? \n",
    "* Gibt es einen Zusammenhang zwischen Familienstand und pünktlicher Kreditrückzahlung? \n",
    "* Gibt es einen Zusammenhang zwischen Einkommen und fristgerechter Kreditrückzahlung? \n",
    "* Wie wirken sich unterschiedliche Verwendungszwecke des Darlehens auf die fristgerechte Rückzahlung aus?\n",
    "\n",
    "Die Bank erhielt Statistiken über die Zahlungsfähigkeit der Kunden.\n",
    "\n",
    "Die Ergebnisse der Studie werden beim Aufbau eines Kredit-Scoring-Modells angewendet."
   ]
  },
  {
   "cell_type": "markdown",
   "metadata": {},
   "source": [
    "# Datenexploration"
   ]
  },
  {
   "cell_type": "code",
   "execution_count": 28,
   "metadata": {},
   "outputs": [
    {
     "data": {
      "text/html": [
       "<div>\n",
       "<style scoped>\n",
       "    .dataframe tbody tr th:only-of-type {\n",
       "        vertical-align: middle;\n",
       "    }\n",
       "\n",
       "    .dataframe tbody tr th {\n",
       "        vertical-align: top;\n",
       "    }\n",
       "\n",
       "    .dataframe thead th {\n",
       "        text-align: right;\n",
       "    }\n",
       "</style>\n",
       "<table border=\"1\" class=\"dataframe\">\n",
       "  <thead>\n",
       "    <tr style=\"text-align: right;\">\n",
       "      <th></th>\n",
       "      <th>children</th>\n",
       "      <th>days_employed</th>\n",
       "      <th>dob_years</th>\n",
       "      <th>education</th>\n",
       "      <th>education_id</th>\n",
       "      <th>family_status</th>\n",
       "      <th>family_status_id</th>\n",
       "      <th>gender</th>\n",
       "      <th>income_type</th>\n",
       "      <th>debt</th>\n",
       "      <th>total_income</th>\n",
       "      <th>purpose</th>\n",
       "    </tr>\n",
       "  </thead>\n",
       "  <tbody>\n",
       "    <tr>\n",
       "      <th>0</th>\n",
       "      <td>1</td>\n",
       "      <td>-8437.673028</td>\n",
       "      <td>42</td>\n",
       "      <td>высшее</td>\n",
       "      <td>0</td>\n",
       "      <td>женат / замужем</td>\n",
       "      <td>0</td>\n",
       "      <td>F</td>\n",
       "      <td>сотрудник</td>\n",
       "      <td>0</td>\n",
       "      <td>253875.639453</td>\n",
       "      <td>покупка жилья</td>\n",
       "    </tr>\n",
       "    <tr>\n",
       "      <th>1</th>\n",
       "      <td>1</td>\n",
       "      <td>-4024.803754</td>\n",
       "      <td>36</td>\n",
       "      <td>среднее</td>\n",
       "      <td>1</td>\n",
       "      <td>женат / замужем</td>\n",
       "      <td>0</td>\n",
       "      <td>F</td>\n",
       "      <td>сотрудник</td>\n",
       "      <td>0</td>\n",
       "      <td>112080.014102</td>\n",
       "      <td>приобретение автомобиля</td>\n",
       "    </tr>\n",
       "    <tr>\n",
       "      <th>2</th>\n",
       "      <td>0</td>\n",
       "      <td>-5623.422610</td>\n",
       "      <td>33</td>\n",
       "      <td>Среднее</td>\n",
       "      <td>1</td>\n",
       "      <td>женат / замужем</td>\n",
       "      <td>0</td>\n",
       "      <td>M</td>\n",
       "      <td>сотрудник</td>\n",
       "      <td>0</td>\n",
       "      <td>145885.952297</td>\n",
       "      <td>покупка жилья</td>\n",
       "    </tr>\n",
       "    <tr>\n",
       "      <th>3</th>\n",
       "      <td>3</td>\n",
       "      <td>-4124.747207</td>\n",
       "      <td>32</td>\n",
       "      <td>среднее</td>\n",
       "      <td>1</td>\n",
       "      <td>женат / замужем</td>\n",
       "      <td>0</td>\n",
       "      <td>M</td>\n",
       "      <td>сотрудник</td>\n",
       "      <td>0</td>\n",
       "      <td>267628.550329</td>\n",
       "      <td>дополнительное образование</td>\n",
       "    </tr>\n",
       "    <tr>\n",
       "      <th>4</th>\n",
       "      <td>0</td>\n",
       "      <td>340266.072047</td>\n",
       "      <td>53</td>\n",
       "      <td>среднее</td>\n",
       "      <td>1</td>\n",
       "      <td>гражданский брак</td>\n",
       "      <td>1</td>\n",
       "      <td>F</td>\n",
       "      <td>пенсионер</td>\n",
       "      <td>0</td>\n",
       "      <td>158616.077870</td>\n",
       "      <td>сыграть свадьбу</td>\n",
       "    </tr>\n",
       "    <tr>\n",
       "      <th>5</th>\n",
       "      <td>0</td>\n",
       "      <td>-926.185831</td>\n",
       "      <td>27</td>\n",
       "      <td>высшее</td>\n",
       "      <td>0</td>\n",
       "      <td>гражданский брак</td>\n",
       "      <td>1</td>\n",
       "      <td>M</td>\n",
       "      <td>компаньон</td>\n",
       "      <td>0</td>\n",
       "      <td>255763.565419</td>\n",
       "      <td>покупка жилья</td>\n",
       "    </tr>\n",
       "    <tr>\n",
       "      <th>6</th>\n",
       "      <td>0</td>\n",
       "      <td>-2879.202052</td>\n",
       "      <td>43</td>\n",
       "      <td>высшее</td>\n",
       "      <td>0</td>\n",
       "      <td>женат / замужем</td>\n",
       "      <td>0</td>\n",
       "      <td>F</td>\n",
       "      <td>компаньон</td>\n",
       "      <td>0</td>\n",
       "      <td>240525.971920</td>\n",
       "      <td>операции с жильем</td>\n",
       "    </tr>\n",
       "    <tr>\n",
       "      <th>7</th>\n",
       "      <td>0</td>\n",
       "      <td>-152.779569</td>\n",
       "      <td>50</td>\n",
       "      <td>СРЕДНЕЕ</td>\n",
       "      <td>1</td>\n",
       "      <td>женат / замужем</td>\n",
       "      <td>0</td>\n",
       "      <td>M</td>\n",
       "      <td>сотрудник</td>\n",
       "      <td>0</td>\n",
       "      <td>135823.934197</td>\n",
       "      <td>образование</td>\n",
       "    </tr>\n",
       "    <tr>\n",
       "      <th>8</th>\n",
       "      <td>2</td>\n",
       "      <td>-6929.865299</td>\n",
       "      <td>35</td>\n",
       "      <td>ВЫСШЕЕ</td>\n",
       "      <td>0</td>\n",
       "      <td>гражданский брак</td>\n",
       "      <td>1</td>\n",
       "      <td>F</td>\n",
       "      <td>сотрудник</td>\n",
       "      <td>0</td>\n",
       "      <td>95856.832424</td>\n",
       "      <td>на проведение свадьбы</td>\n",
       "    </tr>\n",
       "    <tr>\n",
       "      <th>9</th>\n",
       "      <td>0</td>\n",
       "      <td>-2188.756445</td>\n",
       "      <td>41</td>\n",
       "      <td>среднее</td>\n",
       "      <td>1</td>\n",
       "      <td>женат / замужем</td>\n",
       "      <td>0</td>\n",
       "      <td>M</td>\n",
       "      <td>сотрудник</td>\n",
       "      <td>0</td>\n",
       "      <td>144425.938277</td>\n",
       "      <td>покупка жилья для семьи</td>\n",
       "    </tr>\n",
       "  </tbody>\n",
       "</table>\n",
       "</div>"
      ],
      "text/plain": [
       "   children  days_employed  dob_years education  education_id  \\\n",
       "0         1   -8437.673028         42    высшее             0   \n",
       "1         1   -4024.803754         36   среднее             1   \n",
       "2         0   -5623.422610         33   Среднее             1   \n",
       "3         3   -4124.747207         32   среднее             1   \n",
       "4         0  340266.072047         53   среднее             1   \n",
       "5         0    -926.185831         27    высшее             0   \n",
       "6         0   -2879.202052         43    высшее             0   \n",
       "7         0    -152.779569         50   СРЕДНЕЕ             1   \n",
       "8         2   -6929.865299         35    ВЫСШЕЕ             0   \n",
       "9         0   -2188.756445         41   среднее             1   \n",
       "\n",
       "      family_status  family_status_id gender income_type  debt   total_income  \\\n",
       "0   женат / замужем                 0      F   сотрудник     0  253875.639453   \n",
       "1   женат / замужем                 0      F   сотрудник     0  112080.014102   \n",
       "2   женат / замужем                 0      M   сотрудник     0  145885.952297   \n",
       "3   женат / замужем                 0      M   сотрудник     0  267628.550329   \n",
       "4  гражданский брак                 1      F   пенсионер     0  158616.077870   \n",
       "5  гражданский брак                 1      M   компаньон     0  255763.565419   \n",
       "6   женат / замужем                 0      F   компаньон     0  240525.971920   \n",
       "7   женат / замужем                 0      M   сотрудник     0  135823.934197   \n",
       "8  гражданский брак                 1      F   сотрудник     0   95856.832424   \n",
       "9   женат / замужем                 0      M   сотрудник     0  144425.938277   \n",
       "\n",
       "                      purpose  \n",
       "0               покупка жилья  \n",
       "1     приобретение автомобиля  \n",
       "2               покупка жилья  \n",
       "3  дополнительное образование  \n",
       "4             сыграть свадьбу  \n",
       "5               покупка жилья  \n",
       "6           операции с жильем  \n",
       "7                 образование  \n",
       "8       на проведение свадьбы  \n",
       "9     покупка жилья для семьи  "
      ]
     },
     "metadata": {},
     "output_type": "display_data"
    },
    {
     "data": {
      "text/html": [
       "<div>\n",
       "<style scoped>\n",
       "    .dataframe tbody tr th:only-of-type {\n",
       "        vertical-align: middle;\n",
       "    }\n",
       "\n",
       "    .dataframe tbody tr th {\n",
       "        vertical-align: top;\n",
       "    }\n",
       "\n",
       "    .dataframe thead th {\n",
       "        text-align: right;\n",
       "    }\n",
       "</style>\n",
       "<table border=\"1\" class=\"dataframe\">\n",
       "  <thead>\n",
       "    <tr style=\"text-align: right;\">\n",
       "      <th></th>\n",
       "      <th>children</th>\n",
       "      <th>days_employed</th>\n",
       "      <th>dob_years</th>\n",
       "      <th>education</th>\n",
       "      <th>education_id</th>\n",
       "      <th>family_status</th>\n",
       "      <th>family_status_id</th>\n",
       "      <th>gender</th>\n",
       "      <th>income_type</th>\n",
       "      <th>debt</th>\n",
       "      <th>total_income</th>\n",
       "      <th>purpose</th>\n",
       "    </tr>\n",
       "  </thead>\n",
       "  <tbody>\n",
       "    <tr>\n",
       "      <th>21515</th>\n",
       "      <td>1</td>\n",
       "      <td>-467.685130</td>\n",
       "      <td>28</td>\n",
       "      <td>среднее</td>\n",
       "      <td>1</td>\n",
       "      <td>женат / замужем</td>\n",
       "      <td>0</td>\n",
       "      <td>F</td>\n",
       "      <td>сотрудник</td>\n",
       "      <td>1</td>\n",
       "      <td>109486.327999</td>\n",
       "      <td>заняться образованием</td>\n",
       "    </tr>\n",
       "    <tr>\n",
       "      <th>21516</th>\n",
       "      <td>0</td>\n",
       "      <td>-914.391429</td>\n",
       "      <td>42</td>\n",
       "      <td>высшее</td>\n",
       "      <td>0</td>\n",
       "      <td>женат / замужем</td>\n",
       "      <td>0</td>\n",
       "      <td>F</td>\n",
       "      <td>компаньон</td>\n",
       "      <td>0</td>\n",
       "      <td>322807.776603</td>\n",
       "      <td>покупка своего жилья</td>\n",
       "    </tr>\n",
       "    <tr>\n",
       "      <th>21517</th>\n",
       "      <td>0</td>\n",
       "      <td>-404.679034</td>\n",
       "      <td>42</td>\n",
       "      <td>высшее</td>\n",
       "      <td>0</td>\n",
       "      <td>гражданский брак</td>\n",
       "      <td>1</td>\n",
       "      <td>F</td>\n",
       "      <td>компаньон</td>\n",
       "      <td>0</td>\n",
       "      <td>178059.553491</td>\n",
       "      <td>на покупку своего автомобиля</td>\n",
       "    </tr>\n",
       "    <tr>\n",
       "      <th>21518</th>\n",
       "      <td>0</td>\n",
       "      <td>373995.710838</td>\n",
       "      <td>59</td>\n",
       "      <td>СРЕДНЕЕ</td>\n",
       "      <td>1</td>\n",
       "      <td>женат / замужем</td>\n",
       "      <td>0</td>\n",
       "      <td>F</td>\n",
       "      <td>пенсионер</td>\n",
       "      <td>0</td>\n",
       "      <td>153864.650328</td>\n",
       "      <td>сделка с автомобилем</td>\n",
       "    </tr>\n",
       "    <tr>\n",
       "      <th>21519</th>\n",
       "      <td>1</td>\n",
       "      <td>-2351.431934</td>\n",
       "      <td>37</td>\n",
       "      <td>ученая степень</td>\n",
       "      <td>4</td>\n",
       "      <td>в разводе</td>\n",
       "      <td>3</td>\n",
       "      <td>M</td>\n",
       "      <td>сотрудник</td>\n",
       "      <td>0</td>\n",
       "      <td>115949.039788</td>\n",
       "      <td>покупка коммерческой недвижимости</td>\n",
       "    </tr>\n",
       "    <tr>\n",
       "      <th>21520</th>\n",
       "      <td>1</td>\n",
       "      <td>-4529.316663</td>\n",
       "      <td>43</td>\n",
       "      <td>среднее</td>\n",
       "      <td>1</td>\n",
       "      <td>гражданский брак</td>\n",
       "      <td>1</td>\n",
       "      <td>F</td>\n",
       "      <td>компаньон</td>\n",
       "      <td>0</td>\n",
       "      <td>224791.862382</td>\n",
       "      <td>операции с жильем</td>\n",
       "    </tr>\n",
       "    <tr>\n",
       "      <th>21521</th>\n",
       "      <td>0</td>\n",
       "      <td>343937.404131</td>\n",
       "      <td>67</td>\n",
       "      <td>среднее</td>\n",
       "      <td>1</td>\n",
       "      <td>женат / замужем</td>\n",
       "      <td>0</td>\n",
       "      <td>F</td>\n",
       "      <td>пенсионер</td>\n",
       "      <td>0</td>\n",
       "      <td>155999.806512</td>\n",
       "      <td>сделка с автомобилем</td>\n",
       "    </tr>\n",
       "    <tr>\n",
       "      <th>21522</th>\n",
       "      <td>1</td>\n",
       "      <td>-2113.346888</td>\n",
       "      <td>38</td>\n",
       "      <td>среднее</td>\n",
       "      <td>1</td>\n",
       "      <td>гражданский брак</td>\n",
       "      <td>1</td>\n",
       "      <td>M</td>\n",
       "      <td>сотрудник</td>\n",
       "      <td>1</td>\n",
       "      <td>89672.561153</td>\n",
       "      <td>недвижимость</td>\n",
       "    </tr>\n",
       "    <tr>\n",
       "      <th>21523</th>\n",
       "      <td>3</td>\n",
       "      <td>-3112.481705</td>\n",
       "      <td>38</td>\n",
       "      <td>среднее</td>\n",
       "      <td>1</td>\n",
       "      <td>женат / замужем</td>\n",
       "      <td>0</td>\n",
       "      <td>M</td>\n",
       "      <td>сотрудник</td>\n",
       "      <td>1</td>\n",
       "      <td>244093.050500</td>\n",
       "      <td>на покупку своего автомобиля</td>\n",
       "    </tr>\n",
       "    <tr>\n",
       "      <th>21524</th>\n",
       "      <td>2</td>\n",
       "      <td>-1984.507589</td>\n",
       "      <td>40</td>\n",
       "      <td>среднее</td>\n",
       "      <td>1</td>\n",
       "      <td>женат / замужем</td>\n",
       "      <td>0</td>\n",
       "      <td>F</td>\n",
       "      <td>сотрудник</td>\n",
       "      <td>0</td>\n",
       "      <td>82047.418899</td>\n",
       "      <td>на покупку автомобиля</td>\n",
       "    </tr>\n",
       "  </tbody>\n",
       "</table>\n",
       "</div>"
      ],
      "text/plain": [
       "       children  days_employed  dob_years       education  education_id  \\\n",
       "21515         1    -467.685130         28         среднее             1   \n",
       "21516         0    -914.391429         42          высшее             0   \n",
       "21517         0    -404.679034         42          высшее             0   \n",
       "21518         0  373995.710838         59         СРЕДНЕЕ             1   \n",
       "21519         1   -2351.431934         37  ученая степень             4   \n",
       "21520         1   -4529.316663         43         среднее             1   \n",
       "21521         0  343937.404131         67         среднее             1   \n",
       "21522         1   -2113.346888         38         среднее             1   \n",
       "21523         3   -3112.481705         38         среднее             1   \n",
       "21524         2   -1984.507589         40         среднее             1   \n",
       "\n",
       "          family_status  family_status_id gender income_type  debt  \\\n",
       "21515   женат / замужем                 0      F   сотрудник     1   \n",
       "21516   женат / замужем                 0      F   компаньон     0   \n",
       "21517  гражданский брак                 1      F   компаньон     0   \n",
       "21518   женат / замужем                 0      F   пенсионер     0   \n",
       "21519         в разводе                 3      M   сотрудник     0   \n",
       "21520  гражданский брак                 1      F   компаньон     0   \n",
       "21521   женат / замужем                 0      F   пенсионер     0   \n",
       "21522  гражданский брак                 1      M   сотрудник     1   \n",
       "21523   женат / замужем                 0      M   сотрудник     1   \n",
       "21524   женат / замужем                 0      F   сотрудник     0   \n",
       "\n",
       "        total_income                            purpose  \n",
       "21515  109486.327999              заняться образованием  \n",
       "21516  322807.776603               покупка своего жилья  \n",
       "21517  178059.553491       на покупку своего автомобиля  \n",
       "21518  153864.650328               сделка с автомобилем  \n",
       "21519  115949.039788  покупка коммерческой недвижимости  \n",
       "21520  224791.862382                  операции с жильем  \n",
       "21521  155999.806512               сделка с автомобилем  \n",
       "21522   89672.561153                       недвижимость  \n",
       "21523  244093.050500       на покупку своего автомобиля  \n",
       "21524   82047.418899              на покупку автомобиля  "
      ]
     },
     "metadata": {},
     "output_type": "display_data"
    },
    {
     "name": "stdout",
     "output_type": "stream",
     "text": [
      "<class 'pandas.core.frame.DataFrame'>\n",
      "RangeIndex: 21525 entries, 0 to 21524\n",
      "Data columns (total 12 columns):\n",
      " #   Column            Non-Null Count  Dtype  \n",
      "---  ------            --------------  -----  \n",
      " 0   children          21525 non-null  int64  \n",
      " 1   days_employed     19351 non-null  float64\n",
      " 2   dob_years         21525 non-null  int64  \n",
      " 3   education         21525 non-null  object \n",
      " 4   education_id      21525 non-null  int64  \n",
      " 5   family_status     21525 non-null  object \n",
      " 6   family_status_id  21525 non-null  int64  \n",
      " 7   gender            21525 non-null  object \n",
      " 8   income_type       21525 non-null  object \n",
      " 9   debt              21525 non-null  int64  \n",
      " 10  total_income      19351 non-null  float64\n",
      " 11  purpose           21525 non-null  object \n",
      "dtypes: float64(2), int64(5), object(5)\n",
      "memory usage: 2.0+ MB\n"
     ]
    },
    {
     "data": {
      "text/plain": [
       "None"
      ]
     },
     "metadata": {},
     "output_type": "display_data"
    },
    {
     "data": {
      "text/plain": [
       "(21525, 12)"
      ]
     },
     "metadata": {},
     "output_type": "display_data"
    },
    {
     "data": {
      "text/plain": [
       " 0     14149\n",
       " 1      4818\n",
       " 2      2055\n",
       " 3       330\n",
       " 20       76\n",
       "-1        47\n",
       " 4        41\n",
       " 5         9\n",
       "Name: children, dtype: int64"
      ]
     },
     "metadata": {},
     "output_type": "display_data"
    },
    {
     "data": {
      "text/plain": [
       "-327.685916     1\n",
       "-1580.622577    1\n",
       "-4122.460569    1\n",
       "-2828.237691    1\n",
       "-2636.090517    1\n",
       "               ..\n",
       "-7120.517564    1\n",
       "-2146.884040    1\n",
       "-881.454684     1\n",
       "-794.666350     1\n",
       "-3382.113891    1\n",
       "Name: days_employed, Length: 19351, dtype: int64"
      ]
     },
     "metadata": {},
     "output_type": "display_data"
    },
    {
     "data": {
      "text/plain": [
       "35    617\n",
       "40    609\n",
       "41    607\n",
       "34    603\n",
       "38    598\n",
       "42    597\n",
       "33    581\n",
       "39    573\n",
       "31    560\n",
       "36    555\n",
       "44    547\n",
       "29    545\n",
       "30    540\n",
       "48    538\n",
       "37    537\n",
       "50    514\n",
       "43    513\n",
       "32    510\n",
       "49    508\n",
       "28    503\n",
       "45    497\n",
       "27    493\n",
       "56    487\n",
       "52    484\n",
       "47    480\n",
       "54    479\n",
       "46    475\n",
       "58    461\n",
       "57    460\n",
       "53    459\n",
       "51    448\n",
       "59    444\n",
       "55    443\n",
       "26    408\n",
       "60    377\n",
       "25    357\n",
       "61    355\n",
       "62    352\n",
       "63    269\n",
       "64    265\n",
       "24    264\n",
       "23    254\n",
       "65    194\n",
       "66    183\n",
       "22    183\n",
       "67    167\n",
       "21    111\n",
       "0     101\n",
       "68     99\n",
       "69     85\n",
       "70     65\n",
       "71     58\n",
       "20     51\n",
       "72     33\n",
       "19     14\n",
       "73      8\n",
       "74      6\n",
       "75      1\n",
       "Name: dob_years, dtype: int64"
      ]
     },
     "metadata": {},
     "output_type": "display_data"
    },
    {
     "data": {
      "text/plain": [
       "среднее                13750\n",
       "высшее                  4718\n",
       "СРЕДНЕЕ                  772\n",
       "Среднее                  711\n",
       "неоконченное высшее      668\n",
       "ВЫСШЕЕ                   274\n",
       "Высшее                   268\n",
       "начальное                250\n",
       "Неоконченное высшее       47\n",
       "НЕОКОНЧЕННОЕ ВЫСШЕЕ       29\n",
       "НАЧАЛЬНОЕ                 17\n",
       "Начальное                 15\n",
       "ученая степень             4\n",
       "УЧЕНАЯ СТЕПЕНЬ             1\n",
       "Ученая степень             1\n",
       "Name: education, dtype: int64"
      ]
     },
     "metadata": {},
     "output_type": "display_data"
    },
    {
     "data": {
      "text/plain": [
       "1    15233\n",
       "0     5260\n",
       "2      744\n",
       "3      282\n",
       "4        6\n",
       "Name: education_id, dtype: int64"
      ]
     },
     "metadata": {},
     "output_type": "display_data"
    },
    {
     "data": {
      "text/plain": [
       "женат / замужем          12380\n",
       "гражданский брак          4177\n",
       "Не женат / не замужем     2813\n",
       "в разводе                 1195\n",
       "вдовец / вдова             960\n",
       "Name: family_status, dtype: int64"
      ]
     },
     "metadata": {},
     "output_type": "display_data"
    },
    {
     "data": {
      "text/plain": [
       "0    12380\n",
       "1     4177\n",
       "4     2813\n",
       "3     1195\n",
       "2      960\n",
       "Name: family_status_id, dtype: int64"
      ]
     },
     "metadata": {},
     "output_type": "display_data"
    },
    {
     "data": {
      "text/plain": [
       "F      14236\n",
       "M       7288\n",
       "XNA        1\n",
       "Name: gender, dtype: int64"
      ]
     },
     "metadata": {},
     "output_type": "display_data"
    },
    {
     "data": {
      "text/plain": [
       "сотрудник          11119\n",
       "компаньон           5085\n",
       "пенсионер           3856\n",
       "госслужащий         1459\n",
       "предприниматель        2\n",
       "безработный            2\n",
       "студент                1\n",
       "в декрете              1\n",
       "Name: income_type, dtype: int64"
      ]
     },
     "metadata": {},
     "output_type": "display_data"
    },
    {
     "data": {
      "text/plain": [
       "0    19784\n",
       "1     1741\n",
       "Name: debt, dtype: int64"
      ]
     },
     "metadata": {},
     "output_type": "display_data"
    },
    {
     "data": {
      "text/plain": [
       "169846.427535    1\n",
       "257737.077768    1\n",
       "200508.675866    1\n",
       "106196.235958    1\n",
       "248730.171354    1\n",
       "                ..\n",
       "175057.266090    1\n",
       "101516.604975    1\n",
       "239154.168013    1\n",
       "165009.733021    1\n",
       "189255.286637    1\n",
       "Name: total_income, Length: 19351, dtype: int64"
      ]
     },
     "metadata": {},
     "output_type": "display_data"
    },
    {
     "data": {
      "text/plain": [
       "свадьба                                   797\n",
       "на проведение свадьбы                     777\n",
       "сыграть свадьбу                           774\n",
       "операции с недвижимостью                  676\n",
       "покупка коммерческой недвижимости         664\n",
       "операции с жильем                         653\n",
       "покупка жилья для сдачи                   653\n",
       "операции с коммерческой недвижимостью     651\n",
       "покупка жилья                             647\n",
       "жилье                                     647\n",
       "покупка жилья для семьи                   641\n",
       "строительство собственной недвижимости    635\n",
       "недвижимость                              634\n",
       "операции со своей недвижимостью           630\n",
       "строительство жилой недвижимости          626\n",
       "покупка недвижимости                      624\n",
       "покупка своего жилья                      620\n",
       "строительство недвижимости                620\n",
       "ремонт жилью                              612\n",
       "покупка жилой недвижимости                607\n",
       "на покупку своего автомобиля              505\n",
       "заняться высшим образованием              496\n",
       "автомобиль                                495\n",
       "сделка с подержанным автомобилем          489\n",
       "свой автомобиль                           480\n",
       "на покупку подержанного автомобиля        479\n",
       "автомобили                                478\n",
       "на покупку автомобиля                     472\n",
       "дополнительное образование                462\n",
       "приобретение автомобиля                   462\n",
       "сделка с автомобилем                      455\n",
       "высшее образование                        453\n",
       "образование                               447\n",
       "получение дополнительного образования     447\n",
       "получение образования                     443\n",
       "профильное образование                    436\n",
       "получение высшего образования             426\n",
       "заняться образованием                     412\n",
       "Name: purpose, dtype: int64"
      ]
     },
     "metadata": {},
     "output_type": "display_data"
    }
   ],
   "source": [
    "# Wir importieren die notwendigen Bibliotheken.\n",
    "import pandas as pd\n",
    "\n",
    "# Wir laden Tabellen mit Daten.\n",
    "data = pd.read_csv('/datasets/data.csv')\n",
    "\n",
    "# Wir werden die erhaltenen Daten studieren.\n",
    "display(data.head(10))\n",
    "display(data.tail(10))\n",
    "display(data.info())\n",
    "display(data.shape)\n",
    "\n",
    "for column in data.columns:\n",
    "    display(data[column].value_counts())"
   ]
  },
  {
   "cell_type": "markdown",
   "metadata": {},
   "source": [
    "**Schlussfolgerungen**\n",
    "\n",
    "Es gibt Fehler in den Daten, höchstwahrscheinlich aufgrund menschlicher Fehler oder Upload-Fehler. Die Spalte 'children' enthält 47 Mal den Wert „-1“ und 76 Mal den Wert „20“, und es gibt keine Kreditnehmer mit 6 bis 19 Kindern.Die Spalte 'days_employed' enthält nur negative Werte oder Artefakte: 400281 Tage , 340266 Tage (1361 Jahr), auch wenn es Arbeitsstunden sind, sind es ungefähr 170 Jahre. Der älteste Kreditnehmer ist 75 Jahre alt, sodass die maximale Anzahl an Arbeitstagen etwa 15.000 betragen kann: (75-18) * 250. Die Spalte „dob_years“ enthält außerdem 101 „0“-Werte. Die Spalte 'education' enthält Werte in Groß- und Kleinschreibung. Die Spalte 'gender' enthält einen XNA-Wert. Die Spalte 'purpose' enthält viele ähnliche Zwecke. Alle Spalten außer 'days_employed' und 'total_income'  enthalten 21525 Nicht-Null-Werte, und diese beiden Spalten enthalten die gleiche Anzahl von Werten, nämlich 19351. Die Null-Werte in diesen Spalten stimmen höchstwahrscheinlich zeilenübergreifend überein. Dies wird durch die Zeilen 12 und 21510 bestätigt."
   ]
  },
  {
   "cell_type": "markdown",
   "metadata": {},
   "source": [
    "# Datenvorverarbeitung"
   ]
  },
  {
   "cell_type": "markdown",
   "metadata": {},
   "source": [
    "## Umgang mit fehlenden Daten"
   ]
  },
  {
   "cell_type": "code",
   "execution_count": 29,
   "metadata": {},
   "outputs": [
    {
     "data": {
      "text/html": [
       "<div>\n",
       "<style scoped>\n",
       "    .dataframe tbody tr th:only-of-type {\n",
       "        vertical-align: middle;\n",
       "    }\n",
       "\n",
       "    .dataframe tbody tr th {\n",
       "        vertical-align: top;\n",
       "    }\n",
       "\n",
       "    .dataframe thead th {\n",
       "        text-align: right;\n",
       "    }\n",
       "</style>\n",
       "<table border=\"1\" class=\"dataframe\">\n",
       "  <thead>\n",
       "    <tr style=\"text-align: right;\">\n",
       "      <th></th>\n",
       "      <th>children</th>\n",
       "      <th>days_employed</th>\n",
       "      <th>dob_years</th>\n",
       "      <th>education</th>\n",
       "      <th>education_id</th>\n",
       "      <th>family_status</th>\n",
       "      <th>family_status_id</th>\n",
       "      <th>gender</th>\n",
       "      <th>income_type</th>\n",
       "      <th>debt</th>\n",
       "      <th>total_income</th>\n",
       "      <th>purpose</th>\n",
       "    </tr>\n",
       "  </thead>\n",
       "  <tbody>\n",
       "    <tr>\n",
       "      <th>12</th>\n",
       "      <td>0</td>\n",
       "      <td>NaN</td>\n",
       "      <td>65</td>\n",
       "      <td>среднее</td>\n",
       "      <td>1</td>\n",
       "      <td>гражданский брак</td>\n",
       "      <td>1</td>\n",
       "      <td>M</td>\n",
       "      <td>пенсионер</td>\n",
       "      <td>0</td>\n",
       "      <td>NaN</td>\n",
       "      <td>сыграть свадьбу</td>\n",
       "    </tr>\n",
       "    <tr>\n",
       "      <th>26</th>\n",
       "      <td>0</td>\n",
       "      <td>NaN</td>\n",
       "      <td>41</td>\n",
       "      <td>среднее</td>\n",
       "      <td>1</td>\n",
       "      <td>женат / замужем</td>\n",
       "      <td>0</td>\n",
       "      <td>M</td>\n",
       "      <td>госслужащий</td>\n",
       "      <td>0</td>\n",
       "      <td>NaN</td>\n",
       "      <td>образование</td>\n",
       "    </tr>\n",
       "    <tr>\n",
       "      <th>29</th>\n",
       "      <td>0</td>\n",
       "      <td>NaN</td>\n",
       "      <td>63</td>\n",
       "      <td>среднее</td>\n",
       "      <td>1</td>\n",
       "      <td>Не женат / не замужем</td>\n",
       "      <td>4</td>\n",
       "      <td>F</td>\n",
       "      <td>пенсионер</td>\n",
       "      <td>0</td>\n",
       "      <td>NaN</td>\n",
       "      <td>строительство жилой недвижимости</td>\n",
       "    </tr>\n",
       "    <tr>\n",
       "      <th>41</th>\n",
       "      <td>0</td>\n",
       "      <td>NaN</td>\n",
       "      <td>50</td>\n",
       "      <td>среднее</td>\n",
       "      <td>1</td>\n",
       "      <td>женат / замужем</td>\n",
       "      <td>0</td>\n",
       "      <td>F</td>\n",
       "      <td>госслужащий</td>\n",
       "      <td>0</td>\n",
       "      <td>NaN</td>\n",
       "      <td>сделка с подержанным автомобилем</td>\n",
       "    </tr>\n",
       "    <tr>\n",
       "      <th>55</th>\n",
       "      <td>0</td>\n",
       "      <td>NaN</td>\n",
       "      <td>54</td>\n",
       "      <td>среднее</td>\n",
       "      <td>1</td>\n",
       "      <td>гражданский брак</td>\n",
       "      <td>1</td>\n",
       "      <td>F</td>\n",
       "      <td>пенсионер</td>\n",
       "      <td>1</td>\n",
       "      <td>NaN</td>\n",
       "      <td>сыграть свадьбу</td>\n",
       "    </tr>\n",
       "  </tbody>\n",
       "</table>\n",
       "</div>"
      ],
      "text/plain": [
       "    children  days_employed  dob_years education  education_id  \\\n",
       "12         0            NaN         65   среднее             1   \n",
       "26         0            NaN         41   среднее             1   \n",
       "29         0            NaN         63   среднее             1   \n",
       "41         0            NaN         50   среднее             1   \n",
       "55         0            NaN         54   среднее             1   \n",
       "\n",
       "            family_status  family_status_id gender  income_type  debt  \\\n",
       "12       гражданский брак                 1      M    пенсионер     0   \n",
       "26        женат / замужем                 0      M  госслужащий     0   \n",
       "29  Не женат / не замужем                 4      F    пенсионер     0   \n",
       "41        женат / замужем                 0      F  госслужащий     0   \n",
       "55       гражданский брак                 1      F    пенсионер     1   \n",
       "\n",
       "    total_income                           purpose  \n",
       "12           NaN                   сыграть свадьбу  \n",
       "26           NaN                       образование  \n",
       "29           NaN  строительство жилой недвижимости  \n",
       "41           NaN  сделка с подержанным автомобилем  \n",
       "55           NaN                   сыграть свадьбу  "
      ]
     },
     "metadata": {},
     "output_type": "display_data"
    },
    {
     "data": {
      "text/plain": [
       "children            2174\n",
       "days_employed          0\n",
       "dob_years           2174\n",
       "education           2174\n",
       "education_id        2174\n",
       "family_status       2174\n",
       "family_status_id    2174\n",
       "gender              2174\n",
       "income_type         2174\n",
       "debt                2174\n",
       "total_income           0\n",
       "purpose             2174\n",
       "dtype: int64"
      ]
     },
     "metadata": {},
     "output_type": "display_data"
    },
    {
     "data": {
      "text/html": [
       "<div>\n",
       "<style scoped>\n",
       "    .dataframe tbody tr th:only-of-type {\n",
       "        vertical-align: middle;\n",
       "    }\n",
       "\n",
       "    .dataframe tbody tr th {\n",
       "        vertical-align: top;\n",
       "    }\n",
       "\n",
       "    .dataframe thead th {\n",
       "        text-align: right;\n",
       "    }\n",
       "</style>\n",
       "<table border=\"1\" class=\"dataframe\">\n",
       "  <thead>\n",
       "    <tr style=\"text-align: right;\">\n",
       "      <th></th>\n",
       "      <th>children</th>\n",
       "      <th>days_employed</th>\n",
       "      <th>dob_years</th>\n",
       "      <th>education</th>\n",
       "      <th>education_id</th>\n",
       "      <th>family_status</th>\n",
       "      <th>family_status_id</th>\n",
       "      <th>gender</th>\n",
       "      <th>income_type</th>\n",
       "      <th>debt</th>\n",
       "      <th>total_income</th>\n",
       "      <th>purpose</th>\n",
       "    </tr>\n",
       "  </thead>\n",
       "  <tbody>\n",
       "    <tr>\n",
       "      <th>12</th>\n",
       "      <td>0</td>\n",
       "      <td>NaN</td>\n",
       "      <td>65</td>\n",
       "      <td>среднее</td>\n",
       "      <td>1</td>\n",
       "      <td>гражданский брак</td>\n",
       "      <td>1</td>\n",
       "      <td>M</td>\n",
       "      <td>пенсионер</td>\n",
       "      <td>0</td>\n",
       "      <td>NaN</td>\n",
       "      <td>сыграть свадьбу</td>\n",
       "    </tr>\n",
       "    <tr>\n",
       "      <th>26</th>\n",
       "      <td>0</td>\n",
       "      <td>NaN</td>\n",
       "      <td>41</td>\n",
       "      <td>среднее</td>\n",
       "      <td>1</td>\n",
       "      <td>женат / замужем</td>\n",
       "      <td>0</td>\n",
       "      <td>M</td>\n",
       "      <td>госслужащий</td>\n",
       "      <td>0</td>\n",
       "      <td>NaN</td>\n",
       "      <td>образование</td>\n",
       "    </tr>\n",
       "    <tr>\n",
       "      <th>29</th>\n",
       "      <td>0</td>\n",
       "      <td>NaN</td>\n",
       "      <td>63</td>\n",
       "      <td>среднее</td>\n",
       "      <td>1</td>\n",
       "      <td>Не женат / не замужем</td>\n",
       "      <td>4</td>\n",
       "      <td>F</td>\n",
       "      <td>пенсионер</td>\n",
       "      <td>0</td>\n",
       "      <td>NaN</td>\n",
       "      <td>строительство жилой недвижимости</td>\n",
       "    </tr>\n",
       "    <tr>\n",
       "      <th>41</th>\n",
       "      <td>0</td>\n",
       "      <td>NaN</td>\n",
       "      <td>50</td>\n",
       "      <td>среднее</td>\n",
       "      <td>1</td>\n",
       "      <td>женат / замужем</td>\n",
       "      <td>0</td>\n",
       "      <td>F</td>\n",
       "      <td>госслужащий</td>\n",
       "      <td>0</td>\n",
       "      <td>NaN</td>\n",
       "      <td>сделка с подержанным автомобилем</td>\n",
       "    </tr>\n",
       "    <tr>\n",
       "      <th>55</th>\n",
       "      <td>0</td>\n",
       "      <td>NaN</td>\n",
       "      <td>54</td>\n",
       "      <td>среднее</td>\n",
       "      <td>1</td>\n",
       "      <td>гражданский брак</td>\n",
       "      <td>1</td>\n",
       "      <td>F</td>\n",
       "      <td>пенсионер</td>\n",
       "      <td>1</td>\n",
       "      <td>NaN</td>\n",
       "      <td>сыграть свадьбу</td>\n",
       "    </tr>\n",
       "  </tbody>\n",
       "</table>\n",
       "</div>"
      ],
      "text/plain": [
       "    children  days_employed  dob_years education  education_id  \\\n",
       "12         0            NaN         65   среднее             1   \n",
       "26         0            NaN         41   среднее             1   \n",
       "29         0            NaN         63   среднее             1   \n",
       "41         0            NaN         50   среднее             1   \n",
       "55         0            NaN         54   среднее             1   \n",
       "\n",
       "            family_status  family_status_id gender  income_type  debt  \\\n",
       "12       гражданский брак                 1      M    пенсионер     0   \n",
       "26        женат / замужем                 0      M  госслужащий     0   \n",
       "29  Не женат / не замужем                 4      F    пенсионер     0   \n",
       "41        женат / замужем                 0      F  госслужащий     0   \n",
       "55       гражданский брак                 1      F    пенсионер     1   \n",
       "\n",
       "    total_income                           purpose  \n",
       "12           NaN                   сыграть свадьбу  \n",
       "26           NaN                       образование  \n",
       "29           NaN  строительство жилой недвижимости  \n",
       "41           NaN  сделка с подержанным автомобилем  \n",
       "55           NaN                   сыграть свадьбу  "
      ]
     },
     "metadata": {},
     "output_type": "display_data"
    },
    {
     "data": {
      "text/plain": [
       "children            2174\n",
       "days_employed          0\n",
       "dob_years           2174\n",
       "education           2174\n",
       "education_id        2174\n",
       "family_status       2174\n",
       "family_status_id    2174\n",
       "gender              2174\n",
       "income_type         2174\n",
       "debt                2174\n",
       "total_income           0\n",
       "purpose             2174\n",
       "dtype: int64"
      ]
     },
     "metadata": {},
     "output_type": "display_data"
    }
   ],
   "source": [
    "# Wir sehen uns eine Tabelle an, die Zeilen mit Nullen in den Spalten 'days_employed' und \n",
    "# 'total_income' enthält und wie viele es sind.\n",
    "display(data[data['days_employed'].isnull()].head())\n",
    "display(data[data['days_employed'].isnull()].count())\n",
    "display(data[data['total_income'].isnull()].head())\n",
    "display(data[data['total_income'].isnull()].count())"
   ]
  },
  {
   "cell_type": "code",
   "execution_count": 30,
   "metadata": {},
   "outputs": [
    {
     "data": {
      "text/plain": [
       "63046.49766147338"
      ]
     },
     "metadata": {},
     "output_type": "display_data"
    },
    {
     "data": {
      "text/plain": [
       "-1203.369528770489"
      ]
     },
     "metadata": {},
     "output_type": "display_data"
    },
    {
     "data": {
      "text/plain": [
       "167422.30220817294"
      ]
     },
     "metadata": {},
     "output_type": "display_data"
    },
    {
     "data": {
      "text/plain": [
       "145017.93753253992"
      ]
     },
     "metadata": {},
     "output_type": "display_data"
    }
   ],
   "source": [
    "# Wir berechnen das arithmetische Mittel und den Median für die angegebenen Spalten.\n",
    "display(data['days_employed'].mean())\n",
    "display(data['days_employed'].median())\n",
    "display(data['total_income'].mean())\n",
    "display(data['total_income'].median())"
   ]
  },
  {
   "cell_type": "markdown",
   "metadata": {},
   "source": [
    "Der arithmetische Mittelwert für die Spalte 'days_employed' beträgt 63047 Tage, also über 200 Jahre. In diesem Fall sind die Werte in der Spalte entweder negativ oder unrealistische Werte. Verwenden Sie den Median, um Nullwerte einzugeben."
   ]
  },
  {
   "cell_type": "code",
   "execution_count": 31,
   "metadata": {},
   "outputs": [
    {
     "data": {
      "text/plain": [
       "children            0\n",
       "days_employed       0\n",
       "dob_years           0\n",
       "education           0\n",
       "education_id        0\n",
       "family_status       0\n",
       "family_status_id    0\n",
       "gender              0\n",
       "income_type         0\n",
       "debt                0\n",
       "total_income        0\n",
       "purpose             0\n",
       "dtype: int64"
      ]
     },
     "execution_count": 31,
     "metadata": {},
     "output_type": "execute_result"
    }
   ],
   "source": [
    "# Wir werden Nullwerte mit der gewählten Methode füllen.\n",
    "median_days_employed = data['days_employed'].median()\n",
    "data['days_employed'] = data['days_employed'].fillna(median_days_employed)\n",
    "# Wir werden prüfen, ob in der Tabelle noch Nullwerte vorhanden sind.\n",
    "data[data['days_employed'].isnull()].count()"
   ]
  },
  {
   "cell_type": "markdown",
   "metadata": {},
   "source": [
    "Für die Spalte „total_income“ unterscheiden sich das arithmetische Mittel und die Medianwerte leicht, daher verwenden wir auch den Median, um Nullwerte einzugeben."
   ]
  },
  {
   "cell_type": "code",
   "execution_count": 32,
   "metadata": {},
   "outputs": [
    {
     "data": {
      "text/plain": [
       "children            0\n",
       "days_employed       0\n",
       "dob_years           0\n",
       "education           0\n",
       "education_id        0\n",
       "family_status       0\n",
       "family_status_id    0\n",
       "gender              0\n",
       "income_type         0\n",
       "debt                0\n",
       "total_income        0\n",
       "purpose             0\n",
       "dtype: int64"
      ]
     },
     "execution_count": 32,
     "metadata": {},
     "output_type": "execute_result"
    }
   ],
   "source": [
    "# Wir durchlaufen die eindeutigen „income_type“-Werte, berechnen den Median \n",
    "# für jede Gruppe und füllen die Lücken aus.\n",
    "for income_type in data['income_type'].unique():\n",
    "    median = data.loc[data['income_type'] == income_type, 'total_income'].median()\n",
    "    data.loc[(data['income_type'] == income_type) & (data['total_income'].isna()), 'total_income'] = median\n",
    "\n",
    "# Wir prüfen, ob die Tabelle Nullwerte enthält.\n",
    "data[data['total_income'].isnull()].count()"
   ]
  },
  {
   "cell_type": "code",
   "execution_count": 33,
   "metadata": {},
   "outputs": [
    {
     "data": {
      "text/plain": [
       "children            0\n",
       "days_employed       0\n",
       "dob_years           0\n",
       "education           0\n",
       "education_id        0\n",
       "family_status       0\n",
       "family_status_id    0\n",
       "gender              0\n",
       "income_type         0\n",
       "debt                0\n",
       "total_income        0\n",
       "purpose             0\n",
       "dtype: int64"
      ]
     },
     "execution_count": 33,
     "metadata": {},
     "output_type": "execute_result"
    }
   ],
   "source": [
    "# Wir füllen die Lücken in der Spalte 'total_income' auf andere Weise aus.\n",
    "data['total_income'] = data.groupby('income_type')['total_income'].apply(lambda x: x.fillna(x.median()))\n",
    "\n",
    "# Wir prüfen, ob die Tabelle Nullwerte enthält.\n",
    "data[data['total_income'].isnull()].count()"
   ]
  },
  {
   "cell_type": "markdown",
   "metadata": {},
   "source": [
    "**Schlussfolgerungen**\n",
    "\n",
    "Die Spalten „Tagesbeschäftigung“ und „Gesamteinkommen“ enthielten jeweils 2174 Nullwerte. Mögliche Gründe für das Auftreten von Datenlücken können die Zurückhaltung von Klienten sein, Angaben zu ihrem Einkommen und ihrer Dienstzeit zu machen, oder ihre Abwesenheit (z. B. bei Studenten). Sie sollten diese Zeilen nicht löschen, weil das sind 10,1 % aller Daten (2174/21525). Jetzt gibt es keine Nullwerte in der Tabelle."
   ]
  },
  {
   "cell_type": "markdown",
   "metadata": {},
   "source": [
    "## Ersetzen des Datentyps"
   ]
  },
  {
   "cell_type": "code",
   "execution_count": 34,
   "metadata": {},
   "outputs": [
    {
     "data": {
      "text/html": [
       "<div>\n",
       "<style scoped>\n",
       "    .dataframe tbody tr th:only-of-type {\n",
       "        vertical-align: middle;\n",
       "    }\n",
       "\n",
       "    .dataframe tbody tr th {\n",
       "        vertical-align: top;\n",
       "    }\n",
       "\n",
       "    .dataframe thead th {\n",
       "        text-align: right;\n",
       "    }\n",
       "</style>\n",
       "<table border=\"1\" class=\"dataframe\">\n",
       "  <thead>\n",
       "    <tr style=\"text-align: right;\">\n",
       "      <th></th>\n",
       "      <th>children</th>\n",
       "      <th>days_employed</th>\n",
       "      <th>dob_years</th>\n",
       "      <th>education</th>\n",
       "      <th>education_id</th>\n",
       "      <th>family_status</th>\n",
       "      <th>family_status_id</th>\n",
       "      <th>gender</th>\n",
       "      <th>income_type</th>\n",
       "      <th>debt</th>\n",
       "      <th>total_income</th>\n",
       "      <th>purpose</th>\n",
       "    </tr>\n",
       "  </thead>\n",
       "  <tbody>\n",
       "    <tr>\n",
       "      <th>0</th>\n",
       "      <td>1</td>\n",
       "      <td>-8437</td>\n",
       "      <td>42</td>\n",
       "      <td>высшее</td>\n",
       "      <td>0</td>\n",
       "      <td>женат / замужем</td>\n",
       "      <td>0</td>\n",
       "      <td>F</td>\n",
       "      <td>сотрудник</td>\n",
       "      <td>0</td>\n",
       "      <td>253875</td>\n",
       "      <td>покупка жилья</td>\n",
       "    </tr>\n",
       "    <tr>\n",
       "      <th>1</th>\n",
       "      <td>1</td>\n",
       "      <td>-4024</td>\n",
       "      <td>36</td>\n",
       "      <td>среднее</td>\n",
       "      <td>1</td>\n",
       "      <td>женат / замужем</td>\n",
       "      <td>0</td>\n",
       "      <td>F</td>\n",
       "      <td>сотрудник</td>\n",
       "      <td>0</td>\n",
       "      <td>112080</td>\n",
       "      <td>приобретение автомобиля</td>\n",
       "    </tr>\n",
       "    <tr>\n",
       "      <th>2</th>\n",
       "      <td>0</td>\n",
       "      <td>-5623</td>\n",
       "      <td>33</td>\n",
       "      <td>Среднее</td>\n",
       "      <td>1</td>\n",
       "      <td>женат / замужем</td>\n",
       "      <td>0</td>\n",
       "      <td>M</td>\n",
       "      <td>сотрудник</td>\n",
       "      <td>0</td>\n",
       "      <td>145885</td>\n",
       "      <td>покупка жилья</td>\n",
       "    </tr>\n",
       "    <tr>\n",
       "      <th>3</th>\n",
       "      <td>3</td>\n",
       "      <td>-4124</td>\n",
       "      <td>32</td>\n",
       "      <td>среднее</td>\n",
       "      <td>1</td>\n",
       "      <td>женат / замужем</td>\n",
       "      <td>0</td>\n",
       "      <td>M</td>\n",
       "      <td>сотрудник</td>\n",
       "      <td>0</td>\n",
       "      <td>267628</td>\n",
       "      <td>дополнительное образование</td>\n",
       "    </tr>\n",
       "    <tr>\n",
       "      <th>4</th>\n",
       "      <td>0</td>\n",
       "      <td>340266</td>\n",
       "      <td>53</td>\n",
       "      <td>среднее</td>\n",
       "      <td>1</td>\n",
       "      <td>гражданский брак</td>\n",
       "      <td>1</td>\n",
       "      <td>F</td>\n",
       "      <td>пенсионер</td>\n",
       "      <td>0</td>\n",
       "      <td>158616</td>\n",
       "      <td>сыграть свадьбу</td>\n",
       "    </tr>\n",
       "  </tbody>\n",
       "</table>\n",
       "</div>"
      ],
      "text/plain": [
       "   children  days_employed  dob_years education  education_id  \\\n",
       "0         1          -8437         42    высшее             0   \n",
       "1         1          -4024         36   среднее             1   \n",
       "2         0          -5623         33   Среднее             1   \n",
       "3         3          -4124         32   среднее             1   \n",
       "4         0         340266         53   среднее             1   \n",
       "\n",
       "      family_status  family_status_id gender income_type  debt  total_income  \\\n",
       "0   женат / замужем                 0      F   сотрудник     0        253875   \n",
       "1   женат / замужем                 0      F   сотрудник     0        112080   \n",
       "2   женат / замужем                 0      M   сотрудник     0        145885   \n",
       "3   женат / замужем                 0      M   сотрудник     0        267628   \n",
       "4  гражданский брак                 1      F   пенсионер     0        158616   \n",
       "\n",
       "                      purpose  \n",
       "0               покупка жилья  \n",
       "1     приобретение автомобиля  \n",
       "2               покупка жилья  \n",
       "3  дополнительное образование  \n",
       "4             сыграть свадьбу  "
      ]
     },
     "execution_count": 34,
     "metadata": {},
     "output_type": "execute_result"
    }
   ],
   "source": [
    "# Wir übersetzen die Spaltenwerte, die Informationen über die Arbeitserfahrung und \n",
    "# das Einkommen der Kreditnehmer enthalten, in ganze Zahlen\n",
    "data['days_employed'] = data['days_employed'].astype('int')\n",
    "data['total_income'] = data['total_income'].astype('int')\n",
    "\n",
    "data.head()"
   ]
  },
  {
   "cell_type": "markdown",
   "metadata": {},
   "source": [
    "**Schlussfolgerungen**\n",
    "\n",
    "Die Gesamtarbeitserfahrung wird in ganzen Tagen gemessen, daher müssen die Werte in der Spalte 'days_employed' in Ganzzahlen umgewandelt werden. Die Werte der Spalte 'total_income' werden ebenfalls in ganze Zahlen umgewandelt, weil eine solche Genauigkeit ist nicht erforderlich, um das Problem zu lösen. Einkommensbruchteile können sich in der Tabelle ergeben haben, indem das Jahreseinkommen des Kreditnehmers durch 12 Monate geteilt wurde. Bruchteile von Erfahrungswerten, gemessen in Jahren und Monaten, könnten durch Division durch die Anzahl der Tage in einem Jahr oder in einem Monat entstehen."
   ]
  },
  {
   "cell_type": "markdown",
   "metadata": {},
   "source": [
    "## Doppelte Handhabung"
   ]
  },
  {
   "cell_type": "code",
   "execution_count": 35,
   "metadata": {},
   "outputs": [
    {
     "data": {
      "text/plain": [
       "54"
      ]
     },
     "execution_count": 35,
     "metadata": {},
     "output_type": "execute_result"
    }
   ],
   "source": [
    "# Wir zählen die Anzahl der Duplikate\n",
    "data.duplicated().sum()"
   ]
  },
  {
   "cell_type": "code",
   "execution_count": 36,
   "metadata": {},
   "outputs": [
    {
     "data": {
      "text/plain": [
       "71"
      ]
     },
     "execution_count": 36,
     "metadata": {},
     "output_type": "execute_result"
    }
   ],
   "source": [
    "# Wir werden die Spalte 'education' klein schreiben und die Anzahl der Duplikate erneut zählen.\n",
    "data['education'] = data['education'].str.lower()\n",
    "data.duplicated().sum()"
   ]
  },
  {
   "cell_type": "code",
   "execution_count": 37,
   "metadata": {},
   "outputs": [],
   "source": [
    "# Das Ergebnis ist 71. Es gibt also Zeilen, die sich nur in Großbuchstaben in der Spalte 'education' unterscheiden. \n",
    "# Sie müssen auch entfernt werden.\n",
    "data = data.drop_duplicates().reset_index(drop = True)"
   ]
  },
  {
   "cell_type": "code",
   "execution_count": 38,
   "metadata": {},
   "outputs": [
    {
     "data": {
      "text/plain": [
       "0"
      ]
     },
     "metadata": {},
     "output_type": "display_data"
    },
    {
     "data": {
      "text/plain": [
       "(21454, 12)"
      ]
     },
     "execution_count": 38,
     "metadata": {},
     "output_type": "execute_result"
    }
   ],
   "source": [
    "# Wir prüfen die Anzahl der Duplikate und Zeilen in der Tabelle.\n",
    "display(data.duplicated().sum())\n",
    "data.shape"
   ]
  },
  {
   "cell_type": "markdown",
   "metadata": {},
   "source": [
    "**Schlussfolgerungen**\n",
    "\n",
    "Es gibt 0 Duplikate, die Anzahl der Zeilen in der Tabelle beträgt 21454, d.h. 71 weniger. Durch Mitarbeiterfehler können Dubletten entstanden sein. Beispielsweise hat ein Mitarbeiter Informationen über denselben Kunden zweimal eingegeben, verschiedene Mitarbeiter haben Informationen über denselben Kunden eingegeben und so weiter."
   ]
  },
  {
   "cell_type": "markdown",
   "metadata": {},
   "source": [
    "## Lemmatisierung"
   ]
  },
  {
   "cell_type": "code",
   "execution_count": 39,
   "metadata": {},
   "outputs": [],
   "source": [
    "# Wir werden die Lemmatisierungsbibliothek laden.\n",
    "from pymystem3 import Mystem\n",
    "m = Mystem()"
   ]
  },
  {
   "cell_type": "code",
   "execution_count": 40,
   "metadata": {},
   "outputs": [
    {
     "data": {
      "text/plain": [
       "array(['покупка жилья', 'приобретение автомобиля',\n",
       "       'дополнительное образование', 'сыграть свадьбу',\n",
       "       'операции с жильем', 'образование', 'на проведение свадьбы',\n",
       "       'покупка жилья для семьи', 'покупка недвижимости',\n",
       "       'покупка коммерческой недвижимости', 'покупка жилой недвижимости',\n",
       "       'строительство собственной недвижимости', 'недвижимость',\n",
       "       'строительство недвижимости', 'на покупку подержанного автомобиля',\n",
       "       'на покупку своего автомобиля',\n",
       "       'операции с коммерческой недвижимостью',\n",
       "       'строительство жилой недвижимости', 'жилье',\n",
       "       'операции со своей недвижимостью', 'автомобили',\n",
       "       'заняться образованием', 'сделка с подержанным автомобилем',\n",
       "       'получение образования', 'автомобиль', 'свадьба',\n",
       "       'получение дополнительного образования', 'покупка своего жилья',\n",
       "       'операции с недвижимостью', 'получение высшего образования',\n",
       "       'свой автомобиль', 'сделка с автомобилем',\n",
       "       'профильное образование', 'высшее образование',\n",
       "       'покупка жилья для сдачи', 'на покупку автомобиля', 'ремонт жилью',\n",
       "       'заняться высшим образованием'], dtype=object)"
      ]
     },
     "execution_count": 40,
     "metadata": {},
     "output_type": "execute_result"
    }
   ],
   "source": [
    "# Wir erstellen eine Liste der eindeutigen Zwecke der Spalte 'purpose' und untersuchen sie.\n",
    "purpose_list = data['purpose'].unique()\n",
    "purpose_list"
   ]
  },
  {
   "cell_type": "code",
   "execution_count": 41,
   "metadata": {},
   "outputs": [
    {
     "data": {
      "text/plain": [
       "[['покупка', ' ', 'жилье', '\\n'],\n",
       " ['приобретение', ' ', 'автомобиль', '\\n'],\n",
       " ['дополнительный', ' ', 'образование', '\\n'],\n",
       " ['сыграть', ' ', 'свадьба', '\\n'],\n",
       " ['операция', ' ', 'с', ' ', 'жилье', '\\n'],\n",
       " ['образование', '\\n'],\n",
       " ['на', ' ', 'проведение', ' ', 'свадьба', '\\n'],\n",
       " ['покупка', ' ', 'жилье', ' ', 'для', ' ', 'семья', '\\n'],\n",
       " ['покупка', ' ', 'недвижимость', '\\n'],\n",
       " ['покупка', ' ', 'коммерческий', ' ', 'недвижимость', '\\n'],\n",
       " ['покупка', ' ', 'жилой', ' ', 'недвижимость', '\\n'],\n",
       " ['строительство', ' ', 'собственный', ' ', 'недвижимость', '\\n'],\n",
       " ['недвижимость', '\\n'],\n",
       " ['строительство', ' ', 'недвижимость', '\\n'],\n",
       " ['на', ' ', 'покупка', ' ', 'подержать', ' ', 'автомобиль', '\\n'],\n",
       " ['на', ' ', 'покупка', ' ', 'свой', ' ', 'автомобиль', '\\n'],\n",
       " ['операция', ' ', 'с', ' ', 'коммерческий', ' ', 'недвижимость', '\\n'],\n",
       " ['строительство', ' ', 'жилой', ' ', 'недвижимость', '\\n'],\n",
       " ['жилье', '\\n'],\n",
       " ['операция', ' ', 'со', ' ', 'свой', ' ', 'недвижимость', '\\n'],\n",
       " ['автомобиль', '\\n'],\n",
       " ['заниматься', ' ', 'образование', '\\n'],\n",
       " ['сделка', ' ', 'с', ' ', 'подержанный', ' ', 'автомобиль', '\\n'],\n",
       " ['получение', ' ', 'образование', '\\n'],\n",
       " ['автомобиль', '\\n'],\n",
       " ['свадьба', '\\n'],\n",
       " ['получение', ' ', 'дополнительный', ' ', 'образование', '\\n'],\n",
       " ['покупка', ' ', 'свой', ' ', 'жилье', '\\n'],\n",
       " ['операция', ' ', 'с', ' ', 'недвижимость', '\\n'],\n",
       " ['получение', ' ', 'высокий', ' ', 'образование', '\\n'],\n",
       " ['свой', ' ', 'автомобиль', '\\n'],\n",
       " ['сделка', ' ', 'с', ' ', 'автомобиль', '\\n'],\n",
       " ['профильный', ' ', 'образование', '\\n'],\n",
       " ['высокий', ' ', 'образование', '\\n'],\n",
       " ['покупка', ' ', 'жилье', ' ', 'для', ' ', 'сдача', '\\n'],\n",
       " ['на', ' ', 'покупка', ' ', 'автомобиль', '\\n'],\n",
       " ['ремонт', ' ', 'жилье', '\\n'],\n",
       " ['заниматься', ' ', 'высокий', ' ', 'образование', '\\n']]"
      ]
     },
     "execution_count": 41,
     "metadata": {},
     "output_type": "execute_result"
    }
   ],
   "source": [
    "# Wir lemmatisieren jedes der Ziele.\n",
    "lemmas = []\n",
    "for row in purpose_list:\n",
    "    lemma = m.lemmatize(row)\n",
    "    lemmas.append(lemma)\n",
    "# Wir werden das Ergebnis sehen und studieren.т\n",
    "lemmas"
   ]
  },
  {
   "cell_type": "markdown",
   "metadata": {},
   "source": [
    "Es gibt offensichtliche Ausgabengruppen für den Kauf eines Autos, eine Ausbildung, die Organisation einer Hochzeit. Es ist nicht möglich, den Zweck eines Darlehens zu trennen, um ein Haus für sich selbst zu kaufen oder ein Haus zu vermieten, weil Es gibt einen Zweck einfach \"Gehäuse\". Es ist auch nicht möglich, den Wohnungskauf vom Erwerb einer Gewerbeimmobilie zu trennen, weil Es gibt ein Ziel \"Immobilien\", ohne seinen Zweck zu spezifizieren. Deshalb vereinen wir diese Ziele zu einem: „Immobilien“."
   ]
  },
  {
   "cell_type": "code",
   "execution_count": 42,
   "metadata": {},
   "outputs": [
    {
     "data": {
      "text/html": [
       "<div>\n",
       "<style scoped>\n",
       "    .dataframe tbody tr th:only-of-type {\n",
       "        vertical-align: middle;\n",
       "    }\n",
       "\n",
       "    .dataframe tbody tr th {\n",
       "        vertical-align: top;\n",
       "    }\n",
       "\n",
       "    .dataframe thead th {\n",
       "        text-align: right;\n",
       "    }\n",
       "</style>\n",
       "<table border=\"1\" class=\"dataframe\">\n",
       "  <thead>\n",
       "    <tr style=\"text-align: right;\">\n",
       "      <th></th>\n",
       "      <th>children</th>\n",
       "      <th>days_employed</th>\n",
       "      <th>dob_years</th>\n",
       "      <th>education</th>\n",
       "      <th>education_id</th>\n",
       "      <th>family_status</th>\n",
       "      <th>family_status_id</th>\n",
       "      <th>gender</th>\n",
       "      <th>income_type</th>\n",
       "      <th>debt</th>\n",
       "      <th>total_income</th>\n",
       "      <th>purpose</th>\n",
       "      <th>purpose_standart</th>\n",
       "    </tr>\n",
       "  </thead>\n",
       "  <tbody>\n",
       "    <tr>\n",
       "      <th>0</th>\n",
       "      <td>1</td>\n",
       "      <td>-8437</td>\n",
       "      <td>42</td>\n",
       "      <td>высшее</td>\n",
       "      <td>0</td>\n",
       "      <td>женат / замужем</td>\n",
       "      <td>0</td>\n",
       "      <td>F</td>\n",
       "      <td>сотрудник</td>\n",
       "      <td>0</td>\n",
       "      <td>253875</td>\n",
       "      <td>покупка жилья</td>\n",
       "      <td>Immobilien</td>\n",
       "    </tr>\n",
       "    <tr>\n",
       "      <th>1</th>\n",
       "      <td>1</td>\n",
       "      <td>-4024</td>\n",
       "      <td>36</td>\n",
       "      <td>среднее</td>\n",
       "      <td>1</td>\n",
       "      <td>женат / замужем</td>\n",
       "      <td>0</td>\n",
       "      <td>F</td>\n",
       "      <td>сотрудник</td>\n",
       "      <td>0</td>\n",
       "      <td>112080</td>\n",
       "      <td>приобретение автомобиля</td>\n",
       "      <td>Auto</td>\n",
       "    </tr>\n",
       "    <tr>\n",
       "      <th>2</th>\n",
       "      <td>0</td>\n",
       "      <td>-5623</td>\n",
       "      <td>33</td>\n",
       "      <td>среднее</td>\n",
       "      <td>1</td>\n",
       "      <td>женат / замужем</td>\n",
       "      <td>0</td>\n",
       "      <td>M</td>\n",
       "      <td>сотрудник</td>\n",
       "      <td>0</td>\n",
       "      <td>145885</td>\n",
       "      <td>покупка жилья</td>\n",
       "      <td>Immobilien</td>\n",
       "    </tr>\n",
       "    <tr>\n",
       "      <th>3</th>\n",
       "      <td>3</td>\n",
       "      <td>-4124</td>\n",
       "      <td>32</td>\n",
       "      <td>среднее</td>\n",
       "      <td>1</td>\n",
       "      <td>женат / замужем</td>\n",
       "      <td>0</td>\n",
       "      <td>M</td>\n",
       "      <td>сотрудник</td>\n",
       "      <td>0</td>\n",
       "      <td>267628</td>\n",
       "      <td>дополнительное образование</td>\n",
       "      <td>Ausbildung</td>\n",
       "    </tr>\n",
       "    <tr>\n",
       "      <th>4</th>\n",
       "      <td>0</td>\n",
       "      <td>340266</td>\n",
       "      <td>53</td>\n",
       "      <td>среднее</td>\n",
       "      <td>1</td>\n",
       "      <td>гражданский брак</td>\n",
       "      <td>1</td>\n",
       "      <td>F</td>\n",
       "      <td>пенсионер</td>\n",
       "      <td>0</td>\n",
       "      <td>158616</td>\n",
       "      <td>сыграть свадьбу</td>\n",
       "      <td>Hochzeit</td>\n",
       "    </tr>\n",
       "  </tbody>\n",
       "</table>\n",
       "</div>"
      ],
      "text/plain": [
       "   children  days_employed  dob_years education  education_id  \\\n",
       "0         1          -8437         42    высшее             0   \n",
       "1         1          -4024         36   среднее             1   \n",
       "2         0          -5623         33   среднее             1   \n",
       "3         3          -4124         32   среднее             1   \n",
       "4         0         340266         53   среднее             1   \n",
       "\n",
       "      family_status  family_status_id gender income_type  debt  total_income  \\\n",
       "0   женат / замужем                 0      F   сотрудник     0        253875   \n",
       "1   женат / замужем                 0      F   сотрудник     0        112080   \n",
       "2   женат / замужем                 0      M   сотрудник     0        145885   \n",
       "3   женат / замужем                 0      M   сотрудник     0        267628   \n",
       "4  гражданский брак                 1      F   пенсионер     0        158616   \n",
       "\n",
       "                      purpose purpose_standart  \n",
       "0               покупка жилья       Immobilien  \n",
       "1     приобретение автомобиля             Auto  \n",
       "2               покупка жилья       Immobilien  \n",
       "3  дополнительное образование       Ausbildung  \n",
       "4             сыграть свадьбу         Hochzeit  "
      ]
     },
     "execution_count": 42,
     "metadata": {},
     "output_type": "execute_result"
    }
   ],
   "source": [
    "# Wir werden eine Funktion erstellen, um den Zweck der Kreditaufnahme zu standardisieren.\n",
    "def purpose_standart(row):\n",
    "    purpose = m.lemmatize(row['purpose'])\n",
    "    if 'автомобиль' in purpose:\n",
    "        return 'Auto'\n",
    "    if 'свадьба' in purpose:\n",
    "        return 'Hochzeit'\n",
    "    if 'образование' in purpose:\n",
    "        return 'Ausbildung'\n",
    "    if 'недвиж' or 'жил' in purpose:\n",
    "        return 'Immobilien'\n",
    "\n",
    "# Wir werden eine Spalte mit standardisierten Zielen an die Tabelle anhängen.\n",
    "data['purpose_standart'] = data.apply(purpose_standart, axis=1)        \n",
    "\n",
    "data.head()"
   ]
  },
  {
   "cell_type": "markdown",
   "metadata": {},
   "source": [
    "**Schlussfolgerungen**\n",
    "\n",
    "Informationen über Kreditnehmer in die Datenbank wurden höchstwahrscheinlich von verschiedenen Bankangestellten eingegeben, die keine klaren Anweisungen hatten, wie der Zweck der Kreditaufnahme widergespiegelt werden sollte. Wir haben alle Ziele auf eine Einheitlichkeit gebracht, indem wir 4 Gruppen gebildet haben. Diese Informationen werden nun weiter analysiert."
   ]
  },
  {
   "cell_type": "markdown",
   "metadata": {},
   "source": [
    "## Datenkategorisierung"
   ]
  },
  {
   "cell_type": "code",
   "execution_count": 43,
   "metadata": {},
   "outputs": [
    {
     "data": {
      "text/html": [
       "<div>\n",
       "<style scoped>\n",
       "    .dataframe tbody tr th:only-of-type {\n",
       "        vertical-align: middle;\n",
       "    }\n",
       "\n",
       "    .dataframe tbody tr th {\n",
       "        vertical-align: top;\n",
       "    }\n",
       "\n",
       "    .dataframe thead th {\n",
       "        text-align: right;\n",
       "    }\n",
       "</style>\n",
       "<table border=\"1\" class=\"dataframe\">\n",
       "  <thead>\n",
       "    <tr style=\"text-align: right;\">\n",
       "      <th></th>\n",
       "      <th>children</th>\n",
       "      <th>days_employed</th>\n",
       "      <th>dob_years</th>\n",
       "      <th>education</th>\n",
       "      <th>education_id</th>\n",
       "      <th>family_status</th>\n",
       "      <th>family_status_id</th>\n",
       "      <th>gender</th>\n",
       "      <th>income_type</th>\n",
       "      <th>debt</th>\n",
       "      <th>total_income</th>\n",
       "      <th>purpose</th>\n",
       "      <th>purpose_standart</th>\n",
       "      <th>children_class</th>\n",
       "    </tr>\n",
       "  </thead>\n",
       "  <tbody>\n",
       "    <tr>\n",
       "      <th>0</th>\n",
       "      <td>1</td>\n",
       "      <td>-8437</td>\n",
       "      <td>42</td>\n",
       "      <td>высшее</td>\n",
       "      <td>0</td>\n",
       "      <td>женат / замужем</td>\n",
       "      <td>0</td>\n",
       "      <td>F</td>\n",
       "      <td>сотрудник</td>\n",
       "      <td>0</td>\n",
       "      <td>253875</td>\n",
       "      <td>покупка жилья</td>\n",
       "      <td>Immobilien</td>\n",
       "      <td>es gibt Kinder</td>\n",
       "    </tr>\n",
       "    <tr>\n",
       "      <th>1</th>\n",
       "      <td>1</td>\n",
       "      <td>-4024</td>\n",
       "      <td>36</td>\n",
       "      <td>среднее</td>\n",
       "      <td>1</td>\n",
       "      <td>женат / замужем</td>\n",
       "      <td>0</td>\n",
       "      <td>F</td>\n",
       "      <td>сотрудник</td>\n",
       "      <td>0</td>\n",
       "      <td>112080</td>\n",
       "      <td>приобретение автомобиля</td>\n",
       "      <td>Auto</td>\n",
       "      <td>es gibt Kinder</td>\n",
       "    </tr>\n",
       "    <tr>\n",
       "      <th>2</th>\n",
       "      <td>0</td>\n",
       "      <td>-5623</td>\n",
       "      <td>33</td>\n",
       "      <td>среднее</td>\n",
       "      <td>1</td>\n",
       "      <td>женат / замужем</td>\n",
       "      <td>0</td>\n",
       "      <td>M</td>\n",
       "      <td>сотрудник</td>\n",
       "      <td>0</td>\n",
       "      <td>145885</td>\n",
       "      <td>покупка жилья</td>\n",
       "      <td>Immobilien</td>\n",
       "      <td>keine Kinder</td>\n",
       "    </tr>\n",
       "    <tr>\n",
       "      <th>3</th>\n",
       "      <td>3</td>\n",
       "      <td>-4124</td>\n",
       "      <td>32</td>\n",
       "      <td>среднее</td>\n",
       "      <td>1</td>\n",
       "      <td>женат / замужем</td>\n",
       "      <td>0</td>\n",
       "      <td>M</td>\n",
       "      <td>сотрудник</td>\n",
       "      <td>0</td>\n",
       "      <td>267628</td>\n",
       "      <td>дополнительное образование</td>\n",
       "      <td>Ausbildung</td>\n",
       "      <td>es gibt Kinder</td>\n",
       "    </tr>\n",
       "    <tr>\n",
       "      <th>4</th>\n",
       "      <td>0</td>\n",
       "      <td>340266</td>\n",
       "      <td>53</td>\n",
       "      <td>среднее</td>\n",
       "      <td>1</td>\n",
       "      <td>гражданский брак</td>\n",
       "      <td>1</td>\n",
       "      <td>F</td>\n",
       "      <td>пенсионер</td>\n",
       "      <td>0</td>\n",
       "      <td>158616</td>\n",
       "      <td>сыграть свадьбу</td>\n",
       "      <td>Hochzeit</td>\n",
       "      <td>keine Kinder</td>\n",
       "    </tr>\n",
       "  </tbody>\n",
       "</table>\n",
       "</div>"
      ],
      "text/plain": [
       "   children  days_employed  dob_years education  education_id  \\\n",
       "0         1          -8437         42    высшее             0   \n",
       "1         1          -4024         36   среднее             1   \n",
       "2         0          -5623         33   среднее             1   \n",
       "3         3          -4124         32   среднее             1   \n",
       "4         0         340266         53   среднее             1   \n",
       "\n",
       "      family_status  family_status_id gender income_type  debt  total_income  \\\n",
       "0   женат / замужем                 0      F   сотрудник     0        253875   \n",
       "1   женат / замужем                 0      F   сотрудник     0        112080   \n",
       "2   женат / замужем                 0      M   сотрудник     0        145885   \n",
       "3   женат / замужем                 0      M   сотрудник     0        267628   \n",
       "4  гражданский брак                 1      F   пенсионер     0        158616   \n",
       "\n",
       "                      purpose purpose_standart  children_class  \n",
       "0               покупка жилья       Immobilien  es gibt Kinder  \n",
       "1     приобретение автомобиля             Auto  es gibt Kinder  \n",
       "2               покупка жилья       Immobilien    keine Kinder  \n",
       "3  дополнительное образование       Ausbildung  es gibt Kinder  \n",
       "4             сыграть свадьбу         Hochzeit    keine Kinder  "
      ]
     },
     "metadata": {},
     "output_type": "display_data"
    }
   ],
   "source": [
    "# Zur weiteren Analyse teilen wir Kreditnehmer in folgende Gruppen ein: \n",
    "# „keine Kinder“ und „haben Kinder“.\n",
    "# Wir schreiben eine Funktion zur Aufteilung in Gruppen.\n",
    "def children_class(row):\n",
    "    children = row['children']\n",
    "    debt = row['debt']\n",
    "    \n",
    "    if children == 0:\n",
    "        return 'keine Kinder'\n",
    "                \n",
    "    if children != 0:\n",
    "        return 'es gibt Kinder'\n",
    "\n",
    "# Wir bilden eine zusätzliche Spalte zur Tabelle und sehen uns diese an.\n",
    "data['children_class'] = data.apply(children_class, axis=1)\n",
    "display(data.head())"
   ]
  },
  {
   "cell_type": "code",
   "execution_count": 44,
   "metadata": {},
   "outputs": [
    {
     "data": {
      "text/html": [
       "<div>\n",
       "<style scoped>\n",
       "    .dataframe tbody tr th:only-of-type {\n",
       "        vertical-align: middle;\n",
       "    }\n",
       "\n",
       "    .dataframe tbody tr th {\n",
       "        vertical-align: top;\n",
       "    }\n",
       "\n",
       "    .dataframe thead th {\n",
       "        text-align: right;\n",
       "    }\n",
       "</style>\n",
       "<table border=\"1\" class=\"dataframe\">\n",
       "  <thead>\n",
       "    <tr style=\"text-align: right;\">\n",
       "      <th></th>\n",
       "      <th>children</th>\n",
       "      <th>days_employed</th>\n",
       "      <th>dob_years</th>\n",
       "      <th>education</th>\n",
       "      <th>education_id</th>\n",
       "      <th>family_status</th>\n",
       "      <th>family_status_id</th>\n",
       "      <th>gender</th>\n",
       "      <th>income_type</th>\n",
       "      <th>debt</th>\n",
       "      <th>total_income</th>\n",
       "      <th>purpose</th>\n",
       "      <th>purpose_standart</th>\n",
       "      <th>children_class</th>\n",
       "      <th>income_class</th>\n",
       "    </tr>\n",
       "  </thead>\n",
       "  <tbody>\n",
       "    <tr>\n",
       "      <th>0</th>\n",
       "      <td>1</td>\n",
       "      <td>-8437</td>\n",
       "      <td>42</td>\n",
       "      <td>высшее</td>\n",
       "      <td>0</td>\n",
       "      <td>женат / замужем</td>\n",
       "      <td>0</td>\n",
       "      <td>F</td>\n",
       "      <td>сотрудник</td>\n",
       "      <td>0</td>\n",
       "      <td>253875</td>\n",
       "      <td>покупка жилья</td>\n",
       "      <td>Immobilien</td>\n",
       "      <td>es gibt Kinder</td>\n",
       "      <td>hohes Einkommen</td>\n",
       "    </tr>\n",
       "    <tr>\n",
       "      <th>1</th>\n",
       "      <td>1</td>\n",
       "      <td>-4024</td>\n",
       "      <td>36</td>\n",
       "      <td>среднее</td>\n",
       "      <td>1</td>\n",
       "      <td>женат / замужем</td>\n",
       "      <td>0</td>\n",
       "      <td>F</td>\n",
       "      <td>сотрудник</td>\n",
       "      <td>0</td>\n",
       "      <td>112080</td>\n",
       "      <td>приобретение автомобиля</td>\n",
       "      <td>Auto</td>\n",
       "      <td>es gibt Kinder</td>\n",
       "      <td>mittelis Einkommen</td>\n",
       "    </tr>\n",
       "    <tr>\n",
       "      <th>2</th>\n",
       "      <td>0</td>\n",
       "      <td>-5623</td>\n",
       "      <td>33</td>\n",
       "      <td>среднее</td>\n",
       "      <td>1</td>\n",
       "      <td>женат / замужем</td>\n",
       "      <td>0</td>\n",
       "      <td>M</td>\n",
       "      <td>сотрудник</td>\n",
       "      <td>0</td>\n",
       "      <td>145885</td>\n",
       "      <td>покупка жилья</td>\n",
       "      <td>Immobilien</td>\n",
       "      <td>keine Kinder</td>\n",
       "      <td>mittelis Einkommen</td>\n",
       "    </tr>\n",
       "    <tr>\n",
       "      <th>3</th>\n",
       "      <td>3</td>\n",
       "      <td>-4124</td>\n",
       "      <td>32</td>\n",
       "      <td>среднее</td>\n",
       "      <td>1</td>\n",
       "      <td>женат / замужем</td>\n",
       "      <td>0</td>\n",
       "      <td>M</td>\n",
       "      <td>сотрудник</td>\n",
       "      <td>0</td>\n",
       "      <td>267628</td>\n",
       "      <td>дополнительное образование</td>\n",
       "      <td>Ausbildung</td>\n",
       "      <td>es gibt Kinder</td>\n",
       "      <td>hohes Einkommen</td>\n",
       "    </tr>\n",
       "    <tr>\n",
       "      <th>4</th>\n",
       "      <td>0</td>\n",
       "      <td>340266</td>\n",
       "      <td>53</td>\n",
       "      <td>среднее</td>\n",
       "      <td>1</td>\n",
       "      <td>гражданский брак</td>\n",
       "      <td>1</td>\n",
       "      <td>F</td>\n",
       "      <td>пенсионер</td>\n",
       "      <td>0</td>\n",
       "      <td>158616</td>\n",
       "      <td>сыграть свадьбу</td>\n",
       "      <td>Hochzeit</td>\n",
       "      <td>keine Kinder</td>\n",
       "      <td>mittelis Einkommen</td>\n",
       "    </tr>\n",
       "  </tbody>\n",
       "</table>\n",
       "</div>"
      ],
      "text/plain": [
       "   children  days_employed  dob_years education  education_id  \\\n",
       "0         1          -8437         42    высшее             0   \n",
       "1         1          -4024         36   среднее             1   \n",
       "2         0          -5623         33   среднее             1   \n",
       "3         3          -4124         32   среднее             1   \n",
       "4         0         340266         53   среднее             1   \n",
       "\n",
       "      family_status  family_status_id gender income_type  debt  total_income  \\\n",
       "0   женат / замужем                 0      F   сотрудник     0        253875   \n",
       "1   женат / замужем                 0      F   сотрудник     0        112080   \n",
       "2   женат / замужем                 0      M   сотрудник     0        145885   \n",
       "3   женат / замужем                 0      M   сотрудник     0        267628   \n",
       "4  гражданский брак                 1      F   пенсионер     0        158616   \n",
       "\n",
       "                      purpose purpose_standart  children_class  \\\n",
       "0               покупка жилья       Immobilien  es gibt Kinder   \n",
       "1     приобретение автомобиля             Auto  es gibt Kinder   \n",
       "2               покупка жилья       Immobilien    keine Kinder   \n",
       "3  дополнительное образование       Ausbildung  es gibt Kinder   \n",
       "4             сыграть свадьбу         Hochzeit    keine Kinder   \n",
       "\n",
       "         income_class  \n",
       "0     hohes Einkommen  \n",
       "1  mittelis Einkommen  \n",
       "2  mittelis Einkommen  \n",
       "3     hohes Einkommen  \n",
       "4  mittelis Einkommen  "
      ]
     },
     "execution_count": 44,
     "metadata": {},
     "output_type": "execute_result"
    }
   ],
   "source": [
    "# Wir werden die Kunden der Bank nach Einkommen in 3 Gruppen einteilen: \n",
    "# bis 100 (niedrig), von 100 bis 250 (mittel), über 250 (hoch).\n",
    "# Wir schreiben eine Funktion zur Aufteilung in Gruppen.\n",
    "def income_class(row):\n",
    "    total_income = row['total_income']\n",
    "    debt = row['debt']\n",
    "    if total_income < 100000:\n",
    "        return 'niedriges Einkommen'\n",
    "        \n",
    "    if 100000 <= total_income < 250000:\n",
    "        return 'mittelis Einkommen'\n",
    "        \n",
    "    if total_income >= 250000:\n",
    "        return 'hohes Einkommen'\n",
    "\n",
    "# Wir bilden eine zusätzliche Spalte zur Tabelle und sehen uns diese an.\n",
    "data['income_class'] = data.apply(income_class, axis=1)\n",
    "data.head()"
   ]
  },
  {
   "cell_type": "markdown",
   "metadata": {},
   "source": [
    "**Schlussfolgerungen**\n",
    "\n",
    "Wir haben alle Kunden in Gruppen eingeteilt. Die erhaltenen Informationen ermöglichen es uns, die vom Kunden gestellten Fragen zu beantworten."
   ]
  },
  {
   "cell_type": "markdown",
   "metadata": {},
   "source": [
    "# Antworten auf die Fragen"
   ]
  },
  {
   "cell_type": "markdown",
   "metadata": {},
   "source": [
    "* Gibt es einen Zusammenhang zwischen Kinderwunsch und pünktlicher Kreditrückzahlung?"
   ]
  },
  {
   "cell_type": "code",
   "execution_count": 45,
   "metadata": {},
   "outputs": [
    {
     "data": {
      "text/html": [
       "<style  type=\"text/css\" >\n",
       "</style><table id=\"T_95d5b_\" ><thead>    <tr>        <th class=\"blank level0\" ></th>        <th class=\"col_heading level0 col0\" >debt</th>    </tr>    <tr>        <th class=\"index_name level0\" >children_class</th>        <th class=\"blank\" ></th>    </tr></thead><tbody>\n",
       "                <tr>\n",
       "                        <th id=\"T_95d5b_level0_row0\" class=\"row_heading level0 row0\" >es gibt Kinder</th>\n",
       "                        <td id=\"T_95d5b_row0_col0\" class=\"data row0 col0\" >9.21%</td>\n",
       "            </tr>\n",
       "            <tr>\n",
       "                        <th id=\"T_95d5b_level0_row1\" class=\"row_heading level0 row1\" >keine Kinder</th>\n",
       "                        <td id=\"T_95d5b_row1_col0\" class=\"data row1 col0\" >7.54%</td>\n",
       "            </tr>\n",
       "    </tbody></table>"
      ],
      "text/plain": [
       "<pandas.io.formats.style.Styler at 0x7ff57baaae20>"
      ]
     },
     "execution_count": 45,
     "metadata": {},
     "output_type": "execute_result"
    }
   ],
   "source": [
    "# Wir berechnen den Anteil der Kreditnehmer, die mit Krediten im Rückstand sind, abhängig von der Anwesenheit von Kindern.\n",
    "data_new = data[['children_class', 'debt']]\n",
    "data_new.groupby(['children_class']).mean().style.format({'debt': '{:.2%}'})"
   ]
  },
  {
   "cell_type": "markdown",
   "metadata": {},
   "source": [
    "**Schlussfolgerungen**\n",
    "\n",
    "Der Anteil der überfälligen Kredite ist bei Kreditnehmern mit Kindern um 22,5 % höher als bei kinderlosen Kreditnehmern, daher besteht ein Zusammenhang zwischen dem Vorhandensein von Kindern und der fristgerechten Kreditrückzahlung."
   ]
  },
  {
   "cell_type": "markdown",
   "metadata": {},
   "source": [
    "* Gibt es einen Zusammenhang zwischen Familienstand und pünktlicher Kreditrückzahlung?"
   ]
  },
  {
   "cell_type": "code",
   "execution_count": 46,
   "metadata": {},
   "outputs": [
    {
     "data": {
      "text/html": [
       "<style  type=\"text/css\" >\n",
       "</style><table id=\"T_64a2c_\" ><thead>    <tr>        <th class=\"blank level0\" ></th>        <th class=\"col_heading level0 col0\" >debt</th>    </tr>    <tr>        <th class=\"index_name level0\" >family_status_id</th>        <th class=\"blank\" ></th>    </tr></thead><tbody>\n",
       "                <tr>\n",
       "                        <th id=\"T_64a2c_level0_row0\" class=\"row_heading level0 row0\" >0</th>\n",
       "                        <td id=\"T_64a2c_row0_col0\" class=\"data row0 col0\" >7.55%</td>\n",
       "            </tr>\n",
       "            <tr>\n",
       "                        <th id=\"T_64a2c_level0_row1\" class=\"row_heading level0 row1\" >1</th>\n",
       "                        <td id=\"T_64a2c_row1_col0\" class=\"data row1 col0\" >9.35%</td>\n",
       "            </tr>\n",
       "            <tr>\n",
       "                        <th id=\"T_64a2c_level0_row2\" class=\"row_heading level0 row2\" >2</th>\n",
       "                        <td id=\"T_64a2c_row2_col0\" class=\"data row2 col0\" >6.57%</td>\n",
       "            </tr>\n",
       "            <tr>\n",
       "                        <th id=\"T_64a2c_level0_row3\" class=\"row_heading level0 row3\" >3</th>\n",
       "                        <td id=\"T_64a2c_row3_col0\" class=\"data row3 col0\" >7.11%</td>\n",
       "            </tr>\n",
       "            <tr>\n",
       "                        <th id=\"T_64a2c_level0_row4\" class=\"row_heading level0 row4\" >4</th>\n",
       "                        <td id=\"T_64a2c_row4_col0\" class=\"data row4 col0\" >9.75%</td>\n",
       "            </tr>\n",
       "    </tbody></table>"
      ],
      "text/plain": [
       "<pandas.io.formats.style.Styler at 0x7ff5e6616520>"
      ]
     },
     "execution_count": 46,
     "metadata": {},
     "output_type": "execute_result"
    }
   ],
   "source": [
    "# Wir berechnen den Anteil der Kreditnehmer, die mit Krediten im Rückstand sind, abhängig vom Familienstand.\n",
    "data_new = data[['family_status_id', 'debt']]\n",
    "data_new.groupby(['family_status_id']).mean().style.format({'debt': '{:.2%}'})"
   ]
  },
  {
   "cell_type": "markdown",
   "metadata": {},
   "source": [
    "**Schlussfolgerungen**\n",
    "\n",
    "Der minimale Anteil überfälliger Kredite entfällt auf Kreditnehmer - Witwer / Witwen, der maximale - auf Kreditnehmer - nicht verheiratet (Verzögerungen liegen um 48,4%) vor, daher besteht ein Zusammenhang zwischen Familienstand und pünktlicher Kreditrückzahlung."
   ]
  },
  {
   "cell_type": "markdown",
   "metadata": {},
   "source": [
    "* Gibt es einen Zusammenhang zwischen Einkommenshöhe und pünktlicher Kreditrückzahlung?"
   ]
  },
  {
   "cell_type": "code",
   "execution_count": 47,
   "metadata": {},
   "outputs": [
    {
     "data": {
      "text/html": [
       "<style  type=\"text/css\" >\n",
       "</style><table id=\"T_bf883_\" ><thead>    <tr>        <th class=\"blank level0\" ></th>        <th class=\"col_heading level0 col0\" >debt</th>    </tr>    <tr>        <th class=\"index_name level0\" >income_class</th>        <th class=\"blank\" ></th>    </tr></thead><tbody>\n",
       "                <tr>\n",
       "                        <th id=\"T_bf883_level0_row0\" class=\"row_heading level0 row0\" >hohes Einkommen</th>\n",
       "                        <td id=\"T_bf883_row0_col0\" class=\"data row0 col0\" >6.90%</td>\n",
       "            </tr>\n",
       "            <tr>\n",
       "                        <th id=\"T_bf883_level0_row1\" class=\"row_heading level0 row1\" >mittelis Einkommen</th>\n",
       "                        <td id=\"T_bf883_row1_col0\" class=\"data row1 col0\" >8.41%</td>\n",
       "            </tr>\n",
       "            <tr>\n",
       "                        <th id=\"T_bf883_level0_row2\" class=\"row_heading level0 row2\" >niedriges Einkommen</th>\n",
       "                        <td id=\"T_bf883_row2_col0\" class=\"data row2 col0\" >7.93%</td>\n",
       "            </tr>\n",
       "    </tbody></table>"
      ],
      "text/plain": [
       "<pandas.io.formats.style.Styler at 0x7ff5e6616af0>"
      ]
     },
     "execution_count": 47,
     "metadata": {},
     "output_type": "execute_result"
    }
   ],
   "source": [
    "# Wir berechnen den Anteil der Kreditnehmer, die mit Krediten im Rückstand sind, abhängig von der Höhe des Einkommens.\n",
    "data_new = data[['income_class', 'debt']]\n",
    "data_new.groupby(['income_class']).mean().style.format({'debt': '{:.2%}'})"
   ]
  },
  {
   "cell_type": "markdown",
   "metadata": {},
   "source": [
    "**Schlussfolgerungen**\n",
    "\n",
    "Der minimale Anteil überfälliger Kredite fällt auf Kreditnehmer mit hohem Einkommen, der maximale auf Kreditnehmer mit einem durchschnittlichen Einkommen (Verzögerungen sind um 22,0% höher), daher besteht ein Zusammenhang zwischen der Höhe des Einkommens und der Kreditrückzahlung pünktlich."
   ]
  },
  {
   "cell_type": "markdown",
   "metadata": {},
   "source": [
    "* Wie wirken sich unterschiedliche Verwendungszwecke eines Darlehens auf dessen fristgerechte Rückzahlung aus?"
   ]
  },
  {
   "cell_type": "code",
   "execution_count": 48,
   "metadata": {},
   "outputs": [
    {
     "data": {
      "text/html": [
       "<style  type=\"text/css\" >\n",
       "</style><table id=\"T_6a01d_\" ><thead>    <tr>        <th class=\"blank level0\" ></th>        <th class=\"col_heading level0 col0\" >debt</th>    </tr>    <tr>        <th class=\"index_name level0\" >purpose_standart</th>        <th class=\"blank\" ></th>    </tr></thead><tbody>\n",
       "                <tr>\n",
       "                        <th id=\"T_6a01d_level0_row0\" class=\"row_heading level0 row0\" >Ausbildung</th>\n",
       "                        <td id=\"T_6a01d_row0_col0\" class=\"data row0 col0\" >9.22%</td>\n",
       "            </tr>\n",
       "            <tr>\n",
       "                        <th id=\"T_6a01d_level0_row1\" class=\"row_heading level0 row1\" >Auto</th>\n",
       "                        <td id=\"T_6a01d_row1_col0\" class=\"data row1 col0\" >9.36%</td>\n",
       "            </tr>\n",
       "            <tr>\n",
       "                        <th id=\"T_6a01d_level0_row2\" class=\"row_heading level0 row2\" >Hochzeit</th>\n",
       "                        <td id=\"T_6a01d_row2_col0\" class=\"data row2 col0\" >8.00%</td>\n",
       "            </tr>\n",
       "            <tr>\n",
       "                        <th id=\"T_6a01d_level0_row3\" class=\"row_heading level0 row3\" >Immobilien</th>\n",
       "                        <td id=\"T_6a01d_row3_col0\" class=\"data row3 col0\" >7.23%</td>\n",
       "            </tr>\n",
       "    </tbody></table>"
      ],
      "text/plain": [
       "<pandas.io.formats.style.Styler at 0x7ff57b2ee310>"
      ]
     },
     "execution_count": 48,
     "metadata": {},
     "output_type": "execute_result"
    }
   ],
   "source": [
    "# Wir berechnen den Anteil der Kreditnehmer, die mit Krediten im Rückstand sind, je nach Verwendungszweck.\n",
    "data_new = data[['purpose_standart', 'debt']]\n",
    "data_new.groupby(['purpose_standart']).mean().style.format({'debt': '{:.2%}'})"
   ]
  },
  {
   "cell_type": "markdown",
   "metadata": {},
   "source": [
    "**Schlussfolgerungen**\n",
    "\n",
    "Der minimale Anteil der überfälligen Kredite fällt auf den Kauf von Immobilien, das Maximum - der Kauf von Autos (Verzögerungen sind um 29,4% größer). Fazit: Unterschiedliche Verwendungszwecke des Darlehens wirken sich auf die fristgerechte Rückzahlung aus."
   ]
  },
  {
   "cell_type": "markdown",
   "metadata": {},
   "source": [
    "# Allgemeine Schlussfolgerung"
   ]
  },
  {
   "cell_type": "markdown",
   "metadata": {},
   "source": [
    "Idealer Kreditnehmer: Witwer/Witwe, kinderlos, hohes Einkommen, Wohnungsbaudarlehen aufnehmen. Schlechtester Kreditnehmer: Ledig, hat Kinder, mittleres Einkommen, Autokreditnehmer. In der Phase der Datenvorverarbeitung wurden erhebliche Mängel der bereitgestellten Daten festgestellt, die sich auf die Ergebnisse der Analyse auswirken, die beseitigt wurden. Zur Beantwortung der gestellten Fragen wurden alle Kunden in Gruppen eingeteilt, wodurch sich herausstellte, dass Faktoren wie das Vorhandensein von Kindern, der Familienstand der Kreditnehmer, die Höhe des Einkommens und der Zweck der Kreditaufnahme zu einem gehören Abschluss oder ein anderes, beeinflussen die fristgerechte Rückzahlung eines Darlehens."
   ]
  },
  {
   "cell_type": "markdown",
   "metadata": {},
   "source": [
    "# Empfehlungen"
   ]
  },
  {
   "cell_type": "markdown",
   "metadata": {},
   "source": [
    "Die Bank muss für jede der analysierten Gruppen eine Bewertung für die Zuverlässigkeit der Kreditnehmer erstellen. Außerdem sollte die Bank zur Vereinfachung der Datenanalyse ein Lexikon der Arten von Kreditzwecken sowie kurze und verständliche Anweisungen für die Mitarbeiter zur einheitlichen Eingabe von Informationen in die Datenbank und zur Unzulässigkeit der Duplizierung von Informationen erstellen."
   ]
  }
 ],
 "metadata": {
  "ExecuteTimeLog": [
   {
    "duration": 506,
    "start_time": "2021-08-30T08:57:56.764Z"
   },
   {
    "duration": 926,
    "start_time": "2021-08-30T08:58:03.049Z"
   },
   {
    "duration": 65,
    "start_time": "2021-08-30T08:58:03.978Z"
   },
   {
    "duration": 23,
    "start_time": "2021-08-30T08:58:04.047Z"
   },
   {
    "duration": 134,
    "start_time": "2021-08-30T08:58:04.073Z"
   },
   {
    "duration": 5548,
    "start_time": "2021-08-30T08:58:04.216Z"
   },
   {
    "duration": 624,
    "start_time": "2021-08-30T08:58:09.766Z"
   },
   {
    "duration": 1220,
    "start_time": "2021-08-30T08:58:10.392Z"
   },
   {
    "duration": 635,
    "start_time": "2021-08-30T08:58:11.618Z"
   },
   {
    "duration": 17,
    "start_time": "2021-08-30T08:58:12.256Z"
   },
   {
    "duration": 42,
    "start_time": "2021-08-30T08:58:12.275Z"
   },
   {
    "duration": 29,
    "start_time": "2021-08-30T08:58:12.320Z"
   },
   {
    "duration": 13,
    "start_time": "2021-08-30T08:58:12.351Z"
   },
   {
    "duration": 55,
    "start_time": "2021-08-30T08:58:12.367Z"
   },
   {
    "duration": 16,
    "start_time": "2021-08-30T08:58:12.424Z"
   },
   {
    "duration": 36,
    "start_time": "2021-08-30T08:58:12.442Z"
   },
   {
    "duration": 43,
    "start_time": "2021-08-30T08:58:12.480Z"
   },
   {
    "duration": 1133,
    "start_time": "2021-08-30T08:58:12.526Z"
   },
   {
    "duration": 3643,
    "start_time": "2021-08-30T10:20:59.805Z"
   },
   {
    "duration": 205,
    "start_time": "2021-08-30T10:21:37.261Z"
   },
   {
    "duration": 48,
    "start_time": "2021-08-30T10:22:17.637Z"
   },
   {
    "duration": 15,
    "start_time": "2021-08-30T10:23:01.287Z"
   },
   {
    "duration": 12,
    "start_time": "2021-08-30T10:23:24.953Z"
   },
   {
    "duration": 66,
    "start_time": "2021-08-30T10:25:04.954Z"
   },
   {
    "duration": 24,
    "start_time": "2021-08-30T10:25:15.549Z"
   },
   {
    "duration": 23,
    "start_time": "2021-08-30T10:26:52.401Z"
   },
   {
    "duration": 36,
    "start_time": "2021-08-30T10:27:12.262Z"
   },
   {
    "duration": 31,
    "start_time": "2021-08-30T10:27:36.838Z"
   },
   {
    "duration": 25,
    "start_time": "2021-08-30T10:27:45.317Z"
   },
   {
    "duration": 25,
    "start_time": "2021-08-30T10:28:36.662Z"
   },
   {
    "duration": 8,
    "start_time": "2021-08-30T10:28:38.065Z"
   },
   {
    "duration": 940,
    "start_time": "2021-08-30T10:32:18.322Z"
   },
   {
    "duration": 4784,
    "start_time": "2021-08-30T10:32:46.697Z"
   },
   {
    "duration": 2834,
    "start_time": "2021-08-30T10:33:23.754Z"
   },
   {
    "duration": 605,
    "start_time": "2021-08-30T10:52:16.599Z"
   },
   {
    "duration": 1453,
    "start_time": "2021-08-30T10:52:40.886Z"
   },
   {
    "duration": 622,
    "start_time": "2021-08-30T10:52:47.341Z"
   },
   {
    "duration": 959,
    "start_time": "2021-08-30T10:58:14.667Z"
   },
   {
    "duration": 5293,
    "start_time": "2021-08-30T10:58:59.894Z"
   },
   {
    "duration": 611,
    "start_time": "2021-08-30T10:59:33.086Z"
   },
   {
    "duration": 864,
    "start_time": "2021-08-30T10:59:39.254Z"
   },
   {
    "duration": 630,
    "start_time": "2021-08-30T10:59:47.097Z"
   },
   {
    "duration": 642,
    "start_time": "2021-08-30T11:00:16.730Z"
   },
   {
    "duration": 443,
    "start_time": "2021-08-30T11:09:35.754Z"
   },
   {
    "duration": 14,
    "start_time": "2021-08-30T11:09:50.134Z"
   },
   {
    "duration": 202,
    "start_time": "2021-08-30T11:15:46.667Z"
   },
   {
    "duration": 86,
    "start_time": "2021-08-30T11:15:46.872Z"
   },
   {
    "duration": 55,
    "start_time": "2021-08-30T11:15:46.962Z"
   },
   {
    "duration": 14,
    "start_time": "2021-08-30T11:15:47.021Z"
   },
   {
    "duration": 97,
    "start_time": "2021-08-30T11:15:47.038Z"
   },
   {
    "duration": 22,
    "start_time": "2021-08-30T11:15:47.137Z"
   },
   {
    "duration": 20,
    "start_time": "2021-08-30T11:15:47.162Z"
   },
   {
    "duration": 28,
    "start_time": "2021-08-30T11:15:47.218Z"
   },
   {
    "duration": 70,
    "start_time": "2021-08-30T11:15:47.250Z"
   },
   {
    "duration": 31,
    "start_time": "2021-08-30T11:15:47.322Z"
   },
   {
    "duration": 24,
    "start_time": "2021-08-30T11:15:47.356Z"
   },
   {
    "duration": 92,
    "start_time": "2021-08-30T11:15:47.383Z"
   },
   {
    "duration": 7,
    "start_time": "2021-08-30T11:15:47.478Z"
   },
   {
    "duration": 1049,
    "start_time": "2021-08-30T11:15:47.487Z"
   },
   {
    "duration": 5019,
    "start_time": "2021-08-30T11:15:48.539Z"
   },
   {
    "duration": 662,
    "start_time": "2021-08-30T11:15:53.561Z"
   },
   {
    "duration": 679,
    "start_time": "2021-08-30T11:15:54.228Z"
   },
   {
    "duration": 800,
    "start_time": "2021-08-30T11:15:54.918Z"
   },
   {
    "duration": 697,
    "start_time": "2021-08-30T11:15:55.721Z"
   },
   {
    "duration": 25,
    "start_time": "2021-08-30T11:15:56.421Z"
   },
   {
    "duration": 20,
    "start_time": "2021-08-30T11:15:56.448Z"
   },
   {
    "duration": 53,
    "start_time": "2021-08-30T11:15:56.470Z"
   },
   {
    "duration": 32,
    "start_time": "2021-08-30T11:15:56.526Z"
   },
   {
    "duration": 17,
    "start_time": "2021-08-30T11:15:56.560Z"
   },
   {
    "duration": 69,
    "start_time": "2021-08-30T11:15:56.580Z"
   },
   {
    "duration": 23,
    "start_time": "2021-08-30T11:15:56.652Z"
   },
   {
    "duration": 75,
    "start_time": "2021-08-30T11:15:56.678Z"
   },
   {
    "duration": 16,
    "start_time": "2021-08-30T11:15:56.755Z"
   },
   {
    "duration": 14,
    "start_time": "2021-08-30T11:15:56.774Z"
   },
   {
    "duration": 1005,
    "start_time": "2021-08-30T11:16:11.644Z"
   },
   {
    "duration": 81,
    "start_time": "2021-08-30T11:16:12.652Z"
   },
   {
    "duration": 14,
    "start_time": "2021-08-30T11:16:12.736Z"
   },
   {
    "duration": 10,
    "start_time": "2021-08-30T11:16:12.753Z"
   },
   {
    "duration": 105,
    "start_time": "2021-08-30T11:16:12.765Z"
   },
   {
    "duration": 45,
    "start_time": "2021-08-30T11:16:12.872Z"
   },
   {
    "duration": 20,
    "start_time": "2021-08-30T11:16:12.920Z"
   },
   {
    "duration": 23,
    "start_time": "2021-08-30T11:16:12.944Z"
   },
   {
    "duration": 70,
    "start_time": "2021-08-30T11:16:12.970Z"
   },
   {
    "duration": 28,
    "start_time": "2021-08-30T11:16:13.043Z"
   },
   {
    "duration": 55,
    "start_time": "2021-08-30T11:16:13.073Z"
   },
   {
    "duration": 11,
    "start_time": "2021-08-30T11:16:13.131Z"
   },
   {
    "duration": 8,
    "start_time": "2021-08-30T11:16:13.145Z"
   },
   {
    "duration": 1392,
    "start_time": "2021-08-30T11:16:13.156Z"
   },
   {
    "duration": 5778,
    "start_time": "2021-08-30T11:16:14.551Z"
   },
   {
    "duration": 886,
    "start_time": "2021-08-30T11:16:20.332Z"
   },
   {
    "duration": 788,
    "start_time": "2021-08-30T11:16:21.221Z"
   },
   {
    "duration": 631,
    "start_time": "2021-08-30T11:16:22.016Z"
   },
   {
    "duration": 637,
    "start_time": "2021-08-30T11:16:22.649Z"
   },
   {
    "duration": 32,
    "start_time": "2021-08-30T11:16:23.289Z"
   },
   {
    "duration": 26,
    "start_time": "2021-08-30T11:16:23.324Z"
   },
   {
    "duration": 517,
    "start_time": "2021-08-30T11:16:23.353Z"
   },
   {
    "duration": -187,
    "start_time": "2021-08-30T11:16:24.060Z"
   },
   {
    "duration": -187,
    "start_time": "2021-08-30T11:16:24.062Z"
   },
   {
    "duration": -215,
    "start_time": "2021-08-30T11:16:24.091Z"
   },
   {
    "duration": -225,
    "start_time": "2021-08-30T11:16:24.103Z"
   },
   {
    "duration": -227,
    "start_time": "2021-08-30T11:16:24.106Z"
   },
   {
    "duration": -228,
    "start_time": "2021-08-30T11:16:24.109Z"
   },
   {
    "duration": -229,
    "start_time": "2021-08-30T11:16:24.111Z"
   },
   {
    "duration": 635,
    "start_time": "2021-08-30T11:21:39.624Z"
   },
   {
    "duration": 20,
    "start_time": "2021-08-30T11:24:31.261Z"
   },
   {
    "duration": 15,
    "start_time": "2021-08-30T11:25:11.010Z"
   },
   {
    "duration": 17,
    "start_time": "2021-08-30T11:27:37.817Z"
   },
   {
    "duration": 15,
    "start_time": "2021-08-30T11:28:53.541Z"
   },
   {
    "duration": 9913,
    "start_time": "2021-08-30T11:29:47.700Z"
   },
   {
    "duration": 11270,
    "start_time": "2021-08-30T11:30:39.000Z"
   },
   {
    "duration": 24093,
    "start_time": "2021-08-30T11:34:55.384Z"
   },
   {
    "duration": 13984,
    "start_time": "2021-08-30T11:35:52.810Z"
   },
   {
    "duration": 19,
    "start_time": "2021-08-30T11:37:54.414Z"
   },
   {
    "duration": 16,
    "start_time": "2021-08-30T11:40:50.890Z"
   },
   {
    "duration": 16,
    "start_time": "2021-08-30T11:41:41.993Z"
   },
   {
    "duration": 22,
    "start_time": "2021-08-30T11:42:12.260Z"
   },
   {
    "duration": 937,
    "start_time": "2021-08-30T11:43:37.879Z"
   },
   {
    "duration": 28,
    "start_time": "2021-08-30T11:45:06.200Z"
   },
   {
    "duration": 14,
    "start_time": "2021-08-30T11:45:16.100Z"
   },
   {
    "duration": 22,
    "start_time": "2021-08-30T11:45:36.515Z"
   },
   {
    "duration": 15,
    "start_time": "2021-08-30T11:45:47.405Z"
   },
   {
    "duration": 19,
    "start_time": "2021-08-30T11:46:04.287Z"
   },
   {
    "duration": 440,
    "start_time": "2021-08-30T11:46:35.754Z"
   },
   {
    "duration": 26,
    "start_time": "2021-08-30T11:48:04.796Z"
   },
   {
    "duration": 15,
    "start_time": "2021-08-30T11:48:22.639Z"
   },
   {
    "duration": 17,
    "start_time": "2021-08-30T11:48:29.896Z"
   },
   {
    "duration": 15,
    "start_time": "2021-08-30T11:48:35.864Z"
   },
   {
    "duration": 997,
    "start_time": "2021-08-30T11:49:32.638Z"
   },
   {
    "duration": 77,
    "start_time": "2021-08-30T11:49:33.638Z"
   },
   {
    "duration": 15,
    "start_time": "2021-08-30T11:49:33.719Z"
   },
   {
    "duration": 14,
    "start_time": "2021-08-30T11:49:33.737Z"
   },
   {
    "duration": 94,
    "start_time": "2021-08-30T11:49:33.753Z"
   },
   {
    "duration": 21,
    "start_time": "2021-08-30T11:49:33.849Z"
   },
   {
    "duration": 22,
    "start_time": "2021-08-30T11:49:33.872Z"
   },
   {
    "duration": 43,
    "start_time": "2021-08-30T11:49:33.897Z"
   },
   {
    "duration": 42,
    "start_time": "2021-08-30T11:49:33.944Z"
   },
   {
    "duration": 54,
    "start_time": "2021-08-30T11:49:33.989Z"
   },
   {
    "duration": 28,
    "start_time": "2021-08-30T11:49:34.046Z"
   },
   {
    "duration": 42,
    "start_time": "2021-08-30T11:49:34.078Z"
   },
   {
    "duration": 20,
    "start_time": "2021-08-30T11:49:34.122Z"
   },
   {
    "duration": 971,
    "start_time": "2021-08-30T11:49:34.145Z"
   },
   {
    "duration": 4811,
    "start_time": "2021-08-30T11:49:35.119Z"
   },
   {
    "duration": 655,
    "start_time": "2021-08-30T11:49:39.932Z"
   },
   {
    "duration": 642,
    "start_time": "2021-08-30T11:49:40.589Z"
   },
   {
    "duration": 890,
    "start_time": "2021-08-30T11:49:41.233Z"
   },
   {
    "duration": 15,
    "start_time": "2021-08-30T11:49:42.126Z"
   },
   {
    "duration": 37,
    "start_time": "2021-08-30T11:49:42.144Z"
   },
   {
    "duration": 26,
    "start_time": "2021-08-30T11:49:42.183Z"
   },
   {
    "duration": 1252,
    "start_time": "2022-08-10T08:24:48.413Z"
   },
   {
    "duration": 34,
    "start_time": "2022-08-10T08:24:49.666Z"
   },
   {
    "duration": 42,
    "start_time": "2022-08-10T08:24:49.702Z"
   },
   {
    "duration": 8,
    "start_time": "2022-08-10T08:24:49.745Z"
   },
   {
    "duration": 34,
    "start_time": "2022-08-10T08:24:49.756Z"
   },
   {
    "duration": 47,
    "start_time": "2022-08-10T08:24:49.792Z"
   },
   {
    "duration": 12,
    "start_time": "2022-08-10T08:24:49.841Z"
   },
   {
    "duration": 19,
    "start_time": "2022-08-10T08:24:49.854Z"
   },
   {
    "duration": 25,
    "start_time": "2022-08-10T08:24:49.875Z"
   },
   {
    "duration": 37,
    "start_time": "2022-08-10T08:24:49.901Z"
   },
   {
    "duration": 18,
    "start_time": "2022-08-10T08:24:49.940Z"
   },
   {
    "duration": 5,
    "start_time": "2022-08-10T08:24:49.959Z"
   },
   {
    "duration": 6,
    "start_time": "2022-08-10T08:24:49.965Z"
   },
   {
    "duration": 652,
    "start_time": "2022-08-10T08:24:49.974Z"
   },
   {
    "duration": 2935,
    "start_time": "2022-08-10T08:24:50.628Z"
   },
   {
    "duration": 189,
    "start_time": "2022-08-10T08:24:53.564Z"
   },
   {
    "duration": 184,
    "start_time": "2022-08-10T08:24:53.754Z"
   },
   {
    "duration": 423,
    "start_time": "2022-08-10T08:24:53.940Z"
   },
   {
    "duration": 15,
    "start_time": "2022-08-10T08:24:54.366Z"
   },
   {
    "duration": 17,
    "start_time": "2022-08-10T08:24:54.384Z"
   },
   {
    "duration": 34,
    "start_time": "2022-08-10T08:24:54.403Z"
   },
   {
    "duration": 3169,
    "start_time": "2022-08-10T08:28:16.194Z"
   },
   {
    "duration": 183,
    "start_time": "2022-08-10T08:29:11.349Z"
   },
   {
    "duration": 249,
    "start_time": "2022-08-10T08:29:58.957Z"
   },
   {
    "duration": 10,
    "start_time": "2022-08-10T08:30:16.436Z"
   },
   {
    "duration": 15,
    "start_time": "2022-08-10T08:30:29.021Z"
   },
   {
    "duration": 10,
    "start_time": "2022-08-10T08:30:35.916Z"
   },
   {
    "duration": 159,
    "start_time": "2022-08-10T08:32:45.726Z"
   },
   {
    "duration": 65,
    "start_time": "2022-08-10T08:32:45.887Z"
   },
   {
    "duration": 11,
    "start_time": "2022-08-10T08:32:45.954Z"
   },
   {
    "duration": 8,
    "start_time": "2022-08-10T08:32:45.967Z"
   },
   {
    "duration": 73,
    "start_time": "2022-08-10T08:32:45.976Z"
   },
   {
    "duration": 26,
    "start_time": "2022-08-10T08:32:46.050Z"
   },
   {
    "duration": 12,
    "start_time": "2022-08-10T08:32:46.078Z"
   },
   {
    "duration": 20,
    "start_time": "2022-08-10T08:32:46.091Z"
   },
   {
    "duration": 50,
    "start_time": "2022-08-10T08:32:46.113Z"
   },
   {
    "duration": 25,
    "start_time": "2022-08-10T08:32:46.167Z"
   },
   {
    "duration": 16,
    "start_time": "2022-08-10T08:32:46.193Z"
   },
   {
    "duration": 21,
    "start_time": "2022-08-10T08:32:46.238Z"
   },
   {
    "duration": 5,
    "start_time": "2022-08-10T08:32:46.261Z"
   },
   {
    "duration": 655,
    "start_time": "2022-08-10T08:32:46.267Z"
   },
   {
    "duration": 3321,
    "start_time": "2022-08-10T08:32:46.924Z"
   },
   {
    "duration": 191,
    "start_time": "2022-08-10T08:32:50.247Z"
   },
   {
    "duration": 181,
    "start_time": "2022-08-10T08:32:50.439Z"
   },
   {
    "duration": 21,
    "start_time": "2022-08-10T08:32:50.622Z"
   },
   {
    "duration": 15,
    "start_time": "2022-08-10T08:32:50.645Z"
   },
   {
    "duration": 21,
    "start_time": "2022-08-10T08:32:50.662Z"
   },
   {
    "duration": 29,
    "start_time": "2022-08-10T08:32:50.685Z"
   }
  ],
  "celltoolbar": "Raw Cell Format",
  "kernelspec": {
   "display_name": "Python 3 (ipykernel)",
   "language": "python",
   "name": "python3"
  },
  "language_info": {
   "codemirror_mode": {
    "name": "ipython",
    "version": 3
   },
   "file_extension": ".py",
   "mimetype": "text/x-python",
   "name": "python",
   "nbconvert_exporter": "python",
   "pygments_lexer": "ipython3",
   "version": "3.9.5"
  },
  "toc": {
   "base_numbering": 1,
   "nav_menu": {},
   "number_sections": false,
   "sideBar": true,
   "skip_h1_title": true,
   "title_cell": "Table of Contents",
   "title_sidebar": "Contents",
   "toc_cell": false,
   "toc_position": {},
   "toc_section_display": true,
   "toc_window_display": true
  }
 },
 "nbformat": 4,
 "nbformat_minor": 2
}
